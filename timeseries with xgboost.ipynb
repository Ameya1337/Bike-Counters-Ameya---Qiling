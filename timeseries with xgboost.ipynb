{
 "cells": [
  {
   "cell_type": "code",
   "execution_count": 1,
   "metadata": {},
   "outputs": [],
   "source": [
    "from pathlib import Path\n",
    "import pandas as pd\n",
    "import numpy as np\n",
    "import matplotlib.pyplot as plt\n",
    "import seaborn as sns\n",
    "import xgboost as xgb\n",
    "from sklearn.metrics import mean_squared_error\n",
    "import catboost as cat\n",
    "from sklearn.model_selection import TimeSeriesSplit, GridSearchCV\n",
    "\n",
    "color_pal = sns.color_palette()"
   ]
  },
  {
   "cell_type": "code",
   "execution_count": 2,
   "metadata": {},
   "outputs": [],
   "source": [
    "data = pd.read_parquet(Path(\"data\") / \"train.parquet\")"
   ]
  },
  {
   "cell_type": "code",
   "execution_count": 3,
   "metadata": {},
   "outputs": [],
   "source": [
    "test_data = pd.read_parquet(Path(\"data\") / \"test.parquet\")"
   ]
  },
  {
   "cell_type": "code",
   "execution_count": 4,
   "metadata": {},
   "outputs": [
    {
     "data": {
      "text/html": [
       "<div>\n",
       "<style scoped>\n",
       "    .dataframe tbody tr th:only-of-type {\n",
       "        vertical-align: middle;\n",
       "    }\n",
       "\n",
       "    .dataframe tbody tr th {\n",
       "        vertical-align: top;\n",
       "    }\n",
       "\n",
       "    .dataframe thead th {\n",
       "        text-align: right;\n",
       "    }\n",
       "</style>\n",
       "<table border=\"1\" class=\"dataframe\">\n",
       "  <thead>\n",
       "    <tr style=\"text-align: right;\">\n",
       "      <th></th>\n",
       "      <th>counter_id</th>\n",
       "      <th>counter_name</th>\n",
       "      <th>site_id</th>\n",
       "      <th>site_name</th>\n",
       "      <th>bike_count</th>\n",
       "      <th>date</th>\n",
       "      <th>counter_installation_date</th>\n",
       "      <th>counter_technical_id</th>\n",
       "      <th>latitude</th>\n",
       "      <th>longitude</th>\n",
       "      <th>log_bike_count</th>\n",
       "    </tr>\n",
       "  </thead>\n",
       "  <tbody>\n",
       "    <tr>\n",
       "      <th>48321</th>\n",
       "      <td>100007049-102007049</td>\n",
       "      <td>28 boulevard Diderot E-O</td>\n",
       "      <td>100007049</td>\n",
       "      <td>28 boulevard Diderot</td>\n",
       "      <td>0.0</td>\n",
       "      <td>2020-09-01 02:00:00</td>\n",
       "      <td>2013-01-18</td>\n",
       "      <td>Y2H15027244</td>\n",
       "      <td>48.846028</td>\n",
       "      <td>2.375429</td>\n",
       "      <td>0.000000</td>\n",
       "    </tr>\n",
       "    <tr>\n",
       "      <th>48324</th>\n",
       "      <td>100007049-102007049</td>\n",
       "      <td>28 boulevard Diderot E-O</td>\n",
       "      <td>100007049</td>\n",
       "      <td>28 boulevard Diderot</td>\n",
       "      <td>1.0</td>\n",
       "      <td>2020-09-01 03:00:00</td>\n",
       "      <td>2013-01-18</td>\n",
       "      <td>Y2H15027244</td>\n",
       "      <td>48.846028</td>\n",
       "      <td>2.375429</td>\n",
       "      <td>0.693147</td>\n",
       "    </tr>\n",
       "    <tr>\n",
       "      <th>48327</th>\n",
       "      <td>100007049-102007049</td>\n",
       "      <td>28 boulevard Diderot E-O</td>\n",
       "      <td>100007049</td>\n",
       "      <td>28 boulevard Diderot</td>\n",
       "      <td>0.0</td>\n",
       "      <td>2020-09-01 04:00:00</td>\n",
       "      <td>2013-01-18</td>\n",
       "      <td>Y2H15027244</td>\n",
       "      <td>48.846028</td>\n",
       "      <td>2.375429</td>\n",
       "      <td>0.000000</td>\n",
       "    </tr>\n",
       "    <tr>\n",
       "      <th>48330</th>\n",
       "      <td>100007049-102007049</td>\n",
       "      <td>28 boulevard Diderot E-O</td>\n",
       "      <td>100007049</td>\n",
       "      <td>28 boulevard Diderot</td>\n",
       "      <td>4.0</td>\n",
       "      <td>2020-09-01 15:00:00</td>\n",
       "      <td>2013-01-18</td>\n",
       "      <td>Y2H15027244</td>\n",
       "      <td>48.846028</td>\n",
       "      <td>2.375429</td>\n",
       "      <td>1.609438</td>\n",
       "    </tr>\n",
       "    <tr>\n",
       "      <th>48333</th>\n",
       "      <td>100007049-102007049</td>\n",
       "      <td>28 boulevard Diderot E-O</td>\n",
       "      <td>100007049</td>\n",
       "      <td>28 boulevard Diderot</td>\n",
       "      <td>9.0</td>\n",
       "      <td>2020-09-01 18:00:00</td>\n",
       "      <td>2013-01-18</td>\n",
       "      <td>Y2H15027244</td>\n",
       "      <td>48.846028</td>\n",
       "      <td>2.375429</td>\n",
       "      <td>2.302585</td>\n",
       "    </tr>\n",
       "  </tbody>\n",
       "</table>\n",
       "</div>"
      ],
      "text/plain": [
       "                counter_id              counter_name    site_id  \\\n",
       "48321  100007049-102007049  28 boulevard Diderot E-O  100007049   \n",
       "48324  100007049-102007049  28 boulevard Diderot E-O  100007049   \n",
       "48327  100007049-102007049  28 boulevard Diderot E-O  100007049   \n",
       "48330  100007049-102007049  28 boulevard Diderot E-O  100007049   \n",
       "48333  100007049-102007049  28 boulevard Diderot E-O  100007049   \n",
       "\n",
       "                  site_name  bike_count                date  \\\n",
       "48321  28 boulevard Diderot         0.0 2020-09-01 02:00:00   \n",
       "48324  28 boulevard Diderot         1.0 2020-09-01 03:00:00   \n",
       "48327  28 boulevard Diderot         0.0 2020-09-01 04:00:00   \n",
       "48330  28 boulevard Diderot         4.0 2020-09-01 15:00:00   \n",
       "48333  28 boulevard Diderot         9.0 2020-09-01 18:00:00   \n",
       "\n",
       "      counter_installation_date counter_technical_id   latitude  longitude  \\\n",
       "48321                2013-01-18          Y2H15027244  48.846028   2.375429   \n",
       "48324                2013-01-18          Y2H15027244  48.846028   2.375429   \n",
       "48327                2013-01-18          Y2H15027244  48.846028   2.375429   \n",
       "48330                2013-01-18          Y2H15027244  48.846028   2.375429   \n",
       "48333                2013-01-18          Y2H15027244  48.846028   2.375429   \n",
       "\n",
       "       log_bike_count  \n",
       "48321        0.000000  \n",
       "48324        0.693147  \n",
       "48327        0.000000  \n",
       "48330        1.609438  \n",
       "48333        2.302585  "
      ]
     },
     "execution_count": 4,
     "metadata": {},
     "output_type": "execute_result"
    }
   ],
   "source": [
    "data.head()"
   ]
  },
  {
   "cell_type": "code",
   "execution_count": 5,
   "metadata": {},
   "outputs": [],
   "source": [
    "data[\"date\"] = pd.to_datetime(data[\"date\"])"
   ]
  },
  {
   "cell_type": "code",
   "execution_count": 6,
   "metadata": {},
   "outputs": [],
   "source": [
    "data = data.set_index(\"date\")"
   ]
  },
  {
   "cell_type": "code",
   "execution_count": 7,
   "metadata": {},
   "outputs": [
    {
     "data": {
      "text/html": [
       "<div>\n",
       "<style scoped>\n",
       "    .dataframe tbody tr th:only-of-type {\n",
       "        vertical-align: middle;\n",
       "    }\n",
       "\n",
       "    .dataframe tbody tr th {\n",
       "        vertical-align: top;\n",
       "    }\n",
       "\n",
       "    .dataframe thead th {\n",
       "        text-align: right;\n",
       "    }\n",
       "</style>\n",
       "<table border=\"1\" class=\"dataframe\">\n",
       "  <thead>\n",
       "    <tr style=\"text-align: right;\">\n",
       "      <th></th>\n",
       "      <th>counter_id</th>\n",
       "      <th>counter_name</th>\n",
       "      <th>site_id</th>\n",
       "      <th>site_name</th>\n",
       "      <th>bike_count</th>\n",
       "      <th>date</th>\n",
       "      <th>counter_installation_date</th>\n",
       "      <th>counter_technical_id</th>\n",
       "      <th>latitude</th>\n",
       "      <th>longitude</th>\n",
       "      <th>log_bike_count</th>\n",
       "    </tr>\n",
       "  </thead>\n",
       "  <tbody>\n",
       "    <tr>\n",
       "      <th>56474</th>\n",
       "      <td>100007049-102007049</td>\n",
       "      <td>28 boulevard Diderot E-O</td>\n",
       "      <td>100007049</td>\n",
       "      <td>28 boulevard Diderot</td>\n",
       "      <td>1.0</td>\n",
       "      <td>2021-08-10 05:00:00</td>\n",
       "      <td>2013-01-18</td>\n",
       "      <td>Y2H15027244</td>\n",
       "      <td>48.846028</td>\n",
       "      <td>2.375429</td>\n",
       "      <td>0.693147</td>\n",
       "    </tr>\n",
       "    <tr>\n",
       "      <th>56477</th>\n",
       "      <td>100007049-102007049</td>\n",
       "      <td>28 boulevard Diderot E-O</td>\n",
       "      <td>100007049</td>\n",
       "      <td>28 boulevard Diderot</td>\n",
       "      <td>2.0</td>\n",
       "      <td>2021-08-10 06:00:00</td>\n",
       "      <td>2013-01-18</td>\n",
       "      <td>Y2H15027244</td>\n",
       "      <td>48.846028</td>\n",
       "      <td>2.375429</td>\n",
       "      <td>1.098612</td>\n",
       "    </tr>\n",
       "    <tr>\n",
       "      <th>56480</th>\n",
       "      <td>100007049-102007049</td>\n",
       "      <td>28 boulevard Diderot E-O</td>\n",
       "      <td>100007049</td>\n",
       "      <td>28 boulevard Diderot</td>\n",
       "      <td>1.0</td>\n",
       "      <td>2021-08-10 07:00:00</td>\n",
       "      <td>2013-01-18</td>\n",
       "      <td>Y2H15027244</td>\n",
       "      <td>48.846028</td>\n",
       "      <td>2.375429</td>\n",
       "      <td>0.693147</td>\n",
       "    </tr>\n",
       "    <tr>\n",
       "      <th>56483</th>\n",
       "      <td>100007049-102007049</td>\n",
       "      <td>28 boulevard Diderot E-O</td>\n",
       "      <td>100007049</td>\n",
       "      <td>28 boulevard Diderot</td>\n",
       "      <td>0.0</td>\n",
       "      <td>2021-08-10 09:00:00</td>\n",
       "      <td>2013-01-18</td>\n",
       "      <td>Y2H15027244</td>\n",
       "      <td>48.846028</td>\n",
       "      <td>2.375429</td>\n",
       "      <td>0.000000</td>\n",
       "    </tr>\n",
       "    <tr>\n",
       "      <th>56486</th>\n",
       "      <td>100007049-102007049</td>\n",
       "      <td>28 boulevard Diderot E-O</td>\n",
       "      <td>100007049</td>\n",
       "      <td>28 boulevard Diderot</td>\n",
       "      <td>1.0</td>\n",
       "      <td>2021-08-10 10:00:00</td>\n",
       "      <td>2013-01-18</td>\n",
       "      <td>Y2H15027244</td>\n",
       "      <td>48.846028</td>\n",
       "      <td>2.375429</td>\n",
       "      <td>0.693147</td>\n",
       "    </tr>\n",
       "  </tbody>\n",
       "</table>\n",
       "</div>"
      ],
      "text/plain": [
       "                counter_id              counter_name    site_id  \\\n",
       "56474  100007049-102007049  28 boulevard Diderot E-O  100007049   \n",
       "56477  100007049-102007049  28 boulevard Diderot E-O  100007049   \n",
       "56480  100007049-102007049  28 boulevard Diderot E-O  100007049   \n",
       "56483  100007049-102007049  28 boulevard Diderot E-O  100007049   \n",
       "56486  100007049-102007049  28 boulevard Diderot E-O  100007049   \n",
       "\n",
       "                  site_name  bike_count                date  \\\n",
       "56474  28 boulevard Diderot         1.0 2021-08-10 05:00:00   \n",
       "56477  28 boulevard Diderot         2.0 2021-08-10 06:00:00   \n",
       "56480  28 boulevard Diderot         1.0 2021-08-10 07:00:00   \n",
       "56483  28 boulevard Diderot         0.0 2021-08-10 09:00:00   \n",
       "56486  28 boulevard Diderot         1.0 2021-08-10 10:00:00   \n",
       "\n",
       "      counter_installation_date counter_technical_id   latitude  longitude  \\\n",
       "56474                2013-01-18          Y2H15027244  48.846028   2.375429   \n",
       "56477                2013-01-18          Y2H15027244  48.846028   2.375429   \n",
       "56480                2013-01-18          Y2H15027244  48.846028   2.375429   \n",
       "56483                2013-01-18          Y2H15027244  48.846028   2.375429   \n",
       "56486                2013-01-18          Y2H15027244  48.846028   2.375429   \n",
       "\n",
       "       log_bike_count  \n",
       "56474        0.693147  \n",
       "56477        1.098612  \n",
       "56480        0.693147  \n",
       "56483        0.000000  \n",
       "56486        0.693147  "
      ]
     },
     "execution_count": 7,
     "metadata": {},
     "output_type": "execute_result"
    }
   ],
   "source": [
    "test_data.head()"
   ]
  },
  {
   "cell_type": "code",
   "execution_count": 8,
   "metadata": {},
   "outputs": [],
   "source": [
    "test_data[\"date\"] = pd.to_datetime(test_data[\"date\"])\n",
    "test_data = test_data.set_index(\"date\")"
   ]
  },
  {
   "cell_type": "code",
   "execution_count": 13,
   "metadata": {},
   "outputs": [],
   "source": [
    "train = data[[\"counter_name\", \"log_bike_count\"]]\n",
    "test = test_data[[\"counter_name\", \"log_bike_count\"]]"
   ]
  },
  {
   "cell_type": "code",
   "execution_count": null,
   "metadata": {},
   "outputs": [],
   "source": [
    "# train.drop(\"counter_name\", axis=1, inplace=True)"
   ]
  },
  {
   "cell_type": "code",
   "execution_count": null,
   "metadata": {},
   "outputs": [],
   "source": [
    "# test.drop(\"counter_name\", axis=1, inplace=True)"
   ]
  },
  {
   "cell_type": "code",
   "execution_count": 14,
   "metadata": {},
   "outputs": [
    {
     "data": {
      "text/html": [
       "<div>\n",
       "<style scoped>\n",
       "    .dataframe tbody tr th:only-of-type {\n",
       "        vertical-align: middle;\n",
       "    }\n",
       "\n",
       "    .dataframe tbody tr th {\n",
       "        vertical-align: top;\n",
       "    }\n",
       "\n",
       "    .dataframe thead th {\n",
       "        text-align: right;\n",
       "    }\n",
       "</style>\n",
       "<table border=\"1\" class=\"dataframe\">\n",
       "  <thead>\n",
       "    <tr style=\"text-align: right;\">\n",
       "      <th></th>\n",
       "      <th>counter_name</th>\n",
       "      <th>log_bike_count</th>\n",
       "    </tr>\n",
       "    <tr>\n",
       "      <th>date</th>\n",
       "      <th></th>\n",
       "      <th></th>\n",
       "    </tr>\n",
       "  </thead>\n",
       "  <tbody>\n",
       "    <tr>\n",
       "      <th>2020-09-01 02:00:00</th>\n",
       "      <td>28 boulevard Diderot E-O</td>\n",
       "      <td>0.000000</td>\n",
       "    </tr>\n",
       "    <tr>\n",
       "      <th>2020-09-01 03:00:00</th>\n",
       "      <td>28 boulevard Diderot E-O</td>\n",
       "      <td>0.693147</td>\n",
       "    </tr>\n",
       "    <tr>\n",
       "      <th>2020-09-01 04:00:00</th>\n",
       "      <td>28 boulevard Diderot E-O</td>\n",
       "      <td>0.000000</td>\n",
       "    </tr>\n",
       "    <tr>\n",
       "      <th>2020-09-01 15:00:00</th>\n",
       "      <td>28 boulevard Diderot E-O</td>\n",
       "      <td>1.609438</td>\n",
       "    </tr>\n",
       "    <tr>\n",
       "      <th>2020-09-01 18:00:00</th>\n",
       "      <td>28 boulevard Diderot E-O</td>\n",
       "      <td>2.302585</td>\n",
       "    </tr>\n",
       "  </tbody>\n",
       "</table>\n",
       "</div>"
      ],
      "text/plain": [
       "                                 counter_name  log_bike_count\n",
       "date                                                         \n",
       "2020-09-01 02:00:00  28 boulevard Diderot E-O        0.000000\n",
       "2020-09-01 03:00:00  28 boulevard Diderot E-O        0.693147\n",
       "2020-09-01 04:00:00  28 boulevard Diderot E-O        0.000000\n",
       "2020-09-01 15:00:00  28 boulevard Diderot E-O        1.609438\n",
       "2020-09-01 18:00:00  28 boulevard Diderot E-O        2.302585"
      ]
     },
     "execution_count": 14,
     "metadata": {},
     "output_type": "execute_result"
    }
   ],
   "source": [
    "train.head()"
   ]
  },
  {
   "cell_type": "code",
   "execution_count": 15,
   "metadata": {},
   "outputs": [
    {
     "data": {
      "text/html": [
       "<div>\n",
       "<style scoped>\n",
       "    .dataframe tbody tr th:only-of-type {\n",
       "        vertical-align: middle;\n",
       "    }\n",
       "\n",
       "    .dataframe tbody tr th {\n",
       "        vertical-align: top;\n",
       "    }\n",
       "\n",
       "    .dataframe thead th {\n",
       "        text-align: right;\n",
       "    }\n",
       "</style>\n",
       "<table border=\"1\" class=\"dataframe\">\n",
       "  <thead>\n",
       "    <tr style=\"text-align: right;\">\n",
       "      <th></th>\n",
       "      <th>counter_name</th>\n",
       "      <th>log_bike_count</th>\n",
       "    </tr>\n",
       "    <tr>\n",
       "      <th>date</th>\n",
       "      <th></th>\n",
       "      <th></th>\n",
       "    </tr>\n",
       "  </thead>\n",
       "  <tbody>\n",
       "    <tr>\n",
       "      <th>2021-08-10 05:00:00</th>\n",
       "      <td>28 boulevard Diderot E-O</td>\n",
       "      <td>0.693147</td>\n",
       "    </tr>\n",
       "    <tr>\n",
       "      <th>2021-08-10 06:00:00</th>\n",
       "      <td>28 boulevard Diderot E-O</td>\n",
       "      <td>1.098612</td>\n",
       "    </tr>\n",
       "    <tr>\n",
       "      <th>2021-08-10 07:00:00</th>\n",
       "      <td>28 boulevard Diderot E-O</td>\n",
       "      <td>0.693147</td>\n",
       "    </tr>\n",
       "    <tr>\n",
       "      <th>2021-08-10 09:00:00</th>\n",
       "      <td>28 boulevard Diderot E-O</td>\n",
       "      <td>0.000000</td>\n",
       "    </tr>\n",
       "    <tr>\n",
       "      <th>2021-08-10 10:00:00</th>\n",
       "      <td>28 boulevard Diderot E-O</td>\n",
       "      <td>0.693147</td>\n",
       "    </tr>\n",
       "  </tbody>\n",
       "</table>\n",
       "</div>"
      ],
      "text/plain": [
       "                                 counter_name  log_bike_count\n",
       "date                                                         \n",
       "2021-08-10 05:00:00  28 boulevard Diderot E-O        0.693147\n",
       "2021-08-10 06:00:00  28 boulevard Diderot E-O        1.098612\n",
       "2021-08-10 07:00:00  28 boulevard Diderot E-O        0.693147\n",
       "2021-08-10 09:00:00  28 boulevard Diderot E-O        0.000000\n",
       "2021-08-10 10:00:00  28 boulevard Diderot E-O        0.693147"
      ]
     },
     "execution_count": 15,
     "metadata": {},
     "output_type": "execute_result"
    }
   ],
   "source": [
    "test.head()"
   ]
  },
  {
   "cell_type": "code",
   "execution_count": null,
   "metadata": {},
   "outputs": [],
   "source": [
    "color_pal"
   ]
  },
  {
   "cell_type": "code",
   "execution_count": null,
   "metadata": {},
   "outputs": [],
   "source": [
    "fig, ax = plt.subplots(figsize=(15, 5))\n",
    "train.plot(ax=ax, label=\"Training Set\", title=\"Train and Test data\")\n",
    "test.plot(ax=ax, label=\"Testing Set\")\n",
    "ax.axvline(\"2021-08-10 02:00:00\", color=\"black\", ls=\"--\")\n",
    "ax.legend\n",
    "plt.show()"
   ]
  },
  {
   "cell_type": "code",
   "execution_count": null,
   "metadata": {},
   "outputs": [],
   "source": [
    "train.loc[(train.index > \"2021-03-01\") & (train.index < \"2021-03-15\")].plot(\n",
    "    figsize=(15, 5)\n",
    ")"
   ]
  },
  {
   "cell_type": "code",
   "execution_count": null,
   "metadata": {},
   "outputs": [],
   "source": [
    "train.loc[\n",
    "    (train.index > \"2021-03-01 00:00:00\") & (train.index < \"2021-03-07 23:00:00\")\n",
    "].plot(figsize=(15, 5))"
   ]
  },
  {
   "cell_type": "code",
   "execution_count": 22,
   "metadata": {},
   "outputs": [],
   "source": [
    "# Feature creation\n",
    "def create_features(train):\n",
    "    \"\"\"\n",
    "    Create time series features based on timeseries index\n",
    "    \"\"\"\n",
    "    train[\"hour\"] = train.index.hour\n",
    "    train[\"dayofweek\"] = train.index.dayofweek\n",
    "    train[\"quarter\"] = train.index.quarter\n",
    "    train[\"month\"] = train.index.month\n",
    "    train[\"dayofyear\"] = train.index.dayofyear\n",
    "    return train"
   ]
  },
  {
   "cell_type": "code",
   "execution_count": 23,
   "metadata": {},
   "outputs": [],
   "source": [
    "data = create_features(data)"
   ]
  },
  {
   "cell_type": "code",
   "execution_count": 24,
   "metadata": {},
   "outputs": [
    {
     "name": "stderr",
     "output_type": "stream",
     "text": [
      "C:\\Users\\ameya\\AppData\\Local\\Temp\\ipykernel_10644\\1206218847.py:6: SettingWithCopyWarning: \n",
      "A value is trying to be set on a copy of a slice from a DataFrame.\n",
      "Try using .loc[row_indexer,col_indexer] = value instead\n",
      "\n",
      "See the caveats in the documentation: https://pandas.pydata.org/pandas-docs/stable/user_guide/indexing.html#returning-a-view-versus-a-copy\n",
      "  train[\"hour\"] = train.index.hour\n",
      "C:\\Users\\ameya\\AppData\\Local\\Temp\\ipykernel_10644\\1206218847.py:7: SettingWithCopyWarning: \n",
      "A value is trying to be set on a copy of a slice from a DataFrame.\n",
      "Try using .loc[row_indexer,col_indexer] = value instead\n",
      "\n",
      "See the caveats in the documentation: https://pandas.pydata.org/pandas-docs/stable/user_guide/indexing.html#returning-a-view-versus-a-copy\n",
      "  train[\"dayofweek\"] = train.index.dayofweek\n",
      "C:\\Users\\ameya\\AppData\\Local\\Temp\\ipykernel_10644\\1206218847.py:8: SettingWithCopyWarning: \n",
      "A value is trying to be set on a copy of a slice from a DataFrame.\n",
      "Try using .loc[row_indexer,col_indexer] = value instead\n",
      "\n",
      "See the caveats in the documentation: https://pandas.pydata.org/pandas-docs/stable/user_guide/indexing.html#returning-a-view-versus-a-copy\n",
      "  train[\"quarter\"] = train.index.quarter\n",
      "C:\\Users\\ameya\\AppData\\Local\\Temp\\ipykernel_10644\\1206218847.py:9: SettingWithCopyWarning: \n",
      "A value is trying to be set on a copy of a slice from a DataFrame.\n",
      "Try using .loc[row_indexer,col_indexer] = value instead\n",
      "\n",
      "See the caveats in the documentation: https://pandas.pydata.org/pandas-docs/stable/user_guide/indexing.html#returning-a-view-versus-a-copy\n",
      "  train[\"month\"] = train.index.month\n",
      "C:\\Users\\ameya\\AppData\\Local\\Temp\\ipykernel_10644\\1206218847.py:10: SettingWithCopyWarning: \n",
      "A value is trying to be set on a copy of a slice from a DataFrame.\n",
      "Try using .loc[row_indexer,col_indexer] = value instead\n",
      "\n",
      "See the caveats in the documentation: https://pandas.pydata.org/pandas-docs/stable/user_guide/indexing.html#returning-a-view-versus-a-copy\n",
      "  train[\"dayofyear\"] = train.index.dayofyear\n",
      "C:\\Users\\ameya\\AppData\\Local\\Temp\\ipykernel_10644\\1206218847.py:6: SettingWithCopyWarning: \n",
      "A value is trying to be set on a copy of a slice from a DataFrame.\n",
      "Try using .loc[row_indexer,col_indexer] = value instead\n",
      "\n",
      "See the caveats in the documentation: https://pandas.pydata.org/pandas-docs/stable/user_guide/indexing.html#returning-a-view-versus-a-copy\n",
      "  train[\"hour\"] = train.index.hour\n",
      "C:\\Users\\ameya\\AppData\\Local\\Temp\\ipykernel_10644\\1206218847.py:7: SettingWithCopyWarning: \n",
      "A value is trying to be set on a copy of a slice from a DataFrame.\n",
      "Try using .loc[row_indexer,col_indexer] = value instead\n",
      "\n",
      "See the caveats in the documentation: https://pandas.pydata.org/pandas-docs/stable/user_guide/indexing.html#returning-a-view-versus-a-copy\n",
      "  train[\"dayofweek\"] = train.index.dayofweek\n",
      "C:\\Users\\ameya\\AppData\\Local\\Temp\\ipykernel_10644\\1206218847.py:8: SettingWithCopyWarning: \n",
      "A value is trying to be set on a copy of a slice from a DataFrame.\n",
      "Try using .loc[row_indexer,col_indexer] = value instead\n",
      "\n",
      "See the caveats in the documentation: https://pandas.pydata.org/pandas-docs/stable/user_guide/indexing.html#returning-a-view-versus-a-copy\n",
      "  train[\"quarter\"] = train.index.quarter\n",
      "C:\\Users\\ameya\\AppData\\Local\\Temp\\ipykernel_10644\\1206218847.py:9: SettingWithCopyWarning: \n",
      "A value is trying to be set on a copy of a slice from a DataFrame.\n",
      "Try using .loc[row_indexer,col_indexer] = value instead\n",
      "\n",
      "See the caveats in the documentation: https://pandas.pydata.org/pandas-docs/stable/user_guide/indexing.html#returning-a-view-versus-a-copy\n",
      "  train[\"month\"] = train.index.month\n",
      "C:\\Users\\ameya\\AppData\\Local\\Temp\\ipykernel_10644\\1206218847.py:10: SettingWithCopyWarning: \n",
      "A value is trying to be set on a copy of a slice from a DataFrame.\n",
      "Try using .loc[row_indexer,col_indexer] = value instead\n",
      "\n",
      "See the caveats in the documentation: https://pandas.pydata.org/pandas-docs/stable/user_guide/indexing.html#returning-a-view-versus-a-copy\n",
      "  train[\"dayofyear\"] = train.index.dayofyear\n"
     ]
    }
   ],
   "source": [
    "train = create_features(train)\n",
    "test = create_features(test)"
   ]
  },
  {
   "cell_type": "code",
   "execution_count": 25,
   "metadata": {},
   "outputs": [
    {
     "data": {
      "text/html": [
       "<div>\n",
       "<style scoped>\n",
       "    .dataframe tbody tr th:only-of-type {\n",
       "        vertical-align: middle;\n",
       "    }\n",
       "\n",
       "    .dataframe tbody tr th {\n",
       "        vertical-align: top;\n",
       "    }\n",
       "\n",
       "    .dataframe thead th {\n",
       "        text-align: right;\n",
       "    }\n",
       "</style>\n",
       "<table border=\"1\" class=\"dataframe\">\n",
       "  <thead>\n",
       "    <tr style=\"text-align: right;\">\n",
       "      <th></th>\n",
       "      <th>counter_name</th>\n",
       "      <th>log_bike_count</th>\n",
       "      <th>hour</th>\n",
       "      <th>dayofweek</th>\n",
       "      <th>quarter</th>\n",
       "      <th>month</th>\n",
       "      <th>dayofyear</th>\n",
       "    </tr>\n",
       "    <tr>\n",
       "      <th>date</th>\n",
       "      <th></th>\n",
       "      <th></th>\n",
       "      <th></th>\n",
       "      <th></th>\n",
       "      <th></th>\n",
       "      <th></th>\n",
       "      <th></th>\n",
       "    </tr>\n",
       "  </thead>\n",
       "  <tbody>\n",
       "    <tr>\n",
       "      <th>2020-09-01 02:00:00</th>\n",
       "      <td>28 boulevard Diderot E-O</td>\n",
       "      <td>0.000000</td>\n",
       "      <td>2</td>\n",
       "      <td>1</td>\n",
       "      <td>3</td>\n",
       "      <td>9</td>\n",
       "      <td>245</td>\n",
       "    </tr>\n",
       "    <tr>\n",
       "      <th>2020-09-01 03:00:00</th>\n",
       "      <td>28 boulevard Diderot E-O</td>\n",
       "      <td>0.693147</td>\n",
       "      <td>3</td>\n",
       "      <td>1</td>\n",
       "      <td>3</td>\n",
       "      <td>9</td>\n",
       "      <td>245</td>\n",
       "    </tr>\n",
       "    <tr>\n",
       "      <th>2020-09-01 04:00:00</th>\n",
       "      <td>28 boulevard Diderot E-O</td>\n",
       "      <td>0.000000</td>\n",
       "      <td>4</td>\n",
       "      <td>1</td>\n",
       "      <td>3</td>\n",
       "      <td>9</td>\n",
       "      <td>245</td>\n",
       "    </tr>\n",
       "    <tr>\n",
       "      <th>2020-09-01 15:00:00</th>\n",
       "      <td>28 boulevard Diderot E-O</td>\n",
       "      <td>1.609438</td>\n",
       "      <td>15</td>\n",
       "      <td>1</td>\n",
       "      <td>3</td>\n",
       "      <td>9</td>\n",
       "      <td>245</td>\n",
       "    </tr>\n",
       "    <tr>\n",
       "      <th>2020-09-01 18:00:00</th>\n",
       "      <td>28 boulevard Diderot E-O</td>\n",
       "      <td>2.302585</td>\n",
       "      <td>18</td>\n",
       "      <td>1</td>\n",
       "      <td>3</td>\n",
       "      <td>9</td>\n",
       "      <td>245</td>\n",
       "    </tr>\n",
       "  </tbody>\n",
       "</table>\n",
       "</div>"
      ],
      "text/plain": [
       "                                 counter_name  log_bike_count  hour  \\\n",
       "date                                                                  \n",
       "2020-09-01 02:00:00  28 boulevard Diderot E-O        0.000000     2   \n",
       "2020-09-01 03:00:00  28 boulevard Diderot E-O        0.693147     3   \n",
       "2020-09-01 04:00:00  28 boulevard Diderot E-O        0.000000     4   \n",
       "2020-09-01 15:00:00  28 boulevard Diderot E-O        1.609438    15   \n",
       "2020-09-01 18:00:00  28 boulevard Diderot E-O        2.302585    18   \n",
       "\n",
       "                     dayofweek  quarter  month  dayofyear  \n",
       "date                                                       \n",
       "2020-09-01 02:00:00          1        3      9        245  \n",
       "2020-09-01 03:00:00          1        3      9        245  \n",
       "2020-09-01 04:00:00          1        3      9        245  \n",
       "2020-09-01 15:00:00          1        3      9        245  \n",
       "2020-09-01 18:00:00          1        3      9        245  "
      ]
     },
     "execution_count": 25,
     "metadata": {},
     "output_type": "execute_result"
    }
   ],
   "source": [
    "train.head()"
   ]
  },
  {
   "cell_type": "code",
   "execution_count": 26,
   "metadata": {},
   "outputs": [
    {
     "data": {
      "text/html": [
       "<div>\n",
       "<style scoped>\n",
       "    .dataframe tbody tr th:only-of-type {\n",
       "        vertical-align: middle;\n",
       "    }\n",
       "\n",
       "    .dataframe tbody tr th {\n",
       "        vertical-align: top;\n",
       "    }\n",
       "\n",
       "    .dataframe thead th {\n",
       "        text-align: right;\n",
       "    }\n",
       "</style>\n",
       "<table border=\"1\" class=\"dataframe\">\n",
       "  <thead>\n",
       "    <tr style=\"text-align: right;\">\n",
       "      <th></th>\n",
       "      <th>counter_name</th>\n",
       "      <th>log_bike_count</th>\n",
       "      <th>hour</th>\n",
       "      <th>dayofweek</th>\n",
       "      <th>quarter</th>\n",
       "      <th>month</th>\n",
       "      <th>dayofyear</th>\n",
       "    </tr>\n",
       "    <tr>\n",
       "      <th>date</th>\n",
       "      <th></th>\n",
       "      <th></th>\n",
       "      <th></th>\n",
       "      <th></th>\n",
       "      <th></th>\n",
       "      <th></th>\n",
       "      <th></th>\n",
       "    </tr>\n",
       "  </thead>\n",
       "  <tbody>\n",
       "    <tr>\n",
       "      <th>2021-08-10 05:00:00</th>\n",
       "      <td>28 boulevard Diderot E-O</td>\n",
       "      <td>0.693147</td>\n",
       "      <td>5</td>\n",
       "      <td>1</td>\n",
       "      <td>3</td>\n",
       "      <td>8</td>\n",
       "      <td>222</td>\n",
       "    </tr>\n",
       "    <tr>\n",
       "      <th>2021-08-10 06:00:00</th>\n",
       "      <td>28 boulevard Diderot E-O</td>\n",
       "      <td>1.098612</td>\n",
       "      <td>6</td>\n",
       "      <td>1</td>\n",
       "      <td>3</td>\n",
       "      <td>8</td>\n",
       "      <td>222</td>\n",
       "    </tr>\n",
       "    <tr>\n",
       "      <th>2021-08-10 07:00:00</th>\n",
       "      <td>28 boulevard Diderot E-O</td>\n",
       "      <td>0.693147</td>\n",
       "      <td>7</td>\n",
       "      <td>1</td>\n",
       "      <td>3</td>\n",
       "      <td>8</td>\n",
       "      <td>222</td>\n",
       "    </tr>\n",
       "    <tr>\n",
       "      <th>2021-08-10 09:00:00</th>\n",
       "      <td>28 boulevard Diderot E-O</td>\n",
       "      <td>0.000000</td>\n",
       "      <td>9</td>\n",
       "      <td>1</td>\n",
       "      <td>3</td>\n",
       "      <td>8</td>\n",
       "      <td>222</td>\n",
       "    </tr>\n",
       "    <tr>\n",
       "      <th>2021-08-10 10:00:00</th>\n",
       "      <td>28 boulevard Diderot E-O</td>\n",
       "      <td>0.693147</td>\n",
       "      <td>10</td>\n",
       "      <td>1</td>\n",
       "      <td>3</td>\n",
       "      <td>8</td>\n",
       "      <td>222</td>\n",
       "    </tr>\n",
       "  </tbody>\n",
       "</table>\n",
       "</div>"
      ],
      "text/plain": [
       "                                 counter_name  log_bike_count  hour  \\\n",
       "date                                                                  \n",
       "2021-08-10 05:00:00  28 boulevard Diderot E-O        0.693147     5   \n",
       "2021-08-10 06:00:00  28 boulevard Diderot E-O        1.098612     6   \n",
       "2021-08-10 07:00:00  28 boulevard Diderot E-O        0.693147     7   \n",
       "2021-08-10 09:00:00  28 boulevard Diderot E-O        0.000000     9   \n",
       "2021-08-10 10:00:00  28 boulevard Diderot E-O        0.693147    10   \n",
       "\n",
       "                     dayofweek  quarter  month  dayofyear  \n",
       "date                                                       \n",
       "2021-08-10 05:00:00          1        3      8        222  \n",
       "2021-08-10 06:00:00          1        3      8        222  \n",
       "2021-08-10 07:00:00          1        3      8        222  \n",
       "2021-08-10 09:00:00          1        3      8        222  \n",
       "2021-08-10 10:00:00          1        3      8        222  "
      ]
     },
     "execution_count": 26,
     "metadata": {},
     "output_type": "execute_result"
    }
   ],
   "source": [
    "test.head()"
   ]
  },
  {
   "cell_type": "markdown",
   "metadata": {},
   "source": [
    "Visualize our Feature/Target Relationship"
   ]
  },
  {
   "cell_type": "code",
   "execution_count": null,
   "metadata": {},
   "outputs": [],
   "source": [
    "fig, ax = plt.subplots(figsize=(10, 8))\n",
    "sns.boxplot(data=train, x=\"hour\", y=\"log_bike_count\")\n",
    "ax.set_title(\"Bike Counts by Hour\")"
   ]
  },
  {
   "cell_type": "code",
   "execution_count": null,
   "metadata": {},
   "outputs": [],
   "source": [
    "fig, ax = plt.subplots(figsize=(10, 8))\n",
    "sns.boxplot(data=test, x=\"hour\", y=\"log_bike_count\")\n",
    "ax.set_title(\"Test Bike Counts by Hour\")"
   ]
  },
  {
   "cell_type": "code",
   "execution_count": null,
   "metadata": {},
   "outputs": [],
   "source": [
    "fig, ax = plt.subplots(figsize=(16, 10))\n",
    "sns.boxplot(data=train, x=\"month\", y=\"log_bike_count\", palette=\"Blues\")\n",
    "ax.set_title(\"Bike Counts by Months\")"
   ]
  },
  {
   "cell_type": "code",
   "execution_count": null,
   "metadata": {},
   "outputs": [],
   "source": [
    "fig, ax = plt.subplots(figsize=(16, 10))\n",
    "sns.boxplot(data=test, x=\"month\", y=\"log_bike_count\", palette=\"Blues\")\n",
    "ax.set_title(\"Test Bike Counts by Months\")"
   ]
  },
  {
   "cell_type": "markdown",
   "metadata": {},
   "source": [
    "Create our Model"
   ]
  },
  {
   "cell_type": "code",
   "execution_count": 27,
   "metadata": {},
   "outputs": [],
   "source": [
    "features = [\"counter_name\", \"hour\", \"dayofweek\",\n",
    "            \"quarter\", \"month\", \"dayofyear\"]\n",
    "target = [\"log_bike_count\"]\n",
    "cat_feature = ['counter_name']"
   ]
  },
  {
   "cell_type": "code",
   "execution_count": 28,
   "metadata": {},
   "outputs": [],
   "source": [
    "reg = xgb.XGBRegressor(tree_method=\"hist\", n_estimators=1000, enable_categorical=True)"
   ]
  },
  {
   "cell_type": "code",
   "execution_count": 29,
   "metadata": {},
   "outputs": [],
   "source": [
    "cat_reg = cat.CatBoostRegressor(n_estimators=1000, cat_features=cat_feature)"
   ]
  },
  {
   "cell_type": "code",
   "execution_count": 30,
   "metadata": {},
   "outputs": [
    {
     "data": {
      "text/plain": [
       "Index(['counter_name', 'log_bike_count', 'hour', 'dayofweek', 'quarter',\n",
       "       'month', 'dayofyear'],\n",
       "      dtype='object')"
      ]
     },
     "execution_count": 30,
     "metadata": {},
     "output_type": "execute_result"
    }
   ],
   "source": [
    "train.columns"
   ]
  },
  {
   "cell_type": "code",
   "execution_count": 31,
   "metadata": {},
   "outputs": [],
   "source": [
    "X_train = train[features]\n",
    "y_train = train[target]\n",
    "X_test = test[features]\n",
    "y_test = test[target]"
   ]
  },
  {
   "cell_type": "code",
   "execution_count": 32,
   "metadata": {},
   "outputs": [
    {
     "name": "stdout",
     "output_type": "stream",
     "text": [
      "[0]\tvalidation_0-rmse:2.21629\tvalidation_1-rmse:2.38004\n"
     ]
    },
    {
     "name": "stderr",
     "output_type": "stream",
     "text": [
      "c:\\Users\\ameya\\miniforge-pypy3\\envs\\bikes-count\\lib\\site-packages\\xgboost\\sklearn.py:835: UserWarning: `early_stopping_rounds` in `fit` method is deprecated for better compatibility with scikit-learn, use `early_stopping_rounds` in constructor or`set_params` instead.\n",
      "  warnings.warn(\n"
     ]
    },
    {
     "name": "stdout",
     "output_type": "stream",
     "text": [
      "[10]\tvalidation_0-rmse:0.59089\tvalidation_1-rmse:0.53951\n",
      "[20]\tvalidation_0-rmse:0.48307\tvalidation_1-rmse:0.46495\n",
      "[30]\tvalidation_0-rmse:0.44602\tvalidation_1-rmse:0.43738\n",
      "[40]\tvalidation_0-rmse:0.42394\tvalidation_1-rmse:0.43561\n",
      "[50]\tvalidation_0-rmse:0.41137\tvalidation_1-rmse:0.42909\n",
      "[60]\tvalidation_0-rmse:0.40258\tvalidation_1-rmse:0.42597\n",
      "[70]\tvalidation_0-rmse:0.39334\tvalidation_1-rmse:0.42457\n",
      "[80]\tvalidation_0-rmse:0.38684\tvalidation_1-rmse:0.42290\n",
      "[90]\tvalidation_0-rmse:0.38151\tvalidation_1-rmse:0.41752\n",
      "[100]\tvalidation_0-rmse:0.37517\tvalidation_1-rmse:0.41615\n",
      "[110]\tvalidation_0-rmse:0.37158\tvalidation_1-rmse:0.41526\n",
      "[120]\tvalidation_0-rmse:0.36781\tvalidation_1-rmse:0.41448\n",
      "[130]\tvalidation_0-rmse:0.36427\tvalidation_1-rmse:0.41432\n",
      "[140]\tvalidation_0-rmse:0.36117\tvalidation_1-rmse:0.41349\n",
      "[150]\tvalidation_0-rmse:0.35805\tvalidation_1-rmse:0.41245\n",
      "[160]\tvalidation_0-rmse:0.35556\tvalidation_1-rmse:0.41178\n",
      "[170]\tvalidation_0-rmse:0.35280\tvalidation_1-rmse:0.41163\n",
      "[180]\tvalidation_0-rmse:0.35042\tvalidation_1-rmse:0.41120\n",
      "[190]\tvalidation_0-rmse:0.34801\tvalidation_1-rmse:0.41006\n",
      "[200]\tvalidation_0-rmse:0.34582\tvalidation_1-rmse:0.40906\n",
      "[210]\tvalidation_0-rmse:0.34381\tvalidation_1-rmse:0.40848\n",
      "[220]\tvalidation_0-rmse:0.34237\tvalidation_1-rmse:0.40821\n",
      "[228]\tvalidation_0-rmse:0.34112\tvalidation_1-rmse:0.40804\n"
     ]
    },
    {
     "data": {
      "text/html": [
       "<style>#sk-container-id-1 {color: black;}#sk-container-id-1 pre{padding: 0;}#sk-container-id-1 div.sk-toggleable {background-color: white;}#sk-container-id-1 label.sk-toggleable__label {cursor: pointer;display: block;width: 100%;margin-bottom: 0;padding: 0.3em;box-sizing: border-box;text-align: center;}#sk-container-id-1 label.sk-toggleable__label-arrow:before {content: \"▸\";float: left;margin-right: 0.25em;color: #696969;}#sk-container-id-1 label.sk-toggleable__label-arrow:hover:before {color: black;}#sk-container-id-1 div.sk-estimator:hover label.sk-toggleable__label-arrow:before {color: black;}#sk-container-id-1 div.sk-toggleable__content {max-height: 0;max-width: 0;overflow: hidden;text-align: left;background-color: #f0f8ff;}#sk-container-id-1 div.sk-toggleable__content pre {margin: 0.2em;color: black;border-radius: 0.25em;background-color: #f0f8ff;}#sk-container-id-1 input.sk-toggleable__control:checked~div.sk-toggleable__content {max-height: 200px;max-width: 100%;overflow: auto;}#sk-container-id-1 input.sk-toggleable__control:checked~label.sk-toggleable__label-arrow:before {content: \"▾\";}#sk-container-id-1 div.sk-estimator input.sk-toggleable__control:checked~label.sk-toggleable__label {background-color: #d4ebff;}#sk-container-id-1 div.sk-label input.sk-toggleable__control:checked~label.sk-toggleable__label {background-color: #d4ebff;}#sk-container-id-1 input.sk-hidden--visually {border: 0;clip: rect(1px 1px 1px 1px);clip: rect(1px, 1px, 1px, 1px);height: 1px;margin: -1px;overflow: hidden;padding: 0;position: absolute;width: 1px;}#sk-container-id-1 div.sk-estimator {font-family: monospace;background-color: #f0f8ff;border: 1px dotted black;border-radius: 0.25em;box-sizing: border-box;margin-bottom: 0.5em;}#sk-container-id-1 div.sk-estimator:hover {background-color: #d4ebff;}#sk-container-id-1 div.sk-parallel-item::after {content: \"\";width: 100%;border-bottom: 1px solid gray;flex-grow: 1;}#sk-container-id-1 div.sk-label:hover label.sk-toggleable__label {background-color: #d4ebff;}#sk-container-id-1 div.sk-serial::before {content: \"\";position: absolute;border-left: 1px solid gray;box-sizing: border-box;top: 0;bottom: 0;left: 50%;z-index: 0;}#sk-container-id-1 div.sk-serial {display: flex;flex-direction: column;align-items: center;background-color: white;padding-right: 0.2em;padding-left: 0.2em;position: relative;}#sk-container-id-1 div.sk-item {position: relative;z-index: 1;}#sk-container-id-1 div.sk-parallel {display: flex;align-items: stretch;justify-content: center;background-color: white;position: relative;}#sk-container-id-1 div.sk-item::before, #sk-container-id-1 div.sk-parallel-item::before {content: \"\";position: absolute;border-left: 1px solid gray;box-sizing: border-box;top: 0;bottom: 0;left: 50%;z-index: -1;}#sk-container-id-1 div.sk-parallel-item {display: flex;flex-direction: column;z-index: 1;position: relative;background-color: white;}#sk-container-id-1 div.sk-parallel-item:first-child::after {align-self: flex-end;width: 50%;}#sk-container-id-1 div.sk-parallel-item:last-child::after {align-self: flex-start;width: 50%;}#sk-container-id-1 div.sk-parallel-item:only-child::after {width: 0;}#sk-container-id-1 div.sk-dashed-wrapped {border: 1px dashed gray;margin: 0 0.4em 0.5em 0.4em;box-sizing: border-box;padding-bottom: 0.4em;background-color: white;}#sk-container-id-1 div.sk-label label {font-family: monospace;font-weight: bold;display: inline-block;line-height: 1.2em;}#sk-container-id-1 div.sk-label-container {text-align: center;}#sk-container-id-1 div.sk-container {/* jupyter's `normalize.less` sets `[hidden] { display: none; }` but bootstrap.min.css set `[hidden] { display: none !important; }` so we also need the `!important` here to be able to override the default hidden behavior on the sphinx rendered scikit-learn.org. See: https://github.com/scikit-learn/scikit-learn/issues/21755 */display: inline-block !important;position: relative;}#sk-container-id-1 div.sk-text-repr-fallback {display: none;}</style><div id=\"sk-container-id-1\" class=\"sk-top-container\"><div class=\"sk-text-repr-fallback\"><pre>XGBRegressor(base_score=None, booster=None, callbacks=None,\n",
       "             colsample_bylevel=None, colsample_bynode=None,\n",
       "             colsample_bytree=None, early_stopping_rounds=None,\n",
       "             enable_categorical=True, eval_metric=None, feature_types=None,\n",
       "             gamma=None, gpu_id=None, grow_policy=None, importance_type=None,\n",
       "             interaction_constraints=None, learning_rate=None, max_bin=None,\n",
       "             max_cat_threshold=None, max_cat_to_onehot=None,\n",
       "             max_delta_step=None, max_depth=None, max_leaves=None,\n",
       "             min_child_weight=None, missing=nan, monotone_constraints=None,\n",
       "             n_estimators=1000, n_jobs=None, num_parallel_tree=None,\n",
       "             predictor=None, random_state=None, ...)</pre><b>In a Jupyter environment, please rerun this cell to show the HTML representation or trust the notebook. <br />On GitHub, the HTML representation is unable to render, please try loading this page with nbviewer.org.</b></div><div class=\"sk-container\" hidden><div class=\"sk-item\"><div class=\"sk-estimator sk-toggleable\"><input class=\"sk-toggleable__control sk-hidden--visually\" id=\"sk-estimator-id-1\" type=\"checkbox\" checked><label for=\"sk-estimator-id-1\" class=\"sk-toggleable__label sk-toggleable__label-arrow\">XGBRegressor</label><div class=\"sk-toggleable__content\"><pre>XGBRegressor(base_score=None, booster=None, callbacks=None,\n",
       "             colsample_bylevel=None, colsample_bynode=None,\n",
       "             colsample_bytree=None, early_stopping_rounds=None,\n",
       "             enable_categorical=True, eval_metric=None, feature_types=None,\n",
       "             gamma=None, gpu_id=None, grow_policy=None, importance_type=None,\n",
       "             interaction_constraints=None, learning_rate=None, max_bin=None,\n",
       "             max_cat_threshold=None, max_cat_to_onehot=None,\n",
       "             max_delta_step=None, max_depth=None, max_leaves=None,\n",
       "             min_child_weight=None, missing=nan, monotone_constraints=None,\n",
       "             n_estimators=1000, n_jobs=None, num_parallel_tree=None,\n",
       "             predictor=None, random_state=None, ...)</pre></div></div></div></div></div>"
      ],
      "text/plain": [
       "XGBRegressor(base_score=None, booster=None, callbacks=None,\n",
       "             colsample_bylevel=None, colsample_bynode=None,\n",
       "             colsample_bytree=None, early_stopping_rounds=None,\n",
       "             enable_categorical=True, eval_metric=None, feature_types=None,\n",
       "             gamma=None, gpu_id=None, grow_policy=None, importance_type=None,\n",
       "             interaction_constraints=None, learning_rate=None, max_bin=None,\n",
       "             max_cat_threshold=None, max_cat_to_onehot=None,\n",
       "             max_delta_step=None, max_depth=None, max_leaves=None,\n",
       "             min_child_weight=None, missing=nan, monotone_constraints=None,\n",
       "             n_estimators=1000, n_jobs=None, num_parallel_tree=None,\n",
       "             predictor=None, random_state=None, ...)"
      ]
     },
     "execution_count": 32,
     "metadata": {},
     "output_type": "execute_result"
    }
   ],
   "source": [
    "reg.fit(\n",
    "    X_train,\n",
    "    y_train,\n",
    "    eval_set=[(X_train, y_train), (X_test, y_test)],\n",
    "    early_stopping_rounds=10,\n",
    "    verbose=10,\n",
    ")"
   ]
  },
  {
   "cell_type": "code",
   "execution_count": 33,
   "metadata": {},
   "outputs": [
    {
     "name": "stdout",
     "output_type": "stream",
     "text": [
      "Learning rate set to 0.133115\n",
      "0:\tlearn: 1.5285781\ttest: 1.5283890\ttest1: 1.3457365\tbest: 1.3457365 (0)\ttotal: 323ms\tremaining: 5m 22s\n",
      "10:\tlearn: 0.9061010\ttest: 0.9041412\ttest1: 0.7821185\tbest: 0.7821185 (10)\ttotal: 1.34s\tremaining: 2m\n",
      "20:\tlearn: 0.7797993\ttest: 0.7768433\ttest1: 0.6806251\tbest: 0.6806251 (20)\ttotal: 2.48s\tremaining: 1m 55s\n",
      "30:\tlearn: 0.7373574\ttest: 0.7341106\ttest1: 0.6319129\tbest: 0.6319129 (30)\ttotal: 3.67s\tremaining: 1m 54s\n",
      "40:\tlearn: 0.7111332\ttest: 0.7074448\ttest1: 0.6100430\tbest: 0.6100430 (40)\ttotal: 4.92s\tremaining: 1m 55s\n",
      "50:\tlearn: 0.6949541\ttest: 0.6911342\ttest1: 0.5920938\tbest: 0.5920938 (50)\ttotal: 6.18s\tremaining: 1m 55s\n",
      "60:\tlearn: 0.6609359\ttest: 0.6571133\ttest1: 0.5865411\tbest: 0.5865411 (60)\ttotal: 7.48s\tremaining: 1m 55s\n",
      "70:\tlearn: 0.6364383\ttest: 0.6322085\ttest1: 0.5584359\tbest: 0.5584359 (70)\ttotal: 8.73s\tremaining: 1m 54s\n",
      "80:\tlearn: 0.6247673\ttest: 0.6202571\ttest1: 0.5514453\tbest: 0.5514453 (80)\ttotal: 9.98s\tremaining: 1m 53s\n",
      "90:\tlearn: 0.6148611\ttest: 0.6104101\ttest1: 0.5467397\tbest: 0.5467397 (90)\ttotal: 11.3s\tremaining: 1m 52s\n",
      "100:\tlearn: 0.5906020\ttest: 0.5859124\ttest1: 0.5312486\tbest: 0.5312486 (100)\ttotal: 12.4s\tremaining: 1m 50s\n",
      "110:\tlearn: 0.5835094\ttest: 0.5786840\ttest1: 0.5209632\tbest: 0.5209632 (110)\ttotal: 13.7s\tremaining: 1m 49s\n",
      "120:\tlearn: 0.5740054\ttest: 0.5689151\ttest1: 0.5164934\tbest: 0.5164934 (120)\ttotal: 15s\tremaining: 1m 48s\n",
      "130:\tlearn: 0.5667627\ttest: 0.5615174\ttest1: 0.5107201\tbest: 0.5107201 (130)\ttotal: 16.2s\tremaining: 1m 47s\n",
      "140:\tlearn: 0.5512783\ttest: 0.5454906\ttest1: 0.5042046\tbest: 0.5042046 (140)\ttotal: 17.3s\tremaining: 1m 45s\n",
      "150:\tlearn: 0.5452660\ttest: 0.5393822\ttest1: 0.5016308\tbest: 0.5016308 (150)\ttotal: 18.4s\tremaining: 1m 43s\n",
      "160:\tlearn: 0.5392702\ttest: 0.5331194\ttest1: 0.4964477\tbest: 0.4964477 (160)\ttotal: 20s\tremaining: 1m 44s\n",
      "170:\tlearn: 0.5326732\ttest: 0.5263972\ttest1: 0.4923904\tbest: 0.4923904 (170)\ttotal: 21.4s\tremaining: 1m 43s\n",
      "180:\tlearn: 0.5283781\ttest: 0.5222435\ttest1: 0.4893118\tbest: 0.4893118 (180)\ttotal: 22.7s\tremaining: 1m 42s\n",
      "190:\tlearn: 0.5247084\ttest: 0.5183825\ttest1: 0.4850820\tbest: 0.4850820 (190)\ttotal: 23.9s\tremaining: 1m 41s\n",
      "200:\tlearn: 0.5209236\ttest: 0.5145145\ttest1: 0.4836750\tbest: 0.4836750 (200)\ttotal: 25.2s\tremaining: 1m 40s\n",
      "210:\tlearn: 0.5153907\ttest: 0.5089565\ttest1: 0.4813917\tbest: 0.4813917 (210)\ttotal: 26.4s\tremaining: 1m 38s\n",
      "220:\tlearn: 0.5125345\ttest: 0.5061985\ttest1: 0.4779908\tbest: 0.4779868 (219)\ttotal: 27.6s\tremaining: 1m 37s\n",
      "230:\tlearn: 0.5096167\ttest: 0.5032004\ttest1: 0.4757503\tbest: 0.4757503 (230)\ttotal: 28.8s\tremaining: 1m 35s\n",
      "240:\tlearn: 0.5055713\ttest: 0.4992037\ttest1: 0.4697898\tbest: 0.4697898 (240)\ttotal: 29.9s\tremaining: 1m 34s\n",
      "250:\tlearn: 0.5024647\ttest: 0.4959734\ttest1: 0.4690773\tbest: 0.4690773 (250)\ttotal: 31.1s\tremaining: 1m 32s\n",
      "260:\tlearn: 0.4995865\ttest: 0.4930133\ttest1: 0.4650702\tbest: 0.4650702 (260)\ttotal: 32.4s\tremaining: 1m 31s\n",
      "270:\tlearn: 0.4968990\ttest: 0.4903256\ttest1: 0.4628301\tbest: 0.4628301 (270)\ttotal: 33.6s\tremaining: 1m 30s\n",
      "280:\tlearn: 0.4946652\ttest: 0.4880754\ttest1: 0.4614170\tbest: 0.4614170 (280)\ttotal: 34.7s\tremaining: 1m 28s\n",
      "290:\tlearn: 0.4928365\ttest: 0.4861596\ttest1: 0.4598292\tbest: 0.4598292 (290)\ttotal: 35.9s\tremaining: 1m 27s\n",
      "300:\tlearn: 0.4911917\ttest: 0.4844682\ttest1: 0.4571167\tbest: 0.4571167 (300)\ttotal: 37.2s\tremaining: 1m 26s\n",
      "310:\tlearn: 0.4875857\ttest: 0.4807813\ttest1: 0.4547129\tbest: 0.4547129 (310)\ttotal: 38.5s\tremaining: 1m 25s\n",
      "320:\tlearn: 0.4851561\ttest: 0.4783054\ttest1: 0.4540648\tbest: 0.4540093 (318)\ttotal: 39.6s\tremaining: 1m 23s\n",
      "330:\tlearn: 0.4828370\ttest: 0.4759225\ttest1: 0.4524273\tbest: 0.4524273 (330)\ttotal: 40.7s\tremaining: 1m 22s\n",
      "340:\tlearn: 0.4813923\ttest: 0.4744562\ttest1: 0.4519353\tbest: 0.4519353 (340)\ttotal: 41.9s\tremaining: 1m 21s\n",
      "350:\tlearn: 0.4797580\ttest: 0.4727889\ttest1: 0.4512307\tbest: 0.4512283 (349)\ttotal: 43.2s\tremaining: 1m 19s\n",
      "360:\tlearn: 0.4779047\ttest: 0.4709273\ttest1: 0.4501362\tbest: 0.4501362 (360)\ttotal: 44.5s\tremaining: 1m 18s\n",
      "370:\tlearn: 0.4759199\ttest: 0.4689473\ttest1: 0.4493634\tbest: 0.4493634 (370)\ttotal: 45.8s\tremaining: 1m 17s\n",
      "380:\tlearn: 0.4744908\ttest: 0.4673837\ttest1: 0.4485769\tbest: 0.4485769 (380)\ttotal: 47.1s\tremaining: 1m 16s\n",
      "390:\tlearn: 0.4719550\ttest: 0.4648685\ttest1: 0.4460190\tbest: 0.4460190 (390)\ttotal: 48.2s\tremaining: 1m 15s\n",
      "400:\tlearn: 0.4699961\ttest: 0.4628364\ttest1: 0.4428070\tbest: 0.4428070 (400)\ttotal: 49.3s\tremaining: 1m 13s\n",
      "410:\tlearn: 0.4685561\ttest: 0.4613615\ttest1: 0.4390128\tbest: 0.4390128 (410)\ttotal: 50.4s\tremaining: 1m 12s\n",
      "420:\tlearn: 0.4674284\ttest: 0.4602019\ttest1: 0.4386482\tbest: 0.4386297 (419)\ttotal: 51.7s\tremaining: 1m 11s\n",
      "430:\tlearn: 0.4657518\ttest: 0.4584629\ttest1: 0.4363699\tbest: 0.4363699 (430)\ttotal: 52.9s\tremaining: 1m 9s\n",
      "440:\tlearn: 0.4643496\ttest: 0.4571086\ttest1: 0.4364116\tbest: 0.4359394 (438)\ttotal: 54s\tremaining: 1m 8s\n",
      "450:\tlearn: 0.4632879\ttest: 0.4560399\ttest1: 0.4355551\tbest: 0.4355534 (449)\ttotal: 55.1s\tremaining: 1m 7s\n",
      "460:\tlearn: 0.4621667\ttest: 0.4548706\ttest1: 0.4349610\tbest: 0.4349610 (460)\ttotal: 56.3s\tremaining: 1m 5s\n",
      "470:\tlearn: 0.4607577\ttest: 0.4534161\ttest1: 0.4345525\tbest: 0.4345377 (468)\ttotal: 57.5s\tremaining: 1m 4s\n",
      "480:\tlearn: 0.4598498\ttest: 0.4524721\ttest1: 0.4344214\tbest: 0.4343999 (479)\ttotal: 58.7s\tremaining: 1m 3s\n",
      "490:\tlearn: 0.4585033\ttest: 0.4510843\ttest1: 0.4339427\tbest: 0.4339427 (490)\ttotal: 1m\tremaining: 1m 2s\n",
      "500:\tlearn: 0.4574551\ttest: 0.4499597\ttest1: 0.4335324\tbest: 0.4335324 (500)\ttotal: 1m 1s\tremaining: 1m 1s\n",
      "510:\tlearn: 0.4560784\ttest: 0.4485923\ttest1: 0.4321808\tbest: 0.4321808 (510)\ttotal: 1m 2s\tremaining: 59.8s\n",
      "520:\tlearn: 0.4552066\ttest: 0.4476897\ttest1: 0.4317858\tbest: 0.4317858 (520)\ttotal: 1m 3s\tremaining: 58.6s\n",
      "530:\tlearn: 0.4544451\ttest: 0.4469578\ttest1: 0.4307770\tbest: 0.4307669 (529)\ttotal: 1m 5s\tremaining: 57.4s\n",
      "540:\tlearn: 0.4536053\ttest: 0.4460715\ttest1: 0.4304515\tbest: 0.4304515 (540)\ttotal: 1m 6s\tremaining: 56.2s\n",
      "550:\tlearn: 0.4527710\ttest: 0.4452224\ttest1: 0.4298206\tbest: 0.4298206 (550)\ttotal: 1m 7s\tremaining: 54.9s\n",
      "560:\tlearn: 0.4520257\ttest: 0.4444599\ttest1: 0.4295229\tbest: 0.4295229 (560)\ttotal: 1m 8s\tremaining: 53.8s\n",
      "570:\tlearn: 0.4510716\ttest: 0.4435152\ttest1: 0.4293791\tbest: 0.4293791 (570)\ttotal: 1m 10s\tremaining: 53.3s\n",
      "580:\tlearn: 0.4502501\ttest: 0.4426502\ttest1: 0.4291295\tbest: 0.4291295 (580)\ttotal: 1m 13s\tremaining: 52.7s\n",
      "590:\tlearn: 0.4496304\ttest: 0.4420486\ttest1: 0.4287265\tbest: 0.4287145 (588)\ttotal: 1m 15s\tremaining: 52.2s\n",
      "600:\tlearn: 0.4490203\ttest: 0.4414147\ttest1: 0.4286897\tbest: 0.4286829 (592)\ttotal: 1m 17s\tremaining: 51.8s\n",
      "610:\tlearn: 0.4483637\ttest: 0.4407079\ttest1: 0.4282810\tbest: 0.4282810 (610)\ttotal: 1m 19s\tremaining: 50.6s\n",
      "620:\tlearn: 0.4478041\ttest: 0.4401331\ttest1: 0.4281893\tbest: 0.4281806 (618)\ttotal: 1m 20s\tremaining: 49.3s\n",
      "630:\tlearn: 0.4471180\ttest: 0.4393879\ttest1: 0.4277035\tbest: 0.4277011 (629)\ttotal: 1m 21s\tremaining: 47.8s\n",
      "640:\tlearn: 0.4463341\ttest: 0.4385720\ttest1: 0.4277924\tbest: 0.4275896 (632)\ttotal: 1m 22s\tremaining: 46.5s\n",
      "Stopped by overfitting detector  (10 iterations wait)\n",
      "\n",
      "bestTest = 0.4275895818\n",
      "bestIteration = 632\n",
      "\n",
      "Shrink model to first 633 iterations.\n"
     ]
    },
    {
     "data": {
      "text/plain": [
       "<catboost.core.CatBoostRegressor at 0x1fe875442e0>"
      ]
     },
     "execution_count": 33,
     "metadata": {},
     "output_type": "execute_result"
    }
   ],
   "source": [
    "cat_reg.fit(\n",
    "    X_train,\n",
    "    y_train,\n",
    "    eval_set=[(X_train, y_train), (X_test, y_test)],\n",
    "    early_stopping_rounds=10,\n",
    "    verbose=10,\n",
    ")"
   ]
  },
  {
   "cell_type": "code",
   "execution_count": 34,
   "metadata": {},
   "outputs": [
    {
     "name": "stdout",
     "output_type": "stream",
     "text": [
      "XGB Train: 0.3425510276525049\n",
      "CAT Train: 0.4391494846860724\n"
     ]
    }
   ],
   "source": [
    "y_hat_xgb = reg.predict(X_train)\n",
    "rmse_xgb_train = mean_squared_error(y_train, y_hat_xgb, squared=False)\n",
    "print(\"XGB Train:\", rmse_xgb_train)\n",
    "\n",
    "y_hat_cat = cat_reg.predict(X_train)\n",
    "rmse_cat_train = mean_squared_error(y_train, y_hat_cat, squared=False)\n",
    "print(\"CAT Train:\", rmse_cat_train)"
   ]
  },
  {
   "cell_type": "code",
   "execution_count": 35,
   "metadata": {},
   "outputs": [
    {
     "name": "stdout",
     "output_type": "stream",
     "text": [
      "XGB Test: 0.4075440751933483\n",
      "CAT Test: 0.4275895804067583\n"
     ]
    }
   ],
   "source": [
    "y_pred_xgb = reg.predict(X_test)\n",
    "rmse_xgb_test = mean_squared_error(y_test, y_pred_xgb, squared=False)\n",
    "print(\"XGB Test:\", rmse_xgb_test)\n",
    "\n",
    "y_test_cat = cat_reg.predict(X_test)\n",
    "rmse_cat_test = mean_squared_error(y_test, y_test_cat, squared=False)\n",
    "print(\"CAT Test:\", rmse_cat_test)"
   ]
  },
  {
   "cell_type": "code",
   "execution_count": null,
   "metadata": {},
   "outputs": [],
   "source": [
    "fi = pd.DataFrame(\n",
    "    data=reg.feature_importances_, index=reg.feature_names_in_, columns=[\n",
    "        \"Importance\"]\n",
    ")"
   ]
  },
  {
   "cell_type": "code",
   "execution_count": null,
   "metadata": {},
   "outputs": [],
   "source": [
    "fi.sort_values(by=\"Importance\").plot(kind=\"barh\", title=\"Feature Importances\")"
   ]
  },
  {
   "cell_type": "markdown",
   "metadata": {},
   "source": [
    "# Forecast on Test"
   ]
  },
  {
   "cell_type": "code",
   "execution_count": null,
   "metadata": {},
   "outputs": [],
   "source": [
    "test[\"prediction\"] = reg.predict(X_test)"
   ]
  },
  {
   "cell_type": "code",
   "execution_count": null,
   "metadata": {},
   "outputs": [],
   "source": [
    "ax = test[[\"log_bike_count\"]].plot()\n",
    "test[\"prediction\"].plot(ax=ax)\n",
    "plt.legend()\n",
    "ax.set_title(\"Raw Data vs Predictions\")\n",
    "plt.show()"
   ]
  },
  {
   "cell_type": "code",
   "execution_count": null,
   "metadata": {},
   "outputs": [],
   "source": [
    "test.loc[(test.index > \"2021-08-7\") & (test.index < \"2021-08-14\")][\n",
    "    \"log_bike_count\"\n",
    "].plot(figsize=(15, 5))\n",
    "test.loc[(test.index > \"2021-08-7\") & (test.index < \"2021-08-14\")][\"prediction\"].plot(\n",
    "    figsize=(15, 5)\n",
    ")"
   ]
  },
  {
   "cell_type": "code",
   "execution_count": null,
   "metadata": {},
   "outputs": [],
   "source": [
    "rmse_test = mean_squared_error(\n",
    "    test[\"log_bike_count\"], test[\"prediction\"], squared=False\n",
    ")\n",
    "print(rmse_test)"
   ]
  },
  {
   "cell_type": "code",
   "execution_count": null,
   "metadata": {},
   "outputs": [],
   "source": [
    "test"
   ]
  },
  {
   "cell_type": "code",
   "execution_count": null,
   "metadata": {},
   "outputs": [],
   "source": [
    "test[\"error\"] = np.abs(test[\"log_bike_count\"] - test[\"prediction\"])"
   ]
  },
  {
   "cell_type": "code",
   "execution_count": null,
   "metadata": {},
   "outputs": [],
   "source": [
    "test[\"error\"]"
   ]
  },
  {
   "cell_type": "code",
   "execution_count": null,
   "metadata": {},
   "outputs": [],
   "source": [
    "test[\"Date\"] = test.index.date"
   ]
  },
  {
   "cell_type": "code",
   "execution_count": null,
   "metadata": {},
   "outputs": [],
   "source": [
    "test.groupby(\"Date\")[\"error\"].mean().sort_values(ascending=True).head(5)"
   ]
  },
  {
   "cell_type": "markdown",
   "metadata": {},
   "source": [
    "# Hyperparameter tuning and cross validation"
   ]
  },
  {
   "cell_type": "code",
   "execution_count": null,
   "metadata": {},
   "outputs": [],
   "source": [
    "tscv = TimeSeriesSplit(n_splits=5)"
   ]
  },
  {
   "cell_type": "code",
   "execution_count": null,
   "metadata": {},
   "outputs": [],
   "source": [
    "param_grid = {\n",
    "    \"n_estimators\": [100, 500, 1000],\n",
    "    \"learning_rate\": [0.01, 0.1, 0.2],\n",
    "    \"max_depth\": [3, 4, 5],\n",
    "    \"min_child_weight\": [1, 2, 3],\n",
    "    \"subsample\": [0.7, 0.8, 0.9],\n",
    "    \"colsample_bytree\": [0.7, 0.8, 0.9],\n",
    "}"
   ]
  },
  {
   "cell_type": "code",
   "execution_count": null,
   "metadata": {},
   "outputs": [],
   "source": [
    "grid_search = GridSearchCV(\n",
    "    estimator=reg, param_grid=param_grid, cv=tscv, verbose=10, n_jobs=-1\n",
    ")\n",
    "grid_search.fit(X_train, y_train)\n",
    "best_params = grid_search.best_params_\n",
    "print(best_params)"
   ]
  },
  {
   "cell_type": "code",
   "execution_count": null,
   "metadata": {},
   "outputs": [],
   "source": [
    "best_params = {\n",
    "    \"colsample_bytree\": 0.9,\n",
    "    \"learning_rate\": 0.1,\n",
    "    \"max_depth\": 5,\n",
    "    \"min_child_weight\": 2,\n",
    "    \"n_estimators\": 500,\n",
    "    \"subsample\": 0.9,\n",
    "}"
   ]
  },
  {
   "cell_type": "code",
   "execution_count": null,
   "metadata": {},
   "outputs": [],
   "source": [
    "best_reg = xgb.XGBRegressor(\n",
    "    tree_method=\"hist\",\n",
    "    n_estimators=best_params[\"n_estimators\"],\n",
    "    learning_rate=best_params[\"learning_rate\"],\n",
    "    max_depth=best_params[\"max_depth\"],\n",
    "    min_child_weight=best_params[\"min_child_weight\"],\n",
    "    subsample=best_params[\"subsample\"],\n",
    "    colsample_bytree=best_params[\"colsample_bytree\"],\n",
    "    enable_categorical=True,\n",
    ")"
   ]
  },
  {
   "cell_type": "code",
   "execution_count": null,
   "metadata": {},
   "outputs": [],
   "source": [
    "best_reg.fit(\n",
    "    X_train,\n",
    "    y_train,\n",
    "    eval_set=[(X_train, y_train), (X_test, y_test)],\n",
    "    early_stopping_rounds=10,\n",
    "    verbose=10,\n",
    ")"
   ]
  },
  {
   "cell_type": "code",
   "execution_count": null,
   "metadata": {},
   "outputs": [],
   "source": [
    "y_hat_xgb = best_reg.predict(X_train)\n",
    "rmse_xgb_train = mean_squared_error(y_train, y_hat_xgb, squared=False)\n",
    "print(\"XGB Train:\", rmse_xgb_train)"
   ]
  },
  {
   "cell_type": "code",
   "execution_count": null,
   "metadata": {},
   "outputs": [],
   "source": [
    "y_pred_xgb = best_reg.predict(X_test)\n",
    "rmse_xgb_test = mean_squared_error(y_test, y_pred_xgb, squared=False)\n",
    "print(\"XGB Test:\", rmse_xgb_test)"
   ]
  },
  {
   "cell_type": "markdown",
   "metadata": {},
   "source": [
    "Training a model for each counter_name"
   ]
  },
  {
   "cell_type": "code",
   "execution_count": 36,
   "metadata": {},
   "outputs": [],
   "source": [
    "models = {}"
   ]
  },
  {
   "cell_type": "code",
   "execution_count": null,
   "metadata": {},
   "outputs": [],
   "source": [
    "for counter in data[\"counter_name\"].unique():\n",
    "    train_subset = data[data[\"counter_name\"] == counter]\n",
    "\n",
    "    X_train_subset = train_subset[features]\n",
    "    y_train_subset = train_subset[\"log_bike_count\"]\n",
    "\n",
    "    model = xgb.XGBRegressor(**best_params)\n",
    "    model.fit(X_train_subset, y_train_subset)\n",
    "\n",
    "    models[counter] = model"
   ]
  }
 ],
 "metadata": {
  "kernelspec": {
   "display_name": "bikes-count",
   "language": "python",
   "name": "python3"
  },
  "language_info": {
   "codemirror_mode": {
    "name": "ipython",
    "version": 3
   },
   "file_extension": ".py",
   "mimetype": "text/x-python",
   "name": "python",
   "nbconvert_exporter": "python",
   "pygments_lexer": "ipython3",
   "version": "3.10.13"
  }
 },
 "nbformat": 4,
 "nbformat_minor": 2
}
