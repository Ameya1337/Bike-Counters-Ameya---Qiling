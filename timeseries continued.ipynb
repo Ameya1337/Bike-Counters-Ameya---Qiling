{
 "cells": [
  {
   "cell_type": "code",
   "execution_count": 1,
   "metadata": {},
   "outputs": [],
   "source": [
    "from pathlib import Path\n",
    "import pandas as pd\n",
    "import numpy as np\n",
    "import xgboost as xgb\n",
    "from sklearn.metrics import mean_squared_error\n",
    "import catboost as cat\n",
    "from sklearn.model_selection import TimeSeriesSplit, GridSearchCV\n",
    "from sklearn.preprocessing import OneHotEncoder\n",
    "from sklearn.compose import ColumnTransformer\n",
    "from sklearn.pipeline import Pipeline\n",
    "from pandas.tseries.holiday import Holiday, AbstractHolidayCalendar\n",
    "from dateutil.easter import easter\n",
    "from datetime import timedelta\n",
    "import lightgbm as lgb\n",
    "import optuna\n",
    "import warnings\n",
    "from sklearn.model_selection import TimeSeriesSplit\n",
    "from sklearn.feature_selection import RFECV\n",
    "\n",
    "warnings.filterwarnings(\"ignore\")"
   ]
  },
  {
   "cell_type": "code",
   "execution_count": 2,
   "metadata": {},
   "outputs": [],
   "source": [
    "data = pd.read_parquet(Path(\"data\") / \"train.parquet\")\n",
    "test_data = pd.read_parquet(Path(\"data\") / \"test.parquet\")\n",
    "data[\"date\"] = pd.to_datetime(data[\"date\"])\n",
    "data = data.set_index(\"date\")\n",
    "test_data[\"date\"] = pd.to_datetime(test_data[\"date\"])\n",
    "test_data = test_data.set_index(\"date\")"
   ]
  },
  {
   "cell_type": "code",
   "execution_count": 3,
   "metadata": {},
   "outputs": [],
   "source": [
    "prediction_data = pd.read_parquet(Path(\"data\") / \"final_test.parquet\")"
   ]
  },
  {
   "cell_type": "code",
   "execution_count": 4,
   "metadata": {},
   "outputs": [],
   "source": [
    "prediction_data[\"date\"] = pd.to_datetime(prediction_data[\"date\"])\n",
    "prediction_data = prediction_data.set_index(\"date\")"
   ]
  },
  {
   "cell_type": "code",
   "execution_count": 5,
   "metadata": {},
   "outputs": [],
   "source": [
    "class FrenchHolidayCalendar(AbstractHolidayCalendar):\n",
    "    rules = [\n",
    "        Holiday(\"New Year's Day\", month=1, day=1),\n",
    "        Holiday(\"Labour Day\", month=5, day=1),\n",
    "        Holiday(\"Victory in Europe Day\", month=5, day=8),\n",
    "        Holiday(\"Bastille Day\", month=7, day=14),\n",
    "        Holiday(\"Assumption of Mary\", month=8, day=15),\n",
    "        Holiday(\"All Saints' Day\", month=11, day=1),\n",
    "        Holiday(\"Armistice Day\", month=11, day=11),\n",
    "        Holiday(\"Christmas Day\", month=12, day=25),\n",
    "    ]\n",
    "\n",
    "    @staticmethod\n",
    "    def easter_related_holidays(year):\n",
    "        easter_sunday = easter(year)\n",
    "        return [\n",
    "            (easter_sunday + timedelta(days=1), \"Easter Monday\"),\n",
    "            (easter_sunday + timedelta(days=39), \"Ascension Day\"),\n",
    "        ]"
   ]
  },
  {
   "cell_type": "code",
   "execution_count": 6,
   "metadata": {},
   "outputs": [],
   "source": [
    "def cyclical_encode(df, column, max_value):\n",
    "    df[column + \"_sin\"] = np.sin(2 * np.pi * df[column] / max_value)\n",
    "    df[column + \"_cos\"] = np.cos(2 * np.pi * df[column] / max_value)\n",
    "    return df"
   ]
  },
  {
   "cell_type": "code",
   "execution_count": 7,
   "metadata": {},
   "outputs": [],
   "source": [
    "def create_features(df):\n",
    "    df = df.copy()\n",
    "    df[\"hour\"] = df.index.hour\n",
    "    df[\"dayofweek\"] = df.index.dayofweek\n",
    "    df[\"quarter\"] = df.index.quarter\n",
    "    df[\"month\"] = df.index.month\n",
    "    df[\"dayofyear\"] = df.index.dayofyear\n",
    "\n",
    "    # Boolean for weekends\n",
    "    df[\"is_weekend\"] = df[\"dayofweek\"].isin([5, 6])\n",
    "\n",
    "    # cyclical\n",
    "    df = cyclical_encode(df, \"hour\", 24)\n",
    "    df = cyclical_encode(df, \"dayofweek\", 7)\n",
    "\n",
    "    # Boolean for holidays\n",
    "    cal = FrenchHolidayCalendar()\n",
    "    holidays = cal.holidays(start=df.index.min(), end=df.index.max())\n",
    "    easter_holidays = []\n",
    "    for year in range(df.index.year.min(), df.index.year.max() + 1):\n",
    "        for date, _ in FrenchHolidayCalendar.easter_related_holidays(year):\n",
    "            easter_holidays.append(date)\n",
    "    holidays = holidays.union(pd.to_datetime(easter_holidays))\n",
    "    df[\"is_holiday\"] = df.index.isin(holidays)\n",
    "\n",
    "    # Lockdown periods\n",
    "    lockdowns = {\n",
    "        \"lockdown_1\": (\"2020-03-17\", \"2020-05-10\"),\n",
    "        \"lockdown_2\": (\"2020-10-28\", \"2020-12-01\"),\n",
    "        # with curfew from 7 PM to 6 AM\n",
    "        \"lockdown_3_1\": (\"2021-04-03 19:00:00\", \"2021-05-18 06:00:00\"),\n",
    "        # with curfew from 9 PM to 6 AM\n",
    "        \"lockdown_3_2\": (\"2021-05-19 21:00:00\", \"2021-06-08 06:00:00\"),\n",
    "        # with curfew from 11 PM to 6 AM\n",
    "        \"lockdown_3_3\": (\"2021-06-09 23:00:00\", \"2021-06-29 06:00:00\"),\n",
    "    }\n",
    "    for lockdown, (start_date, end_date) in lockdowns.items():\n",
    "        mask = (df.index >= start_date) & (df.index <= end_date)\n",
    "        df[lockdown] = mask\n",
    "\n",
    "    return df"
   ]
  },
  {
   "cell_type": "code",
   "execution_count": 8,
   "metadata": {},
   "outputs": [
    {
     "name": "stdout",
     "output_type": "stream",
     "text": [
      "<class 'pandas.core.frame.DataFrame'>\n",
      "DatetimeIndex: 455163 entries, 2020-09-01 02:00:00 to 2021-08-09 17:00:00\n",
      "Data columns (total 10 columns):\n",
      " #   Column                     Non-Null Count   Dtype         \n",
      "---  ------                     --------------   -----         \n",
      " 0   counter_id                 455163 non-null  category      \n",
      " 1   counter_name               455163 non-null  category      \n",
      " 2   site_id                    455163 non-null  int64         \n",
      " 3   site_name                  455163 non-null  category      \n",
      " 4   bike_count                 455163 non-null  float64       \n",
      " 5   counter_installation_date  455163 non-null  datetime64[us]\n",
      " 6   counter_technical_id       455163 non-null  category      \n",
      " 7   latitude                   455163 non-null  float64       \n",
      " 8   longitude                  455163 non-null  float64       \n",
      " 9   log_bike_count             455163 non-null  float64       \n",
      "dtypes: category(4), datetime64[us](1), float64(4), int64(1)\n",
      "memory usage: 26.1 MB\n"
     ]
    }
   ],
   "source": [
    "data.info()"
   ]
  },
  {
   "cell_type": "code",
   "execution_count": 9,
   "metadata": {},
   "outputs": [],
   "source": [
    "train = data[[\"counter_name\", \"log_bike_count\"]]\n",
    "test = test_data[[\"counter_name\", \"log_bike_count\"]]\n",
    "prediction = prediction_data[[\"counter_name\"]]"
   ]
  },
  {
   "cell_type": "code",
   "execution_count": 10,
   "metadata": {},
   "outputs": [],
   "source": [
    "train = create_features(train)"
   ]
  },
  {
   "cell_type": "code",
   "execution_count": 11,
   "metadata": {},
   "outputs": [],
   "source": [
    "test = create_features(test)"
   ]
  },
  {
   "cell_type": "code",
   "execution_count": 12,
   "metadata": {},
   "outputs": [],
   "source": [
    "prediction = create_features(prediction)"
   ]
  },
  {
   "cell_type": "code",
   "execution_count": 13,
   "metadata": {},
   "outputs": [
    {
     "name": "stdout",
     "output_type": "stream",
     "text": [
      "<class 'pandas.core.frame.DataFrame'>\n",
      "DatetimeIndex: 455163 entries, 2020-09-01 02:00:00 to 2021-08-09 17:00:00\n",
      "Data columns (total 18 columns):\n",
      " #   Column          Non-Null Count   Dtype   \n",
      "---  ------          --------------   -----   \n",
      " 0   counter_name    455163 non-null  category\n",
      " 1   log_bike_count  455163 non-null  float64 \n",
      " 2   hour            455163 non-null  int32   \n",
      " 3   dayofweek       455163 non-null  int32   \n",
      " 4   quarter         455163 non-null  int32   \n",
      " 5   month           455163 non-null  int32   \n",
      " 6   dayofyear       455163 non-null  int32   \n",
      " 7   is_weekend      455163 non-null  bool    \n",
      " 8   hour_sin        455163 non-null  float64 \n",
      " 9   hour_cos        455163 non-null  float64 \n",
      " 10  dayofweek_sin   455163 non-null  float64 \n",
      " 11  dayofweek_cos   455163 non-null  float64 \n",
      " 12  is_holiday      455163 non-null  bool    \n",
      " 13  lockdown_1      455163 non-null  bool    \n",
      " 14  lockdown_2      455163 non-null  bool    \n",
      " 15  lockdown_3_1    455163 non-null  bool    \n",
      " 16  lockdown_3_2    455163 non-null  bool    \n",
      " 17  lockdown_3_3    455163 non-null  bool    \n",
      "dtypes: bool(7), category(1), float64(5), int32(5)\n",
      "memory usage: 33.0 MB\n"
     ]
    }
   ],
   "source": [
    "train.info()"
   ]
  },
  {
   "cell_type": "code",
   "execution_count": null,
   "metadata": {},
   "outputs": [],
   "source": [
    "train.columns"
   ]
  },
  {
   "cell_type": "code",
   "execution_count": null,
   "metadata": {},
   "outputs": [],
   "source": [
    "features = [\n",
    "    \"counter_name\",\n",
    "    \"hour\",\n",
    "    \"dayofweek\",\n",
    "    \"quarter\",\n",
    "    \"month\",\n",
    "    \"dayofyear\",\n",
    "    \"is_weekend\",\n",
    "    \"hour_sin\",\n",
    "    \"hour_cos\",\n",
    "    \"dayofweek_sin\",\n",
    "    \"dayofweek_cos\",\n",
    "    \"is_holiday\",\n",
    "    \"lockdown_1\",\n",
    "    \"lockdown_2\",\n",
    "    \"lockdown_3_1\",\n",
    "    \"lockdown_3_2\",\n",
    "    \"lockdown_3_3\",\n",
    "]\n",
    "target = [\"log_bike_count\"]\n",
    "cat_feature = [\"counter_name\"]"
   ]
  },
  {
   "cell_type": "code",
   "execution_count": null,
   "metadata": {},
   "outputs": [],
   "source": [
    "X_train = train[features]\n",
    "y_train = train[target]\n",
    "X_test = test[features]\n",
    "y_test = test[target]"
   ]
  },
  {
   "cell_type": "code",
   "execution_count": null,
   "metadata": {},
   "outputs": [],
   "source": [
    "reg = xgb.XGBRegressor(n_estimators=1000)"
   ]
  },
  {
   "cell_type": "code",
   "execution_count": null,
   "metadata": {},
   "outputs": [],
   "source": [
    "preprocessor = ColumnTransformer(\n",
    "    transformers=[(\"cat\", OneHotEncoder(\n",
    "        handle_unknown=\"ignore\"), cat_feature)],\n",
    "    remainder=\"passthrough\",\n",
    ")"
   ]
  },
  {
   "cell_type": "code",
   "execution_count": null,
   "metadata": {},
   "outputs": [],
   "source": [
    "pipeline = Pipeline(steps=[(\"preprocessor\", preprocessor), (\"model\", reg)])"
   ]
  },
  {
   "cell_type": "code",
   "execution_count": null,
   "metadata": {},
   "outputs": [],
   "source": [
    "pipeline.fit(X_train, y_train)"
   ]
  },
  {
   "cell_type": "code",
   "execution_count": null,
   "metadata": {},
   "outputs": [],
   "source": [
    "y_pred_xgb = pipeline.predict(X_test)\n",
    "rmse_xgb_test = mean_squared_error(y_test, y_pred_xgb, squared=False)\n",
    "print(\"XGB Test:\", rmse_xgb_test)"
   ]
  },
  {
   "cell_type": "code",
   "execution_count": null,
   "metadata": {},
   "outputs": [],
   "source": [
    "xgb_model = pipeline.named_steps[\"model\"]\n",
    "\n",
    "xgb_model.feature_importances_"
   ]
  },
  {
   "cell_type": "code",
   "execution_count": null,
   "metadata": {},
   "outputs": [],
   "source": []
  },
  {
   "cell_type": "code",
   "execution_count": null,
   "metadata": {},
   "outputs": [],
   "source": [
    "X_train_encoded = pd.get_dummies(\n",
    "    X_train,\n",
    "    columns=[\"counter_name\", \"counter_technical_id\"],\n",
    "    prefix=[\"encoded_counter\", \"encoded_tech\"],\n",
    ")\n",
    "X_test_encoded = pd.get_dummies(\n",
    "    X_test,\n",
    "    columns=[\"counter_name\", \"counter_technical_id\"],\n",
    "    prefix=[\"encoded_counter\", \"encoded_tech\"],\n",
    ")"
   ]
  },
  {
   "cell_type": "code",
   "execution_count": null,
   "metadata": {},
   "outputs": [],
   "source": [
    "reg = xgb.XGBRegressor(n_estimators=1000)"
   ]
  },
  {
   "cell_type": "code",
   "execution_count": null,
   "metadata": {},
   "outputs": [],
   "source": [
    "reg.fit(\n",
    "    X_train_encoded,\n",
    "    y_train,\n",
    "    eval_set=[(X_train_encoded, y_train), (X_test_encoded, y_test)],\n",
    "    early_stopping_rounds=10,\n",
    "    verbose=10,\n",
    ")"
   ]
  },
  {
   "cell_type": "code",
   "execution_count": null,
   "metadata": {},
   "outputs": [],
   "source": [
    "y_hat_xgb = reg.predict(X_train_encoded)\n",
    "rmse_xgb_train = mean_squared_error(y_train, y_hat_xgb, squared=False)\n",
    "print(\"XGB Train:\", rmse_xgb_train)"
   ]
  },
  {
   "cell_type": "code",
   "execution_count": null,
   "metadata": {},
   "outputs": [],
   "source": [
    "y_pred_xgb = reg.predict(X_test_encoded)\n",
    "rmse_xgb_test = mean_squared_error(y_test, y_pred_xgb, squared=False)\n",
    "print(\"XGB Test:\", rmse_xgb_test)"
   ]
  },
  {
   "cell_type": "code",
   "execution_count": null,
   "metadata": {},
   "outputs": [],
   "source": [
    "fi = pd.DataFrame(\n",
    "    data=reg.feature_importances_,\n",
    "    index=reg.feature_names_in_,\n",
    "    columns=[\"Importance\"],\n",
    ")"
   ]
  },
  {
   "cell_type": "code",
   "execution_count": null,
   "metadata": {},
   "outputs": [],
   "source": [
    "fi.sort_values(by=\"Importance\").plot(\n",
    "    kind=\"barh\", title=\"Feature Importances\", figsize=(16, 25)\n",
    ")"
   ]
  },
  {
   "cell_type": "code",
   "execution_count": null,
   "metadata": {},
   "outputs": [],
   "source": []
  },
  {
   "cell_type": "code",
   "execution_count": null,
   "metadata": {},
   "outputs": [],
   "source": []
  },
  {
   "cell_type": "code",
   "execution_count": null,
   "metadata": {},
   "outputs": [],
   "source": []
  },
  {
   "cell_type": "code",
   "execution_count": null,
   "metadata": {},
   "outputs": [],
   "source": [
    "train.info()"
   ]
  },
  {
   "cell_type": "code",
   "execution_count": null,
   "metadata": {},
   "outputs": [],
   "source": [
    "boolean_columns = [\n",
    "    \"is_weekend\",\n",
    "    \"is_holiday\",\n",
    "    \"lockdown_1\",\n",
    "    \"lockdown_2\",\n",
    "    \"lockdown_3_1\",\n",
    "    \"lockdown_3_2\",\n",
    "    \"lockdown_3_3\",\n",
    "]\n",
    "\n",
    "for column in boolean_columns:\n",
    "    train[column] = train[column].astype(int)\n",
    "\n",
    "\n",
    "for column in boolean_columns:\n",
    "    test[column] = test[column].astype(int)"
   ]
  },
  {
   "cell_type": "code",
   "execution_count": null,
   "metadata": {},
   "outputs": [],
   "source": [
    "train.info()"
   ]
  },
  {
   "cell_type": "code",
   "execution_count": null,
   "metadata": {},
   "outputs": [],
   "source": [
    "X_train = train[features]\n",
    "y_train = train[target]\n",
    "X_test = test[features]\n",
    "y_test = test[target]"
   ]
  },
  {
   "cell_type": "code",
   "execution_count": null,
   "metadata": {},
   "outputs": [],
   "source": [
    "reg = xgb.XGBRegressor(\n",
    "    tree_method=\"hist\", n_estimators=1000, enable_categorical=True)"
   ]
  },
  {
   "cell_type": "code",
   "execution_count": null,
   "metadata": {},
   "outputs": [],
   "source": [
    "reg.fit(\n",
    "    X_train,\n",
    "    y_train,\n",
    "    eval_set=[(X_train, y_train), (X_test, y_test)],\n",
    "    early_stopping_rounds=10,\n",
    "    verbose=10,\n",
    ")"
   ]
  },
  {
   "cell_type": "code",
   "execution_count": null,
   "metadata": {},
   "outputs": [],
   "source": [
    "y_hat_xgb = reg.predict(X_train)\n",
    "rmse_xgb_train = mean_squared_error(y_train, y_hat_xgb, squared=False)\n",
    "print(\"XGB Train:\", rmse_xgb_train)\n",
    "\n",
    "y_pred_xgb = reg.predict(X_test)\n",
    "rmse_xgb_test = mean_squared_error(y_test, y_pred_xgb, squared=False)\n",
    "print(\"XGB Test:\", rmse_xgb_test)"
   ]
  },
  {
   "cell_type": "code",
   "execution_count": null,
   "metadata": {},
   "outputs": [],
   "source": [
    "fi = pd.DataFrame(\n",
    "    data=reg.feature_importances_, index=reg.feature_names_in_, columns=[\n",
    "        \"Importance\"]\n",
    ")\n",
    "\n",
    "fi.sort_values(by=\"Importance\").plot(kind=\"barh\", title=\"Feature Importances\")"
   ]
  },
  {
   "cell_type": "code",
   "execution_count": null,
   "metadata": {},
   "outputs": [],
   "source": [
    "fi.sort_values(by=\"Importance\", ascending=False)"
   ]
  },
  {
   "cell_type": "code",
   "execution_count": null,
   "metadata": {},
   "outputs": [],
   "source": [
    "features = [\n",
    "    \"counter_name\",\n",
    "    \"hour\",\n",
    "    \"dayofweek\",\n",
    "    \"quarter\",\n",
    "    \"month\",\n",
    "    \"dayofyear\",\n",
    "    \"hour_sin\",\n",
    "    \"hour_cos\",\n",
    "    \"is_holiday\",\n",
    "    \"lockdown_2\",\n",
    "    \"lockdown_3_1\",\n",
    "    \"lockdown_3_2\",\n",
    "    \"lockdown_3_3\",\n",
    "]\n",
    "target = [\"log_bike_count\"]\n",
    "cat_feature = [\"counter_name\"]"
   ]
  },
  {
   "cell_type": "code",
   "execution_count": null,
   "metadata": {},
   "outputs": [],
   "source": [
    "X_train = train[features]\n",
    "y_train = train[target]\n",
    "X_test = test[features]\n",
    "y_test = test[target]"
   ]
  },
  {
   "cell_type": "code",
   "execution_count": null,
   "metadata": {},
   "outputs": [],
   "source": [
    "reg = xgb.XGBRegressor(\n",
    "    tree_method=\"hist\", n_estimators=1000, enable_categorical=True)\n",
    "\n",
    "\n",
    "\n",
    "reg.fit(\n",
    "    X_train,\n",
    "    y_train,\n",
    "\n",
    "    eval_set=[(X_train, y_train), (X_test, y_test)],\n",
    "\n",
    "    early_stopping_rounds=10,\n",
    "\n",
    "    verbose=10,\n",
    ")"
   ]
  },
  {
   "cell_type": "code",
   "execution_count": null,
   "metadata": {},
   "outputs": [],
   "source": [
    "y_hat_xgb = reg.predict(X_train)\n",
    "rmse_xgb_train = mean_squared_error(y_train, y_hat_xgb, squared=False)\n",
    "print(\"XGB Train:\", rmse_xgb_train)\n",
    "\n",
    "y_pred_xgb = reg.predict(X_test)\n",
    "rmse_xgb_test = mean_squared_error(y_test, y_pred_xgb, squared=False)\n",
    "print(\"XGB Test:\", rmse_xgb_test)"
   ]
  },
  {
   "cell_type": "code",
   "execution_count": null,
   "metadata": {},
   "outputs": [],
   "source": [
    "fi = pd.DataFrame(\n",
    "    data=reg.feature_importances_, index=reg.feature_names_in_, columns=[\n",
    "        \"Importance\"]\n",
    ")\n",
    "\n",
    "fi.sort_values(by=\"Importance\").plot(kind=\"barh\", title=\"Feature Importances\")"
   ]
  },
  {
   "cell_type": "code",
   "execution_count": null,
   "metadata": {},
   "outputs": [],
   "source": [
    "fi.sort_values(by=\"Importance\", ascending=False)"
   ]
  },
  {
   "cell_type": "code",
   "execution_count": null,
   "metadata": {},
   "outputs": [],
   "source": [
    "cat_reg = cat.CatBoostRegressor(n_estimators=1000, cat_features=cat_feature)"
   ]
  },
  {
   "cell_type": "code",
   "execution_count": null,
   "metadata": {},
   "outputs": [],
   "source": [
    "cat_reg.fit(\n",
    "    X_train,\n",
    "    y_train,\n",
    "    eval_set=[(X_train, y_train), (X_test, y_test)],\n",
    "    early_stopping_rounds=10,\n",
    "    verbose=10,\n",
    ")"
   ]
  },
  {
   "cell_type": "code",
   "execution_count": null,
   "metadata": {},
   "outputs": [],
   "source": [
    "y_hat_cat = cat_reg.predict(X_train)\n",
    "rmse_cat_train = mean_squared_error(y_train, y_hat_cat, squared=False)\n",
    "print(\"CAT Train:\", rmse_cat_train)\n",
    "\n",
    "y_test_cat = cat_reg.predict(X_test)\n",
    "rmse_cat_test = mean_squared_error(y_test, y_test_cat, squared=False)\n",
    "print(\"CAT Test:\", rmse_cat_test)"
   ]
  },
  {
   "cell_type": "code",
   "execution_count": null,
   "metadata": {},
   "outputs": [],
   "source": [
    "fi = pd.DataFrame(\n",
    "    data=cat_reg.feature_importances_,\n",
    "    index=features,\n",
    "    columns=[\"Importance\"],\n",
    ")\n",
    "\n",
    "fi.sort_values(by=\"Importance\").plot(kind=\"barh\", title=\"Feature Importances\")"
   ]
  },
  {
   "cell_type": "code",
   "execution_count": null,
   "metadata": {},
   "outputs": [],
   "source": []
  },
  {
   "cell_type": "code",
   "execution_count": null,
   "metadata": {},
   "outputs": [],
   "source": [
    "weather_data = pd.read_csv(\"data/external_data_cleaned.csv\")"
   ]
  },
  {
   "cell_type": "code",
   "execution_count": null,
   "metadata": {},
   "outputs": [],
   "source": [
    "weather_data_hourly.head()"
   ]
  },
  {
   "cell_type": "code",
   "execution_count": null,
   "metadata": {},
   "outputs": [],
   "source": [
    "weather_data[\"date\"] = pd.to_datetime(weather_data[\"date\"])\n",
    "weather_data.set_index(\"date\", inplace=True)"
   ]
  },
  {
   "cell_type": "code",
   "execution_count": null,
   "metadata": {},
   "outputs": [],
   "source": [
    "weather_data_hourly = weather_data.resample(\"H\").ffill()"
   ]
  },
  {
   "cell_type": "code",
   "execution_count": null,
   "metadata": {},
   "outputs": [],
   "source": [
    "weather_data_hourly.info()"
   ]
  },
  {
   "cell_type": "code",
   "execution_count": null,
   "metadata": {},
   "outputs": [],
   "source": [
    "weather_data_hourly = weather_data_hourly.drop(columns=[\"week\", \"day\"])"
   ]
  },
  {
   "cell_type": "code",
   "execution_count": null,
   "metadata": {},
   "outputs": [],
   "source": [
    "combined_train.columns"
   ]
  },
  {
   "cell_type": "code",
   "execution_count": null,
   "metadata": {},
   "outputs": [],
   "source": [
    "# Merge train and weather_data_hourly on their DateTimeIndex\n",
    "combined_train = train.merge(\n",
    "    weather_data_hourly, left_index=True, right_index=True, how=\"left\"\n",
    ")\n",
    "combined_test = test.merge(\n",
    "    weather_data_hourly, left_index=True, right_index=True, how=\"left\"\n",
    ")"
   ]
  },
  {
   "cell_type": "code",
   "execution_count": null,
   "metadata": {},
   "outputs": [],
   "source": [
    "features = [\n",
    "    \"counter_name\",\n",
    "    \"hour\",\n",
    "    \"dayofweek\",\n",
    "    \"quarter\",\n",
    "    \"month\",\n",
    "    \"dayofyear\",\n",
    "    \"hour_sin\",\n",
    "    \"hour_cos\",\n",
    "    \"is_holiday\",\n",
    "    \"lockdown_2\",\n",
    "    \"lockdown_3_1\",\n",
    "    \"lockdown_3_2\",\n",
    "    \"lockdown_3_3\",\n",
    "    \"t\",\n",
    "    \"rr1\",\n",
    "    \"rr3\",\n",
    "    \"rr6\",\n",
    "    \"ff\",\n",
    "    \"raf10\",\n",
    "    \"rafper\",\n",
    "    \"u\",\n",
    "    \"vv\",\n",
    "    \"n\",\n",
    "    \"cl\",\n",
    "    \"cm\",\n",
    "    \"ch\",\n",
    "    \"precipitation\",\n",
    "    \"cloudy_day\",\n",
    "]\n",
    "target = [\"log_bike_count\"]\n",
    "cat_feature = [\"counter_name\"]"
   ]
  },
  {
   "cell_type": "code",
   "execution_count": null,
   "metadata": {},
   "outputs": [],
   "source": [
    "X_train = combined_train[features]\n",
    "y_train = combined_train[target]\n",
    "X_test = combined_test[features]\n",
    "y_test = combined_test[target]"
   ]
  },
  {
   "cell_type": "code",
   "execution_count": null,
   "metadata": {},
   "outputs": [],
   "source": [
    "reg = xgb.XGBRegressor(\n",
    "    tree_method=\"hist\", n_estimators=1000, enable_categorical=True)\n",
    "\n",
    "\n",
    "\n",
    "reg.fit(\n",
    "    X_train,\n",
    "    y_train,\n",
    "\n",
    "    eval_set=[(X_train, y_train), (X_test, y_test)],\n",
    "\n",
    "    early_stopping_rounds=10,\n",
    "\n",
    "    verbose=10,\n",
    ")"
   ]
  },
  {
   "cell_type": "code",
   "execution_count": null,
   "metadata": {},
   "outputs": [],
   "source": [
    "y_hat_xgb = reg.predict(X_train)\n",
    "rmse_xgb_train = mean_squared_error(y_train, y_hat_xgb, squared=False)\n",
    "print(\"XGB Train:\", rmse_xgb_train)\n",
    "\n",
    "y_pred_xgb = reg.predict(X_test)\n",
    "rmse_xgb_test = mean_squared_error(y_test, y_pred_xgb, squared=False)\n",
    "print(\"XGB Test:\", rmse_xgb_test)"
   ]
  },
  {
   "cell_type": "code",
   "execution_count": null,
   "metadata": {},
   "outputs": [],
   "source": [
    "fi = pd.DataFrame(\n",
    "    data=reg.feature_importances_, index=reg.feature_names_in_, columns=[\n",
    "        \"Importance\"]\n",
    ")\n",
    "\n",
    "fi.sort_values(by=\"Importance\").plot(kind=\"barh\", title=\"Feature Importances\")"
   ]
  },
  {
   "cell_type": "code",
   "execution_count": null,
   "metadata": {},
   "outputs": [],
   "source": [
    "cat_reg = cat.CatBoostRegressor(n_estimators=1000, cat_features=cat_feature)\n",
    "cat_reg.fit(\n",
    "    X_train,\n",
    "    y_train,\n",
    "    eval_set=[(X_train, y_train), (X_test, y_test)],\n",
    "    early_stopping_rounds=10,\n",
    "    verbose=10,\n",
    ")"
   ]
  },
  {
   "cell_type": "code",
   "execution_count": null,
   "metadata": {},
   "outputs": [],
   "source": [
    "y_hat_cat = cat_reg.predict(X_train)\n",
    "rmse_cat_train = mean_squared_error(y_train, y_hat_cat, squared=False)\n",
    "print(\"CAT Train:\", rmse_cat_train)\n",
    "\n",
    "y_test_cat = cat_reg.predict(X_test)\n",
    "rmse_cat_test = mean_squared_error(y_test, y_test_cat, squared=False)\n",
    "print(\"CAT Test:\", rmse_cat_test)"
   ]
  },
  {
   "cell_type": "code",
   "execution_count": null,
   "metadata": {},
   "outputs": [],
   "source": []
  },
  {
   "cell_type": "code",
   "execution_count": null,
   "metadata": {},
   "outputs": [],
   "source": []
  },
  {
   "cell_type": "code",
   "execution_count": null,
   "metadata": {},
   "outputs": [],
   "source": [
    "features = [\n",
    "    \"counter_name\",\n",
    "    \"hour\",\n",
    "    \"dayofweek\",\n",
    "    \"quarter\",\n",
    "    \"month\",\n",
    "    \"dayofyear\",\n",
    "    \"hour_sin\",\n",
    "    \"hour_cos\",\n",
    "    \"is_holiday\",\n",
    "    \"lockdown_2\",\n",
    "    \"lockdown_3_1\",\n",
    "    \"lockdown_3_2\",\n",
    "    \"lockdown_3_3\",\n",
    "    \"t\",\n",
    "    \"rr1\",\n",
    "    \"rr3\",\n",
    "    \"rr6\",\n",
    "    \"ff\",\n",
    "    \"raf10\",\n",
    "    \"rafper\",\n",
    "    \"u\",\n",
    "    \"vv\",\n",
    "    \"n\",\n",
    "    \"cl\",\n",
    "    \"cm\",\n",
    "    \"ch\",\n",
    "]\n",
    "target = [\"log_bike_count\"]\n",
    "cat_feature = [\"counter_name\"]"
   ]
  },
  {
   "cell_type": "code",
   "execution_count": null,
   "metadata": {},
   "outputs": [],
   "source": [
    "X_train = combined_train[features]\n",
    "y_train = combined_train[target]\n",
    "X_test = combined_test[features]\n",
    "y_test = combined_test[target]"
   ]
  },
  {
   "cell_type": "code",
   "execution_count": null,
   "metadata": {},
   "outputs": [],
   "source": [
    "reg = xgb.XGBRegressor(\n",
    "    tree_method=\"hist\", n_estimators=1000, enable_categorical=True)\n",
    "\n",
    "\n",
    "\n",
    "reg.fit(\n",
    "    X_train,\n",
    "    y_train,\n",
    "\n",
    "    eval_set=[(X_train, y_train), (X_test, y_test)],\n",
    "\n",
    "    early_stopping_rounds=10,\n",
    "\n",
    "    verbose=10,\n",
    ")"
   ]
  },
  {
   "cell_type": "code",
   "execution_count": null,
   "metadata": {},
   "outputs": [],
   "source": [
    "y_hat_xgb = reg.predict(X_train)\n",
    "rmse_xgb_train = mean_squared_error(y_train, y_hat_xgb, squared=False)\n",
    "print(\"XGB Train:\", rmse_xgb_train)\n",
    "\n",
    "y_pred_xgb = reg.predict(X_test)\n",
    "rmse_xgb_test = mean_squared_error(y_test, y_pred_xgb, squared=False)\n",
    "print(\"XGB Test:\", rmse_xgb_test)"
   ]
  },
  {
   "cell_type": "code",
   "execution_count": null,
   "metadata": {},
   "outputs": [],
   "source": [
    "fi = pd.DataFrame(\n",
    "    data=reg.feature_importances_, index=reg.feature_names_in_, columns=[\n",
    "        \"Importance\"]\n",
    ")\n",
    "\n",
    "fi.sort_values(by=\"Importance\").plot(kind=\"barh\", title=\"Feature Importances\")"
   ]
  },
  {
   "cell_type": "code",
   "execution_count": null,
   "metadata": {},
   "outputs": [],
   "source": [
    "fi.sort_values(by=\"Importance\", ascending=False)"
   ]
  },
  {
   "cell_type": "code",
   "execution_count": null,
   "metadata": {},
   "outputs": [],
   "source": [
    "cat_reg = cat.CatBoostRegressor(n_estimators=1000, cat_features=cat_feature)\n",
    "cat_reg.fit(\n",
    "    X_train,\n",
    "    y_train,\n",
    "    eval_set=[(X_train, y_train), (X_test, y_test)],\n",
    "    early_stopping_rounds=10,\n",
    "    verbose=10,\n",
    ")"
   ]
  },
  {
   "cell_type": "code",
   "execution_count": null,
   "metadata": {},
   "outputs": [],
   "source": [
    "y_hat_cat = cat_reg.predict(X_train)\n",
    "rmse_cat_train = mean_squared_error(y_train, y_hat_cat, squared=False)\n",
    "print(\"CAT Train:\", rmse_cat_train)\n",
    "\n",
    "y_test_cat = cat_reg.predict(X_test)\n",
    "rmse_cat_test = mean_squared_error(y_test, y_test_cat, squared=False)\n",
    "print(\"CAT Test:\", rmse_cat_test)"
   ]
  },
  {
   "cell_type": "code",
   "execution_count": null,
   "metadata": {},
   "outputs": [],
   "source": []
  },
  {
   "cell_type": "code",
   "execution_count": null,
   "metadata": {},
   "outputs": [],
   "source": []
  },
  {
   "cell_type": "code",
   "execution_count": null,
   "metadata": {},
   "outputs": [],
   "source": [
    "features = [\n",
    "    \"counter_name\",\n",
    "    \"hour\",\n",
    "    \"dayofweek\",\n",
    "    \"month\",\n",
    "    \"dayofyear\",\n",
    "    \"hour_sin\",\n",
    "    \"hour_cos\",\n",
    "    \"is_holiday\",\n",
    "    \"lockdown_2\",\n",
    "    \"lockdown_3_1\",\n",
    "    \"lockdown_3_2\",\n",
    "    \"lockdown_3_3\",\n",
    "    \"t\",\n",
    "    \"rr1\",\n",
    "    \"rr3\",\n",
    "    \"rr6\",\n",
    "    \"ff\",\n",
    "    \"raf10\",\n",
    "    \"u\",\n",
    "    \"n\",\n",
    "    \"cm\",\n",
    "]\n",
    "target = [\"log_bike_count\"]\n",
    "cat_feature = [\"counter_name\"]"
   ]
  },
  {
   "cell_type": "code",
   "execution_count": null,
   "metadata": {},
   "outputs": [],
   "source": [
    "X_train = combined_train[features]\n",
    "y_train = combined_train[target]\n",
    "X_test = combined_test[features]\n",
    "y_test = combined_test[target]"
   ]
  },
  {
   "cell_type": "code",
   "execution_count": null,
   "metadata": {},
   "outputs": [],
   "source": [
    "reg = xgb.XGBRegressor(\n",
    "    tree_method=\"hist\", n_estimators=1000, enable_categorical=True)\n",
    "\n",
    "\n",
    "\n",
    "reg.fit(\n",
    "    X_train,\n",
    "    y_train,\n",
    "\n",
    "    eval_set=[(X_train, y_train), (X_test, y_test)],\n",
    "\n",
    "    early_stopping_rounds=10,\n",
    "\n",
    "    verbose=10,\n",
    ")"
   ]
  },
  {
   "cell_type": "code",
   "execution_count": null,
   "metadata": {},
   "outputs": [],
   "source": [
    "y_hat_xgb = reg.predict(X_train)\n",
    "rmse_xgb_train = mean_squared_error(y_train, y_hat_xgb, squared=False)\n",
    "print(\"XGB Train:\", rmse_xgb_train)\n",
    "\n",
    "y_pred_xgb = reg.predict(X_test)\n",
    "rmse_xgb_test = mean_squared_error(y_test, y_pred_xgb, squared=False)\n",
    "print(\"XGB Test:\", rmse_xgb_test)"
   ]
  },
  {
   "cell_type": "code",
   "execution_count": null,
   "metadata": {},
   "outputs": [],
   "source": [
    "fi = pd.DataFrame(\n",
    "    data=reg.feature_importances_, index=reg.feature_names_in_, columns=[\n",
    "        \"Importance\"]\n",
    ")\n",
    "\n",
    "fi.sort_values(by=\"Importance\").plot(\n",
    "    kind=\"barh\", title=\"Feature Importances XGBoost\")"
   ]
  },
  {
   "cell_type": "code",
   "execution_count": null,
   "metadata": {},
   "outputs": [],
   "source": [
    "fi.sort_values(by=\"Importance\", ascending=False)"
   ]
  },
  {
   "cell_type": "code",
   "execution_count": null,
   "metadata": {},
   "outputs": [],
   "source": [
    "cat_reg = cat.CatBoostRegressor(n_estimators=1000, cat_features=cat_feature)\n",
    "cat_reg.fit(\n",
    "    X_train,\n",
    "    y_train,\n",
    "    eval_set=[(X_test, y_test)],\n",
    "    early_stopping_rounds=10,\n",
    "    verbose=10,\n",
    ")"
   ]
  },
  {
   "cell_type": "code",
   "execution_count": null,
   "metadata": {},
   "outputs": [],
   "source": [
    "y_hat_cat = cat_reg.predict(X_train)\n",
    "rmse_cat_train = mean_squared_error(y_train, y_hat_cat, squared=False)\n",
    "print(\"CAT Train:\", rmse_cat_train)\n",
    "\n",
    "y_test_cat = cat_reg.predict(X_test)\n",
    "rmse_cat_test = mean_squared_error(y_test, y_test_cat, squared=False)\n",
    "print(\"CAT Test:\", rmse_cat_test)"
   ]
  },
  {
   "cell_type": "code",
   "execution_count": null,
   "metadata": {},
   "outputs": [],
   "source": [
    "fi = pd.DataFrame(\n",
    "    data=cat_reg.feature_importances_,\n",
    "    index=features,\n",
    "    columns=[\"Importance\"],\n",
    ")\n",
    "\n",
    "fi.sort_values(by=\"Importance\").plot(\n",
    "    kind=\"barh\", title=\"Feature Importances CATBoost\")"
   ]
  },
  {
   "cell_type": "code",
   "execution_count": null,
   "metadata": {},
   "outputs": [],
   "source": [
    "features = [\n",
    "    \"counter_name\",\n",
    "    \"hour\",\n",
    "    \"dayofweek\",\n",
    "    \"month\",\n",
    "    \"dayofyear\",\n",
    "    \"hour_sin\",\n",
    "    \"hour_cos\",\n",
    "    \"lockdown_2\",\n",
    "    \"lockdown_3_1\",\n",
    "    \"lockdown_3_2\",\n",
    "    \"lockdown_3_3\",\n",
    "    \"t\",\n",
    "    \"rr1\",\n",
    "    \"rr3\",\n",
    "    \"rr6\",\n",
    "    \"raf10\",\n",
    "    \"u\",\n",
    "    \"n\",\n",
    "    \"cm\",\n",
    "]\n",
    "target = [\"log_bike_count\"]\n",
    "cat_feature = [\"counter_name\"]"
   ]
  },
  {
   "cell_type": "code",
   "execution_count": null,
   "metadata": {},
   "outputs": [],
   "source": [
    "combined_train[\"t\"].head(20)"
   ]
  },
  {
   "cell_type": "code",
   "execution_count": null,
   "metadata": {},
   "outputs": [],
   "source": [
    "combined_train.head()"
   ]
  },
  {
   "cell_type": "code",
   "execution_count": null,
   "metadata": {},
   "outputs": [],
   "source": []
  },
  {
   "cell_type": "code",
   "execution_count": null,
   "metadata": {},
   "outputs": [],
   "source": []
  },
  {
   "cell_type": "markdown",
   "metadata": {},
   "source": [
    "# Updated Weather"
   ]
  },
  {
   "cell_type": "code",
   "execution_count": 14,
   "metadata": {},
   "outputs": [],
   "source": [
    "weather_data = pd.read_csv(\"data/external_data_cleaned_updated.csv\")"
   ]
  },
  {
   "cell_type": "code",
   "execution_count": 15,
   "metadata": {},
   "outputs": [],
   "source": [
    "weather_data[\"date\"] = pd.to_datetime(weather_data[\"date\"])\n",
    "weather_data.set_index(\"date\", inplace=True)"
   ]
  },
  {
   "cell_type": "code",
   "execution_count": 16,
   "metadata": {},
   "outputs": [
    {
     "data": {
      "text/html": [
       "<div>\n",
       "<style scoped>\n",
       "    .dataframe tbody tr th:only-of-type {\n",
       "        vertical-align: middle;\n",
       "    }\n",
       "\n",
       "    .dataframe tbody tr th {\n",
       "        vertical-align: top;\n",
       "    }\n",
       "\n",
       "    .dataframe thead th {\n",
       "        text-align: right;\n",
       "    }\n",
       "</style>\n",
       "<table border=\"1\" class=\"dataframe\">\n",
       "  <thead>\n",
       "    <tr style=\"text-align: right;\">\n",
       "      <th></th>\n",
       "      <th>pmer</th>\n",
       "      <th>tend</th>\n",
       "      <th>cod_tend</th>\n",
       "      <th>dd</th>\n",
       "      <th>ff</th>\n",
       "      <th>t</th>\n",
       "      <th>td</th>\n",
       "      <th>u</th>\n",
       "      <th>vv</th>\n",
       "      <th>ww</th>\n",
       "      <th>...</th>\n",
       "      <th>etat_sol_lag6h</th>\n",
       "      <th>etat_sol_lag9h</th>\n",
       "      <th>etat_sol_lag12h</th>\n",
       "      <th>etat_sol_lag24h</th>\n",
       "      <th>etat_sol_lag168h</th>\n",
       "      <th>rr12_lag6h</th>\n",
       "      <th>rr12_lag9h</th>\n",
       "      <th>rr12_lag12h</th>\n",
       "      <th>rr12_lag24h</th>\n",
       "      <th>rr12_lag168h</th>\n",
       "    </tr>\n",
       "    <tr>\n",
       "      <th>date</th>\n",
       "      <th></th>\n",
       "      <th></th>\n",
       "      <th></th>\n",
       "      <th></th>\n",
       "      <th></th>\n",
       "      <th></th>\n",
       "      <th></th>\n",
       "      <th></th>\n",
       "      <th></th>\n",
       "      <th></th>\n",
       "      <th></th>\n",
       "      <th></th>\n",
       "      <th></th>\n",
       "      <th></th>\n",
       "      <th></th>\n",
       "      <th></th>\n",
       "      <th></th>\n",
       "      <th></th>\n",
       "      <th></th>\n",
       "      <th></th>\n",
       "      <th></th>\n",
       "    </tr>\n",
       "  </thead>\n",
       "  <tbody>\n",
       "    <tr>\n",
       "      <th>2020-09-01 00:00:00</th>\n",
       "      <td>102050</td>\n",
       "      <td>-10</td>\n",
       "      <td>8</td>\n",
       "      <td>340</td>\n",
       "      <td>1.6</td>\n",
       "      <td>285.75</td>\n",
       "      <td>282.55</td>\n",
       "      <td>81</td>\n",
       "      <td>30000</td>\n",
       "      <td>1</td>\n",
       "      <td>...</td>\n",
       "      <td>0.0</td>\n",
       "      <td>0.0</td>\n",
       "      <td>0.0</td>\n",
       "      <td>0.0</td>\n",
       "      <td>0.0</td>\n",
       "      <td>0.0</td>\n",
       "      <td>0.0</td>\n",
       "      <td>0.0</td>\n",
       "      <td>0.0</td>\n",
       "      <td>0.0</td>\n",
       "    </tr>\n",
       "    <tr>\n",
       "      <th>2020-09-01 01:00:00</th>\n",
       "      <td>102050</td>\n",
       "      <td>-10</td>\n",
       "      <td>8</td>\n",
       "      <td>340</td>\n",
       "      <td>1.6</td>\n",
       "      <td>285.75</td>\n",
       "      <td>282.55</td>\n",
       "      <td>81</td>\n",
       "      <td>30000</td>\n",
       "      <td>1</td>\n",
       "      <td>...</td>\n",
       "      <td>0.0</td>\n",
       "      <td>0.0</td>\n",
       "      <td>0.0</td>\n",
       "      <td>0.0</td>\n",
       "      <td>0.0</td>\n",
       "      <td>0.0</td>\n",
       "      <td>0.0</td>\n",
       "      <td>0.0</td>\n",
       "      <td>0.0</td>\n",
       "      <td>0.0</td>\n",
       "    </tr>\n",
       "    <tr>\n",
       "      <th>2020-09-01 02:00:00</th>\n",
       "      <td>102050</td>\n",
       "      <td>-10</td>\n",
       "      <td>8</td>\n",
       "      <td>340</td>\n",
       "      <td>1.6</td>\n",
       "      <td>285.75</td>\n",
       "      <td>282.55</td>\n",
       "      <td>81</td>\n",
       "      <td>30000</td>\n",
       "      <td>1</td>\n",
       "      <td>...</td>\n",
       "      <td>0.0</td>\n",
       "      <td>0.0</td>\n",
       "      <td>0.0</td>\n",
       "      <td>0.0</td>\n",
       "      <td>0.0</td>\n",
       "      <td>0.0</td>\n",
       "      <td>0.0</td>\n",
       "      <td>0.0</td>\n",
       "      <td>0.0</td>\n",
       "      <td>0.0</td>\n",
       "    </tr>\n",
       "    <tr>\n",
       "      <th>2020-09-01 03:00:00</th>\n",
       "      <td>101990</td>\n",
       "      <td>-60</td>\n",
       "      <td>6</td>\n",
       "      <td>290</td>\n",
       "      <td>1.1</td>\n",
       "      <td>283.95</td>\n",
       "      <td>282.05</td>\n",
       "      <td>88</td>\n",
       "      <td>25000</td>\n",
       "      <td>2</td>\n",
       "      <td>...</td>\n",
       "      <td>0.0</td>\n",
       "      <td>0.0</td>\n",
       "      <td>0.0</td>\n",
       "      <td>0.0</td>\n",
       "      <td>0.0</td>\n",
       "      <td>0.0</td>\n",
       "      <td>0.0</td>\n",
       "      <td>0.0</td>\n",
       "      <td>0.0</td>\n",
       "      <td>0.0</td>\n",
       "    </tr>\n",
       "    <tr>\n",
       "      <th>2020-09-01 04:00:00</th>\n",
       "      <td>101990</td>\n",
       "      <td>-60</td>\n",
       "      <td>6</td>\n",
       "      <td>290</td>\n",
       "      <td>1.1</td>\n",
       "      <td>283.95</td>\n",
       "      <td>282.05</td>\n",
       "      <td>88</td>\n",
       "      <td>25000</td>\n",
       "      <td>2</td>\n",
       "      <td>...</td>\n",
       "      <td>0.0</td>\n",
       "      <td>0.0</td>\n",
       "      <td>0.0</td>\n",
       "      <td>0.0</td>\n",
       "      <td>0.0</td>\n",
       "      <td>0.0</td>\n",
       "      <td>0.0</td>\n",
       "      <td>0.0</td>\n",
       "      <td>0.0</td>\n",
       "      <td>0.0</td>\n",
       "    </tr>\n",
       "  </tbody>\n",
       "</table>\n",
       "<p>5 rows × 74 columns</p>\n",
       "</div>"
      ],
      "text/plain": [
       "                       pmer  tend  cod_tend   dd   ff       t      td   u  \\\n",
       "date                                                                        \n",
       "2020-09-01 00:00:00  102050   -10         8  340  1.6  285.75  282.55  81   \n",
       "2020-09-01 01:00:00  102050   -10         8  340  1.6  285.75  282.55  81   \n",
       "2020-09-01 02:00:00  102050   -10         8  340  1.6  285.75  282.55  81   \n",
       "2020-09-01 03:00:00  101990   -60         6  290  1.1  283.95  282.05  88   \n",
       "2020-09-01 04:00:00  101990   -60         6  290  1.1  283.95  282.05  88   \n",
       "\n",
       "                        vv  ww  ...  etat_sol_lag6h  etat_sol_lag9h  \\\n",
       "date                            ...                                   \n",
       "2020-09-01 00:00:00  30000   1  ...             0.0             0.0   \n",
       "2020-09-01 01:00:00  30000   1  ...             0.0             0.0   \n",
       "2020-09-01 02:00:00  30000   1  ...             0.0             0.0   \n",
       "2020-09-01 03:00:00  25000   2  ...             0.0             0.0   \n",
       "2020-09-01 04:00:00  25000   2  ...             0.0             0.0   \n",
       "\n",
       "                     etat_sol_lag12h  etat_sol_lag24h  etat_sol_lag168h  \\\n",
       "date                                                                      \n",
       "2020-09-01 00:00:00              0.0              0.0               0.0   \n",
       "2020-09-01 01:00:00              0.0              0.0               0.0   \n",
       "2020-09-01 02:00:00              0.0              0.0               0.0   \n",
       "2020-09-01 03:00:00              0.0              0.0               0.0   \n",
       "2020-09-01 04:00:00              0.0              0.0               0.0   \n",
       "\n",
       "                     rr12_lag6h  rr12_lag9h  rr12_lag12h  rr12_lag24h  \\\n",
       "date                                                                    \n",
       "2020-09-01 00:00:00         0.0         0.0          0.0          0.0   \n",
       "2020-09-01 01:00:00         0.0         0.0          0.0          0.0   \n",
       "2020-09-01 02:00:00         0.0         0.0          0.0          0.0   \n",
       "2020-09-01 03:00:00         0.0         0.0          0.0          0.0   \n",
       "2020-09-01 04:00:00         0.0         0.0          0.0          0.0   \n",
       "\n",
       "                     rr12_lag168h  \n",
       "date                               \n",
       "2020-09-01 00:00:00           0.0  \n",
       "2020-09-01 01:00:00           0.0  \n",
       "2020-09-01 02:00:00           0.0  \n",
       "2020-09-01 03:00:00           0.0  \n",
       "2020-09-01 04:00:00           0.0  \n",
       "\n",
       "[5 rows x 74 columns]"
      ]
     },
     "execution_count": 16,
     "metadata": {},
     "output_type": "execute_result"
    }
   ],
   "source": [
    "weather_data.head()"
   ]
  },
  {
   "cell_type": "code",
   "execution_count": 17,
   "metadata": {},
   "outputs": [
    {
     "name": "stdout",
     "output_type": "stream",
     "text": [
      "<class 'pandas.core.frame.DataFrame'>\n",
      "DatetimeIndex: 9973 entries, 2020-09-01 00:00:00 to 2021-10-21 12:00:00\n",
      "Data columns (total 74 columns):\n",
      " #   Column                     Non-Null Count  Dtype  \n",
      "---  ------                     --------------  -----  \n",
      " 0   pmer                       9973 non-null   int64  \n",
      " 1   tend                       9973 non-null   int64  \n",
      " 2   cod_tend                   9973 non-null   int64  \n",
      " 3   dd                         9973 non-null   int64  \n",
      " 4   ff                         9973 non-null   float64\n",
      " 5   t                          9973 non-null   float64\n",
      " 6   td                         9973 non-null   float64\n",
      " 7   u                          9973 non-null   int64  \n",
      " 8   vv                         9973 non-null   int64  \n",
      " 9   ww                         9973 non-null   int64  \n",
      " 10  w1                         9973 non-null   float64\n",
      " 11  w2                         9973 non-null   float64\n",
      " 12  n                          9973 non-null   float64\n",
      " 13  nbas                       9973 non-null   float64\n",
      " 14  hbas                       9973 non-null   float64\n",
      " 15  cl                         9973 non-null   float64\n",
      " 16  cm                         9973 non-null   float64\n",
      " 17  ch                         9973 non-null   float64\n",
      " 18  pres                       9973 non-null   int64  \n",
      " 19  tend24                     9973 non-null   float64\n",
      " 20  raf10                      9973 non-null   float64\n",
      " 21  rafper                     9973 non-null   float64\n",
      " 22  etat_sol                   9973 non-null   float64\n",
      " 23  ht_neige                   9973 non-null   float64\n",
      " 24  ssfrai                     9973 non-null   float64\n",
      " 25  rr1                        9973 non-null   float64\n",
      " 26  rr3                        9973 non-null   float64\n",
      " 27  rr6                        9973 non-null   float64\n",
      " 28  rr12                       9973 non-null   float64\n",
      " 29  rr24                       9973 non-null   float64\n",
      " 30  nnuage1                    9973 non-null   float64\n",
      " 31  ctype1                     9973 non-null   float64\n",
      " 32  hnuage1                    9973 non-null   float64\n",
      " 33  temp_humidity_interaction  9973 non-null   float64\n",
      " 34  t_lag6h                    9973 non-null   float64\n",
      " 35  t_lag9h                    9973 non-null   float64\n",
      " 36  t_lag12h                   9973 non-null   float64\n",
      " 37  t_lag24h                   9973 non-null   float64\n",
      " 38  t_lag168h                  9973 non-null   float64\n",
      " 39  td_lag6h                   9973 non-null   float64\n",
      " 40  td_lag9h                   9973 non-null   float64\n",
      " 41  td_lag12h                  9973 non-null   float64\n",
      " 42  td_lag24h                  9973 non-null   float64\n",
      " 43  td_lag168h                 9973 non-null   float64\n",
      " 44  u_lag6h                    9973 non-null   float64\n",
      " 45  u_lag9h                    9973 non-null   float64\n",
      " 46  u_lag12h                   9973 non-null   float64\n",
      " 47  u_lag24h                   9973 non-null   float64\n",
      " 48  u_lag168h                  9973 non-null   float64\n",
      " 49  ww_lag6h                   9973 non-null   float64\n",
      " 50  ww_lag9h                   9973 non-null   float64\n",
      " 51  ww_lag12h                  9973 non-null   float64\n",
      " 52  ww_lag24h                  9973 non-null   float64\n",
      " 53  ww_lag168h                 9973 non-null   float64\n",
      " 54  n_lag6h                    9973 non-null   float64\n",
      " 55  n_lag9h                    9973 non-null   float64\n",
      " 56  n_lag12h                   9973 non-null   float64\n",
      " 57  n_lag24h                   9973 non-null   float64\n",
      " 58  n_lag168h                  9973 non-null   float64\n",
      " 59  tend24_lag6h               9973 non-null   float64\n",
      " 60  tend24_lag9h               9973 non-null   float64\n",
      " 61  tend24_lag12h              9973 non-null   float64\n",
      " 62  tend24_lag24h              9973 non-null   float64\n",
      " 63  tend24_lag168h             9973 non-null   float64\n",
      " 64  etat_sol_lag6h             9973 non-null   float64\n",
      " 65  etat_sol_lag9h             9973 non-null   float64\n",
      " 66  etat_sol_lag12h            9973 non-null   float64\n",
      " 67  etat_sol_lag24h            9973 non-null   float64\n",
      " 68  etat_sol_lag168h           9973 non-null   float64\n",
      " 69  rr12_lag6h                 9973 non-null   float64\n",
      " 70  rr12_lag9h                 9973 non-null   float64\n",
      " 71  rr12_lag12h                9973 non-null   float64\n",
      " 72  rr12_lag24h                9973 non-null   float64\n",
      " 73  rr12_lag168h               9973 non-null   float64\n",
      "dtypes: float64(66), int64(8)\n",
      "memory usage: 5.7 MB\n"
     ]
    }
   ],
   "source": [
    "weather_data.info()"
   ]
  },
  {
   "cell_type": "code",
   "execution_count": 18,
   "metadata": {},
   "outputs": [],
   "source": [
    "boolean_columns = [\n",
    "    \"is_weekend\",\n",
    "    \"is_holiday\",\n",
    "    \"lockdown_1\",\n",
    "    \"lockdown_2\",\n",
    "    \"lockdown_3_1\",\n",
    "    \"lockdown_3_2\",\n",
    "    \"lockdown_3_3\",\n",
    "]\n",
    "\n",
    "for column in boolean_columns:\n",
    "    train[column] = train[column].astype(int)\n",
    "\n",
    "\n",
    "for column in boolean_columns:\n",
    "    test[column] = test[column].astype(int)\n",
    "\n",
    "for column in boolean_columns:\n",
    "    prediction[column] = prediction[column].astype(int)"
   ]
  },
  {
   "cell_type": "code",
   "execution_count": 19,
   "metadata": {},
   "outputs": [],
   "source": [
    "combined_train = train.merge(\n",
    "    weather_data, left_index=True, right_index=True, how=\"left\"\n",
    ")\n",
    "combined_test = test.merge(\n",
    "    weather_data, left_index=True, right_index=True, how=\"left\")\n",
    "combined_prediction = prediction.merge(\n",
    "    weather_data, left_index=True, right_index=True, how=\"left\"\n",
    ")"
   ]
  },
  {
   "cell_type": "code",
   "execution_count": 24,
   "metadata": {},
   "outputs": [
    {
     "data": {
      "text/html": [
       "<div>\n",
       "<style scoped>\n",
       "    .dataframe tbody tr th:only-of-type {\n",
       "        vertical-align: middle;\n",
       "    }\n",
       "\n",
       "    .dataframe tbody tr th {\n",
       "        vertical-align: top;\n",
       "    }\n",
       "\n",
       "    .dataframe thead th {\n",
       "        text-align: right;\n",
       "    }\n",
       "</style>\n",
       "<table border=\"1\" class=\"dataframe\">\n",
       "  <thead>\n",
       "    <tr style=\"text-align: right;\">\n",
       "      <th></th>\n",
       "      <th>counter_name</th>\n",
       "      <th>hour</th>\n",
       "      <th>dayofweek</th>\n",
       "      <th>quarter</th>\n",
       "      <th>month</th>\n",
       "      <th>dayofyear</th>\n",
       "      <th>is_weekend</th>\n",
       "      <th>hour_sin</th>\n",
       "      <th>hour_cos</th>\n",
       "      <th>dayofweek_sin</th>\n",
       "      <th>...</th>\n",
       "      <th>etat_sol_lag6h</th>\n",
       "      <th>etat_sol_lag9h</th>\n",
       "      <th>etat_sol_lag12h</th>\n",
       "      <th>etat_sol_lag24h</th>\n",
       "      <th>etat_sol_lag168h</th>\n",
       "      <th>rr12_lag6h</th>\n",
       "      <th>rr12_lag9h</th>\n",
       "      <th>rr12_lag12h</th>\n",
       "      <th>rr12_lag24h</th>\n",
       "      <th>rr12_lag168h</th>\n",
       "    </tr>\n",
       "    <tr>\n",
       "      <th>date</th>\n",
       "      <th></th>\n",
       "      <th></th>\n",
       "      <th></th>\n",
       "      <th></th>\n",
       "      <th></th>\n",
       "      <th></th>\n",
       "      <th></th>\n",
       "      <th></th>\n",
       "      <th></th>\n",
       "      <th></th>\n",
       "      <th></th>\n",
       "      <th></th>\n",
       "      <th></th>\n",
       "      <th></th>\n",
       "      <th></th>\n",
       "      <th></th>\n",
       "      <th></th>\n",
       "      <th></th>\n",
       "      <th></th>\n",
       "      <th></th>\n",
       "      <th></th>\n",
       "    </tr>\n",
       "  </thead>\n",
       "  <tbody>\n",
       "    <tr>\n",
       "      <th>2021-09-10 01:00:00</th>\n",
       "      <td>28 boulevard Diderot E-O</td>\n",
       "      <td>1</td>\n",
       "      <td>4</td>\n",
       "      <td>3</td>\n",
       "      <td>9</td>\n",
       "      <td>253</td>\n",
       "      <td>0</td>\n",
       "      <td>0.258819</td>\n",
       "      <td>0.965926</td>\n",
       "      <td>-0.433884</td>\n",
       "      <td>...</td>\n",
       "      <td>1.0</td>\n",
       "      <td>0.0</td>\n",
       "      <td>0.0</td>\n",
       "      <td>1.0</td>\n",
       "      <td>0.0</td>\n",
       "      <td>0.6</td>\n",
       "      <td>0.0</td>\n",
       "      <td>-0.1</td>\n",
       "      <td>1.2</td>\n",
       "      <td>0.0</td>\n",
       "    </tr>\n",
       "    <tr>\n",
       "      <th>2021-09-10 01:00:00</th>\n",
       "      <td>28 boulevard Diderot O-E</td>\n",
       "      <td>1</td>\n",
       "      <td>4</td>\n",
       "      <td>3</td>\n",
       "      <td>9</td>\n",
       "      <td>253</td>\n",
       "      <td>0</td>\n",
       "      <td>0.258819</td>\n",
       "      <td>0.965926</td>\n",
       "      <td>-0.433884</td>\n",
       "      <td>...</td>\n",
       "      <td>1.0</td>\n",
       "      <td>0.0</td>\n",
       "      <td>0.0</td>\n",
       "      <td>1.0</td>\n",
       "      <td>0.0</td>\n",
       "      <td>0.6</td>\n",
       "      <td>0.0</td>\n",
       "      <td>-0.1</td>\n",
       "      <td>1.2</td>\n",
       "      <td>0.0</td>\n",
       "    </tr>\n",
       "    <tr>\n",
       "      <th>2021-09-10 01:00:00</th>\n",
       "      <td>39 quai François Mauriac NO-SE</td>\n",
       "      <td>1</td>\n",
       "      <td>4</td>\n",
       "      <td>3</td>\n",
       "      <td>9</td>\n",
       "      <td>253</td>\n",
       "      <td>0</td>\n",
       "      <td>0.258819</td>\n",
       "      <td>0.965926</td>\n",
       "      <td>-0.433884</td>\n",
       "      <td>...</td>\n",
       "      <td>1.0</td>\n",
       "      <td>0.0</td>\n",
       "      <td>0.0</td>\n",
       "      <td>1.0</td>\n",
       "      <td>0.0</td>\n",
       "      <td>0.6</td>\n",
       "      <td>0.0</td>\n",
       "      <td>-0.1</td>\n",
       "      <td>1.2</td>\n",
       "      <td>0.0</td>\n",
       "    </tr>\n",
       "    <tr>\n",
       "      <th>2021-09-10 01:00:00</th>\n",
       "      <td>39 quai François Mauriac SE-NO</td>\n",
       "      <td>1</td>\n",
       "      <td>4</td>\n",
       "      <td>3</td>\n",
       "      <td>9</td>\n",
       "      <td>253</td>\n",
       "      <td>0</td>\n",
       "      <td>0.258819</td>\n",
       "      <td>0.965926</td>\n",
       "      <td>-0.433884</td>\n",
       "      <td>...</td>\n",
       "      <td>1.0</td>\n",
       "      <td>0.0</td>\n",
       "      <td>0.0</td>\n",
       "      <td>1.0</td>\n",
       "      <td>0.0</td>\n",
       "      <td>0.6</td>\n",
       "      <td>0.0</td>\n",
       "      <td>-0.1</td>\n",
       "      <td>1.2</td>\n",
       "      <td>0.0</td>\n",
       "    </tr>\n",
       "    <tr>\n",
       "      <th>2021-09-10 01:00:00</th>\n",
       "      <td>18 quai de l'Hôtel de Ville NO-SE</td>\n",
       "      <td>1</td>\n",
       "      <td>4</td>\n",
       "      <td>3</td>\n",
       "      <td>9</td>\n",
       "      <td>253</td>\n",
       "      <td>0</td>\n",
       "      <td>0.258819</td>\n",
       "      <td>0.965926</td>\n",
       "      <td>-0.433884</td>\n",
       "      <td>...</td>\n",
       "      <td>1.0</td>\n",
       "      <td>0.0</td>\n",
       "      <td>0.0</td>\n",
       "      <td>1.0</td>\n",
       "      <td>0.0</td>\n",
       "      <td>0.6</td>\n",
       "      <td>0.0</td>\n",
       "      <td>-0.1</td>\n",
       "      <td>1.2</td>\n",
       "      <td>0.0</td>\n",
       "    </tr>\n",
       "  </tbody>\n",
       "</table>\n",
       "<p>5 rows × 91 columns</p>\n",
       "</div>"
      ],
      "text/plain": [
       "                                          counter_name  hour  dayofweek  \\\n",
       "date                                                                      \n",
       "2021-09-10 01:00:00           28 boulevard Diderot E-O     1          4   \n",
       "2021-09-10 01:00:00           28 boulevard Diderot O-E     1          4   \n",
       "2021-09-10 01:00:00     39 quai François Mauriac NO-SE     1          4   \n",
       "2021-09-10 01:00:00     39 quai François Mauriac SE-NO     1          4   \n",
       "2021-09-10 01:00:00  18 quai de l'Hôtel de Ville NO-SE     1          4   \n",
       "\n",
       "                     quarter  month  dayofyear  is_weekend  hour_sin  \\\n",
       "date                                                                   \n",
       "2021-09-10 01:00:00        3      9        253           0  0.258819   \n",
       "2021-09-10 01:00:00        3      9        253           0  0.258819   \n",
       "2021-09-10 01:00:00        3      9        253           0  0.258819   \n",
       "2021-09-10 01:00:00        3      9        253           0  0.258819   \n",
       "2021-09-10 01:00:00        3      9        253           0  0.258819   \n",
       "\n",
       "                     hour_cos  dayofweek_sin  ...  etat_sol_lag6h  \\\n",
       "date                                          ...                   \n",
       "2021-09-10 01:00:00  0.965926      -0.433884  ...             1.0   \n",
       "2021-09-10 01:00:00  0.965926      -0.433884  ...             1.0   \n",
       "2021-09-10 01:00:00  0.965926      -0.433884  ...             1.0   \n",
       "2021-09-10 01:00:00  0.965926      -0.433884  ...             1.0   \n",
       "2021-09-10 01:00:00  0.965926      -0.433884  ...             1.0   \n",
       "\n",
       "                     etat_sol_lag9h  etat_sol_lag12h  etat_sol_lag24h  \\\n",
       "date                                                                    \n",
       "2021-09-10 01:00:00             0.0              0.0              1.0   \n",
       "2021-09-10 01:00:00             0.0              0.0              1.0   \n",
       "2021-09-10 01:00:00             0.0              0.0              1.0   \n",
       "2021-09-10 01:00:00             0.0              0.0              1.0   \n",
       "2021-09-10 01:00:00             0.0              0.0              1.0   \n",
       "\n",
       "                     etat_sol_lag168h  rr12_lag6h  rr12_lag9h  rr12_lag12h  \\\n",
       "date                                                                         \n",
       "2021-09-10 01:00:00               0.0         0.6         0.0         -0.1   \n",
       "2021-09-10 01:00:00               0.0         0.6         0.0         -0.1   \n",
       "2021-09-10 01:00:00               0.0         0.6         0.0         -0.1   \n",
       "2021-09-10 01:00:00               0.0         0.6         0.0         -0.1   \n",
       "2021-09-10 01:00:00               0.0         0.6         0.0         -0.1   \n",
       "\n",
       "                     rr12_lag24h  rr12_lag168h  \n",
       "date                                            \n",
       "2021-09-10 01:00:00          1.2           0.0  \n",
       "2021-09-10 01:00:00          1.2           0.0  \n",
       "2021-09-10 01:00:00          1.2           0.0  \n",
       "2021-09-10 01:00:00          1.2           0.0  \n",
       "2021-09-10 01:00:00          1.2           0.0  \n",
       "\n",
       "[5 rows x 91 columns]"
      ]
     },
     "execution_count": 24,
     "metadata": {},
     "output_type": "execute_result"
    }
   ],
   "source": [
    "combined_prediction.head()"
   ]
  },
  {
   "cell_type": "code",
   "execution_count": 25,
   "metadata": {},
   "outputs": [
    {
     "name": "stdout",
     "output_type": "stream",
     "text": [
      "<class 'pandas.core.frame.DataFrame'>\n",
      "DatetimeIndex: 51440 entries, 2021-09-10 01:00:00 to 2021-10-18 21:00:00\n",
      "Data columns (total 91 columns):\n",
      " #   Column                     Non-Null Count  Dtype   \n",
      "---  ------                     --------------  -----   \n",
      " 0   counter_name               51440 non-null  category\n",
      " 1   hour                       51440 non-null  int32   \n",
      " 2   dayofweek                  51440 non-null  int32   \n",
      " 3   quarter                    51440 non-null  int32   \n",
      " 4   month                      51440 non-null  int32   \n",
      " 5   dayofyear                  51440 non-null  int32   \n",
      " 6   is_weekend                 51440 non-null  int32   \n",
      " 7   hour_sin                   51440 non-null  float64 \n",
      " 8   hour_cos                   51440 non-null  float64 \n",
      " 9   dayofweek_sin              51440 non-null  float64 \n",
      " 10  dayofweek_cos              51440 non-null  float64 \n",
      " 11  is_holiday                 51440 non-null  int32   \n",
      " 12  lockdown_1                 51440 non-null  int32   \n",
      " 13  lockdown_2                 51440 non-null  int32   \n",
      " 14  lockdown_3_1               51440 non-null  int32   \n",
      " 15  lockdown_3_2               51440 non-null  int32   \n",
      " 16  lockdown_3_3               51440 non-null  int32   \n",
      " 17  pmer                       51440 non-null  int64   \n",
      " 18  tend                       51440 non-null  int64   \n",
      " 19  cod_tend                   51440 non-null  int64   \n",
      " 20  dd                         51440 non-null  int64   \n",
      " 21  ff                         51440 non-null  float64 \n",
      " 22  t                          51440 non-null  float64 \n",
      " 23  td                         51440 non-null  float64 \n",
      " 24  u                          51440 non-null  int64   \n",
      " 25  vv                         51440 non-null  int64   \n",
      " 26  ww                         51440 non-null  int64   \n",
      " 27  w1                         51440 non-null  float64 \n",
      " 28  w2                         51440 non-null  float64 \n",
      " 29  n                          51440 non-null  float64 \n",
      " 30  nbas                       51440 non-null  float64 \n",
      " 31  hbas                       51440 non-null  float64 \n",
      " 32  cl                         51440 non-null  float64 \n",
      " 33  cm                         51440 non-null  float64 \n",
      " 34  ch                         51440 non-null  float64 \n",
      " 35  pres                       51440 non-null  int64   \n",
      " 36  tend24                     51440 non-null  float64 \n",
      " 37  raf10                      51440 non-null  float64 \n",
      " 38  rafper                     51440 non-null  float64 \n",
      " 39  etat_sol                   51440 non-null  float64 \n",
      " 40  ht_neige                   51440 non-null  float64 \n",
      " 41  ssfrai                     51440 non-null  float64 \n",
      " 42  rr1                        51440 non-null  float64 \n",
      " 43  rr3                        51440 non-null  float64 \n",
      " 44  rr6                        51440 non-null  float64 \n",
      " 45  rr12                       51440 non-null  float64 \n",
      " 46  rr24                       51440 non-null  float64 \n",
      " 47  nnuage1                    51440 non-null  float64 \n",
      " 48  ctype1                     51440 non-null  float64 \n",
      " 49  hnuage1                    51440 non-null  float64 \n",
      " 50  temp_humidity_interaction  51440 non-null  float64 \n",
      " 51  t_lag6h                    51440 non-null  float64 \n",
      " 52  t_lag9h                    51440 non-null  float64 \n",
      " 53  t_lag12h                   51440 non-null  float64 \n",
      " 54  t_lag24h                   51440 non-null  float64 \n",
      " 55  t_lag168h                  51440 non-null  float64 \n",
      " 56  td_lag6h                   51440 non-null  float64 \n",
      " 57  td_lag9h                   51440 non-null  float64 \n",
      " 58  td_lag12h                  51440 non-null  float64 \n",
      " 59  td_lag24h                  51440 non-null  float64 \n",
      " 60  td_lag168h                 51440 non-null  float64 \n",
      " 61  u_lag6h                    51440 non-null  float64 \n",
      " 62  u_lag9h                    51440 non-null  float64 \n",
      " 63  u_lag12h                   51440 non-null  float64 \n",
      " 64  u_lag24h                   51440 non-null  float64 \n",
      " 65  u_lag168h                  51440 non-null  float64 \n",
      " 66  ww_lag6h                   51440 non-null  float64 \n",
      " 67  ww_lag9h                   51440 non-null  float64 \n",
      " 68  ww_lag12h                  51440 non-null  float64 \n",
      " 69  ww_lag24h                  51440 non-null  float64 \n",
      " 70  ww_lag168h                 51440 non-null  float64 \n",
      " 71  n_lag6h                    51440 non-null  float64 \n",
      " 72  n_lag9h                    51440 non-null  float64 \n",
      " 73  n_lag12h                   51440 non-null  float64 \n",
      " 74  n_lag24h                   51440 non-null  float64 \n",
      " 75  n_lag168h                  51440 non-null  float64 \n",
      " 76  tend24_lag6h               51440 non-null  float64 \n",
      " 77  tend24_lag9h               51440 non-null  float64 \n",
      " 78  tend24_lag12h              51440 non-null  float64 \n",
      " 79  tend24_lag24h              51440 non-null  float64 \n",
      " 80  tend24_lag168h             51440 non-null  float64 \n",
      " 81  etat_sol_lag6h             51440 non-null  float64 \n",
      " 82  etat_sol_lag9h             51440 non-null  float64 \n",
      " 83  etat_sol_lag12h            51440 non-null  float64 \n",
      " 84  etat_sol_lag24h            51440 non-null  float64 \n",
      " 85  etat_sol_lag168h           51440 non-null  float64 \n",
      " 86  rr12_lag6h                 51440 non-null  float64 \n",
      " 87  rr12_lag9h                 51440 non-null  float64 \n",
      " 88  rr12_lag12h                51440 non-null  float64 \n",
      " 89  rr12_lag24h                51440 non-null  float64 \n",
      " 90  rr12_lag168h               51440 non-null  float64 \n",
      "dtypes: category(1), float64(70), int32(12), int64(8)\n",
      "memory usage: 33.4 MB\n"
     ]
    }
   ],
   "source": [
    "combined_prediction.info()"
   ]
  },
  {
   "cell_type": "code",
   "execution_count": 26,
   "metadata": {},
   "outputs": [
    {
     "data": {
      "text/plain": [
       "Index(['counter_name', 'log_bike_count', 'hour', 'dayofweek', 'quarter',\n",
       "       'month', 'dayofyear', 'is_weekend', 'hour_sin', 'hour_cos',\n",
       "       'dayofweek_sin', 'dayofweek_cos', 'is_holiday', 'lockdown_1',\n",
       "       'lockdown_2', 'lockdown_3_1', 'lockdown_3_2', 'lockdown_3_3', 'pmer',\n",
       "       'tend', 'cod_tend', 'dd', 'ff', 't', 'td', 'u', 'vv', 'ww', 'w1', 'w2',\n",
       "       'n', 'nbas', 'hbas', 'cl', 'cm', 'ch', 'pres', 'tend24', 'raf10',\n",
       "       'rafper', 'etat_sol', 'ht_neige', 'ssfrai', 'rr1', 'rr3', 'rr6', 'rr12',\n",
       "       'rr24', 'nnuage1', 'ctype1', 'hnuage1', 'temp_humidity_interaction',\n",
       "       't_lag6h', 't_lag9h', 't_lag12h', 't_lag24h', 't_lag168h', 'td_lag6h',\n",
       "       'td_lag9h', 'td_lag12h', 'td_lag24h', 'td_lag168h', 'u_lag6h',\n",
       "       'u_lag9h', 'u_lag12h', 'u_lag24h', 'u_lag168h', 'ww_lag6h', 'ww_lag9h',\n",
       "       'ww_lag12h', 'ww_lag24h', 'ww_lag168h', 'n_lag6h', 'n_lag9h',\n",
       "       'n_lag12h', 'n_lag24h', 'n_lag168h', 'tend24_lag6h', 'tend24_lag9h',\n",
       "       'tend24_lag12h', 'tend24_lag24h', 'tend24_lag168h', 'etat_sol_lag6h',\n",
       "       'etat_sol_lag9h', 'etat_sol_lag12h', 'etat_sol_lag24h',\n",
       "       'etat_sol_lag168h', 'rr12_lag6h', 'rr12_lag9h', 'rr12_lag12h',\n",
       "       'rr12_lag24h', 'rr12_lag168h'],\n",
       "      dtype='object')"
      ]
     },
     "execution_count": 26,
     "metadata": {},
     "output_type": "execute_result"
    }
   ],
   "source": [
    "combined_train.columns"
   ]
  },
  {
   "cell_type": "code",
   "execution_count": null,
   "metadata": {},
   "outputs": [],
   "source": [
    "features = [\n",
    "    \"counter_name\",\n",
    "    \"hour\",\n",
    "    \"dayofweek\",\n",
    "    \"quarter\",\n",
    "    \"month\",\n",
    "    \"dayofyear\",\n",
    "    \"is_weekend\",\n",
    "    \"hour_sin\",\n",
    "    \"hour_cos\",\n",
    "    \"dayofweek_sin\",\n",
    "    \"dayofweek_cos\",\n",
    "    \"is_holiday\",\n",
    "    \"lockdown_1\",\n",
    "    \"lockdown_2\",\n",
    "    \"lockdown_3_1\",\n",
    "    \"lockdown_3_2\",\n",
    "    \"lockdown_3_3\",\n",
    "    \"pmer\",\n",
    "    \"tend\",\n",
    "    \"cod_tend\",\n",
    "    \"dd\",\n",
    "    \"ff\",\n",
    "    \"t\",\n",
    "    \"td\",\n",
    "    \"u\",\n",
    "    \"vv\",\n",
    "    \"ww\",\n",
    "    \"w1\",\n",
    "    \"w2\",\n",
    "    \"n\",\n",
    "    \"nbas\",\n",
    "    \"hbas\",\n",
    "    \"cl\",\n",
    "    \"cm\",\n",
    "    \"ch\",\n",
    "    \"pres\",\n",
    "    \"tend24\",\n",
    "    \"raf10\",\n",
    "    \"rafper\",\n",
    "    \"etat_sol\",\n",
    "    \"ht_neige\",\n",
    "    \"ssfrai\",\n",
    "    \"rr1\",\n",
    "    \"rr3\",\n",
    "    \"rr6\",\n",
    "    \"rr12\",\n",
    "    \"rr24\",\n",
    "    \"nnuage1\",\n",
    "    \"ctype1\",\n",
    "    \"hnuage1\",\n",
    "]\n",
    "target = [\"log_bike_count\"]\n",
    "cat_feature = [\"counter_name\"]"
   ]
  },
  {
   "cell_type": "code",
   "execution_count": null,
   "metadata": {},
   "outputs": [],
   "source": [
    "X_train = combined_train[features]\n",
    "y_train = combined_train[target]\n",
    "X_test = combined_test[features]\n",
    "y_test = combined_test[target]"
   ]
  },
  {
   "cell_type": "code",
   "execution_count": null,
   "metadata": {},
   "outputs": [],
   "source": [
    "reg = xgb.XGBRegressor(tree_method=\"hist\", n_estimators=1000, enable_categorical=True)"
   ]
  },
  {
   "cell_type": "code",
   "execution_count": null,
   "metadata": {},
   "outputs": [],
   "source": [
    "reg.fit(\n",
    "    X_train,\n",
    "    y_train,\n",
    "    eval_set=[(X_train, y_train), (X_test, y_test)],\n",
    "    early_stopping_rounds=10,\n",
    "    verbose=10,\n",
    ")"
   ]
  },
  {
   "cell_type": "code",
   "execution_count": null,
   "metadata": {},
   "outputs": [],
   "source": [
    "y_hat_xgb = reg.predict(X_train)\n",
    "rmse_xgb_train = mean_squared_error(y_train, y_hat_xgb, squared=False)\n",
    "print(\"XGB Train:\", rmse_xgb_train)\n",
    "\n",
    "y_pred_xgb = reg.predict(X_test)\n",
    "rmse_xgb_test = mean_squared_error(y_test, y_pred_xgb, squared=False)\n",
    "print(\"XGB Test:\", rmse_xgb_test)"
   ]
  },
  {
   "cell_type": "code",
   "execution_count": null,
   "metadata": {},
   "outputs": [],
   "source": [
    "fi = pd.DataFrame(\n",
    "    data=reg.feature_importances_, index=reg.feature_names_in_, columns=[\n",
    "        \"Importance\"]\n",
    ")\n",
    "\n",
    "fi.sort_values(by=\"Importance\").plot(\n",
    "    kind=\"barh\", title=\"Feature Importances XGBoost\", figsize=(10, 16)\n",
    ")"
   ]
  },
  {
   "cell_type": "code",
   "execution_count": null,
   "metadata": {},
   "outputs": [],
   "source": [
    "fi.sort_values(by=\"Importance\", ascending=False)"
   ]
  },
  {
   "cell_type": "code",
   "execution_count": null,
   "metadata": {},
   "outputs": [],
   "source": [
    "cat_reg = cat.CatBoostRegressor(n_estimators=1000, cat_features=cat_feature)\n",
    "cat_reg.fit(\n",
    "    X_train,\n",
    "    y_train,\n",
    "    eval_set=[(X_train, y_train), (X_test, y_test)],\n",
    "    early_stopping_rounds=10,\n",
    "    verbose=10,\n",
    ")"
   ]
  },
  {
   "cell_type": "code",
   "execution_count": null,
   "metadata": {},
   "outputs": [],
   "source": [
    "y_hat_cat = cat_reg.predict(X_train)\n",
    "rmse_cat_train = mean_squared_error(y_train, y_hat_cat, squared=False)\n",
    "print(\"CAT Train:\", rmse_cat_train)\n",
    "\n",
    "y_test_cat = cat_reg.predict(X_test)\n",
    "rmse_cat_test = mean_squared_error(y_test, y_test_cat, squared=False)\n",
    "print(\"CAT Test:\", rmse_cat_test)"
   ]
  },
  {
   "cell_type": "code",
   "execution_count": null,
   "metadata": {},
   "outputs": [],
   "source": [
    "features = [\n",
    "    \"counter_name\",\n",
    "    \"hour\",\n",
    "    \"dayofweek\",\n",
    "    \"quarter\",\n",
    "    \"month\",\n",
    "    \"dayofyear\",\n",
    "    \"hour_sin\",\n",
    "    \"hour_cos\",\n",
    "    \"dayofweek_sin\",\n",
    "    \"dayofweek_cos\",\n",
    "    \"lockdown_2\",\n",
    "    \"lockdown_3_1\",\n",
    "    \"lockdown_3_2\",\n",
    "    \"lockdown_3_3\",\n",
    "    \"pmer\",\n",
    "    \"tend\",\n",
    "    \"cod_tend\",\n",
    "    \"dd\",\n",
    "    \"ff\",\n",
    "    \"t\",\n",
    "    \"td\",\n",
    "    \"u\",\n",
    "    \"vv\",\n",
    "    \"ww\",\n",
    "    \"w1\",\n",
    "    \"n\",\n",
    "    \"nbas\",\n",
    "    \"hbas\",\n",
    "    \"cl\",\n",
    "    \"cm\",\n",
    "    \"ch\",\n",
    "    \"pres\",\n",
    "    \"tend24\",\n",
    "    \"raf10\",\n",
    "    \"rafper\",\n",
    "    \"etat_sol\",\n",
    "    \"ht_neige\",\n",
    "    \"rr1\",\n",
    "    \"rr3\",\n",
    "    \"rr6\",\n",
    "    \"rr12\",\n",
    "    \"rr24\",\n",
    "    \"nnuage1\",\n",
    "    \"ctype1\",\n",
    "    \"hnuage1\",\n",
    "]\n",
    "target = [\"log_bike_count\"]\n",
    "cat_feature = [\"counter_name\"]"
   ]
  },
  {
   "cell_type": "code",
   "execution_count": null,
   "metadata": {},
   "outputs": [],
   "source": [
    "X_train = combined_train[features]\n",
    "y_train = combined_train[target]\n",
    "X_test = combined_test[features]\n",
    "y_test = combined_test[target]"
   ]
  },
  {
   "cell_type": "code",
   "execution_count": null,
   "metadata": {},
   "outputs": [],
   "source": [
    "combined_train.info()"
   ]
  },
  {
   "cell_type": "code",
   "execution_count": null,
   "metadata": {},
   "outputs": [],
   "source": [
    "reg = xgb.XGBRegressor(\n",
    "    tree_method=\"hist\", n_estimators=1000, enable_categorical=True)\n",
    "\n",
    "\n",
    "\n",
    "reg.fit(\n",
    "    X_train,\n",
    "    y_train,\n",
    "\n",
    "    eval_set=[(X_train, y_train), (X_test, y_test)],\n",
    "\n",
    "    early_stopping_rounds=10,\n",
    "\n",
    "    verbose=10,\n",
    ")"
   ]
  },
  {
   "cell_type": "code",
   "execution_count": null,
   "metadata": {},
   "outputs": [],
   "source": [
    "y_hat_xgb = reg.predict(X_train)\n",
    "rmse_xgb_train = mean_squared_error(y_train, y_hat_xgb, squared=False)\n",
    "print(\"XGB Train:\", rmse_xgb_train)\n",
    "\n",
    "y_pred_xgb = reg.predict(X_test)\n",
    "rmse_xgb_test = mean_squared_error(y_test, y_pred_xgb, squared=False)\n",
    "print(\"XGB Test:\", rmse_xgb_test)"
   ]
  },
  {
   "cell_type": "code",
   "execution_count": null,
   "metadata": {},
   "outputs": [],
   "source": [
    "fi = pd.DataFrame(\n",
    "    data=reg.feature_importances_, index=reg.feature_names_in_, columns=[\n",
    "        \"Importance\"]\n",
    ")\n",
    "\n",
    "fi.sort_values(by=\"Importance\").plot(\n",
    "    kind=\"barh\", title=\"Feature Importances XGBoost\", figsize=(10, 16)\n",
    ")"
   ]
  },
  {
   "cell_type": "code",
   "execution_count": null,
   "metadata": {},
   "outputs": [],
   "source": [
    "fi.sort_values(by=\"Importance\", ascending=False)"
   ]
  },
  {
   "cell_type": "code",
   "execution_count": null,
   "metadata": {},
   "outputs": [],
   "source": [
    "cat_reg = cat.CatBoostRegressor(n_estimators=1000, cat_features=cat_feature)\n",
    "cat_reg.fit(\n",
    "    X_train,\n",
    "    y_train,\n",
    "    eval_set=[(X_train, y_train), (X_test, y_test)],\n",
    "    early_stopping_rounds=10,\n",
    "    verbose=10,\n",
    ")"
   ]
  },
  {
   "cell_type": "code",
   "execution_count": null,
   "metadata": {},
   "outputs": [],
   "source": [
    "y_hat_cat = cat_reg.predict(X_train)\n",
    "rmse_cat_train = mean_squared_error(y_train, y_hat_cat, squared=False)\n",
    "print(\"CAT Train:\", rmse_cat_train)\n",
    "\n",
    "y_test_cat = cat_reg.predict(X_test)\n",
    "rmse_cat_test = mean_squared_error(y_test, y_test_cat, squared=False)\n",
    "print(\"CAT Test:\", rmse_cat_test)"
   ]
  },
  {
   "cell_type": "code",
   "execution_count": null,
   "metadata": {},
   "outputs": [],
   "source": [
    "X_train.shape"
   ]
  },
  {
   "cell_type": "code",
   "execution_count": null,
   "metadata": {},
   "outputs": [],
   "source": [
    "d_train = lgb.Dataset(X_train, label=y_train, categorical_feature=cat_feature)"
   ]
  },
  {
   "cell_type": "code",
   "execution_count": null,
   "metadata": {},
   "outputs": [],
   "source": [
    "params = {\n",
    "    \"boosting_type\": \"gbdt\",  # Gradient boosting\n",
    "    \"objective\": \"regression\",  # Task is regression\n",
    "    \"metric\": {\"l2\", \"l1\"},  # Evaluation metrics\n",
    "    \"num_leaves\": 31,  # Number of leaves in full tree\n",
    "    \"learning_rate\": 0.05,  # Learning rate\n",
    "    \"feature_fraction\": 0.9,  # Fraction of features to be used in each iteration\n",
    "    \"bagging_fraction\": 0.8,  # Fraction of data to be used in each iteration\n",
    "    \"bagging_freq\": 5,  # Frequency for bagging\n",
    "    \"verbose\": 10,  # Verbosity of output\n",
    "}"
   ]
  },
  {
   "cell_type": "code",
   "execution_count": null,
   "metadata": {},
   "outputs": [],
   "source": [
    "lgbm = lgb.train(params, d_train, num_boost_round=100)"
   ]
  },
  {
   "cell_type": "code",
   "execution_count": null,
   "metadata": {},
   "outputs": [],
   "source": [
    "y_pred_lgbm = lgbm.predict(X_test)\n",
    "\n",
    "\n",
    "rmse_lgbm = mean_squared_error(y_test, y_pred_lgbm, squared=False)\n",
    "print(\"LightGBM Test:\", rmse_lgbm)"
   ]
  },
  {
   "cell_type": "code",
   "execution_count": null,
   "metadata": {},
   "outputs": [],
   "source": [
    "def objective_xgb(trial):\n",
    "    # Hyperparameter search space\n",
    "    params = {\n",
    "        \"tree_method\": \"hist\",\n",
    "        \"lambda\": trial.suggest_loguniform(\"lambda\", 1e-8, 10.0),\n",
    "        \"alpha\": trial.suggest_loguniform(\"alpha\", 1e-8, 10.0),\n",
    "        \"colsample_bytree\": trial.suggest_uniform(\"colsample_bytree\", 0.3, 1.0),\n",
    "        \"subsample\": trial.suggest_uniform(\"subsample\", 0.6, 1.0),\n",
    "        \"learning_rate\": trial.suggest_loguniform(\"learning_rate\", 1e-4, 0.1),\n",
    "        \"max_depth\": trial.suggest_int(\"max_depth\", 3, 10),\n",
    "        \"min_child_weight\": trial.suggest_int(\"min_child_weight\", 1, 300),\n",
    "    }\n",
    "\n",
    "    # Time Series Cross-Validation\n",
    "    tscv = TimeSeriesSplit(n_splits=5)\n",
    "\n",
    "    rmse_scores = []  # Store RMSE scores for each fold\n",
    "\n",
    "    for train_index, val_index in tscv.split(X_train):\n",
    "        X_train_cv, X_val = X_train.iloc[train_index], X_train.iloc[val_index]\n",
    "        y_train_cv, y_val = y_train.iloc[train_index], y_train.iloc[val_index]\n",
    "\n",
    "        model = xgb.XGBRegressor(**params, enable_categorical=True)\n",
    "        model.fit(\n",
    "            X_train_cv,\n",
    "            y_train_cv,\n",
    "            eval_set=[(X_val, y_val)],\n",
    "            early_stopping_rounds=10,\n",
    "            verbose=False,\n",
    "        )\n",
    "\n",
    "        y_pred = model.predict(X_val)\n",
    "        rmse = mean_squared_error(y_val, y_pred, squared=False)\n",
    "        rmse_scores.append(rmse)\n",
    "\n",
    "    # Calculate the average RMSE over all folds\n",
    "    avg_rmse = np.mean(rmse_scores)\n",
    "\n",
    "    return avg_rmse"
   ]
  },
  {
   "cell_type": "code",
   "execution_count": null,
   "metadata": {},
   "outputs": [],
   "source": [
    "study_xgb = optuna.create_study(direction=\"minimize\")\n",
    "study_xgb.optimize(objective_xgb, n_trials=100)"
   ]
  },
  {
   "cell_type": "code",
   "execution_count": null,
   "metadata": {},
   "outputs": [],
   "source": [
    "best_params = study_xgb.best_params\n",
    "print(\"Best Hyperparameters:\", best_params)"
   ]
  },
  {
   "cell_type": "code",
   "execution_count": null,
   "metadata": {},
   "outputs": [],
   "source": [
    "best_params = {\n",
    "    \"lambda\": 5.5163638658795495,\n",
    "    \"alpha\": 5.722067076221477e-06,\n",
    "    \"colsample_bytree\": 0.5588623654042607,\n",
    "    \"subsample\": 0.7939924932498187,\n",
    "    \"learning_rate\": 0.08132063380230384,\n",
    "    \"max_depth\": 10,\n",
    "    \"min_child_weight\": 132,\n",
    "}"
   ]
  },
  {
   "cell_type": "code",
   "execution_count": null,
   "metadata": {},
   "outputs": [],
   "source": [
    "final_model = xgb.XGBRegressor(\n",
    "    tree_method=\"hist\", **best_params, enable_categorical=True\n",
    ")\n",
    "final_model.fit(\n",
    "    X_train,\n",
    "    y_train,\n",
    "    eval_set=[(X_test, y_test)],\n",
    "    early_stopping_rounds=10,\n",
    "    verbose=10,\n",
    ")"
   ]
  },
  {
   "cell_type": "code",
   "execution_count": null,
   "metadata": {},
   "outputs": [],
   "source": [
    "y_pred_test = final_model.predict(X_test)\n",
    "rmse_test = mean_squared_error(y_test, y_pred_test, squared=False)\n",
    "print(\"Final Model Test RMSE:\", rmse_test)"
   ]
  },
  {
   "cell_type": "code",
   "execution_count": null,
   "metadata": {},
   "outputs": [],
   "source": [
    "y_pred_train = final_model.predict(X_train)\n",
    "rmse_train = mean_squared_error(y_train, y_pred_train, squared=False)\n",
    "print(\"Final Model  Train RMSE:\", rmse_train)"
   ]
  },
  {
   "cell_type": "code",
   "execution_count": null,
   "metadata": {},
   "outputs": [],
   "source": [
    "correlation = combined_train[features + target].corr()\n",
    "plt.figure(figsize=(50, 50))\n",
    "sns.heatmap(correlation, annot=True)"
   ]
  },
  {
   "cell_type": "code",
   "execution_count": null,
   "metadata": {},
   "outputs": [],
   "source": [
    "rfecv = RFECV(estimator=final_model, step=1, cv=5, scoring=\"neg_mean_squared_error\")"
   ]
  },
  {
   "cell_type": "code",
   "execution_count": null,
   "metadata": {},
   "outputs": [],
   "source": [
    "rfecv.fit(X_train, y_train)"
   ]
  },
  {
   "cell_type": "code",
   "execution_count": null,
   "metadata": {},
   "outputs": [],
   "source": [
    "X_train_encoded = pd.get_dummies(X_train, columns=cat_feature)\n",
    "X_test_encoded = pd.get_dummies(X_test, columns=cat_feature)"
   ]
  },
  {
   "cell_type": "code",
   "execution_count": null,
   "metadata": {},
   "outputs": [],
   "source": [
    "final_model = xgb.XGBRegressor(\n",
    "    tree_method=\"hist\", **best_params, enable_categorical=True\n",
    ")"
   ]
  },
  {
   "cell_type": "code",
   "execution_count": null,
   "metadata": {},
   "outputs": [],
   "source": [
    "rfecv = RFECV(estimator=final_model, step=1, cv=5, scoring=\"neg_mean_squared_error\")"
   ]
  },
  {
   "cell_type": "code",
   "execution_count": null,
   "metadata": {},
   "outputs": [],
   "source": [
    "rfecv.fit(X_train_encoded, y_train)"
   ]
  },
  {
   "cell_type": "code",
   "execution_count": null,
   "metadata": {},
   "outputs": [],
   "source": [
    "optimal_features = X_train_encoded.columns[rfecv.support_]"
   ]
  },
  {
   "cell_type": "code",
   "execution_count": null,
   "metadata": {},
   "outputs": [],
   "source": [
    "optimal_features"
   ]
  },
  {
   "cell_type": "code",
   "execution_count": null,
   "metadata": {},
   "outputs": [],
   "source": [
    "features = [\n",
    "    \"counter_name\",\n",
    "    \"hour\",\n",
    "    \"dayofweek\",\n",
    "    \"quarter\",\n",
    "    \"month\",\n",
    "    \"dayofyear\",\n",
    "    \"hour_sin\",\n",
    "    \"hour_cos\",\n",
    "    \"dayofweek_sin\",\n",
    "    \"dayofweek_cos\",\n",
    "    \"lockdown_2\",\n",
    "    \"lockdown_3_1\",\n",
    "    \"lockdown_3_2\",\n",
    "    \"lockdown_3_3\",\n",
    "    \"tend\",\n",
    "    \"t\",\n",
    "    \"td\",\n",
    "    \"u\",\n",
    "    \"ww\",\n",
    "    \"n\",\n",
    "    \"tend24\",\n",
    "    \"etat_sol\",\n",
    "    \"rr12\",\n",
    "    \"ctype1\",\n",
    "    \"hnuage1\",\n",
    "]\n",
    "target = [\"log_bike_count\"]\n",
    "cat_feature = [\"counter_name\"]"
   ]
  },
  {
   "cell_type": "code",
   "execution_count": null,
   "metadata": {},
   "outputs": [],
   "source": [
    "X_train = combined_train[features]\n",
    "y_train = combined_train[target]\n",
    "X_test = combined_test[features]\n",
    "y_test = combined_test[target]"
   ]
  },
  {
   "cell_type": "code",
   "execution_count": null,
   "metadata": {},
   "outputs": [],
   "source": [
    "final_model = xgb.XGBRegressor(\n",
    "    tree_method=\"hist\", **best_params, enable_categorical=True\n",
    ")\n",
    "final_model.fit(\n",
    "    X_train,\n",
    "    y_train,\n",
    "    eval_set=[(X_test, y_test)],\n",
    "    early_stopping_rounds=10,\n",
    "    verbose=10,\n",
    ")"
   ]
  },
  {
   "cell_type": "code",
   "execution_count": null,
   "metadata": {},
   "outputs": [],
   "source": [
    "y_pred_train = final_model.predict(X_train)\n",
    "rmse_train = mean_squared_error(y_train, y_pred_train, squared=False)\n",
    "print(\"Final Model  Train RMSE:\", rmse_train)\n",
    "\n",
    "y_pred_test = final_model.predict(X_test)\n",
    "rmse_test = mean_squared_error(y_test, y_pred_test, squared=False)\n",
    "print(\"Final Model Test RMSE:\", rmse_test)"
   ]
  },
  {
   "cell_type": "markdown",
   "metadata": {},
   "source": [
    "# Interactions"
   ]
  },
  {
   "cell_type": "code",
   "execution_count": 20,
   "metadata": {},
   "outputs": [],
   "source": [
    "combined_train[\"temp_hour_interaction\"] = combined_train[\"t\"] * \\\n",
    "    combined_train[\"hour\"]\n",
    "\n",
    "\n",
    "\n",
    "combined_train[\"humidity_day_interaction\"] = (\n",
    "\n",
    "\n",
    "    combined_train[\"u\"] * combined_train[\"dayofweek\"]\n",
    "\n",
    "\n",
    ")"
   ]
  },
  {
   "cell_type": "code",
   "execution_count": 21,
   "metadata": {},
   "outputs": [],
   "source": [
    "combined_test[\"temp_hour_interaction\"] = combined_test[\"t\"] * \\\n",
    "    combined_test[\"hour\"]\n",
    "\n",
    "\n",
    "\n",
    "combined_test[\"humidity_day_interaction\"] = (\n",
    "\n",
    "\n",
    "    combined_test[\"u\"] * combined_test[\"dayofweek\"]\n",
    "\n",
    "\n",
    ")"
   ]
  },
  {
   "cell_type": "code",
   "execution_count": 22,
   "metadata": {},
   "outputs": [],
   "source": [
    "combined_prediction[\"temp_hour_interaction\"] = (\n",
    "    combined_prediction[\"t\"] * combined_prediction[\"hour\"]\n",
    ")\n",
    "\n",
    "\n",
    "combined_prediction[\"humidity_day_interaction\"] = (\n",
    "    combined_prediction[\"u\"] * combined_prediction[\"dayofweek\"]\n",
    ")"
   ]
  },
  {
   "cell_type": "code",
   "execution_count": 23,
   "metadata": {},
   "outputs": [
    {
     "name": "stdout",
     "output_type": "stream",
     "text": [
      "<class 'pandas.core.frame.DataFrame'>\n",
      "DatetimeIndex: 455163 entries, 2020-09-01 01:00:00 to 2021-08-09 23:00:00\n",
      "Data columns (total 94 columns):\n",
      " #   Column                     Non-Null Count   Dtype   \n",
      "---  ------                     --------------   -----   \n",
      " 0   counter_name               455163 non-null  category\n",
      " 1   log_bike_count             455163 non-null  float64 \n",
      " 2   hour                       455163 non-null  int32   \n",
      " 3   dayofweek                  455163 non-null  int32   \n",
      " 4   quarter                    455163 non-null  int32   \n",
      " 5   month                      455163 non-null  int32   \n",
      " 6   dayofyear                  455163 non-null  int32   \n",
      " 7   is_weekend                 455163 non-null  int32   \n",
      " 8   hour_sin                   455163 non-null  float64 \n",
      " 9   hour_cos                   455163 non-null  float64 \n",
      " 10  dayofweek_sin              455163 non-null  float64 \n",
      " 11  dayofweek_cos              455163 non-null  float64 \n",
      " 12  is_holiday                 455163 non-null  int32   \n",
      " 13  lockdown_1                 455163 non-null  int32   \n",
      " 14  lockdown_2                 455163 non-null  int32   \n",
      " 15  lockdown_3_1               455163 non-null  int32   \n",
      " 16  lockdown_3_2               455163 non-null  int32   \n",
      " 17  lockdown_3_3               455163 non-null  int32   \n",
      " 18  pmer                       455163 non-null  int64   \n",
      " 19  tend                       455163 non-null  int64   \n",
      " 20  cod_tend                   455163 non-null  int64   \n",
      " 21  dd                         455163 non-null  int64   \n",
      " 22  ff                         455163 non-null  float64 \n",
      " 23  t                          455163 non-null  float64 \n",
      " 24  td                         455163 non-null  float64 \n",
      " 25  u                          455163 non-null  int64   \n",
      " 26  vv                         455163 non-null  int64   \n",
      " 27  ww                         455163 non-null  int64   \n",
      " 28  w1                         455163 non-null  float64 \n",
      " 29  w2                         455163 non-null  float64 \n",
      " 30  n                          455163 non-null  float64 \n",
      " 31  nbas                       455163 non-null  float64 \n",
      " 32  hbas                       455163 non-null  float64 \n",
      " 33  cl                         455163 non-null  float64 \n",
      " 34  cm                         455163 non-null  float64 \n",
      " 35  ch                         455163 non-null  float64 \n",
      " 36  pres                       455163 non-null  int64   \n",
      " 37  tend24                     455163 non-null  float64 \n",
      " 38  raf10                      455163 non-null  float64 \n",
      " 39  rafper                     455163 non-null  float64 \n",
      " 40  etat_sol                   455163 non-null  float64 \n",
      " 41  ht_neige                   455163 non-null  float64 \n",
      " 42  ssfrai                     455163 non-null  float64 \n",
      " 43  rr1                        455163 non-null  float64 \n",
      " 44  rr3                        455163 non-null  float64 \n",
      " 45  rr6                        455163 non-null  float64 \n",
      " 46  rr12                       455163 non-null  float64 \n",
      " 47  rr24                       455163 non-null  float64 \n",
      " 48  nnuage1                    455163 non-null  float64 \n",
      " 49  ctype1                     455163 non-null  float64 \n",
      " 50  hnuage1                    455163 non-null  float64 \n",
      " 51  temp_humidity_interaction  455163 non-null  float64 \n",
      " 52  t_lag6h                    455163 non-null  float64 \n",
      " 53  t_lag9h                    455163 non-null  float64 \n",
      " 54  t_lag12h                   455163 non-null  float64 \n",
      " 55  t_lag24h                   455163 non-null  float64 \n",
      " 56  t_lag168h                  455163 non-null  float64 \n",
      " 57  td_lag6h                   455163 non-null  float64 \n",
      " 58  td_lag9h                   455163 non-null  float64 \n",
      " 59  td_lag12h                  455163 non-null  float64 \n",
      " 60  td_lag24h                  455163 non-null  float64 \n",
      " 61  td_lag168h                 455163 non-null  float64 \n",
      " 62  u_lag6h                    455163 non-null  float64 \n",
      " 63  u_lag9h                    455163 non-null  float64 \n",
      " 64  u_lag12h                   455163 non-null  float64 \n",
      " 65  u_lag24h                   455163 non-null  float64 \n",
      " 66  u_lag168h                  455163 non-null  float64 \n",
      " 67  ww_lag6h                   455163 non-null  float64 \n",
      " 68  ww_lag9h                   455163 non-null  float64 \n",
      " 69  ww_lag12h                  455163 non-null  float64 \n",
      " 70  ww_lag24h                  455163 non-null  float64 \n",
      " 71  ww_lag168h                 455163 non-null  float64 \n",
      " 72  n_lag6h                    455163 non-null  float64 \n",
      " 73  n_lag9h                    455163 non-null  float64 \n",
      " 74  n_lag12h                   455163 non-null  float64 \n",
      " 75  n_lag24h                   455163 non-null  float64 \n",
      " 76  n_lag168h                  455163 non-null  float64 \n",
      " 77  tend24_lag6h               455163 non-null  float64 \n",
      " 78  tend24_lag9h               455163 non-null  float64 \n",
      " 79  tend24_lag12h              455163 non-null  float64 \n",
      " 80  tend24_lag24h              455163 non-null  float64 \n",
      " 81  tend24_lag168h             455163 non-null  float64 \n",
      " 82  etat_sol_lag6h             455163 non-null  float64 \n",
      " 83  etat_sol_lag9h             455163 non-null  float64 \n",
      " 84  etat_sol_lag12h            455163 non-null  float64 \n",
      " 85  etat_sol_lag24h            455163 non-null  float64 \n",
      " 86  etat_sol_lag168h           455163 non-null  float64 \n",
      " 87  rr12_lag6h                 455163 non-null  float64 \n",
      " 88  rr12_lag9h                 455163 non-null  float64 \n",
      " 89  rr12_lag12h                455163 non-null  float64 \n",
      " 90  rr12_lag24h                455163 non-null  float64 \n",
      " 91  rr12_lag168h               455163 non-null  float64 \n",
      " 92  temp_hour_interaction      455163 non-null  float64 \n",
      " 93  humidity_day_interaction   455163 non-null  int64   \n",
      "dtypes: category(1), float64(72), int32(12), int64(9)\n",
      "memory usage: 306.0 MB\n"
     ]
    }
   ],
   "source": [
    "combined_train.info()"
   ]
  },
  {
   "cell_type": "code",
   "execution_count": 24,
   "metadata": {},
   "outputs": [
    {
     "data": {
      "text/html": [
       "<div>\n",
       "<style scoped>\n",
       "    .dataframe tbody tr th:only-of-type {\n",
       "        vertical-align: middle;\n",
       "    }\n",
       "\n",
       "    .dataframe tbody tr th {\n",
       "        vertical-align: top;\n",
       "    }\n",
       "\n",
       "    .dataframe thead th {\n",
       "        text-align: right;\n",
       "    }\n",
       "</style>\n",
       "<table border=\"1\" class=\"dataframe\">\n",
       "  <thead>\n",
       "    <tr style=\"text-align: right;\">\n",
       "      <th></th>\n",
       "      <th>counter_name</th>\n",
       "      <th>log_bike_count</th>\n",
       "      <th>hour</th>\n",
       "      <th>dayofweek</th>\n",
       "      <th>quarter</th>\n",
       "      <th>month</th>\n",
       "      <th>dayofyear</th>\n",
       "      <th>is_weekend</th>\n",
       "      <th>hour_sin</th>\n",
       "      <th>hour_cos</th>\n",
       "      <th>...</th>\n",
       "      <th>etat_sol_lag12h</th>\n",
       "      <th>etat_sol_lag24h</th>\n",
       "      <th>etat_sol_lag168h</th>\n",
       "      <th>rr12_lag6h</th>\n",
       "      <th>rr12_lag9h</th>\n",
       "      <th>rr12_lag12h</th>\n",
       "      <th>rr12_lag24h</th>\n",
       "      <th>rr12_lag168h</th>\n",
       "      <th>temp_hour_interaction</th>\n",
       "      <th>humidity_day_interaction</th>\n",
       "    </tr>\n",
       "    <tr>\n",
       "      <th>date</th>\n",
       "      <th></th>\n",
       "      <th></th>\n",
       "      <th></th>\n",
       "      <th></th>\n",
       "      <th></th>\n",
       "      <th></th>\n",
       "      <th></th>\n",
       "      <th></th>\n",
       "      <th></th>\n",
       "      <th></th>\n",
       "      <th></th>\n",
       "      <th></th>\n",
       "      <th></th>\n",
       "      <th></th>\n",
       "      <th></th>\n",
       "      <th></th>\n",
       "      <th></th>\n",
       "      <th></th>\n",
       "      <th></th>\n",
       "      <th></th>\n",
       "      <th></th>\n",
       "    </tr>\n",
       "  </thead>\n",
       "  <tbody>\n",
       "    <tr>\n",
       "      <th>2020-09-01 01:00:00</th>\n",
       "      <td>28 boulevard Diderot E-O</td>\n",
       "      <td>0.000000</td>\n",
       "      <td>1</td>\n",
       "      <td>1</td>\n",
       "      <td>3</td>\n",
       "      <td>9</td>\n",
       "      <td>245</td>\n",
       "      <td>0</td>\n",
       "      <td>0.258819</td>\n",
       "      <td>0.965926</td>\n",
       "      <td>...</td>\n",
       "      <td>0.0</td>\n",
       "      <td>0.0</td>\n",
       "      <td>0.0</td>\n",
       "      <td>0.0</td>\n",
       "      <td>0.0</td>\n",
       "      <td>0.0</td>\n",
       "      <td>0.0</td>\n",
       "      <td>0.0</td>\n",
       "      <td>285.75</td>\n",
       "      <td>81</td>\n",
       "    </tr>\n",
       "    <tr>\n",
       "      <th>2020-09-01 01:00:00</th>\n",
       "      <td>28 boulevard Diderot O-E</td>\n",
       "      <td>0.693147</td>\n",
       "      <td>1</td>\n",
       "      <td>1</td>\n",
       "      <td>3</td>\n",
       "      <td>9</td>\n",
       "      <td>245</td>\n",
       "      <td>0</td>\n",
       "      <td>0.258819</td>\n",
       "      <td>0.965926</td>\n",
       "      <td>...</td>\n",
       "      <td>0.0</td>\n",
       "      <td>0.0</td>\n",
       "      <td>0.0</td>\n",
       "      <td>0.0</td>\n",
       "      <td>0.0</td>\n",
       "      <td>0.0</td>\n",
       "      <td>0.0</td>\n",
       "      <td>0.0</td>\n",
       "      <td>285.75</td>\n",
       "      <td>81</td>\n",
       "    </tr>\n",
       "    <tr>\n",
       "      <th>2020-09-01 01:00:00</th>\n",
       "      <td>39 quai François Mauriac NO-SE</td>\n",
       "      <td>1.098612</td>\n",
       "      <td>1</td>\n",
       "      <td>1</td>\n",
       "      <td>3</td>\n",
       "      <td>9</td>\n",
       "      <td>245</td>\n",
       "      <td>0</td>\n",
       "      <td>0.258819</td>\n",
       "      <td>0.965926</td>\n",
       "      <td>...</td>\n",
       "      <td>0.0</td>\n",
       "      <td>0.0</td>\n",
       "      <td>0.0</td>\n",
       "      <td>0.0</td>\n",
       "      <td>0.0</td>\n",
       "      <td>0.0</td>\n",
       "      <td>0.0</td>\n",
       "      <td>0.0</td>\n",
       "      <td>285.75</td>\n",
       "      <td>81</td>\n",
       "    </tr>\n",
       "    <tr>\n",
       "      <th>2020-09-01 01:00:00</th>\n",
       "      <td>39 quai François Mauriac SE-NO</td>\n",
       "      <td>0.693147</td>\n",
       "      <td>1</td>\n",
       "      <td>1</td>\n",
       "      <td>3</td>\n",
       "      <td>9</td>\n",
       "      <td>245</td>\n",
       "      <td>0</td>\n",
       "      <td>0.258819</td>\n",
       "      <td>0.965926</td>\n",
       "      <td>...</td>\n",
       "      <td>0.0</td>\n",
       "      <td>0.0</td>\n",
       "      <td>0.0</td>\n",
       "      <td>0.0</td>\n",
       "      <td>0.0</td>\n",
       "      <td>0.0</td>\n",
       "      <td>0.0</td>\n",
       "      <td>0.0</td>\n",
       "      <td>285.75</td>\n",
       "      <td>81</td>\n",
       "    </tr>\n",
       "    <tr>\n",
       "      <th>2020-09-01 01:00:00</th>\n",
       "      <td>18 quai de l'Hôtel de Ville NO-SE</td>\n",
       "      <td>0.000000</td>\n",
       "      <td>1</td>\n",
       "      <td>1</td>\n",
       "      <td>3</td>\n",
       "      <td>9</td>\n",
       "      <td>245</td>\n",
       "      <td>0</td>\n",
       "      <td>0.258819</td>\n",
       "      <td>0.965926</td>\n",
       "      <td>...</td>\n",
       "      <td>0.0</td>\n",
       "      <td>0.0</td>\n",
       "      <td>0.0</td>\n",
       "      <td>0.0</td>\n",
       "      <td>0.0</td>\n",
       "      <td>0.0</td>\n",
       "      <td>0.0</td>\n",
       "      <td>0.0</td>\n",
       "      <td>285.75</td>\n",
       "      <td>81</td>\n",
       "    </tr>\n",
       "  </tbody>\n",
       "</table>\n",
       "<p>5 rows × 94 columns</p>\n",
       "</div>"
      ],
      "text/plain": [
       "                                          counter_name  log_bike_count  hour  \\\n",
       "date                                                                           \n",
       "2020-09-01 01:00:00           28 boulevard Diderot E-O        0.000000     1   \n",
       "2020-09-01 01:00:00           28 boulevard Diderot O-E        0.693147     1   \n",
       "2020-09-01 01:00:00     39 quai François Mauriac NO-SE        1.098612     1   \n",
       "2020-09-01 01:00:00     39 quai François Mauriac SE-NO        0.693147     1   \n",
       "2020-09-01 01:00:00  18 quai de l'Hôtel de Ville NO-SE        0.000000     1   \n",
       "\n",
       "                     dayofweek  quarter  month  dayofyear  is_weekend  \\\n",
       "date                                                                    \n",
       "2020-09-01 01:00:00          1        3      9        245           0   \n",
       "2020-09-01 01:00:00          1        3      9        245           0   \n",
       "2020-09-01 01:00:00          1        3      9        245           0   \n",
       "2020-09-01 01:00:00          1        3      9        245           0   \n",
       "2020-09-01 01:00:00          1        3      9        245           0   \n",
       "\n",
       "                     hour_sin  hour_cos  ...  etat_sol_lag12h  \\\n",
       "date                                     ...                    \n",
       "2020-09-01 01:00:00  0.258819  0.965926  ...              0.0   \n",
       "2020-09-01 01:00:00  0.258819  0.965926  ...              0.0   \n",
       "2020-09-01 01:00:00  0.258819  0.965926  ...              0.0   \n",
       "2020-09-01 01:00:00  0.258819  0.965926  ...              0.0   \n",
       "2020-09-01 01:00:00  0.258819  0.965926  ...              0.0   \n",
       "\n",
       "                     etat_sol_lag24h  etat_sol_lag168h  rr12_lag6h  \\\n",
       "date                                                                 \n",
       "2020-09-01 01:00:00              0.0               0.0         0.0   \n",
       "2020-09-01 01:00:00              0.0               0.0         0.0   \n",
       "2020-09-01 01:00:00              0.0               0.0         0.0   \n",
       "2020-09-01 01:00:00              0.0               0.0         0.0   \n",
       "2020-09-01 01:00:00              0.0               0.0         0.0   \n",
       "\n",
       "                     rr12_lag9h  rr12_lag12h  rr12_lag24h  rr12_lag168h  \\\n",
       "date                                                                      \n",
       "2020-09-01 01:00:00         0.0          0.0          0.0           0.0   \n",
       "2020-09-01 01:00:00         0.0          0.0          0.0           0.0   \n",
       "2020-09-01 01:00:00         0.0          0.0          0.0           0.0   \n",
       "2020-09-01 01:00:00         0.0          0.0          0.0           0.0   \n",
       "2020-09-01 01:00:00         0.0          0.0          0.0           0.0   \n",
       "\n",
       "                     temp_hour_interaction  humidity_day_interaction  \n",
       "date                                                                  \n",
       "2020-09-01 01:00:00                 285.75                        81  \n",
       "2020-09-01 01:00:00                 285.75                        81  \n",
       "2020-09-01 01:00:00                 285.75                        81  \n",
       "2020-09-01 01:00:00                 285.75                        81  \n",
       "2020-09-01 01:00:00                 285.75                        81  \n",
       "\n",
       "[5 rows x 94 columns]"
      ]
     },
     "execution_count": 24,
     "metadata": {},
     "output_type": "execute_result"
    }
   ],
   "source": [
    "combined_train.head()"
   ]
  },
  {
   "cell_type": "code",
   "execution_count": null,
   "metadata": {},
   "outputs": [],
   "source": []
  },
  {
   "cell_type": "code",
   "execution_count": null,
   "metadata": {},
   "outputs": [],
   "source": []
  },
  {
   "cell_type": "code",
   "execution_count": null,
   "metadata": {},
   "outputs": [],
   "source": []
  },
  {
   "cell_type": "code",
   "execution_count": null,
   "metadata": {},
   "outputs": [],
   "source": []
  },
  {
   "cell_type": "code",
   "execution_count": null,
   "metadata": {},
   "outputs": [],
   "source": []
  },
  {
   "cell_type": "code",
   "execution_count": null,
   "metadata": {},
   "outputs": [],
   "source": []
  },
  {
   "cell_type": "code",
   "execution_count": null,
   "metadata": {},
   "outputs": [],
   "source": []
  },
  {
   "cell_type": "code",
   "execution_count": null,
   "metadata": {},
   "outputs": [],
   "source": []
  },
  {
   "cell_type": "code",
   "execution_count": null,
   "metadata": {},
   "outputs": [],
   "source": [
    "features = [\n",
    "    \"counter_name\",\n",
    "    \"hour\",\n",
    "    \"dayofweek\",\n",
    "    \"quarter\",\n",
    "    \"month\",\n",
    "    \"dayofyear\",\n",
    "    \"hour_sin\",\n",
    "    \"hour_cos\",\n",
    "    \"dayofweek_sin\",\n",
    "    \"dayofweek_cos\",\n",
    "    \"lockdown_2\",\n",
    "    \"lockdown_3_1\",\n",
    "    \"lockdown_3_2\",\n",
    "    \"lockdown_3_3\",\n",
    "    \"tend\",\n",
    "    \"t\",\n",
    "    \"td\",\n",
    "    \"u\",\n",
    "    \"ww\",\n",
    "    \"n\",\n",
    "    \"tend24\",\n",
    "    \"etat_sol\",\n",
    "    \"rr12\",\n",
    "    \"ctype1\",\n",
    "    \"hnuage1\",\n",
    "    \"temp_hour_interaction\",\n",
    "    \"humidity_day_interaction\",\n",
    "    \"temp_humidity_interaction\",\n",
    "    \"t_lag6h\",\n",
    "    \"t_lag9h\",\n",
    "    \"t_lag24h\",\n",
    "    \"td_lag6h\",\n",
    "    \"td_lag9h\",\n",
    "    \"td_lag24h\",\n",
    "    \"u_lag6h\",\n",
    "    \"u_lag9h\",\n",
    "    \"u_lag24h\",\n",
    "    \"ww_lag6h\",\n",
    "    \"ww_lag9h\",\n",
    "    \"ww_lag24h\",\n",
    "    \"n_lag6h\",\n",
    "    \"n_lag9h\",\n",
    "    \"n_lag24h\",\n",
    "    \"tend24_lag6h\",\n",
    "    \"tend24_lag9h\",\n",
    "    \"tend24_lag24h\",\n",
    "    \"etat_sol_lag6h\",\n",
    "    \"etat_sol_lag9h\",\n",
    "    \"etat_sol_lag24h\",\n",
    "    \"rr12_lag6h\",\n",
    "    \"rr12_lag9h\",\n",
    "    \"rr12_lag24h\",\n",
    "    \"t_lag12h\",\n",
    "    \"td_lag12h\",\n",
    "    \"u_lag12h\",\n",
    "    \"ww_lag12h\",\n",
    "    \"n_lag12h\",\n",
    "    \"tend24_lag12h\",\n",
    "    \"etat_sol_lag12h\",\n",
    "    \"rr12_lag12h\",\n",
    "]\n",
    "target = [\"log_bike_count\"]\n",
    "cat_feature = [\"counter_name\"]"
   ]
  },
  {
   "cell_type": "code",
   "execution_count": null,
   "metadata": {},
   "outputs": [],
   "source": [
    "X_train = combined_train[features]\n",
    "y_train = combined_train[target]\n",
    "X_test = combined_test[features]\n",
    "y_test = combined_test[target]"
   ]
  },
  {
   "cell_type": "code",
   "execution_count": null,
   "metadata": {},
   "outputs": [],
   "source": [
    "final_model = xgb.XGBRegressor(\n",
    "    tree_method=\"hist\", **best_params, enable_categorical=True\n",
    ")\n",
    "final_model.fit(\n",
    "    X_train,\n",
    "    y_train,\n",
    "    eval_set=[(X_test, y_test)],\n",
    "    early_stopping_rounds=10,\n",
    "    verbose=10,\n",
    ")"
   ]
  },
  {
   "cell_type": "code",
   "execution_count": null,
   "metadata": {},
   "outputs": [],
   "source": [
    "y_pred_train = final_model.predict(X_train)\n",
    "rmse_train = mean_squared_error(y_train, y_pred_train, squared=False)\n",
    "print(\"Final Model  Train RMSE:\", rmse_train)\n",
    "\n",
    "y_pred_test = final_model.predict(X_test)\n",
    "rmse_test = mean_squared_error(y_test, y_pred_test, squared=False)\n",
    "print(\"Final Model Test RMSE:\", rmse_test)"
   ]
  },
  {
   "cell_type": "code",
   "execution_count": null,
   "metadata": {},
   "outputs": [],
   "source": [
    "fi = pd.DataFrame(\n",
    "    data=final_model.feature_importances_,\n",
    "    index=final_model.feature_names_in_,\n",
    "    columns=[\"Importance\"],\n",
    ")\n",
    "\n",
    "fi.sort_values(by=\"Importance\").plot(\n",
    "    kind=\"barh\", title=\"Feature Importances XGBoost\", figsize=(10, 16)\n",
    ")"
   ]
  },
  {
   "cell_type": "code",
   "execution_count": null,
   "metadata": {},
   "outputs": [],
   "source": [
    "fi.sort_values(by=\"Importance\", ascending=False)"
   ]
  },
  {
   "cell_type": "code",
   "execution_count": null,
   "metadata": {},
   "outputs": [],
   "source": [
    "from sklearn.utils import resample"
   ]
  },
  {
   "cell_type": "code",
   "execution_count": null,
   "metadata": {},
   "outputs": [],
   "source": [
    "num_bootstraps = 100\n",
    "feature_importances = np.zeros((num_bootstraps, len(X_train.columns)))"
   ]
  },
  {
   "cell_type": "code",
   "execution_count": null,
   "metadata": {},
   "outputs": [],
   "source": [
    "for i in range(num_bootstraps):\n",
    "    # Create a bootstrap sample\n",
    "    X_sample, y_sample = resample(X_train, y_train)\n",
    "\n",
    "    # Fit the model\n",
    "    model = xgb.XGBRegressor(tree_method=\"hist\", enable_categorical=True)\n",
    "    model.fit(X_sample, y_sample)\n",
    "\n",
    "    # Store the feature importances\n",
    "    feature_importances[i, :] = model.feature_importances_"
   ]
  },
  {
   "cell_type": "code",
   "execution_count": null,
   "metadata": {},
   "outputs": [],
   "source": [
    "mean_importances = np.mean(feature_importances, axis=0)\n",
    "std_importances = np.std(feature_importances, axis=0)"
   ]
  },
  {
   "cell_type": "code",
   "execution_count": null,
   "metadata": {},
   "outputs": [],
   "source": [
    "mean_importances"
   ]
  },
  {
   "cell_type": "code",
   "execution_count": null,
   "metadata": {},
   "outputs": [],
   "source": [
    "std_importances"
   ]
  },
  {
   "cell_type": "code",
   "execution_count": null,
   "metadata": {},
   "outputs": [],
   "source": [
    "model.feature_names_in_"
   ]
  },
  {
   "cell_type": "code",
   "execution_count": null,
   "metadata": {},
   "outputs": [],
   "source": [
    "features = [\n",
    "    \"counter_name\",\n",
    "    \"hour\",\n",
    "    \"dayofweek\",\n",
    "    \"month\",\n",
    "    \"quarter\",\n",
    "    \"dayofyear\",\n",
    "    \"hour_sin\",\n",
    "    \"hour_cos\",\n",
    "    \"dayofweek_sin\",\n",
    "    \"dayofweek_cos\",\n",
    "    \"lockdown_2\",\n",
    "    \"lockdown_3_1\",\n",
    "    \"lockdown_3_2\",\n",
    "    \"lockdown_3_3\",\n",
    "    \"t\",\n",
    "    \"u\",\n",
    "    \"ww\",\n",
    "    \"n\",\n",
    "    \"etat_sol\",\n",
    "    \"rr12\",\n",
    "    \"temp_hour_interaction\",\n",
    "    \"humidity_day_interaction\",\n",
    "    \"t_lag6h\",\n",
    "    \"t_lag9h\",\n",
    "    \"t_lag24h\",\n",
    "    \"td_lag24h\",\n",
    "    \"u_lag24h\",\n",
    "    \"ww_lag24h\",\n",
    "    \"n_lag24h\",\n",
    "    \"etat_sol_lag24h\",\n",
    "    \"rr12_lag24h\",\n",
    "]\n",
    "target = [\"log_bike_count\"]\n",
    "cat_feature = [\"counter_name\"]"
   ]
  },
  {
   "cell_type": "code",
   "execution_count": null,
   "metadata": {},
   "outputs": [],
   "source": [
    "X_train = combined_train[features]\n",
    "y_train = combined_train[target]\n",
    "X_test = combined_test[features]\n",
    "y_test = combined_test[target]"
   ]
  },
  {
   "cell_type": "code",
   "execution_count": null,
   "metadata": {},
   "outputs": [],
   "source": [
    "def objective(trial):\n",
    "    param = {\n",
    "        \"n_estimators\": trial.suggest_int(\"n_estimators\", 50, 1000),\n",
    "        \"max_depth\": trial.suggest_int(\"max_depth\", 3, 20),\n",
    "        \"min_child_weight\": trial.suggest_int(\"min_child_weight\", 1, 10),\n",
    "        \"gamma\": trial.suggest_float(\"gamma\", 0.1, 1, step=0.1),\n",
    "        \"learning_rate\": trial.suggest_float(\"learning_rate\", 0.01, 0.3),\n",
    "        \"subsample\": trial.suggest_float(\"subsample\", 0.5, 1),\n",
    "        \"colsample_bytree\": trial.suggest_float(\"colsample_bytree\", 0.5, 1),\n",
    "        \"reg_alpha\": trial.suggest_float(\"reg_alpha\", 0.0, 1.0),\n",
    "        \"reg_lambda\": trial.suggest_float(\"reg_lambda\", 0.0, 1.0),\n",
    "    }\n",
    "\n",
    "    model = xgb.XGBRegressor(tree_method=\"hist\", **\n",
    "                             param, enable_categorical=True)\n",
    "\n",
    "    tscv = TimeSeriesSplit(n_splits=5)\n",
    "    scores = []\n",
    "\n",
    "    for train_index, test_index in tscv.split(X_train):\n",
    "        X_train_fold, X_test_fold = X_train.iloc[train_index], X_train.iloc[test_index]\n",
    "        y_train_fold, y_test_fold = y_train.iloc[train_index], y_train.iloc[test_index]\n",
    "\n",
    "        model.fit(\n",
    "            X_train_fold,\n",
    "            y_train_fold,\n",
    "            eval_set=[(X_test_fold, y_test_fold)],\n",
    "            early_stopping_rounds=50,\n",
    "            verbose=False,\n",
    "        )\n",
    "        predictions = model.predict(X_test_fold)\n",
    "        score = mean_squared_error(\n",
    "            y_test_fold, predictions, squared=False)  # RMSE\n",
    "        scores.append(score)\n",
    "\n",
    "    return np.mean(scores)"
   ]
  },
  {
   "cell_type": "code",
   "execution_count": null,
   "metadata": {},
   "outputs": [],
   "source": [
    "study = optuna.create_study(direction=\"minimize\")\n",
    "study.optimize(objective, n_trials=100)"
   ]
  },
  {
   "cell_type": "code",
   "execution_count": null,
   "metadata": {},
   "outputs": [],
   "source": [
    "print(\"Number of finished trials:\", len(study.trials))\n",
    "print(\"Best trial:\", study.best_trial.params)"
   ]
  },
  {
   "cell_type": "code",
   "execution_count": null,
   "metadata": {},
   "outputs": [],
   "source": [
    "best_params = {\n",
    "    \"n_estimators\": 633,\n",
    "    \"max_depth\": 11,\n",
    "    \"min_child_weight\": 2,\n",
    "    \"gamma\": 0.5,\n",
    "    \"learning_rate\": 0.01745767642563374,\n",
    "    \"subsample\": 0.6852898171340072,\n",
    "    \"colsample_bytree\": 0.5752583768824626,\n",
    "    \"reg_alpha\": 0.6174748033948815,\n",
    "    \"reg_lambda\": 0.37071451261939165,\n",
    "}"
   ]
  },
  {
   "cell_type": "code",
   "execution_count": null,
   "metadata": {},
   "outputs": [],
   "source": [
    "final_model = xgb.XGBRegressor(\n",
    "    tree_method=\"hist\", **best_params, enable_categorical=True\n",
    ")\n",
    "final_model.fit(\n",
    "    X_train,\n",
    "    y_train,\n",
    "    eval_set=[(X_test, y_test)],\n",
    "    early_stopping_rounds=10,\n",
    "    verbose=10,\n",
    ")"
   ]
  },
  {
   "cell_type": "code",
   "execution_count": null,
   "metadata": {},
   "outputs": [],
   "source": [
    "y_pred_train = final_model.predict(X_train)\n",
    "rmse_train = mean_squared_error(y_train, y_pred_train, squared=False)\n",
    "print(\"Final Model  Train RMSE:\", rmse_train)\n",
    "\n",
    "y_pred_test = final_model.predict(X_test)\n",
    "rmse_test = mean_squared_error(y_test, y_pred_test, squared=False)\n",
    "print(\"Final Model Test RMSE:\", rmse_test)"
   ]
  },
  {
   "cell_type": "code",
   "execution_count": null,
   "metadata": {},
   "outputs": [],
   "source": [
    "prediction_data = pd.read_parquet(\"data\\final_test.parquet\")"
   ]
  },
  {
   "cell_type": "code",
   "execution_count": null,
   "metadata": {},
   "outputs": [],
   "source": []
  },
  {
   "cell_type": "code",
   "execution_count": null,
   "metadata": {},
   "outputs": [],
   "source": []
  },
  {
   "cell_type": "code",
   "execution_count": null,
   "metadata": {},
   "outputs": [],
   "source": [
    "combined_train.columns"
   ]
  },
  {
   "cell_type": "code",
   "execution_count": null,
   "metadata": {},
   "outputs": [],
   "source": [
    "features = [\n",
    "    \"counter_name\",\n",
    "    \"hour\",\n",
    "    \"dayofweek\",\n",
    "    \"quarter\",\n",
    "    \"month\",\n",
    "    \"dayofyear\",\n",
    "    \"is_weekend\",\n",
    "    \"hour_sin\",\n",
    "    \"hour_cos\",\n",
    "    \"dayofweek_sin\",\n",
    "    \"dayofweek_cos\",\n",
    "    \"is_holiday\",\n",
    "    \"lockdown_1\",\n",
    "    \"lockdown_2\",\n",
    "    \"lockdown_3_1\",\n",
    "    \"lockdown_3_2\",\n",
    "    \"lockdown_3_3\",\n",
    "    \"pmer\",\n",
    "    \"tend\",\n",
    "    \"cod_tend\",\n",
    "    \"dd\",\n",
    "    \"ff\",\n",
    "    \"t\",\n",
    "    \"td\",\n",
    "    \"u\",\n",
    "    \"vv\",\n",
    "    \"ww\",\n",
    "    \"w1\",\n",
    "    \"w2\",\n",
    "    \"n\",\n",
    "    \"nbas\",\n",
    "    \"hbas\",\n",
    "    \"cl\",\n",
    "    \"cm\",\n",
    "    \"ch\",\n",
    "    \"pres\",\n",
    "    \"tend24\",\n",
    "    \"raf10\",\n",
    "    \"rafper\",\n",
    "    \"etat_sol\",\n",
    "    \"ht_neige\",\n",
    "    \"ssfrai\",\n",
    "    \"rr1\",\n",
    "    \"rr3\",\n",
    "    \"rr6\",\n",
    "    \"rr12\",\n",
    "    \"rr24\",\n",
    "    \"nnuage1\",\n",
    "    \"ctype1\",\n",
    "    \"hnuage1\",\n",
    "    \"temp_humidity_interaction\",\n",
    "    \"t_lag6h\",\n",
    "    \"t_lag9h\",\n",
    "    \"t_lag12h\",\n",
    "    \"t_lag24h\",\n",
    "    \"t_lag168h\",\n",
    "    \"td_lag6h\",\n",
    "    \"td_lag9h\",\n",
    "    \"td_lag12h\",\n",
    "    \"td_lag24h\",\n",
    "    \"td_lag168h\",\n",
    "    \"u_lag6h\",\n",
    "    \"u_lag9h\",\n",
    "    \"u_lag12h\",\n",
    "    \"u_lag24h\",\n",
    "    \"u_lag168h\",\n",
    "    \"ww_lag6h\",\n",
    "    \"ww_lag9h\",\n",
    "    \"ww_lag12h\",\n",
    "    \"ww_lag24h\",\n",
    "    \"ww_lag168h\",\n",
    "    \"n_lag6h\",\n",
    "    \"n_lag9h\",\n",
    "    \"n_lag12h\",\n",
    "    \"n_lag24h\",\n",
    "    \"n_lag168h\",\n",
    "    \"tend24_lag6h\",\n",
    "    \"tend24_lag9h\",\n",
    "    \"tend24_lag12h\",\n",
    "    \"tend24_lag24h\",\n",
    "    \"tend24_lag168h\",\n",
    "    \"etat_sol_lag6h\",\n",
    "    \"etat_sol_lag9h\",\n",
    "    \"etat_sol_lag12h\",\n",
    "    \"etat_sol_lag24h\",\n",
    "    \"etat_sol_lag168h\",\n",
    "    \"rr12_lag6h\",\n",
    "    \"rr12_lag9h\",\n",
    "    \"rr12_lag12h\",\n",
    "    \"rr12_lag24h\",\n",
    "    \"rr12_lag168h\",\n",
    "    \"temp_hour_interaction\",\n",
    "    \"humidity_day_interaction\",\n",
    "]\n",
    "target = [\"log_bike_count\"]\n",
    "cat_feature = [\"counter_name\"]"
   ]
  },
  {
   "cell_type": "code",
   "execution_count": null,
   "metadata": {},
   "outputs": [],
   "source": [
    "X_train = combined_train[features]\n",
    "y_train = combined_train[target]\n",
    "X_test = combined_test[features]\n",
    "y_test = combined_test[target]\n",
    "X_pred = combined_prediction[features]"
   ]
  },
  {
   "cell_type": "code",
   "execution_count": null,
   "metadata": {},
   "outputs": [],
   "source": [
    "best_params = {\n",
    "    \"n_estimators\": 633,\n",
    "    \"max_depth\": 11,\n",
    "    \"min_child_weight\": 2,\n",
    "    \"gamma\": 0.5,\n",
    "    \"learning_rate\": 0.01745767642563374,\n",
    "    \"subsample\": 0.6852898171340072,\n",
    "    \"colsample_bytree\": 0.5752583768824626,\n",
    "    \"reg_alpha\": 0.6174748033948815,\n",
    "    \"reg_lambda\": 0.37071451261939165,\n",
    "}\n",
    "\n",
    "final_model = xgb.XGBRegressor(\n",
    "    tree_method=\"hist\", **best_params, enable_categorical=True\n",
    ")\n",
    "final_model.fit(\n",
    "    X_train,\n",
    "    y_train,\n",
    "    eval_set=[(X_test, y_test)],\n",
    "    early_stopping_rounds=10,\n",
    "    verbose=10,\n",
    ")"
   ]
  },
  {
   "cell_type": "code",
   "execution_count": null,
   "metadata": {},
   "outputs": [],
   "source": [
    "y_pred_train = final_model.predict(X_train)\n",
    "rmse_train = mean_squared_error(y_train, y_pred_train, squared=False)\n",
    "print(\"Final Model  Train RMSE:\", rmse_train)\n",
    "\n",
    "y_pred_test = final_model.predict(X_test)\n",
    "rmse_test = mean_squared_error(y_test, y_pred_test, squared=False)\n",
    "print(\"Final Model Test RMSE:\", rmse_test)"
   ]
  },
  {
   "cell_type": "code",
   "execution_count": null,
   "metadata": {},
   "outputs": [],
   "source": [
    "fi = pd.DataFrame(\n",
    "    data=final_model.feature_importances_,\n",
    "    index=final_model.feature_names_in_,\n",
    "    columns=[\"Importance\"],\n",
    ")\n",
    "\n",
    "fi.sort_values(by=\"Importance\").plot(\n",
    "    kind=\"barh\", title=\"Feature Importances XGBoost\", figsize=(10, 16)\n",
    ")"
   ]
  },
  {
   "cell_type": "code",
   "execution_count": null,
   "metadata": {},
   "outputs": [],
   "source": [
    "fi.sort_values(by=\"Importance\", ascending=False)"
   ]
  },
  {
   "cell_type": "code",
   "execution_count": null,
   "metadata": {},
   "outputs": [],
   "source": [
    "predictions = final_model.predict(X_pred)"
   ]
  },
  {
   "cell_type": "code",
   "execution_count": null,
   "metadata": {},
   "outputs": [],
   "source": [
    "predictions"
   ]
  },
  {
   "cell_type": "code",
   "execution_count": null,
   "metadata": {},
   "outputs": [],
   "source": [
    "fi.to_csv(\"feature_importances_xgb_weather.csv\")"
   ]
  },
  {
   "cell_type": "code",
   "execution_count": null,
   "metadata": {},
   "outputs": [],
   "source": [
    "predictions"
   ]
  },
  {
   "cell_type": "code",
   "execution_count": null,
   "metadata": {},
   "outputs": [],
   "source": [
    "prediction_data.head()"
   ]
  },
  {
   "cell_type": "code",
   "execution_count": null,
   "metadata": {},
   "outputs": [],
   "source": [
    "X_train_encoded = pd.get_dummies(X_train, columns=cat_feature)\n",
    "X_test_encoded = pd.get_dummies(X_test, columns=cat_feature)"
   ]
  },
  {
   "cell_type": "code",
   "execution_count": null,
   "metadata": {},
   "outputs": [],
   "source": [
    "model = xgb.XGBRegressor()"
   ]
  },
  {
   "cell_type": "code",
   "execution_count": null,
   "metadata": {},
   "outputs": [],
   "source": [
    "tscv = TimeSeriesSplit(n_splits=5)"
   ]
  },
  {
   "cell_type": "code",
   "execution_count": null,
   "metadata": {},
   "outputs": [],
   "source": [
    "rfecv = RFECV(\n",
    "    estimator=model,\n",
    "    step=1,\n",
    "    cv=tscv,\n",
    "    scoring=\"neg_mean_squared_error\",\n",
    "    verbose=10,\n",
    "    n_jobs=-1,\n",
    ")"
   ]
  },
  {
   "cell_type": "code",
   "execution_count": null,
   "metadata": {},
   "outputs": [],
   "source": [
    "rfecv.fit(X_train_encoded, y_train)"
   ]
  },
  {
   "cell_type": "code",
   "execution_count": null,
   "metadata": {},
   "outputs": [],
   "source": [
    "optimal_features = X_train_encoded.columns[rfecv.support_]"
   ]
  },
  {
   "cell_type": "code",
   "execution_count": null,
   "metadata": {},
   "outputs": [],
   "source": [
    "features = [\n",
    "    \"counter_name\",\n",
    "    \"hour\",\n",
    "    \"dayofweek\",\n",
    "    \"quarter\",\n",
    "    \"month\",\n",
    "    \"dayofyear\",\n",
    "    \"is_weekend\",\n",
    "    \"hour_sin\",\n",
    "    \"hour_cos\",\n",
    "    \"dayofweek_sin\",\n",
    "    \"dayofweek_cos\",\n",
    "    \"is_holiday\",\n",
    "    \"lockdown_1\",\n",
    "    \"lockdown_2\",\n",
    "    \"lockdown_3_1\",\n",
    "    \"lockdown_3_2\",\n",
    "    \"lockdown_3_3\",\n",
    "    \"pmer\",\n",
    "    \"tend\",\n",
    "    \"cod_tend\",\n",
    "    \"dd\",\n",
    "    \"ff\",\n",
    "    \"t\",\n",
    "    \"td\",\n",
    "    \"u\",\n",
    "    \"vv\",\n",
    "    \"ww\",\n",
    "    \"w1\",\n",
    "    \"w2\",\n",
    "    \"n\",\n",
    "    \"nbas\",\n",
    "    \"hbas\",\n",
    "    \"cl\",\n",
    "    \"cm\",\n",
    "    \"ch\",\n",
    "    \"pres\",\n",
    "    \"tend24\",\n",
    "    \"raf10\",\n",
    "    \"rafper\",\n",
    "    \"etat_sol\",\n",
    "    \"ht_neige\",\n",
    "    \"ssfrai\",\n",
    "    \"rr1\",\n",
    "    \"rr3\",\n",
    "    \"rr6\",\n",
    "    \"rr12\",\n",
    "    \"rr24\",\n",
    "    \"nnuage1\",\n",
    "    \"ctype1\",\n",
    "    \"hnuage1\",\n",
    "    \"temp_humidity_interaction\",\n",
    "    \"t_lag6h\",\n",
    "    \"t_lag9h\",\n",
    "    \"t_lag12h\",\n",
    "    \"t_lag24h\",\n",
    "    \"t_lag168h\",\n",
    "    \"td_lag6h\",\n",
    "    \"td_lag9h\",\n",
    "    \"td_lag12h\",\n",
    "    \"td_lag24h\",\n",
    "    \"td_lag168h\",\n",
    "    \"u_lag6h\",\n",
    "    \"u_lag9h\",\n",
    "    \"u_lag12h\",\n",
    "    \"u_lag24h\",\n",
    "    \"u_lag168h\",\n",
    "    \"ww_lag6h\",\n",
    "    \"ww_lag9h\",\n",
    "    \"ww_lag12h\",\n",
    "    \"ww_lag24h\",\n",
    "    \"ww_lag168h\",\n",
    "    \"n_lag6h\",\n",
    "    \"n_lag9h\",\n",
    "    \"n_lag12h\",\n",
    "    \"n_lag24h\",\n",
    "    \"n_lag168h\",\n",
    "    \"tend24_lag6h\",\n",
    "    \"tend24_lag9h\",\n",
    "    \"tend24_lag12h\",\n",
    "    \"tend24_lag24h\",\n",
    "    \"tend24_lag168h\",\n",
    "    \"etat_sol_lag6h\",\n",
    "    \"etat_sol_lag9h\",\n",
    "    \"etat_sol_lag12h\",\n",
    "    \"etat_sol_lag24h\",\n",
    "    \"etat_sol_lag168h\",\n",
    "    \"rr12_lag6h\",\n",
    "    \"rr12_lag9h\",\n",
    "    \"rr12_lag12h\",\n",
    "    \"rr12_lag24h\",\n",
    "    \"rr12_lag168h\",\n",
    "    \"temp_hour_interaction\",\n",
    "    \"humidity_day_interaction\",\n",
    "]\n",
    "target = [\"log_bike_count\"]\n",
    "cat_feature = [\"counter_name\"]"
   ]
  },
  {
   "cell_type": "code",
   "execution_count": null,
   "metadata": {},
   "outputs": [],
   "source": [
    "X_train = combined_train[features]\n",
    "y_train = combined_train[target]\n",
    "X_test = combined_test[features]\n",
    "y_test = combined_test[target]"
   ]
  },
  {
   "cell_type": "code",
   "execution_count": null,
   "metadata": {},
   "outputs": [],
   "source": [
    "reg = xgb.XGBRegressor(\n",
    "    tree_method=\"hist\", n_estimators=1000, enable_categorical=True)\n",
    "\n",
    "\n",
    "reg.fit(\n",
    "    X_train,\n",
    "    y_train,\n",
    "\n",
    "    eval_set=[(X_train, y_train), (X_test, y_test)],\n",
    "\n",
    "    early_stopping_rounds=10,\n",
    "\n",
    "    verbose=10,\n",
    ")"
   ]
  },
  {
   "cell_type": "code",
   "execution_count": null,
   "metadata": {},
   "outputs": [],
   "source": [
    "y_hat_xgb = reg.predict(X_train)\n",
    "rmse_xgb_train = mean_squared_error(y_train, y_hat_xgb, squared=False)\n",
    "print(\"XGB Train:\", rmse_xgb_train)\n",
    "\n",
    "y_pred_xgb = reg.predict(X_test)\n",
    "rmse_xgb_test = mean_squared_error(y_test, y_pred_xgb, squared=False)\n",
    "print(\"XGB Test:\", rmse_xgb_test)"
   ]
  },
  {
   "cell_type": "code",
   "execution_count": null,
   "metadata": {},
   "outputs": [],
   "source": [
    "feature_importances = reg.feature_importances_\n",
    "feature_names = X_train.columns\n",
    "features_ranked = sorted(\n",
    "    zip(feature_names, feature_importances), key=lambda x: x[1])"
   ]
  },
  {
   "cell_type": "code",
   "execution_count": null,
   "metadata": {},
   "outputs": [],
   "source": [
    "features_ranked"
   ]
  },
  {
   "cell_type": "code",
   "execution_count": null,
   "metadata": {},
   "outputs": [],
   "source": [
    "performance_history = []"
   ]
  },
  {
   "cell_type": "code",
   "execution_count": null,
   "metadata": {},
   "outputs": [],
   "source": [
    "for i in range(len(features_ranked)):\n",
    "    # Remove the least important feature\n",
    "    features_to_use = [f[0] for f in features_ranked[i:]]\n",
    "    X_train_reduced = X_train[features_to_use]\n",
    "    X_test_reduced = X_test[features_to_use]\n",
    "\n",
    "    # Retrain the model\n",
    "    reg.fit(\n",
    "        X_train_reduced,\n",
    "        y_train,\n",
    "        eval_set=[(X_test_reduced, y_test)],\n",
    "        early_stopping_rounds=10,\n",
    "    )\n",
    "\n",
    "    # Evaluate performance\n",
    "    predictions = reg.predict(X_test_reduced)\n",
    "    current_performance = mean_squared_error(\n",
    "        y_test, predictions, squared=False)\n",
    "\n",
    "    # Store the performance\n",
    "    performance_history.append((len(features_to_use), current_performance))"
   ]
  },
  {
   "cell_type": "code",
   "execution_count": null,
   "metadata": {},
   "outputs": [],
   "source": [
    "performance_df = pd.DataFrame(\n",
    "    performance_history, columns=[\"Num_Features\", \"Performance\"]\n",
    ")"
   ]
  },
  {
   "cell_type": "code",
   "execution_count": null,
   "metadata": {},
   "outputs": [],
   "source": [
    "plt.plot(performance_df[\"Num_Features\"], performance_df[\"Performance\"])\n",
    "plt.xlabel(\"Number of Features\")\n",
    "plt.ylabel(\"Model Performance (RMSE)\")\n",
    "plt.title(\"Performance vs. Number of Features\")\n",
    "plt.show()"
   ]
  },
  {
   "cell_type": "code",
   "execution_count": null,
   "metadata": {},
   "outputs": [],
   "source": [
    "performance_df.to_csv(\"feature performance.csv\")"
   ]
  },
  {
   "cell_type": "code",
   "execution_count": null,
   "metadata": {},
   "outputs": [],
   "source": [
    "features = [\n",
    "    \"counter_name\",\n",
    "    \"hour\",\n",
    "    \"dayofweek\",\n",
    "    \"quarter\",\n",
    "    \"month\",\n",
    "    \"dayofyear\",\n",
    "    \"hour_sin\",\n",
    "    \"hour_cos\",\n",
    "    \"dayofweek_sin\",\n",
    "    \"dayofweek_cos\",\n",
    "    \"is_holiday\",\n",
    "    \"lockdown_2\",\n",
    "    \"lockdown_3_1\",\n",
    "    \"lockdown_3_2\",\n",
    "    \"lockdown_3_3\",\n",
    "    \"pmer\",\n",
    "    \"tend\",\n",
    "    \"cod_tend\",\n",
    "    \"dd\",\n",
    "    \"ff\",\n",
    "    \"t\",\n",
    "    \"td\",\n",
    "    \"u\",\n",
    "    \"vv\",\n",
    "    \"ww\",\n",
    "    \"w1\",\n",
    "    \"w2\",\n",
    "    \"n\",\n",
    "    \"nbas\",\n",
    "    \"hbas\",\n",
    "    \"cl\",\n",
    "    \"cm\",\n",
    "    \"ch\",\n",
    "    \"pres\",\n",
    "    \"tend24\",\n",
    "    \"raf10\",\n",
    "    \"rafper\",\n",
    "    \"etat_sol\",\n",
    "    \"ht_neige\",\n",
    "    \"ssfrai\",\n",
    "    \"rr1\",\n",
    "    \"rr3\",\n",
    "    \"rr6\",\n",
    "    \"rr12\",\n",
    "    \"rr24\",\n",
    "    \"nnuage1\",\n",
    "    \"ctype1\",\n",
    "    \"hnuage1\",\n",
    "    \"temp_humidity_interaction\",\n",
    "    \"t_lag6h\",\n",
    "    \"t_lag9h\",\n",
    "    \"t_lag12h\",\n",
    "    \"t_lag24h\",\n",
    "    \"t_lag168h\",\n",
    "    \"td_lag6h\",\n",
    "    \"td_lag9h\",\n",
    "    \"td_lag12h\",\n",
    "    \"td_lag24h\",\n",
    "    \"td_lag168h\",\n",
    "    \"u_lag6h\",\n",
    "    \"u_lag9h\",\n",
    "    \"u_lag12h\",\n",
    "    \"u_lag24h\",\n",
    "    \"u_lag168h\",\n",
    "    \"ww_lag6h\",\n",
    "    \"ww_lag9h\",\n",
    "    \"ww_lag12h\",\n",
    "    \"ww_lag24h\",\n",
    "    \"ww_lag168h\",\n",
    "    \"n_lag6h\",\n",
    "    \"n_lag9h\",\n",
    "    \"n_lag12h\",\n",
    "    \"n_lag24h\",\n",
    "    \"n_lag168h\",\n",
    "    \"tend24_lag6h\",\n",
    "    \"tend24_lag9h\",\n",
    "    \"tend24_lag12h\",\n",
    "    \"tend24_lag24h\",\n",
    "    \"tend24_lag168h\",\n",
    "    \"etat_sol_lag6h\",\n",
    "    \"etat_sol_lag9h\",\n",
    "    \"etat_sol_lag12h\",\n",
    "    \"etat_sol_lag24h\",\n",
    "    \"etat_sol_lag168h\",\n",
    "    \"rr12_lag6h\",\n",
    "    \"rr12_lag9h\",\n",
    "    \"rr12_lag12h\",\n",
    "    \"rr12_lag24h\",\n",
    "    \"rr12_lag168h\",\n",
    "    \"temp_hour_interaction\",\n",
    "    \"humidity_day_interaction\",\n",
    "]\n",
    "\n",
    "target = [\"log_bike_count\"]\n",
    "cat_feature = [\"counter_name\"]"
   ]
  },
  {
   "cell_type": "code",
   "execution_count": null,
   "metadata": {},
   "outputs": [],
   "source": [
    "X_train = combined_train[features]\n",
    "y_train = combined_train[target]\n",
    "X_test = combined_test[features]\n",
    "y_test = combined_test[target]"
   ]
  },
  {
   "cell_type": "code",
   "execution_count": null,
   "metadata": {},
   "outputs": [],
   "source": [
    "reg = xgb.XGBRegressor(\n",
    "    tree_method=\"hist\", n_estimators=1500, enable_categorical=True)\n",
    "\n",
    "reg.fit(\n",
    "    X_train,\n",
    "    y_train,\n",
    "    eval_set=[(X_train, y_train), (X_test, y_test)],\n",
    "    early_stopping_rounds=10,\n",
    "    verbose=10,\n",
    ")"
   ]
  },
  {
   "cell_type": "code",
   "execution_count": null,
   "metadata": {},
   "outputs": [],
   "source": [
    "y_hat_xgb = reg.predict(X_train)\n",
    "rmse_xgb_train = mean_squared_error(y_train, y_hat_xgb, squared=False)\n",
    "print(\"XGB Train:\", rmse_xgb_train)\n",
    "\n",
    "y_pred_xgb = reg.predict(X_test)\n",
    "rmse_xgb_test = mean_squared_error(y_test, y_pred_xgb, squared=False)\n",
    "print(\"XGB Test:\", rmse_xgb_test)"
   ]
  },
  {
   "cell_type": "code",
   "execution_count": null,
   "metadata": {},
   "outputs": [],
   "source": [
    "fi = pd.DataFrame(\n",
    "    data=reg.feature_importances_, index=reg.feature_names_in_, columns=[\n",
    "        \"Importance\"]\n",
    ")\n",
    "fi.sort_values(by=\"Importance\", ascending=False)"
   ]
  },
  {
   "cell_type": "code",
   "execution_count": null,
   "metadata": {},
   "outputs": [],
   "source": []
  },
  {
   "cell_type": "code",
   "execution_count": null,
   "metadata": {},
   "outputs": [],
   "source": [
    "features = [\n",
    "    \"hour_cos\",\n",
    "    \"temp_hour_interaction\",\n",
    "    \"humidity_day_interaction\",\n",
    "    \"etat_sol\",\n",
    "    \"counter_name\",\n",
    "    \"dayofyear\",\n",
    "    \"hour_sin\",\n",
    "    \"t_lag168h\",\n",
    "    \"etat_sol_lag6h\",\n",
    "    \"t\",\n",
    "    \"t_lag12h\",\n",
    "    \"t_lag9h\",\n",
    "    \"w1\",\n",
    "    \"dayofweek\",\n",
    "    \"n\",\n",
    "    \"month\",\n",
    "    \"t_lag24h\",\n",
    "    \"lockdown_2\",\n",
    "    \"ww\",\n",
    "    \"u\",\n",
    "    \"lockdown_3_3\",\n",
    "    \"ht_neige\",\n",
    "    \"t_lag6h\",\n",
    "    \"dayofweek_cos\",\n",
    "    \"lockdown_3_1\",\n",
    "    \"lockdown_3_2\",\n",
    "    \"td_lag12h\",\n",
    "    \"hour\",\n",
    "    \"rr3\",\n",
    "    \"rr24\",\n",
    "    \"raf10\",\n",
    "    \"dayofweek_sin\",\n",
    "    \"n_lag6h\",\n",
    "    \"td_lag24h\",\n",
    "    \"td_lag168h\",\n",
    "    \"etat_sol_lag12h\",\n",
    "    \"tend24_lag6h\",\n",
    "    \"u_lag9h\",\n",
    "    \"etat_sol_lag168h\",\n",
    "    \"ww_lag6h\",\n",
    "    \"u_lag24h\",\n",
    "    \"tend24_lag9h\",\n",
    "    \"rr12_lag12h\",\n",
    "    \"dd\",\n",
    "    \"cl\",\n",
    "    \"pres\",\n",
    "    \"u_lag12h\",\n",
    "    \"u_lag6h\",\n",
    "    \"etat_sol_lag9h\",\n",
    "    \"rr12_lag168h\",\n",
    "    \"tend24\",\n",
    "    \"temp_humidity_interaction\",\n",
    "    \"rr12_lag24h\",\n",
    "    \"td\",\n",
    "    \"cm\",\n",
    "]\n",
    "target = [\"log_bike_count\"]\n",
    "cat_feature = [\"counter_name\"]"
   ]
  },
  {
   "cell_type": "code",
   "execution_count": null,
   "metadata": {},
   "outputs": [],
   "source": [
    "X_train = combined_train[features]\n",
    "y_train = combined_train[target]\n",
    "X_test = combined_test[features]\n",
    "y_test = combined_test[target]\n",
    "X_pred = combined_prediction[features]"
   ]
  },
  {
   "cell_type": "code",
   "execution_count": null,
   "metadata": {},
   "outputs": [],
   "source": [
    "best_params = {\n",
    "    \"n_estimators\": 633,\n",
    "    \"max_depth\": 11,\n",
    "    \"min_child_weight\": 2,\n",
    "    \"gamma\": 0.5,\n",
    "    \"learning_rate\": 0.01745767642563374,\n",
    "    \"subsample\": 0.6852898171340072,\n",
    "    \"colsample_bytree\": 0.5752583768824626,\n",
    "    \"reg_alpha\": 0.6174748033948815,\n",
    "    \"reg_lambda\": 0.37071451261939165,\n",
    "}\n",
    "\n",
    "final_model = xgb.XGBRegressor(\n",
    "    tree_method=\"hist\", **best_params, enable_categorical=True\n",
    ")\n",
    "final_model.fit(\n",
    "    X_train,\n",
    "    y_train,\n",
    "    eval_set=[(X_test, y_test)],\n",
    "    early_stopping_rounds=10,\n",
    "    verbose=10,\n",
    ")"
   ]
  },
  {
   "cell_type": "code",
   "execution_count": null,
   "metadata": {},
   "outputs": [],
   "source": [
    "y_pred_train = final_model.predict(X_train)\n",
    "rmse_train = mean_squared_error(y_train, y_pred_train, squared=False)\n",
    "print(\"Final Model  Train RMSE:\", rmse_train)\n",
    "\n",
    "y_pred_test = final_model.predict(X_test)\n",
    "rmse_test = mean_squared_error(y_test, y_pred_test, squared=False)\n",
    "print(\"Final Model Test RMSE:\", rmse_test)"
   ]
  },
  {
   "cell_type": "code",
   "execution_count": null,
   "metadata": {},
   "outputs": [],
   "source": [
    "fi = pd.DataFrame(\n",
    "    data=final_model.feature_importances_,\n",
    "    index=final_model.feature_names_in_,\n",
    "    columns=[\"Importance\"],\n",
    ")"
   ]
  },
  {
   "cell_type": "code",
   "execution_count": null,
   "metadata": {},
   "outputs": [],
   "source": [
    "fi.sort_values(by=\"Importance\", ascending=False)"
   ]
  },
  {
   "cell_type": "code",
   "execution_count": null,
   "metadata": {},
   "outputs": [],
   "source": []
  },
  {
   "cell_type": "code",
   "execution_count": 42,
   "metadata": {},
   "outputs": [],
   "source": [
    "features = [\n",
    "    \"hour_cos\",\n",
    "    \"hour\",\n",
    "    \"temp_hour_interaction\",\n",
    "    \"counter_name\",\n",
    "    \"hour_sin\",\n",
    "    \"lockdown_3_3\",\n",
    "    \"t\",\n",
    "    \"u_lag9h\",\n",
    "    \"t_lag24h\",\n",
    "    \"u\",\n",
    "    \"lockdown_3_2\",\n",
    "    \"month\",\n",
    "    \"etat_sol\",\n",
    "    \"dayofyear\",\n",
    "    \"humidity_day_interaction\",\n",
    "    \"dayofweek_sin\",\n",
    "    \"t_lag9h\",\n",
    "    \"temp_humidity_interaction\",\n",
    "    \"dayofweek\",\n",
    "    \"lockdown_3_1\",\n",
    "    \"t_lag12h\",\n",
    "    \"t_lag6h\",\n",
    "]\n",
    "target = ['log_bike_count']\n",
    "cat_feature = ['counter_name']"
   ]
  },
  {
   "cell_type": "code",
   "execution_count": 28,
   "metadata": {},
   "outputs": [],
   "source": [
    "X_train = combined_train[features]\n",
    "y_train = combined_train[target]\n",
    "X_test = combined_test[features]\n",
    "y_test = combined_test[target]"
   ]
  },
  {
   "cell_type": "code",
   "execution_count": 30,
   "metadata": {},
   "outputs": [
    {
     "name": "stdout",
     "output_type": "stream",
     "text": [
      "[0]\tvalidation_0-rmse:3.20416\n",
      "[10]\tvalidation_0-rmse:2.71568\n",
      "[20]\tvalidation_0-rmse:2.29121\n",
      "[30]\tvalidation_0-rmse:1.93657\n",
      "[40]\tvalidation_0-rmse:1.64050\n",
      "[50]\tvalidation_0-rmse:1.39892\n",
      "[60]\tvalidation_0-rmse:1.21431\n",
      "[70]\tvalidation_0-rmse:1.04909\n",
      "[80]\tvalidation_0-rmse:0.91746\n",
      "[90]\tvalidation_0-rmse:0.81270\n",
      "[100]\tvalidation_0-rmse:0.73281\n",
      "[110]\tvalidation_0-rmse:0.66214\n",
      "[120]\tvalidation_0-rmse:0.61079\n",
      "[130]\tvalidation_0-rmse:0.56254\n",
      "[140]\tvalidation_0-rmse:0.53135\n",
      "[150]\tvalidation_0-rmse:0.51218\n",
      "[160]\tvalidation_0-rmse:0.49234\n",
      "[170]\tvalidation_0-rmse:0.48007\n",
      "[180]\tvalidation_0-rmse:0.46737\n",
      "[190]\tvalidation_0-rmse:0.45839\n",
      "[200]\tvalidation_0-rmse:0.44956\n",
      "[210]\tvalidation_0-rmse:0.44324\n",
      "[220]\tvalidation_0-rmse:0.43975\n",
      "[230]\tvalidation_0-rmse:0.43450\n",
      "[240]\tvalidation_0-rmse:0.43042\n",
      "[250]\tvalidation_0-rmse:0.42605\n",
      "[260]\tvalidation_0-rmse:0.42303\n",
      "[270]\tvalidation_0-rmse:0.42125\n",
      "[280]\tvalidation_0-rmse:0.41832\n",
      "[290]\tvalidation_0-rmse:0.41539\n",
      "[300]\tvalidation_0-rmse:0.41415\n",
      "[310]\tvalidation_0-rmse:0.41370\n",
      "[320]\tvalidation_0-rmse:0.41266\n",
      "[330]\tvalidation_0-rmse:0.41177\n",
      "[340]\tvalidation_0-rmse:0.41030\n",
      "[350]\tvalidation_0-rmse:0.40936\n",
      "[360]\tvalidation_0-rmse:0.40835\n",
      "[370]\tvalidation_0-rmse:0.40762\n",
      "[380]\tvalidation_0-rmse:0.40724\n",
      "[390]\tvalidation_0-rmse:0.40645\n",
      "[400]\tvalidation_0-rmse:0.40586\n",
      "[410]\tvalidation_0-rmse:0.40501\n",
      "[420]\tvalidation_0-rmse:0.40444\n",
      "[430]\tvalidation_0-rmse:0.40405\n",
      "[440]\tvalidation_0-rmse:0.40367\n",
      "[450]\tvalidation_0-rmse:0.40361\n",
      "[453]\tvalidation_0-rmse:0.40368\n"
     ]
    },
    {
     "data": {
      "text/html": [
       "<style>#sk-container-id-1 {color: black;}#sk-container-id-1 pre{padding: 0;}#sk-container-id-1 div.sk-toggleable {background-color: white;}#sk-container-id-1 label.sk-toggleable__label {cursor: pointer;display: block;width: 100%;margin-bottom: 0;padding: 0.3em;box-sizing: border-box;text-align: center;}#sk-container-id-1 label.sk-toggleable__label-arrow:before {content: \"▸\";float: left;margin-right: 0.25em;color: #696969;}#sk-container-id-1 label.sk-toggleable__label-arrow:hover:before {color: black;}#sk-container-id-1 div.sk-estimator:hover label.sk-toggleable__label-arrow:before {color: black;}#sk-container-id-1 div.sk-toggleable__content {max-height: 0;max-width: 0;overflow: hidden;text-align: left;background-color: #f0f8ff;}#sk-container-id-1 div.sk-toggleable__content pre {margin: 0.2em;color: black;border-radius: 0.25em;background-color: #f0f8ff;}#sk-container-id-1 input.sk-toggleable__control:checked~div.sk-toggleable__content {max-height: 200px;max-width: 100%;overflow: auto;}#sk-container-id-1 input.sk-toggleable__control:checked~label.sk-toggleable__label-arrow:before {content: \"▾\";}#sk-container-id-1 div.sk-estimator input.sk-toggleable__control:checked~label.sk-toggleable__label {background-color: #d4ebff;}#sk-container-id-1 div.sk-label input.sk-toggleable__control:checked~label.sk-toggleable__label {background-color: #d4ebff;}#sk-container-id-1 input.sk-hidden--visually {border: 0;clip: rect(1px 1px 1px 1px);clip: rect(1px, 1px, 1px, 1px);height: 1px;margin: -1px;overflow: hidden;padding: 0;position: absolute;width: 1px;}#sk-container-id-1 div.sk-estimator {font-family: monospace;background-color: #f0f8ff;border: 1px dotted black;border-radius: 0.25em;box-sizing: border-box;margin-bottom: 0.5em;}#sk-container-id-1 div.sk-estimator:hover {background-color: #d4ebff;}#sk-container-id-1 div.sk-parallel-item::after {content: \"\";width: 100%;border-bottom: 1px solid gray;flex-grow: 1;}#sk-container-id-1 div.sk-label:hover label.sk-toggleable__label {background-color: #d4ebff;}#sk-container-id-1 div.sk-serial::before {content: \"\";position: absolute;border-left: 1px solid gray;box-sizing: border-box;top: 0;bottom: 0;left: 50%;z-index: 0;}#sk-container-id-1 div.sk-serial {display: flex;flex-direction: column;align-items: center;background-color: white;padding-right: 0.2em;padding-left: 0.2em;position: relative;}#sk-container-id-1 div.sk-item {position: relative;z-index: 1;}#sk-container-id-1 div.sk-parallel {display: flex;align-items: stretch;justify-content: center;background-color: white;position: relative;}#sk-container-id-1 div.sk-item::before, #sk-container-id-1 div.sk-parallel-item::before {content: \"\";position: absolute;border-left: 1px solid gray;box-sizing: border-box;top: 0;bottom: 0;left: 50%;z-index: -1;}#sk-container-id-1 div.sk-parallel-item {display: flex;flex-direction: column;z-index: 1;position: relative;background-color: white;}#sk-container-id-1 div.sk-parallel-item:first-child::after {align-self: flex-end;width: 50%;}#sk-container-id-1 div.sk-parallel-item:last-child::after {align-self: flex-start;width: 50%;}#sk-container-id-1 div.sk-parallel-item:only-child::after {width: 0;}#sk-container-id-1 div.sk-dashed-wrapped {border: 1px dashed gray;margin: 0 0.4em 0.5em 0.4em;box-sizing: border-box;padding-bottom: 0.4em;background-color: white;}#sk-container-id-1 div.sk-label label {font-family: monospace;font-weight: bold;display: inline-block;line-height: 1.2em;}#sk-container-id-1 div.sk-label-container {text-align: center;}#sk-container-id-1 div.sk-container {/* jupyter's `normalize.less` sets `[hidden] { display: none; }` but bootstrap.min.css set `[hidden] { display: none !important; }` so we also need the `!important` here to be able to override the default hidden behavior on the sphinx rendered scikit-learn.org. See: https://github.com/scikit-learn/scikit-learn/issues/21755 */display: inline-block !important;position: relative;}#sk-container-id-1 div.sk-text-repr-fallback {display: none;}</style><div id=\"sk-container-id-1\" class=\"sk-top-container\"><div class=\"sk-text-repr-fallback\"><pre>XGBRegressor(base_score=None, booster=None, callbacks=None,\n",
       "             colsample_bylevel=None, colsample_bynode=None,\n",
       "             colsample_bytree=0.5752583768824626, early_stopping_rounds=None,\n",
       "             enable_categorical=True, eval_metric=None, feature_types=None,\n",
       "             gamma=0.5, gpu_id=None, grow_policy=None, importance_type=None,\n",
       "             interaction_constraints=None, learning_rate=0.01745767642563374,\n",
       "             max_bin=None, max_cat_threshold=None, max_cat_to_onehot=None,\n",
       "             max_delta_step=None, max_depth=11, max_leaves=None,\n",
       "             min_child_weight=2, missing=nan, monotone_constraints=None,\n",
       "             n_estimators=633, n_jobs=None, num_parallel_tree=None,\n",
       "             predictor=None, random_state=None, ...)</pre><b>In a Jupyter environment, please rerun this cell to show the HTML representation or trust the notebook. <br />On GitHub, the HTML representation is unable to render, please try loading this page with nbviewer.org.</b></div><div class=\"sk-container\" hidden><div class=\"sk-item\"><div class=\"sk-estimator sk-toggleable\"><input class=\"sk-toggleable__control sk-hidden--visually\" id=\"sk-estimator-id-1\" type=\"checkbox\" checked><label for=\"sk-estimator-id-1\" class=\"sk-toggleable__label sk-toggleable__label-arrow\">XGBRegressor</label><div class=\"sk-toggleable__content\"><pre>XGBRegressor(base_score=None, booster=None, callbacks=None,\n",
       "             colsample_bylevel=None, colsample_bynode=None,\n",
       "             colsample_bytree=0.5752583768824626, early_stopping_rounds=None,\n",
       "             enable_categorical=True, eval_metric=None, feature_types=None,\n",
       "             gamma=0.5, gpu_id=None, grow_policy=None, importance_type=None,\n",
       "             interaction_constraints=None, learning_rate=0.01745767642563374,\n",
       "             max_bin=None, max_cat_threshold=None, max_cat_to_onehot=None,\n",
       "             max_delta_step=None, max_depth=11, max_leaves=None,\n",
       "             min_child_weight=2, missing=nan, monotone_constraints=None,\n",
       "             n_estimators=633, n_jobs=None, num_parallel_tree=None,\n",
       "             predictor=None, random_state=None, ...)</pre></div></div></div></div></div>"
      ],
      "text/plain": [
       "XGBRegressor(base_score=None, booster=None, callbacks=None,\n",
       "             colsample_bylevel=None, colsample_bynode=None,\n",
       "             colsample_bytree=0.5752583768824626, early_stopping_rounds=None,\n",
       "             enable_categorical=True, eval_metric=None, feature_types=None,\n",
       "             gamma=0.5, gpu_id=None, grow_policy=None, importance_type=None,\n",
       "             interaction_constraints=None, learning_rate=0.01745767642563374,\n",
       "             max_bin=None, max_cat_threshold=None, max_cat_to_onehot=None,\n",
       "             max_delta_step=None, max_depth=11, max_leaves=None,\n",
       "             min_child_weight=2, missing=nan, monotone_constraints=None,\n",
       "             n_estimators=633, n_jobs=None, num_parallel_tree=None,\n",
       "             predictor=None, random_state=None, ...)"
      ]
     },
     "execution_count": 30,
     "metadata": {},
     "output_type": "execute_result"
    }
   ],
   "source": [
    "best_params = {\n",
    "    \"n_estimators\": 633,\n",
    "    \"max_depth\": 11,\n",
    "    \"min_child_weight\": 2,\n",
    "    \"gamma\": 0.5,\n",
    "    \"learning_rate\": 0.01745767642563374,\n",
    "    \"subsample\": 0.6852898171340072,\n",
    "    \"colsample_bytree\": 0.5752583768824626,\n",
    "    \"reg_alpha\": 0.6174748033948815,\n",
    "    \"reg_lambda\": 0.37071451261939165,\n",
    "}\n",
    "final_model = xgb.XGBRegressor(\n",
    "\n",
    "\n",
    "\n",
    "\n",
    "    tree_method=\"hist\", **best_params, enable_categorical=True\n",
    "\n",
    "\n",
    "\n",
    "\n",
    ")\n",
    "\n",
    "\n",
    "final_model.fit(\n",
    "\n",
    "\n",
    "\n",
    "\n",
    "    X_train,\n",
    "\n",
    "\n",
    "\n",
    "\n",
    "    y_train,\n",
    "\n",
    "\n",
    "\n",
    "\n",
    "    eval_set=[(X_test, y_test)],\n",
    "\n",
    "\n",
    "\n",
    "\n",
    "    early_stopping_rounds=10,\n",
    "\n",
    "\n",
    "\n",
    "\n",
    "    verbose=10,\n",
    "\n",
    "\n",
    "\n",
    "\n",
    ")"
   ]
  },
  {
   "cell_type": "code",
   "execution_count": 31,
   "metadata": {},
   "outputs": [
    {
     "name": "stdout",
     "output_type": "stream",
     "text": [
      "Final Model  Train RMSE: 0.3325216647379481\n",
      "Final Model Test RMSE: 0.40347115850532306\n"
     ]
    }
   ],
   "source": [
    "y_pred_train = final_model.predict(X_train)\n",
    "rmse_train = mean_squared_error(y_train, y_pred_train, squared=False)\n",
    "print(\"Final Model  Train RMSE:\", rmse_train)\n",
    "\n",
    "y_pred_test = final_model.predict(X_test)\n",
    "rmse_test = mean_squared_error(y_test, y_pred_test, squared=False)\n",
    "print(\"Final Model Test RMSE:\", rmse_test)"
   ]
  },
  {
   "cell_type": "code",
   "execution_count": 34,
   "metadata": {},
   "outputs": [
    {
     "data": {
      "text/html": [
       "<div>\n",
       "<style scoped>\n",
       "    .dataframe tbody tr th:only-of-type {\n",
       "        vertical-align: middle;\n",
       "    }\n",
       "\n",
       "    .dataframe tbody tr th {\n",
       "        vertical-align: top;\n",
       "    }\n",
       "\n",
       "    .dataframe thead th {\n",
       "        text-align: right;\n",
       "    }\n",
       "</style>\n",
       "<table border=\"1\" class=\"dataframe\">\n",
       "  <thead>\n",
       "    <tr style=\"text-align: right;\">\n",
       "      <th></th>\n",
       "      <th>Importance</th>\n",
       "    </tr>\n",
       "  </thead>\n",
       "  <tbody>\n",
       "    <tr>\n",
       "      <th>hour_cos</th>\n",
       "      <td>0.291146</td>\n",
       "    </tr>\n",
       "    <tr>\n",
       "      <th>hour</th>\n",
       "      <td>0.181208</td>\n",
       "    </tr>\n",
       "    <tr>\n",
       "      <th>temp_hour_interaction</th>\n",
       "      <td>0.118382</td>\n",
       "    </tr>\n",
       "    <tr>\n",
       "      <th>counter_name</th>\n",
       "      <td>0.086044</td>\n",
       "    </tr>\n",
       "    <tr>\n",
       "      <th>hour_sin</th>\n",
       "      <td>0.077321</td>\n",
       "    </tr>\n",
       "    <tr>\n",
       "      <th>dayofyear</th>\n",
       "      <td>0.021467</td>\n",
       "    </tr>\n",
       "    <tr>\n",
       "      <th>dayofweek_sin</th>\n",
       "      <td>0.020475</td>\n",
       "    </tr>\n",
       "    <tr>\n",
       "      <th>month</th>\n",
       "      <td>0.018448</td>\n",
       "    </tr>\n",
       "    <tr>\n",
       "      <th>u</th>\n",
       "      <td>0.018364</td>\n",
       "    </tr>\n",
       "    <tr>\n",
       "      <th>humidity_day_interaction</th>\n",
       "      <td>0.017329</td>\n",
       "    </tr>\n",
       "    <tr>\n",
       "      <th>t_lag24h</th>\n",
       "      <td>0.015937</td>\n",
       "    </tr>\n",
       "    <tr>\n",
       "      <th>t</th>\n",
       "      <td>0.015675</td>\n",
       "    </tr>\n",
       "    <tr>\n",
       "      <th>dayofweek</th>\n",
       "      <td>0.015200</td>\n",
       "    </tr>\n",
       "    <tr>\n",
       "      <th>etat_sol</th>\n",
       "      <td>0.014129</td>\n",
       "    </tr>\n",
       "    <tr>\n",
       "      <th>lockdown_3_1</th>\n",
       "      <td>0.014094</td>\n",
       "    </tr>\n",
       "    <tr>\n",
       "      <th>t_lag9h</th>\n",
       "      <td>0.014057</td>\n",
       "    </tr>\n",
       "    <tr>\n",
       "      <th>t_lag12h</th>\n",
       "      <td>0.012692</td>\n",
       "    </tr>\n",
       "    <tr>\n",
       "      <th>t_lag6h</th>\n",
       "      <td>0.012081</td>\n",
       "    </tr>\n",
       "    <tr>\n",
       "      <th>u_lag9h</th>\n",
       "      <td>0.010735</td>\n",
       "    </tr>\n",
       "    <tr>\n",
       "      <th>lockdown_3_2</th>\n",
       "      <td>0.008822</td>\n",
       "    </tr>\n",
       "    <tr>\n",
       "      <th>lockdown_3_3</th>\n",
       "      <td>0.008485</td>\n",
       "    </tr>\n",
       "    <tr>\n",
       "      <th>temp_humidity_interaction</th>\n",
       "      <td>0.007908</td>\n",
       "    </tr>\n",
       "  </tbody>\n",
       "</table>\n",
       "</div>"
      ],
      "text/plain": [
       "                           Importance\n",
       "hour_cos                     0.291146\n",
       "hour                         0.181208\n",
       "temp_hour_interaction        0.118382\n",
       "counter_name                 0.086044\n",
       "hour_sin                     0.077321\n",
       "dayofyear                    0.021467\n",
       "dayofweek_sin                0.020475\n",
       "month                        0.018448\n",
       "u                            0.018364\n",
       "humidity_day_interaction     0.017329\n",
       "t_lag24h                     0.015937\n",
       "t                            0.015675\n",
       "dayofweek                    0.015200\n",
       "etat_sol                     0.014129\n",
       "lockdown_3_1                 0.014094\n",
       "t_lag9h                      0.014057\n",
       "t_lag12h                     0.012692\n",
       "t_lag6h                      0.012081\n",
       "u_lag9h                      0.010735\n",
       "lockdown_3_2                 0.008822\n",
       "lockdown_3_3                 0.008485\n",
       "temp_humidity_interaction    0.007908"
      ]
     },
     "execution_count": 34,
     "metadata": {},
     "output_type": "execute_result"
    }
   ],
   "source": [
    "fi = pd.DataFrame(\n",
    "    data=final_model.feature_importances_,\n",
    "    index=final_model.feature_names_in_,\n",
    "    columns=[\"Importance\"],\n",
    ")\n",
    "fi.sort_values(by=\"Importance\", ascending=False)"
   ]
  },
  {
   "cell_type": "code",
   "execution_count": 86,
   "metadata": {},
   "outputs": [],
   "source": [
    "from sklearn.ensemble import BaggingRegressor\n",
    "from sklearn.model_selection import RandomizedSearchCV\n",
    "import optuna"
   ]
  },
  {
   "cell_type": "code",
   "execution_count": 57,
   "metadata": {},
   "outputs": [],
   "source": [
    "X_train_encoded = pd.get_dummies(X_train, columns=cat_feature, dtype=int)\n",
    "X_test_encoded = pd.get_dummies(X_test, columns=cat_feature, dtype=int)"
   ]
  },
  {
   "cell_type": "code",
   "execution_count": 75,
   "metadata": {},
   "outputs": [],
   "source": [
    "base_model = xgb.XGBRegressor(random_state=42)"
   ]
  },
  {
   "cell_type": "code",
   "execution_count": 79,
   "metadata": {},
   "outputs": [],
   "source": [
    "bagging_model = BaggingRegressor(\n",
    "    base_model, n_estimators=10, random_state=42, verbose=10, oob_score=True\n",
    ")"
   ]
  },
  {
   "cell_type": "code",
   "execution_count": 77,
   "metadata": {},
   "outputs": [],
   "source": [
    "param_grid = {\n",
    "    \"base_estimator__n_estimators\": [\n",
    "        50,\n",
    "        100,\n",
    "        200,\n",
    "    ],  # Number of trees in each base model\n",
    "    \"base_estimator__max_depth\": [3, 4, 5],  # Depth of each tree\n",
    "    # Add other hyperparameters here\n",
    "}"
   ]
  },
  {
   "cell_type": "code",
   "execution_count": 84,
   "metadata": {},
   "outputs": [],
   "source": [
    "random_search = RandomizedSearchCV(\n",
    "    bagging_model,\n",
    "    param_distributions=param_grid,\n",
    "    # Number of random parameter combinations to try (can be adjusted)\n",
    "    n_iter=10,\n",
    "    cv=3,  # Number of cross-validation folds\n",
    "    scoring=\"neg_mean_squared_error\",  # Use mean squared error for regression\n",
    "    verbose=10,\n",
    "    n_jobs=-1,  # Use all available CPU cores\n",
    "    random_state=42,\n",
    ")"
   ]
  },
  {
   "cell_type": "code",
   "execution_count": 90,
   "metadata": {},
   "outputs": [],
   "source": [
    "def objective(trial):\n",
    "    # Define the base XGBoost model\n",
    "    base_model = xgb.XGBRegressor(\n",
    "        n_estimators=trial.suggest_int(\"n_estimators\", 50, 200),\n",
    "        max_depth=trial.suggest_int(\"max_depth\", 3, 5),\n",
    "        random_state=42,\n",
    "    )\n",
    "\n",
    "    # Create a BaggingRegressor with XGBoost as base models\n",
    "    bagging_model = BaggingRegressor(\n",
    "        base_model,\n",
    "        n_estimators=10,\n",
    "        random_state=42,\n",
    "        verbose=10,\n",
    "        oob_score=True,  # Enable OOB scoring\n",
    "    )\n",
    "\n",
    "    # Fit the bagging model to the training data\n",
    "    bagging_model.fit(X_train_encoded, y_train)\n",
    "\n",
    "    # Calculate the out-of-bag (OOB) score\n",
    "    oob_score = -bagging_model.oob_score_  # Negate to get MSE\n",
    "    return oob_score"
   ]
  },
  {
   "cell_type": "code",
   "execution_count": 91,
   "metadata": {},
   "outputs": [
    {
     "name": "stderr",
     "output_type": "stream",
     "text": [
      "[I 2023-12-10 21:36:33,452] A new study created in memory with name: no-name-77d98874-5fd9-4245-8e24-a5fe8cecb084\n"
     ]
    }
   ],
   "source": [
    "study = optuna.create_study(direction=\"minimize\")"
   ]
  },
  {
   "cell_type": "code",
   "execution_count": 92,
   "metadata": {},
   "outputs": [
    {
     "name": "stdout",
     "output_type": "stream",
     "text": [
      "Building estimator 1 of 10 for this parallel run (total 10)...\n",
      "Building estimator 2 of 10 for this parallel run (total 10)...\n",
      "Building estimator 3 of 10 for this parallel run (total 10)...\n",
      "Building estimator 4 of 10 for this parallel run (total 10)...\n",
      "Building estimator 5 of 10 for this parallel run (total 10)...\n",
      "Building estimator 6 of 10 for this parallel run (total 10)...\n",
      "Building estimator 7 of 10 for this parallel run (total 10)...\n",
      "Building estimator 8 of 10 for this parallel run (total 10)...\n",
      "Building estimator 9 of 10 for this parallel run (total 10)...\n",
      "Building estimator 10 of 10 for this parallel run (total 10)...\n"
     ]
    },
    {
     "name": "stderr",
     "output_type": "stream",
     "text": [
      "[Parallel(n_jobs=1)]: Done   1 tasks      | elapsed:   38.1s\n",
      "[Parallel(n_jobs=1)]: Done   1 tasks      | elapsed:   38.1s\n",
      "[I 2023-12-10 21:37:14,441] Trial 0 finished with value: -0.8043596353572102 and parameters: {'n_estimators': 73, 'max_depth': 3}. Best is trial 0 with value: -0.8043596353572102.\n"
     ]
    },
    {
     "name": "stdout",
     "output_type": "stream",
     "text": [
      "Building estimator 1 of 10 for this parallel run (total 10)...\n",
      "Building estimator 2 of 10 for this parallel run (total 10)...\n",
      "Building estimator 3 of 10 for this parallel run (total 10)...\n",
      "Building estimator 4 of 10 for this parallel run (total 10)...\n",
      "Building estimator 5 of 10 for this parallel run (total 10)...\n",
      "Building estimator 6 of 10 for this parallel run (total 10)...\n",
      "Building estimator 7 of 10 for this parallel run (total 10)...\n",
      "Building estimator 8 of 10 for this parallel run (total 10)...\n",
      "Building estimator 9 of 10 for this parallel run (total 10)...\n",
      "Building estimator 10 of 10 for this parallel run (total 10)...\n"
     ]
    },
    {
     "name": "stderr",
     "output_type": "stream",
     "text": [
      "[Parallel(n_jobs=1)]: Done   1 tasks      | elapsed:   56.6s\n",
      "[Parallel(n_jobs=1)]: Done   1 tasks      | elapsed:   56.6s\n",
      "[I 2023-12-10 21:38:13,194] Trial 1 finished with value: -0.8513402953520884 and parameters: {'n_estimators': 88, 'max_depth': 4}. Best is trial 1 with value: -0.8513402953520884.\n"
     ]
    },
    {
     "name": "stdout",
     "output_type": "stream",
     "text": [
      "Building estimator 1 of 10 for this parallel run (total 10)...\n",
      "Building estimator 2 of 10 for this parallel run (total 10)...\n",
      "Building estimator 3 of 10 for this parallel run (total 10)...\n",
      "Building estimator 4 of 10 for this parallel run (total 10)...\n",
      "Building estimator 5 of 10 for this parallel run (total 10)...\n",
      "Building estimator 6 of 10 for this parallel run (total 10)...\n",
      "Building estimator 7 of 10 for this parallel run (total 10)...\n",
      "Building estimator 8 of 10 for this parallel run (total 10)...\n",
      "Building estimator 9 of 10 for this parallel run (total 10)...\n",
      "Building estimator 10 of 10 for this parallel run (total 10)...\n"
     ]
    },
    {
     "name": "stderr",
     "output_type": "stream",
     "text": [
      "[Parallel(n_jobs=1)]: Done   1 tasks      | elapsed:   48.6s\n",
      "[Parallel(n_jobs=1)]: Done   1 tasks      | elapsed:   48.6s\n",
      "[I 2023-12-10 21:39:03,853] Trial 2 finished with value: -0.8560931819465505 and parameters: {'n_estimators': 59, 'max_depth': 5}. Best is trial 2 with value: -0.8560931819465505.\n"
     ]
    },
    {
     "name": "stdout",
     "output_type": "stream",
     "text": [
      "Building estimator 1 of 10 for this parallel run (total 10)...\n",
      "Building estimator 2 of 10 for this parallel run (total 10)...\n",
      "Building estimator 3 of 10 for this parallel run (total 10)...\n",
      "Building estimator 4 of 10 for this parallel run (total 10)...\n",
      "Building estimator 5 of 10 for this parallel run (total 10)...\n",
      "Building estimator 6 of 10 for this parallel run (total 10)...\n",
      "Building estimator 7 of 10 for this parallel run (total 10)...\n",
      "Building estimator 8 of 10 for this parallel run (total 10)...\n",
      "Building estimator 9 of 10 for this parallel run (total 10)...\n",
      "Building estimator 10 of 10 for this parallel run (total 10)...\n"
     ]
    },
    {
     "name": "stderr",
     "output_type": "stream",
     "text": [
      "[Parallel(n_jobs=1)]: Done   1 tasks      | elapsed:  1.1min\n",
      "[Parallel(n_jobs=1)]: Done   1 tasks      | elapsed:  1.1min\n",
      "[I 2023-12-10 21:40:14,564] Trial 3 finished with value: -0.8732921894589202 and parameters: {'n_estimators': 85, 'max_depth': 5}. Best is trial 3 with value: -0.8732921894589202.\n"
     ]
    },
    {
     "name": "stdout",
     "output_type": "stream",
     "text": [
      "Building estimator 1 of 10 for this parallel run (total 10)...\n",
      "Building estimator 2 of 10 for this parallel run (total 10)...\n",
      "Building estimator 3 of 10 for this parallel run (total 10)...\n",
      "Building estimator 4 of 10 for this parallel run (total 10)...\n",
      "Building estimator 5 of 10 for this parallel run (total 10)...\n",
      "Building estimator 6 of 10 for this parallel run (total 10)...\n",
      "Building estimator 7 of 10 for this parallel run (total 10)...\n",
      "Building estimator 8 of 10 for this parallel run (total 10)...\n",
      "Building estimator 9 of 10 for this parallel run (total 10)...\n",
      "Building estimator 10 of 10 for this parallel run (total 10)...\n"
     ]
    },
    {
     "name": "stderr",
     "output_type": "stream",
     "text": [
      "[Parallel(n_jobs=1)]: Done   1 tasks      | elapsed:   51.8s\n",
      "[Parallel(n_jobs=1)]: Done   1 tasks      | elapsed:   51.8s\n",
      "[I 2023-12-10 21:41:08,447] Trial 4 finished with value: -0.8423141217056241 and parameters: {'n_estimators': 75, 'max_depth': 4}. Best is trial 3 with value: -0.8732921894589202.\n"
     ]
    },
    {
     "name": "stdout",
     "output_type": "stream",
     "text": [
      "Building estimator 1 of 10 for this parallel run (total 10)...\n",
      "Building estimator 2 of 10 for this parallel run (total 10)...\n",
      "Building estimator 3 of 10 for this parallel run (total 10)...\n",
      "Building estimator 4 of 10 for this parallel run (total 10)...\n",
      "Building estimator 5 of 10 for this parallel run (total 10)...\n",
      "Building estimator 6 of 10 for this parallel run (total 10)...\n",
      "Building estimator 7 of 10 for this parallel run (total 10)...\n",
      "Building estimator 8 of 10 for this parallel run (total 10)...\n",
      "Building estimator 9 of 10 for this parallel run (total 10)...\n",
      "Building estimator 10 of 10 for this parallel run (total 10)...\n"
     ]
    },
    {
     "name": "stderr",
     "output_type": "stream",
     "text": [
      "[Parallel(n_jobs=1)]: Done   1 tasks      | elapsed:  1.9min\n",
      "[Parallel(n_jobs=1)]: Done   1 tasks      | elapsed:  1.9min\n",
      "[I 2023-12-10 21:43:05,060] Trial 5 finished with value: -0.8793834816206412 and parameters: {'n_estimators': 176, 'max_depth': 4}. Best is trial 5 with value: -0.8793834816206412.\n"
     ]
    },
    {
     "name": "stdout",
     "output_type": "stream",
     "text": [
      "Building estimator 1 of 10 for this parallel run (total 10)...\n",
      "Building estimator 2 of 10 for this parallel run (total 10)...\n",
      "Building estimator 3 of 10 for this parallel run (total 10)...\n",
      "Building estimator 4 of 10 for this parallel run (total 10)...\n",
      "Building estimator 5 of 10 for this parallel run (total 10)...\n",
      "Building estimator 6 of 10 for this parallel run (total 10)...\n",
      "Building estimator 7 of 10 for this parallel run (total 10)...\n",
      "Building estimator 8 of 10 for this parallel run (total 10)...\n",
      "Building estimator 9 of 10 for this parallel run (total 10)...\n",
      "Building estimator 10 of 10 for this parallel run (total 10)...\n"
     ]
    },
    {
     "name": "stderr",
     "output_type": "stream",
     "text": [
      "[Parallel(n_jobs=1)]: Done   1 tasks      | elapsed:  1.4min\n",
      "[Parallel(n_jobs=1)]: Done   1 tasks      | elapsed:  1.4min\n",
      "[I 2023-12-10 21:44:32,634] Trial 6 finished with value: -0.8704884699838676 and parameters: {'n_estimators': 134, 'max_depth': 4}. Best is trial 5 with value: -0.8793834816206412.\n"
     ]
    },
    {
     "name": "stdout",
     "output_type": "stream",
     "text": [
      "Building estimator 1 of 10 for this parallel run (total 10)...\n",
      "Building estimator 2 of 10 for this parallel run (total 10)...\n",
      "Building estimator 3 of 10 for this parallel run (total 10)...\n",
      "Building estimator 4 of 10 for this parallel run (total 10)...\n",
      "Building estimator 5 of 10 for this parallel run (total 10)...\n",
      "Building estimator 6 of 10 for this parallel run (total 10)...\n",
      "Building estimator 7 of 10 for this parallel run (total 10)...\n",
      "Building estimator 8 of 10 for this parallel run (total 10)...\n",
      "Building estimator 9 of 10 for this parallel run (total 10)...\n",
      "Building estimator 10 of 10 for this parallel run (total 10)...\n"
     ]
    },
    {
     "name": "stderr",
     "output_type": "stream",
     "text": [
      "[Parallel(n_jobs=1)]: Done   1 tasks      | elapsed:   59.6s\n",
      "[Parallel(n_jobs=1)]: Done   1 tasks      | elapsed:   59.6s\n",
      "[I 2023-12-10 21:45:34,285] Trial 7 finished with value: -0.8542092223170503 and parameters: {'n_estimators': 92, 'max_depth': 4}. Best is trial 5 with value: -0.8793834816206412.\n"
     ]
    },
    {
     "name": "stdout",
     "output_type": "stream",
     "text": [
      "Building estimator 1 of 10 for this parallel run (total 10)...\n",
      "Building estimator 2 of 10 for this parallel run (total 10)...\n",
      "Building estimator 3 of 10 for this parallel run (total 10)...\n",
      "Building estimator 4 of 10 for this parallel run (total 10)...\n",
      "Building estimator 5 of 10 for this parallel run (total 10)...\n",
      "Building estimator 6 of 10 for this parallel run (total 10)...\n",
      "Building estimator 7 of 10 for this parallel run (total 10)...\n",
      "Building estimator 8 of 10 for this parallel run (total 10)...\n",
      "Building estimator 9 of 10 for this parallel run (total 10)...\n",
      "Building estimator 10 of 10 for this parallel run (total 10)...\n"
     ]
    },
    {
     "name": "stderr",
     "output_type": "stream",
     "text": [
      "[Parallel(n_jobs=1)]: Done   1 tasks      | elapsed:  2.1min\n",
      "[Parallel(n_jobs=1)]: Done   1 tasks      | elapsed:  2.1min\n",
      "[I 2023-12-10 21:47:42,288] Trial 8 finished with value: -0.8826620903160378 and parameters: {'n_estimators': 199, 'max_depth': 4}. Best is trial 8 with value: -0.8826620903160378.\n"
     ]
    },
    {
     "name": "stdout",
     "output_type": "stream",
     "text": [
      "Building estimator 1 of 10 for this parallel run (total 10)...\n",
      "Building estimator 2 of 10 for this parallel run (total 10)...\n",
      "Building estimator 3 of 10 for this parallel run (total 10)...\n",
      "Building estimator 4 of 10 for this parallel run (total 10)...\n",
      "Building estimator 5 of 10 for this parallel run (total 10)...\n",
      "Building estimator 6 of 10 for this parallel run (total 10)...\n",
      "Building estimator 7 of 10 for this parallel run (total 10)...\n",
      "Building estimator 8 of 10 for this parallel run (total 10)...\n",
      "Building estimator 9 of 10 for this parallel run (total 10)...\n",
      "Building estimator 10 of 10 for this parallel run (total 10)...\n"
     ]
    },
    {
     "name": "stderr",
     "output_type": "stream",
     "text": [
      "[Parallel(n_jobs=1)]: Done   1 tasks      | elapsed:   57.9s\n",
      "[Parallel(n_jobs=1)]: Done   1 tasks      | elapsed:   57.9s\n",
      "[I 2023-12-10 21:48:42,540] Trial 9 finished with value: -0.8471807856274294 and parameters: {'n_estimators': 82, 'max_depth': 4}. Best is trial 8 with value: -0.8826620903160378.\n"
     ]
    }
   ],
   "source": [
    "study.optimize(objective, n_trials=10)"
   ]
  },
  {
   "cell_type": "code",
   "execution_count": 93,
   "metadata": {},
   "outputs": [
    {
     "name": "stdout",
     "output_type": "stream",
     "text": [
      "Best Hyperparameters: {'n_estimators': 199, 'max_depth': 4}\n"
     ]
    }
   ],
   "source": [
    "best_params = study.best_params\n",
    "print(\"Best Hyperparameters:\", best_params)"
   ]
  },
  {
   "cell_type": "code",
   "execution_count": 95,
   "metadata": {},
   "outputs": [
    {
     "name": "stdout",
     "output_type": "stream",
     "text": [
      "Building estimator 1 of 20 for this parallel run (total 20)...\n",
      "Building estimator 2 of 20 for this parallel run (total 20)...\n",
      "Building estimator 3 of 20 for this parallel run (total 20)...\n",
      "Building estimator 4 of 20 for this parallel run (total 20)...\n",
      "Building estimator 5 of 20 for this parallel run (total 20)...\n",
      "Building estimator 6 of 20 for this parallel run (total 20)...\n",
      "Building estimator 7 of 20 for this parallel run (total 20)...\n",
      "Building estimator 8 of 20 for this parallel run (total 20)...\n",
      "Building estimator 9 of 20 for this parallel run (total 20)...\n",
      "Building estimator 10 of 20 for this parallel run (total 20)...\n",
      "Building estimator 11 of 20 for this parallel run (total 20)...\n",
      "Building estimator 12 of 20 for this parallel run (total 20)...\n",
      "Building estimator 13 of 20 for this parallel run (total 20)...\n",
      "Building estimator 14 of 20 for this parallel run (total 20)...\n",
      "Building estimator 15 of 20 for this parallel run (total 20)...\n",
      "Building estimator 16 of 20 for this parallel run (total 20)...\n",
      "Building estimator 17 of 20 for this parallel run (total 20)...\n",
      "Building estimator 18 of 20 for this parallel run (total 20)...\n",
      "Building estimator 19 of 20 for this parallel run (total 20)...\n",
      "Building estimator 20 of 20 for this parallel run (total 20)...\n"
     ]
    },
    {
     "name": "stderr",
     "output_type": "stream",
     "text": [
      "[Parallel(n_jobs=1)]: Done   1 tasks      | elapsed:  4.4min\n",
      "[Parallel(n_jobs=1)]: Done   1 tasks      | elapsed:  4.4min\n"
     ]
    },
    {
     "data": {
      "text/html": [
       "<style>#sk-container-id-6 {color: black;}#sk-container-id-6 pre{padding: 0;}#sk-container-id-6 div.sk-toggleable {background-color: white;}#sk-container-id-6 label.sk-toggleable__label {cursor: pointer;display: block;width: 100%;margin-bottom: 0;padding: 0.3em;box-sizing: border-box;text-align: center;}#sk-container-id-6 label.sk-toggleable__label-arrow:before {content: \"▸\";float: left;margin-right: 0.25em;color: #696969;}#sk-container-id-6 label.sk-toggleable__label-arrow:hover:before {color: black;}#sk-container-id-6 div.sk-estimator:hover label.sk-toggleable__label-arrow:before {color: black;}#sk-container-id-6 div.sk-toggleable__content {max-height: 0;max-width: 0;overflow: hidden;text-align: left;background-color: #f0f8ff;}#sk-container-id-6 div.sk-toggleable__content pre {margin: 0.2em;color: black;border-radius: 0.25em;background-color: #f0f8ff;}#sk-container-id-6 input.sk-toggleable__control:checked~div.sk-toggleable__content {max-height: 200px;max-width: 100%;overflow: auto;}#sk-container-id-6 input.sk-toggleable__control:checked~label.sk-toggleable__label-arrow:before {content: \"▾\";}#sk-container-id-6 div.sk-estimator input.sk-toggleable__control:checked~label.sk-toggleable__label {background-color: #d4ebff;}#sk-container-id-6 div.sk-label input.sk-toggleable__control:checked~label.sk-toggleable__label {background-color: #d4ebff;}#sk-container-id-6 input.sk-hidden--visually {border: 0;clip: rect(1px 1px 1px 1px);clip: rect(1px, 1px, 1px, 1px);height: 1px;margin: -1px;overflow: hidden;padding: 0;position: absolute;width: 1px;}#sk-container-id-6 div.sk-estimator {font-family: monospace;background-color: #f0f8ff;border: 1px dotted black;border-radius: 0.25em;box-sizing: border-box;margin-bottom: 0.5em;}#sk-container-id-6 div.sk-estimator:hover {background-color: #d4ebff;}#sk-container-id-6 div.sk-parallel-item::after {content: \"\";width: 100%;border-bottom: 1px solid gray;flex-grow: 1;}#sk-container-id-6 div.sk-label:hover label.sk-toggleable__label {background-color: #d4ebff;}#sk-container-id-6 div.sk-serial::before {content: \"\";position: absolute;border-left: 1px solid gray;box-sizing: border-box;top: 0;bottom: 0;left: 50%;z-index: 0;}#sk-container-id-6 div.sk-serial {display: flex;flex-direction: column;align-items: center;background-color: white;padding-right: 0.2em;padding-left: 0.2em;position: relative;}#sk-container-id-6 div.sk-item {position: relative;z-index: 1;}#sk-container-id-6 div.sk-parallel {display: flex;align-items: stretch;justify-content: center;background-color: white;position: relative;}#sk-container-id-6 div.sk-item::before, #sk-container-id-6 div.sk-parallel-item::before {content: \"\";position: absolute;border-left: 1px solid gray;box-sizing: border-box;top: 0;bottom: 0;left: 50%;z-index: -1;}#sk-container-id-6 div.sk-parallel-item {display: flex;flex-direction: column;z-index: 1;position: relative;background-color: white;}#sk-container-id-6 div.sk-parallel-item:first-child::after {align-self: flex-end;width: 50%;}#sk-container-id-6 div.sk-parallel-item:last-child::after {align-self: flex-start;width: 50%;}#sk-container-id-6 div.sk-parallel-item:only-child::after {width: 0;}#sk-container-id-6 div.sk-dashed-wrapped {border: 1px dashed gray;margin: 0 0.4em 0.5em 0.4em;box-sizing: border-box;padding-bottom: 0.4em;background-color: white;}#sk-container-id-6 div.sk-label label {font-family: monospace;font-weight: bold;display: inline-block;line-height: 1.2em;}#sk-container-id-6 div.sk-label-container {text-align: center;}#sk-container-id-6 div.sk-container {/* jupyter's `normalize.less` sets `[hidden] { display: none; }` but bootstrap.min.css set `[hidden] { display: none !important; }` so we also need the `!important` here to be able to override the default hidden behavior on the sphinx rendered scikit-learn.org. See: https://github.com/scikit-learn/scikit-learn/issues/21755 */display: inline-block !important;position: relative;}#sk-container-id-6 div.sk-text-repr-fallback {display: none;}</style><div id=\"sk-container-id-6\" class=\"sk-top-container\"><div class=\"sk-text-repr-fallback\"><pre>BaggingRegressor(estimator=XGBRegressor(base_score=None, booster=None,\n",
       "                                        callbacks=None, colsample_bylevel=None,\n",
       "                                        colsample_bynode=None,\n",
       "                                        colsample_bytree=None,\n",
       "                                        early_stopping_rounds=None,\n",
       "                                        enable_categorical=False,\n",
       "                                        eval_metric=None, feature_types=None,\n",
       "                                        gamma=None, gpu_id=None,\n",
       "                                        grow_policy=None, importance_type=None,\n",
       "                                        interaction_constraints=None,\n",
       "                                        learning_rate=None, max_bin=None,\n",
       "                                        max_cat_threshold=None,\n",
       "                                        max_cat_to_onehot=None,\n",
       "                                        max_delta_step=None, max_depth=4,\n",
       "                                        max_leaves=None, min_child_weight=None,\n",
       "                                        missing=nan, monotone_constraints=None,\n",
       "                                        n_estimators=199, n_jobs=None,\n",
       "                                        num_parallel_tree=None, predictor=None,\n",
       "                                        random_state=42, ...),\n",
       "                 n_estimators=20, oob_score=True, random_state=42, verbose=10)</pre><b>In a Jupyter environment, please rerun this cell to show the HTML representation or trust the notebook. <br />On GitHub, the HTML representation is unable to render, please try loading this page with nbviewer.org.</b></div><div class=\"sk-container\" hidden><div class=\"sk-item sk-dashed-wrapped\"><div class=\"sk-label-container\"><div class=\"sk-label sk-toggleable\"><input class=\"sk-toggleable__control sk-hidden--visually\" id=\"sk-estimator-id-16\" type=\"checkbox\" ><label for=\"sk-estimator-id-16\" class=\"sk-toggleable__label sk-toggleable__label-arrow\">BaggingRegressor</label><div class=\"sk-toggleable__content\"><pre>BaggingRegressor(estimator=XGBRegressor(base_score=None, booster=None,\n",
       "                                        callbacks=None, colsample_bylevel=None,\n",
       "                                        colsample_bynode=None,\n",
       "                                        colsample_bytree=None,\n",
       "                                        early_stopping_rounds=None,\n",
       "                                        enable_categorical=False,\n",
       "                                        eval_metric=None, feature_types=None,\n",
       "                                        gamma=None, gpu_id=None,\n",
       "                                        grow_policy=None, importance_type=None,\n",
       "                                        interaction_constraints=None,\n",
       "                                        learning_rate=None, max_bin=None,\n",
       "                                        max_cat_threshold=None,\n",
       "                                        max_cat_to_onehot=None,\n",
       "                                        max_delta_step=None, max_depth=4,\n",
       "                                        max_leaves=None, min_child_weight=None,\n",
       "                                        missing=nan, monotone_constraints=None,\n",
       "                                        n_estimators=199, n_jobs=None,\n",
       "                                        num_parallel_tree=None, predictor=None,\n",
       "                                        random_state=42, ...),\n",
       "                 n_estimators=20, oob_score=True, random_state=42, verbose=10)</pre></div></div></div><div class=\"sk-parallel\"><div class=\"sk-parallel-item\"><div class=\"sk-item\"><div class=\"sk-label-container\"><div class=\"sk-label sk-toggleable\"><input class=\"sk-toggleable__control sk-hidden--visually\" id=\"sk-estimator-id-17\" type=\"checkbox\" ><label for=\"sk-estimator-id-17\" class=\"sk-toggleable__label sk-toggleable__label-arrow\">estimator: XGBRegressor</label><div class=\"sk-toggleable__content\"><pre>XGBRegressor(base_score=None, booster=None, callbacks=None,\n",
       "             colsample_bylevel=None, colsample_bynode=None,\n",
       "             colsample_bytree=None, early_stopping_rounds=None,\n",
       "             enable_categorical=False, eval_metric=None, feature_types=None,\n",
       "             gamma=None, gpu_id=None, grow_policy=None, importance_type=None,\n",
       "             interaction_constraints=None, learning_rate=None, max_bin=None,\n",
       "             max_cat_threshold=None, max_cat_to_onehot=None,\n",
       "             max_delta_step=None, max_depth=4, max_leaves=None,\n",
       "             min_child_weight=None, missing=nan, monotone_constraints=None,\n",
       "             n_estimators=199, n_jobs=None, num_parallel_tree=None,\n",
       "             predictor=None, random_state=42, ...)</pre></div></div></div><div class=\"sk-serial\"><div class=\"sk-item\"><div class=\"sk-estimator sk-toggleable\"><input class=\"sk-toggleable__control sk-hidden--visually\" id=\"sk-estimator-id-18\" type=\"checkbox\" ><label for=\"sk-estimator-id-18\" class=\"sk-toggleable__label sk-toggleable__label-arrow\">XGBRegressor</label><div class=\"sk-toggleable__content\"><pre>XGBRegressor(base_score=None, booster=None, callbacks=None,\n",
       "             colsample_bylevel=None, colsample_bynode=None,\n",
       "             colsample_bytree=None, early_stopping_rounds=None,\n",
       "             enable_categorical=False, eval_metric=None, feature_types=None,\n",
       "             gamma=None, gpu_id=None, grow_policy=None, importance_type=None,\n",
       "             interaction_constraints=None, learning_rate=None, max_bin=None,\n",
       "             max_cat_threshold=None, max_cat_to_onehot=None,\n",
       "             max_delta_step=None, max_depth=4, max_leaves=None,\n",
       "             min_child_weight=None, missing=nan, monotone_constraints=None,\n",
       "             n_estimators=199, n_jobs=None, num_parallel_tree=None,\n",
       "             predictor=None, random_state=42, ...)</pre></div></div></div></div></div></div></div></div></div></div>"
      ],
      "text/plain": [
       "BaggingRegressor(estimator=XGBRegressor(base_score=None, booster=None,\n",
       "                                        callbacks=None, colsample_bylevel=None,\n",
       "                                        colsample_bynode=None,\n",
       "                                        colsample_bytree=None,\n",
       "                                        early_stopping_rounds=None,\n",
       "                                        enable_categorical=False,\n",
       "                                        eval_metric=None, feature_types=None,\n",
       "                                        gamma=None, gpu_id=None,\n",
       "                                        grow_policy=None, importance_type=None,\n",
       "                                        interaction_constraints=None,\n",
       "                                        learning_rate=None, max_bin=None,\n",
       "                                        max_cat_threshold=None,\n",
       "                                        max_cat_to_onehot=None,\n",
       "                                        max_delta_step=None, max_depth=4,\n",
       "                                        max_leaves=None, min_child_weight=None,\n",
       "                                        missing=nan, monotone_constraints=None,\n",
       "                                        n_estimators=199, n_jobs=None,\n",
       "                                        num_parallel_tree=None, predictor=None,\n",
       "                                        random_state=42, ...),\n",
       "                 n_estimators=20, oob_score=True, random_state=42, verbose=10)"
      ]
     },
     "execution_count": 95,
     "metadata": {},
     "output_type": "execute_result"
    }
   ],
   "source": [
    "base_model = xgb.XGBRegressor(**best_params, random_state=42)\n",
    "bagging_model = BaggingRegressor(\n",
    "    base_model,\n",
    "    n_estimators=20,  # Number of base models (can be tuned)\n",
    "    random_state=42,\n",
    "    verbose=10,\n",
    "    oob_score=True,  # Enable OOB scoring\n",
    ")\n",
    "bagging_model.fit(X_train_encoded, y_train)"
   ]
  },
  {
   "cell_type": "code",
   "execution_count": 96,
   "metadata": {},
   "outputs": [
    {
     "name": "stdout",
     "output_type": "stream",
     "text": [
      "Root Mean Squared Error: 0.44845590436811616\n"
     ]
    },
    {
     "name": "stderr",
     "output_type": "stream",
     "text": [
      "[Parallel(n_jobs=1)]: Done   1 tasks      | elapsed:    0.4s\n",
      "[Parallel(n_jobs=1)]: Done   1 tasks      | elapsed:    0.4s\n"
     ]
    }
   ],
   "source": [
    "# Make predictions\n",
    "y_pred = bagging_model.predict(X_test_encoded)\n",
    "\n",
    "# Evaluate the performance\n",
    "rmse = mean_squared_error(y_test, y_pred, squared=False)\n",
    "print(f\"Root Mean Squared Error: {rmse}\")"
   ]
  },
  {
   "cell_type": "code",
   "execution_count": 97,
   "metadata": {},
   "outputs": [
    {
     "name": "stdout",
     "output_type": "stream",
     "text": [
      "OOB Score (Mean Squared Error): -0.9282841113907048\n"
     ]
    }
   ],
   "source": [
    "oob_score = -bagging_model.oob_score_\n",
    "print(\"OOB Score (Mean Squared Error):\", oob_score)"
   ]
  },
  {
   "cell_type": "code",
   "execution_count": 98,
   "metadata": {},
   "outputs": [],
   "source": [
    "features = [\n",
    "    \"hour_cos\",\n",
    "    \"hour\",\n",
    "    \"temp_hour_interaction\",\n",
    "    \"counter_name\",\n",
    "    \"hour_sin\",\n",
    "    \"t\",\n",
    "    \"u_lag9h\",\n",
    "    \"t_lag24h\",\n",
    "    \"u\",\n",
    "    \"month\",\n",
    "    \"etat_sol\",\n",
    "    \"dayofyear\",\n",
    "    \"humidity_day_interaction\",\n",
    "    \"dayofweek_sin\",\n",
    "    \"t_lag9h\",\n",
    "    \"dayofweek\",\n",
    "    \"lockdown_3_1\",\n",
    "    \"t_lag12h\",\n",
    "    \"t_lag6h\",\n",
    "]"
   ]
  },
  {
   "cell_type": "code",
   "execution_count": null,
   "metadata": {},
   "outputs": [],
   "source": [
    "X_train = combined_train[features]\n",
    "y_train = combined_train[target]\n",
    "X_test = combined_test[features]\n",
    "y_test = combined_test[target]\n",
    "X_pred = combined_prediction[features]"
   ]
  },
  {
   "cell_type": "code",
   "execution_count": 99,
   "metadata": {},
   "outputs": [
    {
     "name": "stdout",
     "output_type": "stream",
     "text": [
      "Building estimator 1 of 20 for this parallel run (total 20)...\n",
      "Building estimator 2 of 20 for this parallel run (total 20)...\n",
      "Building estimator 3 of 20 for this parallel run (total 20)...\n",
      "Building estimator 4 of 20 for this parallel run (total 20)...\n",
      "Building estimator 5 of 20 for this parallel run (total 20)...\n",
      "Building estimator 6 of 20 for this parallel run (total 20)...\n",
      "Building estimator 7 of 20 for this parallel run (total 20)...\n",
      "Building estimator 8 of 20 for this parallel run (total 20)...\n",
      "Building estimator 9 of 20 for this parallel run (total 20)...\n",
      "Building estimator 10 of 20 for this parallel run (total 20)...\n",
      "Building estimator 11 of 20 for this parallel run (total 20)...\n",
      "Building estimator 12 of 20 for this parallel run (total 20)...\n",
      "Building estimator 13 of 20 for this parallel run (total 20)...\n",
      "Building estimator 14 of 20 for this parallel run (total 20)...\n",
      "Building estimator 15 of 20 for this parallel run (total 20)...\n",
      "Building estimator 16 of 20 for this parallel run (total 20)...\n",
      "Building estimator 17 of 20 for this parallel run (total 20)...\n",
      "Building estimator 18 of 20 for this parallel run (total 20)...\n",
      "Building estimator 19 of 20 for this parallel run (total 20)...\n",
      "Building estimator 20 of 20 for this parallel run (total 20)...\n"
     ]
    },
    {
     "name": "stderr",
     "output_type": "stream",
     "text": [
      "[Parallel(n_jobs=1)]: Done   1 tasks      | elapsed:  4.7min\n",
      "[Parallel(n_jobs=1)]: Done   1 tasks      | elapsed:  4.7min\n"
     ]
    },
    {
     "data": {
      "text/html": [
       "<style>#sk-container-id-7 {color: black;}#sk-container-id-7 pre{padding: 0;}#sk-container-id-7 div.sk-toggleable {background-color: white;}#sk-container-id-7 label.sk-toggleable__label {cursor: pointer;display: block;width: 100%;margin-bottom: 0;padding: 0.3em;box-sizing: border-box;text-align: center;}#sk-container-id-7 label.sk-toggleable__label-arrow:before {content: \"▸\";float: left;margin-right: 0.25em;color: #696969;}#sk-container-id-7 label.sk-toggleable__label-arrow:hover:before {color: black;}#sk-container-id-7 div.sk-estimator:hover label.sk-toggleable__label-arrow:before {color: black;}#sk-container-id-7 div.sk-toggleable__content {max-height: 0;max-width: 0;overflow: hidden;text-align: left;background-color: #f0f8ff;}#sk-container-id-7 div.sk-toggleable__content pre {margin: 0.2em;color: black;border-radius: 0.25em;background-color: #f0f8ff;}#sk-container-id-7 input.sk-toggleable__control:checked~div.sk-toggleable__content {max-height: 200px;max-width: 100%;overflow: auto;}#sk-container-id-7 input.sk-toggleable__control:checked~label.sk-toggleable__label-arrow:before {content: \"▾\";}#sk-container-id-7 div.sk-estimator input.sk-toggleable__control:checked~label.sk-toggleable__label {background-color: #d4ebff;}#sk-container-id-7 div.sk-label input.sk-toggleable__control:checked~label.sk-toggleable__label {background-color: #d4ebff;}#sk-container-id-7 input.sk-hidden--visually {border: 0;clip: rect(1px 1px 1px 1px);clip: rect(1px, 1px, 1px, 1px);height: 1px;margin: -1px;overflow: hidden;padding: 0;position: absolute;width: 1px;}#sk-container-id-7 div.sk-estimator {font-family: monospace;background-color: #f0f8ff;border: 1px dotted black;border-radius: 0.25em;box-sizing: border-box;margin-bottom: 0.5em;}#sk-container-id-7 div.sk-estimator:hover {background-color: #d4ebff;}#sk-container-id-7 div.sk-parallel-item::after {content: \"\";width: 100%;border-bottom: 1px solid gray;flex-grow: 1;}#sk-container-id-7 div.sk-label:hover label.sk-toggleable__label {background-color: #d4ebff;}#sk-container-id-7 div.sk-serial::before {content: \"\";position: absolute;border-left: 1px solid gray;box-sizing: border-box;top: 0;bottom: 0;left: 50%;z-index: 0;}#sk-container-id-7 div.sk-serial {display: flex;flex-direction: column;align-items: center;background-color: white;padding-right: 0.2em;padding-left: 0.2em;position: relative;}#sk-container-id-7 div.sk-item {position: relative;z-index: 1;}#sk-container-id-7 div.sk-parallel {display: flex;align-items: stretch;justify-content: center;background-color: white;position: relative;}#sk-container-id-7 div.sk-item::before, #sk-container-id-7 div.sk-parallel-item::before {content: \"\";position: absolute;border-left: 1px solid gray;box-sizing: border-box;top: 0;bottom: 0;left: 50%;z-index: -1;}#sk-container-id-7 div.sk-parallel-item {display: flex;flex-direction: column;z-index: 1;position: relative;background-color: white;}#sk-container-id-7 div.sk-parallel-item:first-child::after {align-self: flex-end;width: 50%;}#sk-container-id-7 div.sk-parallel-item:last-child::after {align-self: flex-start;width: 50%;}#sk-container-id-7 div.sk-parallel-item:only-child::after {width: 0;}#sk-container-id-7 div.sk-dashed-wrapped {border: 1px dashed gray;margin: 0 0.4em 0.5em 0.4em;box-sizing: border-box;padding-bottom: 0.4em;background-color: white;}#sk-container-id-7 div.sk-label label {font-family: monospace;font-weight: bold;display: inline-block;line-height: 1.2em;}#sk-container-id-7 div.sk-label-container {text-align: center;}#sk-container-id-7 div.sk-container {/* jupyter's `normalize.less` sets `[hidden] { display: none; }` but bootstrap.min.css set `[hidden] { display: none !important; }` so we also need the `!important` here to be able to override the default hidden behavior on the sphinx rendered scikit-learn.org. See: https://github.com/scikit-learn/scikit-learn/issues/21755 */display: inline-block !important;position: relative;}#sk-container-id-7 div.sk-text-repr-fallback {display: none;}</style><div id=\"sk-container-id-7\" class=\"sk-top-container\"><div class=\"sk-text-repr-fallback\"><pre>BaggingRegressor(estimator=XGBRegressor(base_score=None, booster=None,\n",
       "                                        callbacks=None, colsample_bylevel=None,\n",
       "                                        colsample_bynode=None,\n",
       "                                        colsample_bytree=None,\n",
       "                                        early_stopping_rounds=None,\n",
       "                                        enable_categorical=False,\n",
       "                                        eval_metric=None, feature_types=None,\n",
       "                                        gamma=None, gpu_id=None,\n",
       "                                        grow_policy=None, importance_type=None,\n",
       "                                        interaction_constraints=None,\n",
       "                                        learning_rate=None, max_bin=None,\n",
       "                                        max_cat_threshold=None,\n",
       "                                        max_cat_to_onehot=None,\n",
       "                                        max_delta_step=None, max_depth=4,\n",
       "                                        max_leaves=None, min_child_weight=None,\n",
       "                                        missing=nan, monotone_constraints=None,\n",
       "                                        n_estimators=199, n_jobs=None,\n",
       "                                        num_parallel_tree=None, predictor=None,\n",
       "                                        random_state=42, ...),\n",
       "                 n_estimators=20, oob_score=True, random_state=42, verbose=10)</pre><b>In a Jupyter environment, please rerun this cell to show the HTML representation or trust the notebook. <br />On GitHub, the HTML representation is unable to render, please try loading this page with nbviewer.org.</b></div><div class=\"sk-container\" hidden><div class=\"sk-item sk-dashed-wrapped\"><div class=\"sk-label-container\"><div class=\"sk-label sk-toggleable\"><input class=\"sk-toggleable__control sk-hidden--visually\" id=\"sk-estimator-id-19\" type=\"checkbox\" ><label for=\"sk-estimator-id-19\" class=\"sk-toggleable__label sk-toggleable__label-arrow\">BaggingRegressor</label><div class=\"sk-toggleable__content\"><pre>BaggingRegressor(estimator=XGBRegressor(base_score=None, booster=None,\n",
       "                                        callbacks=None, colsample_bylevel=None,\n",
       "                                        colsample_bynode=None,\n",
       "                                        colsample_bytree=None,\n",
       "                                        early_stopping_rounds=None,\n",
       "                                        enable_categorical=False,\n",
       "                                        eval_metric=None, feature_types=None,\n",
       "                                        gamma=None, gpu_id=None,\n",
       "                                        grow_policy=None, importance_type=None,\n",
       "                                        interaction_constraints=None,\n",
       "                                        learning_rate=None, max_bin=None,\n",
       "                                        max_cat_threshold=None,\n",
       "                                        max_cat_to_onehot=None,\n",
       "                                        max_delta_step=None, max_depth=4,\n",
       "                                        max_leaves=None, min_child_weight=None,\n",
       "                                        missing=nan, monotone_constraints=None,\n",
       "                                        n_estimators=199, n_jobs=None,\n",
       "                                        num_parallel_tree=None, predictor=None,\n",
       "                                        random_state=42, ...),\n",
       "                 n_estimators=20, oob_score=True, random_state=42, verbose=10)</pre></div></div></div><div class=\"sk-parallel\"><div class=\"sk-parallel-item\"><div class=\"sk-item\"><div class=\"sk-label-container\"><div class=\"sk-label sk-toggleable\"><input class=\"sk-toggleable__control sk-hidden--visually\" id=\"sk-estimator-id-20\" type=\"checkbox\" ><label for=\"sk-estimator-id-20\" class=\"sk-toggleable__label sk-toggleable__label-arrow\">estimator: XGBRegressor</label><div class=\"sk-toggleable__content\"><pre>XGBRegressor(base_score=None, booster=None, callbacks=None,\n",
       "             colsample_bylevel=None, colsample_bynode=None,\n",
       "             colsample_bytree=None, early_stopping_rounds=None,\n",
       "             enable_categorical=False, eval_metric=None, feature_types=None,\n",
       "             gamma=None, gpu_id=None, grow_policy=None, importance_type=None,\n",
       "             interaction_constraints=None, learning_rate=None, max_bin=None,\n",
       "             max_cat_threshold=None, max_cat_to_onehot=None,\n",
       "             max_delta_step=None, max_depth=4, max_leaves=None,\n",
       "             min_child_weight=None, missing=nan, monotone_constraints=None,\n",
       "             n_estimators=199, n_jobs=None, num_parallel_tree=None,\n",
       "             predictor=None, random_state=42, ...)</pre></div></div></div><div class=\"sk-serial\"><div class=\"sk-item\"><div class=\"sk-estimator sk-toggleable\"><input class=\"sk-toggleable__control sk-hidden--visually\" id=\"sk-estimator-id-21\" type=\"checkbox\" ><label for=\"sk-estimator-id-21\" class=\"sk-toggleable__label sk-toggleable__label-arrow\">XGBRegressor</label><div class=\"sk-toggleable__content\"><pre>XGBRegressor(base_score=None, booster=None, callbacks=None,\n",
       "             colsample_bylevel=None, colsample_bynode=None,\n",
       "             colsample_bytree=None, early_stopping_rounds=None,\n",
       "             enable_categorical=False, eval_metric=None, feature_types=None,\n",
       "             gamma=None, gpu_id=None, grow_policy=None, importance_type=None,\n",
       "             interaction_constraints=None, learning_rate=None, max_bin=None,\n",
       "             max_cat_threshold=None, max_cat_to_onehot=None,\n",
       "             max_delta_step=None, max_depth=4, max_leaves=None,\n",
       "             min_child_weight=None, missing=nan, monotone_constraints=None,\n",
       "             n_estimators=199, n_jobs=None, num_parallel_tree=None,\n",
       "             predictor=None, random_state=42, ...)</pre></div></div></div></div></div></div></div></div></div></div>"
      ],
      "text/plain": [
       "BaggingRegressor(estimator=XGBRegressor(base_score=None, booster=None,\n",
       "                                        callbacks=None, colsample_bylevel=None,\n",
       "                                        colsample_bynode=None,\n",
       "                                        colsample_bytree=None,\n",
       "                                        early_stopping_rounds=None,\n",
       "                                        enable_categorical=False,\n",
       "                                        eval_metric=None, feature_types=None,\n",
       "                                        gamma=None, gpu_id=None,\n",
       "                                        grow_policy=None, importance_type=None,\n",
       "                                        interaction_constraints=None,\n",
       "                                        learning_rate=None, max_bin=None,\n",
       "                                        max_cat_threshold=None,\n",
       "                                        max_cat_to_onehot=None,\n",
       "                                        max_delta_step=None, max_depth=4,\n",
       "                                        max_leaves=None, min_child_weight=None,\n",
       "                                        missing=nan, monotone_constraints=None,\n",
       "                                        n_estimators=199, n_jobs=None,\n",
       "                                        num_parallel_tree=None, predictor=None,\n",
       "                                        random_state=42, ...),\n",
       "                 n_estimators=20, oob_score=True, random_state=42, verbose=10)"
      ]
     },
     "execution_count": 99,
     "metadata": {},
     "output_type": "execute_result"
    }
   ],
   "source": [
    "base_model = xgb.XGBRegressor(**best_params, random_state=42)\n",
    "bagging_model = BaggingRegressor(\n",
    "    base_model,\n",
    "    n_estimators=20,  # Number of base models (can be tuned)\n",
    "    random_state=42,\n",
    "    verbose=10,\n",
    "    oob_score=True,  # Enable OOB scoring\n",
    ")\n",
    "bagging_model.fit(X_train_encoded, y_train)"
   ]
  },
  {
   "cell_type": "code",
   "execution_count": null,
   "metadata": {},
   "outputs": [],
   "source": []
  },
  {
   "cell_type": "code",
   "execution_count": null,
   "metadata": {},
   "outputs": [],
   "source": []
  },
  {
   "cell_type": "code",
   "execution_count": null,
   "metadata": {},
   "outputs": [],
   "source": []
  },
  {
   "cell_type": "code",
   "execution_count": null,
   "metadata": {},
   "outputs": [],
   "source": []
  },
  {
   "cell_type": "code",
   "execution_count": null,
   "metadata": {},
   "outputs": [],
   "source": []
  },
  {
   "cell_type": "code",
   "execution_count": null,
   "metadata": {},
   "outputs": [],
   "source": []
  },
  {
   "cell_type": "code",
   "execution_count": null,
   "metadata": {},
   "outputs": [],
   "source": []
  },
  {
   "cell_type": "code",
   "execution_count": null,
   "metadata": {},
   "outputs": [],
   "source": []
  },
  {
   "cell_type": "code",
   "execution_count": null,
   "metadata": {},
   "outputs": [],
   "source": [
    "features = [\n",
    "    \"hour_cos\",\n",
    "    \"hour\",\n",
    "    \"temp_hour_interaction\",\n",
    "    \"counter_name\",\n",
    "    \"hour_sin\",\n",
    "    \"t\",\n",
    "    \"u_lag9h\",\n",
    "    \"t_lag24h\",\n",
    "    \"u\",\n",
    "    \"month\",\n",
    "    \"etat_sol\",\n",
    "    \"dayofyear\",\n",
    "    \"humidity_day_interaction\",\n",
    "    \"dayofweek_sin\",\n",
    "    \"t_lag9h\",\n",
    "    \"dayofweek\",\n",
    "    \"lockdown_3_1\",\n",
    "    \"t_lag12h\",\n",
    "    \"t_lag6h\",\n",
    "]"
   ]
  },
  {
   "cell_type": "code",
   "execution_count": null,
   "metadata": {},
   "outputs": [],
   "source": [
    "X_train = combined_train[features]\n",
    "y_train = combined_train[target]\n",
    "X_test = combined_test[features]\n",
    "y_test = combined_test[target]\n",
    "X_pred = combined_prediction[features]"
   ]
  },
  {
   "cell_type": "code",
   "execution_count": null,
   "metadata": {},
   "outputs": [],
   "source": [
    "final_model = xgb.XGBRegressor(\n",
    "    tree_method=\"hist\", **best_params, enable_categorical=True\n",
    ")\n",
    "final_model.fit(\n",
    "    X_train,\n",
    "    y_train,\n",
    "    eval_set=[(X_test, y_test)],\n",
    "    early_stopping_rounds=10,\n",
    "    verbose=10,\n",
    ")"
   ]
  },
  {
   "cell_type": "code",
   "execution_count": null,
   "metadata": {},
   "outputs": [],
   "source": [
    "y_pred_train = final_model.predict(X_train)\n",
    "rmse_train = mean_squared_error(y_train, y_pred_train, squared=False)\n",
    "print(\"Final Model  Train RMSE:\", rmse_train)\n",
    "\n",
    "y_pred_test = final_model.predict(X_test)\n",
    "rmse_test = mean_squared_error(y_test, y_pred_test, squared=False)\n",
    "print(\"Final Model Test RMSE:\", rmse_test)"
   ]
  },
  {
   "cell_type": "code",
   "execution_count": null,
   "metadata": {},
   "outputs": [],
   "source": [
    "fi = pd.DataFrame(\n",
    "    data=final_model.feature_importances_,\n",
    "    index=final_model.feature_names_in_,\n",
    "    columns=[\"Importance\"],\n",
    ")\n",
    "fi.sort_values(by=\"Importance\", ascending=False)"
   ]
  },
  {
   "cell_type": "code",
   "execution_count": null,
   "metadata": {},
   "outputs": [],
   "source": [
    "features = [\n",
    "    \"hour_cos\",\n",
    "    \"hour\",\n",
    "    \"temp_hour_interaction\",\n",
    "    \"counter_name\",\n",
    "    \"hour_sin\",\n",
    "    \"t\",\n",
    "    \"t_lag24h\",\n",
    "    \"u\",\n",
    "    \"month\",\n",
    "    \"etat_sol\",\n",
    "    \"dayofyear\",\n",
    "    \"humidity_day_interaction\",\n",
    "    \"dayofweek_sin\",\n",
    "    \"t_lag9h\",\n",
    "    \"dayofweek\",\n",
    "    \"lockdown_3_1\",\n",
    "    \"t_lag12h\",\n",
    "    \"t_lag6h\",\n",
    "]"
   ]
  },
  {
   "cell_type": "code",
   "execution_count": null,
   "metadata": {},
   "outputs": [],
   "source": [
    "X_train = combined_train[features]\n",
    "y_train = combined_train[target]\n",
    "X_test = combined_test[features]\n",
    "y_test = combined_test[target]\n",
    "X_pred = combined_prediction[features]"
   ]
  },
  {
   "cell_type": "code",
   "execution_count": null,
   "metadata": {},
   "outputs": [],
   "source": [
    "final_model = xgb.XGBRegressor(\n",
    "    tree_method=\"hist\", **best_params, enable_categorical=True\n",
    ")\n",
    "final_model.fit(\n",
    "    X_train,\n",
    "    y_train,\n",
    "    eval_set=[(X_test, y_test)],\n",
    "    early_stopping_rounds=10,\n",
    "    verbose=10,\n",
    ")"
   ]
  },
  {
   "cell_type": "code",
   "execution_count": null,
   "metadata": {},
   "outputs": [],
   "source": [
    "y_pred_train = final_model.predict(X_train)\n",
    "rmse_train = mean_squared_error(y_train, y_pred_train, squared=False)\n",
    "print(\"Final Model  Train RMSE:\", rmse_train)\n",
    "\n",
    "y_pred_test = final_model.predict(X_test)\n",
    "rmse_test = mean_squared_error(y_test, y_pred_test, squared=False)\n",
    "print(\"Final Model Test RMSE:\", rmse_test)"
   ]
  },
  {
   "cell_type": "code",
   "execution_count": null,
   "metadata": {},
   "outputs": [],
   "source": [
    "fi = pd.DataFrame(\n",
    "    data=final_model.feature_importances_,\n",
    "    index=final_model.feature_names_in_,\n",
    "    columns=[\"Importance\"],\n",
    ")\n",
    "\n",
    "\n",
    "fi.sort_values(by=\"Importance\", ascending=False)"
   ]
  },
  {
   "cell_type": "code",
   "execution_count": 100,
   "metadata": {},
   "outputs": [],
   "source": [
    "features = [\n",
    "    \"hour_cos\",\n",
    "    \"hour\",\n",
    "    \"temp_hour_interaction\",\n",
    "    \"counter_name\",\n",
    "    \"hour_sin\",\n",
    "    \"t\",\n",
    "    \"t_lag24h\",\n",
    "    \"month\",\n",
    "    \"etat_sol\",\n",
    "    \"dayofyear\",\n",
    "    \"humidity_day_interaction\",\n",
    "    \"dayofweek_sin\",\n",
    "    \"dayofweek\",\n",
    "    \"lockdown_3_1\",\n",
    "    \"t_lag6h\",\n",
    "]\n",
    "target = [\"log_bike_count\"]"
   ]
  },
  {
   "cell_type": "code",
   "execution_count": 101,
   "metadata": {},
   "outputs": [],
   "source": [
    "X_train = combined_train[features]\n",
    "y_train = combined_train[target]\n",
    "X_test = combined_test[features]\n",
    "y_test = combined_test[target]\n",
    "X_pred = combined_prediction[features]"
   ]
  },
  {
   "cell_type": "code",
   "execution_count": 102,
   "metadata": {},
   "outputs": [],
   "source": [
    "best_params = {\n",
    "    \"n_estimators\": 633,\n",
    "    \"max_depth\": 11,\n",
    "    \"min_child_weight\": 2,\n",
    "    \"gamma\": 0.5,\n",
    "    \"learning_rate\": 0.01745767642563374,\n",
    "    \"subsample\": 0.6852898171340072,\n",
    "    \"colsample_bytree\": 0.5752583768824626,\n",
    "    \"reg_alpha\": 0.6174748033948815,\n",
    "    \"reg_lambda\": 0.37071451261939165,\n",
    "}"
   ]
  },
  {
   "cell_type": "code",
   "execution_count": 103,
   "metadata": {},
   "outputs": [
    {
     "name": "stdout",
     "output_type": "stream",
     "text": [
      "[0]\tvalidation_0-rmse:3.20441\n",
      "[10]\tvalidation_0-rmse:2.71263\n",
      "[20]\tvalidation_0-rmse:2.29165\n",
      "[30]\tvalidation_0-rmse:1.93980\n",
      "[40]\tvalidation_0-rmse:1.64524\n",
      "[50]\tvalidation_0-rmse:1.39728\n",
      "[60]\tvalidation_0-rmse:1.19562\n",
      "[70]\tvalidation_0-rmse:1.03813\n",
      "[80]\tvalidation_0-rmse:0.90902\n",
      "[90]\tvalidation_0-rmse:0.80907\n",
      "[100]\tvalidation_0-rmse:0.71949\n",
      "[110]\tvalidation_0-rmse:0.65609\n",
      "[120]\tvalidation_0-rmse:0.60286\n",
      "[130]\tvalidation_0-rmse:0.56435\n",
      "[140]\tvalidation_0-rmse:0.53450\n",
      "[150]\tvalidation_0-rmse:0.51235\n",
      "[160]\tvalidation_0-rmse:0.48996\n",
      "[170]\tvalidation_0-rmse:0.47367\n",
      "[180]\tvalidation_0-rmse:0.45781\n",
      "[190]\tvalidation_0-rmse:0.44724\n",
      "[200]\tvalidation_0-rmse:0.43873\n",
      "[210]\tvalidation_0-rmse:0.43271\n",
      "[220]\tvalidation_0-rmse:0.42571\n",
      "[230]\tvalidation_0-rmse:0.42082\n",
      "[240]\tvalidation_0-rmse:0.41867\n",
      "[250]\tvalidation_0-rmse:0.41703\n",
      "[260]\tvalidation_0-rmse:0.41482\n",
      "[270]\tvalidation_0-rmse:0.41324\n",
      "[280]\tvalidation_0-rmse:0.41232\n",
      "[290]\tvalidation_0-rmse:0.41033\n",
      "[300]\tvalidation_0-rmse:0.40845\n",
      "[310]\tvalidation_0-rmse:0.40771\n",
      "[320]\tvalidation_0-rmse:0.40631\n",
      "[330]\tvalidation_0-rmse:0.40528\n",
      "[340]\tvalidation_0-rmse:0.40448\n",
      "[350]\tvalidation_0-rmse:0.40395\n",
      "[360]\tvalidation_0-rmse:0.40287\n",
      "[370]\tvalidation_0-rmse:0.40223\n",
      "[380]\tvalidation_0-rmse:0.40156\n",
      "[390]\tvalidation_0-rmse:0.40109\n",
      "[400]\tvalidation_0-rmse:0.40062\n",
      "[410]\tvalidation_0-rmse:0.40047\n",
      "[420]\tvalidation_0-rmse:0.40032\n",
      "[430]\tvalidation_0-rmse:0.40009\n",
      "[440]\tvalidation_0-rmse:0.39999\n",
      "[450]\tvalidation_0-rmse:0.39985\n",
      "[460]\tvalidation_0-rmse:0.39975\n",
      "[470]\tvalidation_0-rmse:0.39978\n",
      "[480]\tvalidation_0-rmse:0.39969\n",
      "[490]\tvalidation_0-rmse:0.39958\n",
      "[499]\tvalidation_0-rmse:0.39979\n"
     ]
    },
    {
     "data": {
      "text/html": [
       "<style>#sk-container-id-8 {color: black;}#sk-container-id-8 pre{padding: 0;}#sk-container-id-8 div.sk-toggleable {background-color: white;}#sk-container-id-8 label.sk-toggleable__label {cursor: pointer;display: block;width: 100%;margin-bottom: 0;padding: 0.3em;box-sizing: border-box;text-align: center;}#sk-container-id-8 label.sk-toggleable__label-arrow:before {content: \"▸\";float: left;margin-right: 0.25em;color: #696969;}#sk-container-id-8 label.sk-toggleable__label-arrow:hover:before {color: black;}#sk-container-id-8 div.sk-estimator:hover label.sk-toggleable__label-arrow:before {color: black;}#sk-container-id-8 div.sk-toggleable__content {max-height: 0;max-width: 0;overflow: hidden;text-align: left;background-color: #f0f8ff;}#sk-container-id-8 div.sk-toggleable__content pre {margin: 0.2em;color: black;border-radius: 0.25em;background-color: #f0f8ff;}#sk-container-id-8 input.sk-toggleable__control:checked~div.sk-toggleable__content {max-height: 200px;max-width: 100%;overflow: auto;}#sk-container-id-8 input.sk-toggleable__control:checked~label.sk-toggleable__label-arrow:before {content: \"▾\";}#sk-container-id-8 div.sk-estimator input.sk-toggleable__control:checked~label.sk-toggleable__label {background-color: #d4ebff;}#sk-container-id-8 div.sk-label input.sk-toggleable__control:checked~label.sk-toggleable__label {background-color: #d4ebff;}#sk-container-id-8 input.sk-hidden--visually {border: 0;clip: rect(1px 1px 1px 1px);clip: rect(1px, 1px, 1px, 1px);height: 1px;margin: -1px;overflow: hidden;padding: 0;position: absolute;width: 1px;}#sk-container-id-8 div.sk-estimator {font-family: monospace;background-color: #f0f8ff;border: 1px dotted black;border-radius: 0.25em;box-sizing: border-box;margin-bottom: 0.5em;}#sk-container-id-8 div.sk-estimator:hover {background-color: #d4ebff;}#sk-container-id-8 div.sk-parallel-item::after {content: \"\";width: 100%;border-bottom: 1px solid gray;flex-grow: 1;}#sk-container-id-8 div.sk-label:hover label.sk-toggleable__label {background-color: #d4ebff;}#sk-container-id-8 div.sk-serial::before {content: \"\";position: absolute;border-left: 1px solid gray;box-sizing: border-box;top: 0;bottom: 0;left: 50%;z-index: 0;}#sk-container-id-8 div.sk-serial {display: flex;flex-direction: column;align-items: center;background-color: white;padding-right: 0.2em;padding-left: 0.2em;position: relative;}#sk-container-id-8 div.sk-item {position: relative;z-index: 1;}#sk-container-id-8 div.sk-parallel {display: flex;align-items: stretch;justify-content: center;background-color: white;position: relative;}#sk-container-id-8 div.sk-item::before, #sk-container-id-8 div.sk-parallel-item::before {content: \"\";position: absolute;border-left: 1px solid gray;box-sizing: border-box;top: 0;bottom: 0;left: 50%;z-index: -1;}#sk-container-id-8 div.sk-parallel-item {display: flex;flex-direction: column;z-index: 1;position: relative;background-color: white;}#sk-container-id-8 div.sk-parallel-item:first-child::after {align-self: flex-end;width: 50%;}#sk-container-id-8 div.sk-parallel-item:last-child::after {align-self: flex-start;width: 50%;}#sk-container-id-8 div.sk-parallel-item:only-child::after {width: 0;}#sk-container-id-8 div.sk-dashed-wrapped {border: 1px dashed gray;margin: 0 0.4em 0.5em 0.4em;box-sizing: border-box;padding-bottom: 0.4em;background-color: white;}#sk-container-id-8 div.sk-label label {font-family: monospace;font-weight: bold;display: inline-block;line-height: 1.2em;}#sk-container-id-8 div.sk-label-container {text-align: center;}#sk-container-id-8 div.sk-container {/* jupyter's `normalize.less` sets `[hidden] { display: none; }` but bootstrap.min.css set `[hidden] { display: none !important; }` so we also need the `!important` here to be able to override the default hidden behavior on the sphinx rendered scikit-learn.org. See: https://github.com/scikit-learn/scikit-learn/issues/21755 */display: inline-block !important;position: relative;}#sk-container-id-8 div.sk-text-repr-fallback {display: none;}</style><div id=\"sk-container-id-8\" class=\"sk-top-container\"><div class=\"sk-text-repr-fallback\"><pre>XGBRegressor(base_score=None, booster=None, callbacks=None,\n",
       "             colsample_bylevel=None, colsample_bynode=None,\n",
       "             colsample_bytree=0.5752583768824626, early_stopping_rounds=None,\n",
       "             enable_categorical=True, eval_metric=None, feature_types=None,\n",
       "             gamma=0.5, gpu_id=None, grow_policy=None, importance_type=None,\n",
       "             interaction_constraints=None, learning_rate=0.01745767642563374,\n",
       "             max_bin=None, max_cat_threshold=None, max_cat_to_onehot=None,\n",
       "             max_delta_step=None, max_depth=11, max_leaves=None,\n",
       "             min_child_weight=2, missing=nan, monotone_constraints=None,\n",
       "             n_estimators=633, n_jobs=None, num_parallel_tree=None,\n",
       "             predictor=None, random_state=None, ...)</pre><b>In a Jupyter environment, please rerun this cell to show the HTML representation or trust the notebook. <br />On GitHub, the HTML representation is unable to render, please try loading this page with nbviewer.org.</b></div><div class=\"sk-container\" hidden><div class=\"sk-item\"><div class=\"sk-estimator sk-toggleable\"><input class=\"sk-toggleable__control sk-hidden--visually\" id=\"sk-estimator-id-22\" type=\"checkbox\" checked><label for=\"sk-estimator-id-22\" class=\"sk-toggleable__label sk-toggleable__label-arrow\">XGBRegressor</label><div class=\"sk-toggleable__content\"><pre>XGBRegressor(base_score=None, booster=None, callbacks=None,\n",
       "             colsample_bylevel=None, colsample_bynode=None,\n",
       "             colsample_bytree=0.5752583768824626, early_stopping_rounds=None,\n",
       "             enable_categorical=True, eval_metric=None, feature_types=None,\n",
       "             gamma=0.5, gpu_id=None, grow_policy=None, importance_type=None,\n",
       "             interaction_constraints=None, learning_rate=0.01745767642563374,\n",
       "             max_bin=None, max_cat_threshold=None, max_cat_to_onehot=None,\n",
       "             max_delta_step=None, max_depth=11, max_leaves=None,\n",
       "             min_child_weight=2, missing=nan, monotone_constraints=None,\n",
       "             n_estimators=633, n_jobs=None, num_parallel_tree=None,\n",
       "             predictor=None, random_state=None, ...)</pre></div></div></div></div></div>"
      ],
      "text/plain": [
       "XGBRegressor(base_score=None, booster=None, callbacks=None,\n",
       "             colsample_bylevel=None, colsample_bynode=None,\n",
       "             colsample_bytree=0.5752583768824626, early_stopping_rounds=None,\n",
       "             enable_categorical=True, eval_metric=None, feature_types=None,\n",
       "             gamma=0.5, gpu_id=None, grow_policy=None, importance_type=None,\n",
       "             interaction_constraints=None, learning_rate=0.01745767642563374,\n",
       "             max_bin=None, max_cat_threshold=None, max_cat_to_onehot=None,\n",
       "             max_delta_step=None, max_depth=11, max_leaves=None,\n",
       "             min_child_weight=2, missing=nan, monotone_constraints=None,\n",
       "             n_estimators=633, n_jobs=None, num_parallel_tree=None,\n",
       "             predictor=None, random_state=None, ...)"
      ]
     },
     "execution_count": 103,
     "metadata": {},
     "output_type": "execute_result"
    }
   ],
   "source": [
    "final_model = xgb.XGBRegressor(\n",
    "    tree_method=\"hist\", **best_params, enable_categorical=True\n",
    ")\n",
    "final_model.fit(\n",
    "    X_train,\n",
    "    y_train,\n",
    "    eval_set=[(X_test, y_test)],\n",
    "    early_stopping_rounds=10,\n",
    "    verbose=10,\n",
    ")"
   ]
  },
  {
   "cell_type": "code",
   "execution_count": 104,
   "metadata": {},
   "outputs": [
    {
     "name": "stdout",
     "output_type": "stream",
     "text": [
      "Final Model  Train RMSE: 0.3272936890684361\n",
      "Final Model Test RMSE: 0.3995836693921537\n"
     ]
    }
   ],
   "source": [
    "y_pred_train = final_model.predict(X_train)\n",
    "rmse_train = mean_squared_error(y_train, y_pred_train, squared=False)\n",
    "print(\"Final Model  Train RMSE:\", rmse_train)\n",
    "\n",
    "y_pred_test = final_model.predict(X_test)\n",
    "rmse_test = mean_squared_error(y_test, y_pred_test, squared=False)\n",
    "print(\"Final Model Test RMSE:\", rmse_test)"
   ]
  },
  {
   "cell_type": "code",
   "execution_count": 108,
   "metadata": {},
   "outputs": [],
   "source": [
    "def objective(trial):\n",
    "    # Define the hyperparameters to search over\n",
    "    params = {\n",
    "        \"iterations\": trial.suggest_int(\n",
    "            \"iterations\", 100, 1000\n",
    "        ),  # Number of iterations\n",
    "        \"learning_rate\": trial.suggest_float(\n",
    "            \"learning_rate\", 0.001, 0.1\n",
    "        ),  # Learning rate\n",
    "        \"depth\": trial.suggest_int(\"depth\", 4, 10),  # Depth of the tree\n",
    "        \"l2_leaf_reg\": trial.suggest_float(\n",
    "            \"l2_leaf_reg\", 1e-5, 100\n",
    "        ),  # L2 regularization\n",
    "        \"random_strength\": trial.suggest_float(\n",
    "            \"random_strength\", 0, 1\n",
    "        ),  # Random strength\n",
    "        \"bagging_temperature\": trial.suggest_float(\n",
    "            \"bagging_temperature\", 0, 1\n",
    "        ),  # Bagging temperature\n",
    "    }\n",
    "\n",
    "    # Create the CatBoost model\n",
    "    model = cat.CatBoostRegressor(**params, verbose=10, cat_features=cat_feature)\n",
    "\n",
    "    # Fit the model to the training data\n",
    "    model.fit(\n",
    "        X_train,\n",
    "        y_train,\n",
    "        eval_set=[(X_test, y_test)],\n",
    "        early_stopping_rounds=10,\n",
    "    )\n",
    "\n",
    "    # Calculate the validation RMSE (you can use other metrics as well)\n",
    "    val_pred = model.predict(X_test)\n",
    "    val_rmse = np.sqrt(mean_squared_error(y_test, val_pred))\n",
    "\n",
    "    # Return the validation RMSE as the objective value to minimize\n",
    "    return val_rmse"
   ]
  },
  {
   "cell_type": "code",
   "execution_count": 109,
   "metadata": {},
   "outputs": [
    {
     "name": "stderr",
     "output_type": "stream",
     "text": [
      "[I 2023-12-10 22:14:16,351] A new study created in memory with name: no-name-67df545d-73c3-4bb8-97d9-ae8c8911399b\n"
     ]
    }
   ],
   "source": [
    "study = optuna.create_study(direction=\"minimize\")"
   ]
  },
  {
   "cell_type": "code",
   "execution_count": 110,
   "metadata": {},
   "outputs": [
    {
     "name": "stdout",
     "output_type": "stream",
     "text": [
      "0:\tlearn: 1.5802455\ttest: 1.4037767\tbest: 1.4037767 (0)\ttotal: 230ms\tremaining: 37.7s\n",
      "10:\tlearn: 1.0787870\ttest: 0.9795331\tbest: 0.9795331 (10)\ttotal: 998ms\tremaining: 14s\n",
      "20:\tlearn: 0.8023502\ttest: 0.6901341\tbest: 0.6901341 (20)\ttotal: 1.62s\tremaining: 11.1s\n",
      "30:\tlearn: 0.7261838\ttest: 0.6157188\tbest: 0.6157188 (30)\ttotal: 2.23s\tremaining: 9.66s\n",
      "40:\tlearn: 0.6966682\ttest: 0.5893661\tbest: 0.5893661 (40)\ttotal: 2.85s\tremaining: 8.61s\n",
      "50:\tlearn: 0.6800956\ttest: 0.5782165\tbest: 0.5782165 (50)\ttotal: 3.47s\tremaining: 7.75s\n",
      "60:\tlearn: 0.6682401\ttest: 0.5700130\tbest: 0.5700130 (60)\ttotal: 4.08s\tremaining: 6.95s\n",
      "70:\tlearn: 0.6590114\ttest: 0.5607407\tbest: 0.5607407 (70)\ttotal: 4.68s\tremaining: 6.2s\n",
      "80:\tlearn: 0.6523921\ttest: 0.5529502\tbest: 0.5529502 (80)\ttotal: 5.29s\tremaining: 5.48s\n",
      "90:\tlearn: 0.6461300\ttest: 0.5489759\tbest: 0.5486619 (88)\ttotal: 5.9s\tremaining: 4.79s\n",
      "100:\tlearn: 0.6420136\ttest: 0.5427650\tbest: 0.5427637 (99)\ttotal: 6.5s\tremaining: 4.12s\n",
      "110:\tlearn: 0.6382057\ttest: 0.5381022\tbest: 0.5381022 (110)\ttotal: 7.11s\tremaining: 3.46s\n",
      "120:\tlearn: 0.6344079\ttest: 0.5348155\tbest: 0.5348155 (120)\ttotal: 7.71s\tremaining: 2.8s\n",
      "130:\tlearn: 0.6316579\ttest: 0.5335650\tbest: 0.5335650 (130)\ttotal: 8.31s\tremaining: 2.16s\n",
      "140:\tlearn: 0.6291806\ttest: 0.5303205\tbest: 0.5303205 (140)\ttotal: 8.91s\tremaining: 1.52s\n",
      "150:\tlearn: 0.6265726\ttest: 0.5285225\tbest: 0.5284617 (149)\ttotal: 9.52s\tremaining: 882ms\n",
      "160:\tlearn: 0.6243373\ttest: 0.5275729\tbest: 0.5275034 (159)\ttotal: 10.1s\tremaining: 251ms\n"
     ]
    },
    {
     "name": "stderr",
     "output_type": "stream",
     "text": [
      "[I 2023-12-10 22:14:28,205] Trial 0 finished with value: 0.5269272576867213 and parameters: {'iterations': 165, 'learning_rate': 0.09439256744665762, 'depth': 8, 'l2_leaf_reg': 81.16421667393797, 'random_strength': 0.4280994859006493, 'bagging_temperature': 0.5449245497198891}. Best is trial 0 with value: 0.5269272576867213.\n"
     ]
    },
    {
     "name": "stdout",
     "output_type": "stream",
     "text": [
      "164:\tlearn: 0.6235238\ttest: 0.5269273\tbest: 0.5269273 (164)\ttotal: 10.4s\tremaining: 0us\n",
      "\n",
      "bestTest = 0.526927257\n",
      "bestIteration = 164\n",
      "\n",
      "0:\tlearn: 1.5923922\ttest: 1.4086507\tbest: 1.4086507 (0)\ttotal: 74.6ms\tremaining: 55.3s\n",
      "10:\tlearn: 1.0843761\ttest: 0.9250459\tbest: 0.9250459 (10)\ttotal: 609ms\tremaining: 40.5s\n",
      "20:\tlearn: 0.8916973\ttest: 0.7561058\tbest: 0.7561058 (20)\ttotal: 1.13s\tremaining: 38.9s\n",
      "30:\tlearn: 0.8133993\ttest: 0.6991208\tbest: 0.6991208 (30)\ttotal: 1.7s\tremaining: 38.9s\n",
      "40:\tlearn: 0.7701556\ttest: 0.6638623\tbest: 0.6638623 (40)\ttotal: 2.29s\tremaining: 39.2s\n",
      "50:\tlearn: 0.7464590\ttest: 0.6416774\tbest: 0.6416774 (50)\ttotal: 2.88s\tremaining: 39.1s\n",
      "60:\tlearn: 0.7303738\ttest: 0.6252763\tbest: 0.6252763 (60)\ttotal: 3.49s\tremaining: 38.9s\n",
      "70:\tlearn: 0.7153465\ttest: 0.6158384\tbest: 0.6158384 (70)\ttotal: 4.1s\tremaining: 38.7s\n",
      "80:\tlearn: 0.7046898\ttest: 0.6081218\tbest: 0.6081218 (80)\ttotal: 4.71s\tremaining: 38.5s\n",
      "90:\tlearn: 0.6938701\ttest: 0.5959198\tbest: 0.5959198 (90)\ttotal: 5.35s\tremaining: 38.3s\n",
      "100:\tlearn: 0.6857683\ttest: 0.5908697\tbest: 0.5908697 (100)\ttotal: 5.98s\tremaining: 38s\n",
      "110:\tlearn: 0.6758435\ttest: 0.5853379\tbest: 0.5853379 (110)\ttotal: 6.65s\tremaining: 37.8s\n",
      "120:\tlearn: 0.6672760\ttest: 0.5782486\tbest: 0.5782486 (120)\ttotal: 7.32s\tremaining: 37.6s\n",
      "130:\tlearn: 0.6586509\ttest: 0.5718589\tbest: 0.5718589 (130)\ttotal: 7.95s\tremaining: 37.1s\n",
      "140:\tlearn: 0.6533333\ttest: 0.5664429\tbest: 0.5664429 (140)\ttotal: 8.6s\tremaining: 36.7s\n",
      "150:\tlearn: 0.6443037\ttest: 0.5597141\tbest: 0.5597141 (150)\ttotal: 9.26s\tremaining: 36.2s\n",
      "160:\tlearn: 0.6323640\ttest: 0.5524713\tbest: 0.5523829 (157)\ttotal: 9.85s\tremaining: 35.6s\n",
      "170:\tlearn: 0.6268354\ttest: 0.5457871\tbest: 0.5457871 (170)\ttotal: 10.5s\tremaining: 35s\n",
      "180:\tlearn: 0.6204344\ttest: 0.5426547\tbest: 0.5426547 (180)\ttotal: 11.1s\tremaining: 34.3s\n",
      "190:\tlearn: 0.6097998\ttest: 0.5374172\tbest: 0.5374143 (189)\ttotal: 11.7s\tremaining: 33.8s\n",
      "200:\tlearn: 0.6007879\ttest: 0.5349071\tbest: 0.5349071 (200)\ttotal: 12.4s\tremaining: 33.3s\n",
      "210:\tlearn: 0.5959237\ttest: 0.5318781\tbest: 0.5318781 (210)\ttotal: 12.9s\tremaining: 32.5s\n",
      "220:\tlearn: 0.5877817\ttest: 0.5285592\tbest: 0.5285592 (220)\ttotal: 13.5s\tremaining: 31.9s\n",
      "230:\tlearn: 0.5825404\ttest: 0.5269408\tbest: 0.5267026 (228)\ttotal: 14.1s\tremaining: 31.2s\n",
      "240:\tlearn: 0.5768762\ttest: 0.5244164\tbest: 0.5244164 (240)\ttotal: 14.7s\tremaining: 30.5s\n",
      "250:\tlearn: 0.5732813\ttest: 0.5208148\tbest: 0.5208148 (250)\ttotal: 15.3s\tremaining: 30s\n",
      "260:\tlearn: 0.5685120\ttest: 0.5172565\tbest: 0.5172565 (260)\ttotal: 15.9s\tremaining: 29.3s\n",
      "270:\tlearn: 0.5644591\ttest: 0.5149403\tbest: 0.5149403 (270)\ttotal: 16.5s\tremaining: 28.7s\n",
      "280:\tlearn: 0.5604693\ttest: 0.5120363\tbest: 0.5119944 (277)\ttotal: 17s\tremaining: 28s\n",
      "290:\tlearn: 0.5567536\ttest: 0.5075077\tbest: 0.5074580 (289)\ttotal: 17.6s\tremaining: 27.3s\n",
      "300:\tlearn: 0.5541250\ttest: 0.5047908\tbest: 0.5047833 (299)\ttotal: 18.3s\tremaining: 26.8s\n",
      "310:\tlearn: 0.5516044\ttest: 0.5033409\tbest: 0.5033409 (310)\ttotal: 18.9s\tremaining: 26.2s\n",
      "320:\tlearn: 0.5481366\ttest: 0.5007620\tbest: 0.5007620 (320)\ttotal: 19.4s\tremaining: 25.5s\n",
      "330:\tlearn: 0.5453855\ttest: 0.4990464\tbest: 0.4990464 (330)\ttotal: 20s\tremaining: 24.8s\n",
      "340:\tlearn: 0.5433565\ttest: 0.4984534\tbest: 0.4981618 (337)\ttotal: 20.6s\tremaining: 24.2s\n",
      "350:\tlearn: 0.5398858\ttest: 0.4957400\tbest: 0.4957400 (350)\ttotal: 21.1s\tremaining: 23.5s\n",
      "360:\tlearn: 0.5373053\ttest: 0.4934025\tbest: 0.4933680 (359)\ttotal: 21.7s\tremaining: 22.9s\n",
      "370:\tlearn: 0.5345856\ttest: 0.4918876\tbest: 0.4918876 (370)\ttotal: 22.3s\tremaining: 22.3s\n",
      "380:\tlearn: 0.5331810\ttest: 0.4904216\tbest: 0.4904216 (380)\ttotal: 22.9s\tremaining: 21.7s\n",
      "390:\tlearn: 0.5317840\ttest: 0.4894536\tbest: 0.4894536 (390)\ttotal: 23.5s\tremaining: 21.1s\n",
      "400:\tlearn: 0.5304230\ttest: 0.4881497\tbest: 0.4881217 (399)\ttotal: 24.1s\tremaining: 20.5s\n",
      "410:\tlearn: 0.5280220\ttest: 0.4870159\tbest: 0.4870159 (410)\ttotal: 24.7s\tremaining: 19.9s\n",
      "420:\tlearn: 0.5265044\ttest: 0.4865132\tbest: 0.4865132 (420)\ttotal: 25.3s\tremaining: 19.3s\n",
      "430:\tlearn: 0.5245398\ttest: 0.4853188\tbest: 0.4853188 (430)\ttotal: 26s\tremaining: 18.8s\n",
      "440:\tlearn: 0.5213039\ttest: 0.4835188\tbest: 0.4835188 (440)\ttotal: 26.6s\tremaining: 18.2s\n",
      "450:\tlearn: 0.5192522\ttest: 0.4833303\tbest: 0.4828499 (448)\ttotal: 27.2s\tremaining: 17.6s\n",
      "460:\tlearn: 0.5180803\ttest: 0.4824457\tbest: 0.4824132 (459)\ttotal: 27.9s\tremaining: 17s\n",
      "470:\tlearn: 0.5166629\ttest: 0.4814580\tbest: 0.4813160 (468)\ttotal: 28.6s\tremaining: 16.5s\n",
      "480:\tlearn: 0.5148379\ttest: 0.4803287\tbest: 0.4803287 (480)\ttotal: 29.5s\tremaining: 16s\n",
      "490:\tlearn: 0.5125170\ttest: 0.4789718\tbest: 0.4789718 (490)\ttotal: 30.2s\tremaining: 15.4s\n",
      "500:\tlearn: 0.5111234\ttest: 0.4771908\tbest: 0.4771908 (500)\ttotal: 31.1s\tremaining: 15s\n",
      "510:\tlearn: 0.5102783\ttest: 0.4755899\tbest: 0.4755899 (510)\ttotal: 31.9s\tremaining: 14.4s\n",
      "520:\tlearn: 0.5088856\ttest: 0.4746724\tbest: 0.4746724 (520)\ttotal: 32.7s\tremaining: 13.9s\n",
      "530:\tlearn: 0.5071913\ttest: 0.4743774\tbest: 0.4743774 (530)\ttotal: 33.5s\tremaining: 13.3s\n",
      "540:\tlearn: 0.5057583\ttest: 0.4741268\tbest: 0.4741178 (539)\ttotal: 34.4s\tremaining: 12.8s\n",
      "550:\tlearn: 0.5038776\ttest: 0.4720174\tbest: 0.4720174 (550)\ttotal: 35.2s\tremaining: 12.2s\n",
      "560:\tlearn: 0.5026556\ttest: 0.4714445\tbest: 0.4714445 (560)\ttotal: 36s\tremaining: 11.6s\n",
      "570:\tlearn: 0.5015696\ttest: 0.4709447\tbest: 0.4709041 (567)\ttotal: 36.8s\tremaining: 11s\n",
      "580:\tlearn: 0.5006294\ttest: 0.4700873\tbest: 0.4700393 (577)\ttotal: 37.6s\tremaining: 10.4s\n",
      "590:\tlearn: 0.4996471\ttest: 0.4690906\tbest: 0.4690906 (590)\ttotal: 38.4s\tremaining: 9.81s\n",
      "600:\tlearn: 0.4989610\ttest: 0.4688636\tbest: 0.4688519 (597)\ttotal: 39.2s\tremaining: 9.19s\n",
      "610:\tlearn: 0.4981416\ttest: 0.4683442\tbest: 0.4683442 (610)\ttotal: 40s\tremaining: 8.57s\n",
      "620:\tlearn: 0.4970583\ttest: 0.4678859\tbest: 0.4678859 (620)\ttotal: 40.8s\tremaining: 7.96s\n",
      "630:\tlearn: 0.4959184\ttest: 0.4666576\tbest: 0.4666498 (629)\ttotal: 41.6s\tremaining: 7.32s\n",
      "640:\tlearn: 0.4948976\ttest: 0.4650792\tbest: 0.4650792 (640)\ttotal: 42.4s\tremaining: 6.68s\n",
      "650:\tlearn: 0.4939299\ttest: 0.4641419\tbest: 0.4641419 (650)\ttotal: 43.2s\tremaining: 6.04s\n",
      "660:\tlearn: 0.4932118\ttest: 0.4635668\tbest: 0.4635668 (660)\ttotal: 44.1s\tremaining: 5.4s\n",
      "670:\tlearn: 0.4923349\ttest: 0.4623245\tbest: 0.4623245 (670)\ttotal: 44.8s\tremaining: 4.74s\n",
      "680:\tlearn: 0.4912385\ttest: 0.4616177\tbest: 0.4616107 (678)\ttotal: 45.6s\tremaining: 4.08s\n",
      "690:\tlearn: 0.4906011\ttest: 0.4614859\tbest: 0.4614307 (689)\ttotal: 46.5s\tremaining: 3.43s\n",
      "700:\tlearn: 0.4899032\ttest: 0.4612626\tbest: 0.4612626 (700)\ttotal: 47.3s\tremaining: 2.77s\n",
      "710:\tlearn: 0.4885414\ttest: 0.4605950\tbest: 0.4605950 (710)\ttotal: 48.1s\tremaining: 2.1s\n",
      "720:\tlearn: 0.4877536\ttest: 0.4598738\tbest: 0.4598494 (716)\ttotal: 48.9s\tremaining: 1.43s\n",
      "730:\tlearn: 0.4869280\ttest: 0.4590780\tbest: 0.4590780 (730)\ttotal: 49.8s\tremaining: 749ms\n",
      "740:\tlearn: 0.4860239\ttest: 0.4589736\tbest: 0.4589130 (737)\ttotal: 50.6s\tremaining: 68.3ms\n",
      "741:\tlearn: 0.4858870\ttest: 0.4589240\tbest: 0.4589130 (737)\ttotal: 50.7s\tremaining: 0us\n",
      "\n",
      "bestTest = 0.4589130416\n",
      "bestIteration = 737\n",
      "\n",
      "Shrink model to first 738 iterations.\n"
     ]
    },
    {
     "name": "stderr",
     "output_type": "stream",
     "text": [
      "[I 2023-12-10 22:15:19,501] Trial 1 finished with value: 0.4589130421866642 and parameters: {'iterations': 742, 'learning_rate': 0.07343853182367419, 'depth': 5, 'l2_leaf_reg': 76.31877800998082, 'random_strength': 0.7041084359182732, 'bagging_temperature': 0.4539232758358517}. Best is trial 1 with value: 0.4589130421866642.\n"
     ]
    },
    {
     "name": "stdout",
     "output_type": "stream",
     "text": [
      "0:\tlearn: 1.6366604\ttest: 1.4550879\tbest: 1.4550879 (0)\ttotal: 67.2ms\tremaining: 12.8s\n",
      "10:\tlearn: 1.3506610\ttest: 1.2092052\tbest: 1.2092052 (10)\ttotal: 655ms\tremaining: 10.7s\n",
      "20:\tlearn: 1.1902194\ttest: 1.0818839\tbest: 1.0818839 (20)\ttotal: 1.24s\tremaining: 10s\n",
      "30:\tlearn: 1.0244158\ttest: 0.9174758\tbest: 0.9174758 (30)\ttotal: 1.83s\tremaining: 9.44s\n",
      "40:\tlearn: 0.9074399\ttest: 0.7951326\tbest: 0.7951326 (40)\ttotal: 2.41s\tremaining: 8.82s\n",
      "50:\tlearn: 0.8404539\ttest: 0.7276204\tbest: 0.7276204 (50)\ttotal: 2.99s\tremaining: 8.2s\n",
      "60:\tlearn: 0.7995553\ttest: 0.6852033\tbest: 0.6852033 (60)\ttotal: 3.56s\tremaining: 7.59s\n",
      "70:\tlearn: 0.7718819\ttest: 0.6598459\tbest: 0.6598459 (70)\ttotal: 4.15s\tremaining: 7.01s\n",
      "80:\tlearn: 0.7526207\ttest: 0.6415503\tbest: 0.6415503 (80)\ttotal: 4.75s\tremaining: 6.45s\n",
      "90:\tlearn: 0.7392384\ttest: 0.6284828\tbest: 0.6284828 (90)\ttotal: 5.32s\tremaining: 5.85s\n",
      "100:\tlearn: 0.7279828\ttest: 0.6192005\tbest: 0.6192005 (100)\ttotal: 5.91s\tremaining: 5.27s\n",
      "110:\tlearn: 0.7184535\ttest: 0.6107539\tbest: 0.6107539 (110)\ttotal: 6.49s\tremaining: 4.68s\n",
      "120:\tlearn: 0.7114820\ttest: 0.6059135\tbest: 0.6059135 (120)\ttotal: 7.08s\tremaining: 4.09s\n",
      "130:\tlearn: 0.7058688\ttest: 0.6007485\tbest: 0.6007485 (130)\ttotal: 7.7s\tremaining: 3.52s\n",
      "140:\tlearn: 0.7008536\ttest: 0.5985124\tbest: 0.5984726 (139)\ttotal: 8.28s\tremaining: 2.94s\n",
      "150:\tlearn: 0.6959503\ttest: 0.5942140\tbest: 0.5942140 (150)\ttotal: 8.86s\tremaining: 2.35s\n",
      "160:\tlearn: 0.6916026\ttest: 0.5903337\tbest: 0.5903337 (160)\ttotal: 9.44s\tremaining: 1.76s\n",
      "170:\tlearn: 0.6874395\ttest: 0.5876347\tbest: 0.5875184 (169)\ttotal: 10s\tremaining: 1.17s\n",
      "180:\tlearn: 0.6839437\ttest: 0.5845951\tbest: 0.5845951 (180)\ttotal: 10.6s\tremaining: 587ms\n"
     ]
    },
    {
     "name": "stderr",
     "output_type": "stream",
     "text": [
      "[I 2023-12-10 22:15:31,038] Trial 2 finished with value: 0.5812601390650325 and parameters: {'iterations': 191, 'learning_rate': 0.03896944237593699, 'depth': 6, 'l2_leaf_reg': 42.69314499212935, 'random_strength': 0.956025546222303, 'bagging_temperature': 0.4642656759310554}. Best is trial 1 with value: 0.4589130421866642.\n"
     ]
    },
    {
     "name": "stdout",
     "output_type": "stream",
     "text": [
      "190:\tlearn: 0.6806107\ttest: 0.5812601\tbest: 0.5812601 (190)\ttotal: 11.2s\tremaining: 0us\n",
      "\n",
      "bestTest = 0.5812601382\n",
      "bestIteration = 190\n",
      "\n",
      "0:\tlearn: 1.5884603\ttest: 1.4047071\tbest: 1.4047071 (0)\ttotal: 98.7ms\tremaining: 1m 12s\n",
      "10:\tlearn: 1.0685853\ttest: 0.9129955\tbest: 0.9129955 (10)\ttotal: 781ms\tremaining: 51.3s\n",
      "20:\tlearn: 0.8802094\ttest: 0.7473271\tbest: 0.7473271 (20)\ttotal: 1.45s\tremaining: 49.2s\n",
      "30:\tlearn: 0.8039388\ttest: 0.6892363\tbest: 0.6892363 (30)\ttotal: 2.18s\tremaining: 49.5s\n",
      "40:\tlearn: 0.7619505\ttest: 0.6556158\tbest: 0.6556158 (40)\ttotal: 2.96s\tremaining: 50s\n",
      "50:\tlearn: 0.7395786\ttest: 0.6353257\tbest: 0.6353257 (50)\ttotal: 3.72s\tremaining: 49.8s\n",
      "60:\tlearn: 0.7217911\ttest: 0.6200975\tbest: 0.6200975 (60)\ttotal: 4.56s\tremaining: 50.4s\n",
      "70:\tlearn: 0.7084970\ttest: 0.6113179\tbest: 0.6113179 (70)\ttotal: 5.42s\tremaining: 50.6s\n",
      "80:\tlearn: 0.6999781\ttest: 0.6047690\tbest: 0.6047690 (80)\ttotal: 6.28s\tremaining: 50.6s\n",
      "90:\tlearn: 0.6904431\ttest: 0.5974369\tbest: 0.5974369 (90)\ttotal: 7.13s\tremaining: 50.4s\n",
      "100:\tlearn: 0.6819692\ttest: 0.5910887\tbest: 0.5910887 (100)\ttotal: 8s\tremaining: 50.2s\n",
      "110:\tlearn: 0.6694927\ttest: 0.5792028\tbest: 0.5792028 (110)\ttotal: 8.87s\tremaining: 49.8s\n",
      "120:\tlearn: 0.6577630\ttest: 0.5732581\tbest: 0.5727999 (116)\ttotal: 9.75s\tremaining: 49.4s\n",
      "130:\tlearn: 0.6516943\ttest: 0.5657067\tbest: 0.5657067 (130)\ttotal: 10.6s\tremaining: 48.9s\n",
      "140:\tlearn: 0.6404944\ttest: 0.5646108\tbest: 0.5646108 (140)\ttotal: 11.4s\tremaining: 48.1s\n",
      "150:\tlearn: 0.6306805\ttest: 0.5586376\tbest: 0.5586376 (150)\ttotal: 12.3s\tremaining: 47.4s\n",
      "160:\tlearn: 0.6207806\ttest: 0.5532273\tbest: 0.5532273 (160)\ttotal: 13.1s\tremaining: 46.7s\n",
      "170:\tlearn: 0.6124024\ttest: 0.5462745\tbest: 0.5462745 (170)\ttotal: 13.9s\tremaining: 45.8s\n",
      "180:\tlearn: 0.6034264\ttest: 0.5401729\tbest: 0.5400375 (179)\ttotal: 14.7s\tremaining: 44.8s\n",
      "190:\tlearn: 0.5987350\ttest: 0.5358918\tbest: 0.5358918 (190)\ttotal: 15.5s\tremaining: 44s\n",
      "200:\tlearn: 0.5941849\ttest: 0.5317821\tbest: 0.5317821 (200)\ttotal: 16.3s\tremaining: 43.2s\n",
      "210:\tlearn: 0.5853571\ttest: 0.5268004\tbest: 0.5268004 (210)\ttotal: 17.1s\tremaining: 42.3s\n",
      "220:\tlearn: 0.5776509\ttest: 0.5224857\tbest: 0.5224857 (220)\ttotal: 17.9s\tremaining: 41.4s\n",
      "230:\tlearn: 0.5716999\ttest: 0.5179682\tbest: 0.5179682 (230)\ttotal: 18.7s\tremaining: 40.7s\n",
      "240:\tlearn: 0.5677757\ttest: 0.5145200\tbest: 0.5144624 (239)\ttotal: 19.5s\tremaining: 40s\n",
      "250:\tlearn: 0.5650167\ttest: 0.5132028\tbest: 0.5132028 (250)\ttotal: 20.4s\tremaining: 39.2s\n",
      "260:\tlearn: 0.5609935\ttest: 0.5083010\tbest: 0.5083010 (260)\ttotal: 21.2s\tremaining: 38.4s\n",
      "270:\tlearn: 0.5569681\ttest: 0.5066562\tbest: 0.5066562 (270)\ttotal: 22s\tremaining: 37.6s\n",
      "280:\tlearn: 0.5539695\ttest: 0.5037765\tbest: 0.5035463 (277)\ttotal: 22.8s\tremaining: 36.7s\n",
      "290:\tlearn: 0.5504164\ttest: 0.5025636\tbest: 0.5025636 (290)\ttotal: 23.5s\tremaining: 35.8s\n",
      "300:\tlearn: 0.5481336\ttest: 0.5017001\tbest: 0.5016357 (296)\ttotal: 24.3s\tremaining: 34.9s\n",
      "310:\tlearn: 0.5459166\ttest: 0.4986735\tbest: 0.4986735 (310)\ttotal: 25.2s\tremaining: 34.2s\n",
      "320:\tlearn: 0.5436291\ttest: 0.4977715\tbest: 0.4977371 (319)\ttotal: 26s\tremaining: 33.4s\n",
      "330:\tlearn: 0.5414682\ttest: 0.4961554\tbest: 0.4961554 (330)\ttotal: 26.8s\tremaining: 32.6s\n",
      "340:\tlearn: 0.5393670\ttest: 0.4926970\tbest: 0.4926970 (340)\ttotal: 27.6s\tremaining: 31.8s\n",
      "350:\tlearn: 0.5375755\ttest: 0.4907304\tbest: 0.4907304 (350)\ttotal: 28.4s\tremaining: 30.9s\n",
      "360:\tlearn: 0.5353498\ttest: 0.4896971\tbest: 0.4894998 (356)\ttotal: 29.1s\tremaining: 30.1s\n",
      "370:\tlearn: 0.5332706\ttest: 0.4869705\tbest: 0.4869705 (370)\ttotal: 29.9s\tremaining: 29.3s\n",
      "380:\tlearn: 0.5302905\ttest: 0.4862714\tbest: 0.4862714 (380)\ttotal: 30.7s\tremaining: 28.5s\n",
      "390:\tlearn: 0.5279293\ttest: 0.4847998\tbest: 0.4847998 (390)\ttotal: 31.6s\tremaining: 27.7s\n",
      "400:\tlearn: 0.5256690\ttest: 0.4829059\tbest: 0.4828979 (399)\ttotal: 32.3s\tremaining: 26.8s\n",
      "410:\tlearn: 0.5228226\ttest: 0.4813132\tbest: 0.4812719 (409)\ttotal: 33.1s\tremaining: 26s\n",
      "420:\tlearn: 0.5204854\ttest: 0.4806495\tbest: 0.4806495 (420)\ttotal: 33.9s\tremaining: 25.2s\n",
      "430:\tlearn: 0.5188088\ttest: 0.4792685\tbest: 0.4792685 (430)\ttotal: 34.7s\tremaining: 24.4s\n",
      "440:\tlearn: 0.5169847\ttest: 0.4780440\tbest: 0.4780440 (440)\ttotal: 35.5s\tremaining: 23.6s\n",
      "450:\tlearn: 0.5154967\ttest: 0.4772935\tbest: 0.4772935 (450)\ttotal: 36.3s\tremaining: 22.8s\n",
      "460:\tlearn: 0.5135435\ttest: 0.4767165\tbest: 0.4767165 (460)\ttotal: 37.2s\tremaining: 22s\n",
      "470:\tlearn: 0.5117310\ttest: 0.4744985\tbest: 0.4744985 (470)\ttotal: 38s\tremaining: 21.2s\n",
      "480:\tlearn: 0.5094502\ttest: 0.4723934\tbest: 0.4723934 (480)\ttotal: 38.7s\tremaining: 20.4s\n",
      "490:\tlearn: 0.5080547\ttest: 0.4720027\tbest: 0.4718518 (489)\ttotal: 39.5s\tremaining: 19.6s\n",
      "500:\tlearn: 0.5064938\ttest: 0.4712341\tbest: 0.4712325 (499)\ttotal: 40.4s\tremaining: 18.8s\n",
      "510:\tlearn: 0.5043942\ttest: 0.4696405\tbest: 0.4696405 (510)\ttotal: 41.3s\tremaining: 18s\n",
      "520:\tlearn: 0.5036170\ttest: 0.4689707\tbest: 0.4689707 (520)\ttotal: 42.1s\tremaining: 17.2s\n",
      "530:\tlearn: 0.5023856\ttest: 0.4676331\tbest: 0.4675981 (529)\ttotal: 43s\tremaining: 16.4s\n",
      "540:\tlearn: 0.5013260\ttest: 0.4675881\tbest: 0.4674594 (535)\ttotal: 43.8s\tremaining: 15.6s\n",
      "550:\tlearn: 0.5002606\ttest: 0.4666107\tbest: 0.4666044 (548)\ttotal: 44.7s\tremaining: 14.8s\n",
      "560:\tlearn: 0.4992107\ttest: 0.4656232\tbest: 0.4656232 (560)\ttotal: 45.4s\tremaining: 14s\n",
      "570:\tlearn: 0.4981630\ttest: 0.4651082\tbest: 0.4651082 (570)\ttotal: 46.2s\tremaining: 13.2s\n",
      "580:\tlearn: 0.4972837\ttest: 0.4645784\tbest: 0.4645784 (580)\ttotal: 46.9s\tremaining: 12.4s\n",
      "590:\tlearn: 0.4962899\ttest: 0.4639494\tbest: 0.4639494 (590)\ttotal: 47.8s\tremaining: 11.6s\n",
      "600:\tlearn: 0.4946819\ttest: 0.4632960\tbest: 0.4632960 (600)\ttotal: 48.5s\tremaining: 10.7s\n",
      "610:\tlearn: 0.4937757\ttest: 0.4630427\tbest: 0.4630427 (610)\ttotal: 49.4s\tremaining: 9.94s\n",
      "620:\tlearn: 0.4925433\ttest: 0.4621523\tbest: 0.4621523 (620)\ttotal: 50.2s\tremaining: 9.13s\n",
      "630:\tlearn: 0.4916492\ttest: 0.4620512\tbest: 0.4620205 (628)\ttotal: 50.9s\tremaining: 8.32s\n",
      "640:\tlearn: 0.4908898\ttest: 0.4610403\tbest: 0.4610403 (640)\ttotal: 51.7s\tremaining: 7.51s\n",
      "650:\tlearn: 0.4900320\ttest: 0.4605789\tbest: 0.4605600 (648)\ttotal: 52.6s\tremaining: 6.7s\n",
      "660:\tlearn: 0.4891299\ttest: 0.4605607\tbest: 0.4605216 (655)\ttotal: 53.4s\tremaining: 5.9s\n",
      "670:\tlearn: 0.4882688\ttest: 0.4599200\tbest: 0.4598964 (669)\ttotal: 54.3s\tremaining: 5.09s\n",
      "680:\tlearn: 0.4872488\ttest: 0.4586571\tbest: 0.4586571 (680)\ttotal: 55.1s\tremaining: 4.29s\n",
      "690:\tlearn: 0.4867570\ttest: 0.4583461\tbest: 0.4583461 (690)\ttotal: 55.9s\tremaining: 3.48s\n",
      "700:\tlearn: 0.4858371\ttest: 0.4579984\tbest: 0.4579932 (697)\ttotal: 56.8s\tremaining: 2.67s\n",
      "710:\tlearn: 0.4851332\ttest: 0.4575639\tbest: 0.4575639 (710)\ttotal: 57.6s\tremaining: 1.86s\n",
      "720:\tlearn: 0.4844179\ttest: 0.4573364\tbest: 0.4572143 (718)\ttotal: 58.4s\tremaining: 1.05s\n",
      "730:\tlearn: 0.4838317\ttest: 0.4571415\tbest: 0.4571158 (728)\ttotal: 59.3s\tremaining: 243ms\n",
      "733:\tlearn: 0.4833915\ttest: 0.4571148\tbest: 0.4571148 (733)\ttotal: 59.6s\tremaining: 0us\n",
      "\n",
      "bestTest = 0.457114832\n",
      "bestIteration = 733\n",
      "\n"
     ]
    },
    {
     "name": "stderr",
     "output_type": "stream",
     "text": [
      "[I 2023-12-10 22:16:31,346] Trial 3 finished with value: 0.45711483277100345 and parameters: {'iterations': 734, 'learning_rate': 0.0767229703518425, 'depth': 5, 'l2_leaf_reg': 26.643033530485667, 'random_strength': 0.5555767834324928, 'bagging_temperature': 0.6554050755600216}. Best is trial 3 with value: 0.45711483277100345.\n"
     ]
    },
    {
     "name": "stdout",
     "output_type": "stream",
     "text": [
      "0:\tlearn: 1.6645952\ttest: 1.4776086\tbest: 1.4776086 (0)\ttotal: 111ms\tremaining: 35.2s\n",
      "10:\tlearn: 1.5657799\ttest: 1.3828049\tbest: 1.3828049 (10)\ttotal: 1.03s\tremaining: 28.6s\n",
      "20:\tlearn: 1.4770620\ttest: 1.2981179\tbest: 1.2981179 (20)\ttotal: 1.93s\tremaining: 27.3s\n",
      "30:\tlearn: 1.3976212\ttest: 1.2224775\tbest: 1.2224775 (30)\ttotal: 2.79s\tremaining: 25.7s\n",
      "40:\tlearn: 1.3263833\ttest: 1.1539769\tbest: 1.1539769 (40)\ttotal: 3.68s\tremaining: 24.8s\n",
      "50:\tlearn: 1.2625612\ttest: 1.0924768\tbest: 1.0924768 (50)\ttotal: 4.58s\tremaining: 23.9s\n",
      "60:\tlearn: 1.2046119\ttest: 1.0367083\tbest: 1.0367083 (60)\ttotal: 5.54s\tremaining: 23.3s\n",
      "70:\tlearn: 1.1530394\ttest: 0.9873184\tbest: 0.9873184 (70)\ttotal: 6.45s\tremaining: 22.3s\n",
      "80:\tlearn: 1.1073597\ttest: 0.9443173\tbest: 0.9443173 (80)\ttotal: 7.42s\tremaining: 21.6s\n",
      "90:\tlearn: 1.0657642\ttest: 0.9043611\tbest: 0.9043611 (90)\ttotal: 8.31s\tremaining: 20.7s\n",
      "100:\tlearn: 1.0291930\ttest: 0.8709270\tbest: 0.8709270 (100)\ttotal: 9.21s\tremaining: 19.7s\n",
      "110:\tlearn: 0.9962817\ttest: 0.8410517\tbest: 0.8410517 (110)\ttotal: 10.1s\tremaining: 18.8s\n",
      "120:\tlearn: 0.9665049\ttest: 0.8136067\tbest: 0.8136067 (120)\ttotal: 11s\tremaining: 17.8s\n",
      "130:\tlearn: 0.9404411\ttest: 0.7904323\tbest: 0.7904323 (130)\ttotal: 11.9s\tremaining: 16.9s\n",
      "140:\tlearn: 0.9173627\ttest: 0.7706563\tbest: 0.7706563 (140)\ttotal: 12.8s\tremaining: 16s\n",
      "150:\tlearn: 0.8964690\ttest: 0.7527995\tbest: 0.7527995 (150)\ttotal: 13.8s\tremaining: 15.2s\n",
      "160:\tlearn: 0.8779966\ttest: 0.7360757\tbest: 0.7360757 (160)\ttotal: 14.8s\tremaining: 14.3s\n",
      "170:\tlearn: 0.8613283\ttest: 0.7216459\tbest: 0.7216459 (170)\ttotal: 15.7s\tremaining: 13.4s\n",
      "180:\tlearn: 0.8464777\ttest: 0.7091909\tbest: 0.7091909 (180)\ttotal: 16.7s\tremaining: 12.5s\n",
      "190:\tlearn: 0.8331333\ttest: 0.6982765\tbest: 0.6982765 (190)\ttotal: 17.6s\tremaining: 11.6s\n",
      "200:\tlearn: 0.8210267\ttest: 0.6884438\tbest: 0.6884438 (200)\ttotal: 18.6s\tremaining: 10.7s\n",
      "210:\tlearn: 0.8102551\ttest: 0.6800876\tbest: 0.6800876 (210)\ttotal: 19.6s\tremaining: 9.84s\n",
      "220:\tlearn: 0.8006779\ttest: 0.6728396\tbest: 0.6728396 (220)\ttotal: 20.6s\tremaining: 8.95s\n",
      "230:\tlearn: 0.7920741\ttest: 0.6662576\tbest: 0.6662576 (230)\ttotal: 21.6s\tremaining: 8.03s\n",
      "240:\tlearn: 0.7842419\ttest: 0.6603028\tbest: 0.6603028 (240)\ttotal: 22.4s\tremaining: 7.07s\n",
      "250:\tlearn: 0.7771058\ttest: 0.6553218\tbest: 0.6553218 (250)\ttotal: 23.4s\tremaining: 6.17s\n",
      "260:\tlearn: 0.7707727\ttest: 0.6508593\tbest: 0.6508593 (260)\ttotal: 24.5s\tremaining: 5.26s\n",
      "270:\tlearn: 0.7646985\ttest: 0.6459614\tbest: 0.6459614 (270)\ttotal: 25.6s\tremaining: 4.34s\n",
      "280:\tlearn: 0.7589534\ttest: 0.6415447\tbest: 0.6415447 (280)\ttotal: 26.6s\tremaining: 3.41s\n",
      "290:\tlearn: 0.7534360\ttest: 0.6367939\tbest: 0.6367939 (290)\ttotal: 27.6s\tremaining: 2.46s\n",
      "300:\tlearn: 0.7475996\ttest: 0.6324243\tbest: 0.6324243 (300)\ttotal: 28.6s\tremaining: 1.52s\n",
      "310:\tlearn: 0.7422373\ttest: 0.6290887\tbest: 0.6290887 (310)\ttotal: 29.7s\tremaining: 574ms\n"
     ]
    },
    {
     "name": "stderr",
     "output_type": "stream",
     "text": [
      "[I 2023-12-10 22:17:02,215] Trial 4 finished with value: 0.6273334247776383 and parameters: {'iterations': 317, 'learning_rate': 0.008684626617892731, 'depth': 7, 'l2_leaf_reg': 11.439924847373302, 'random_strength': 0.6560397070010395, 'bagging_temperature': 0.5251910111136892}. Best is trial 3 with value: 0.45711483277100345.\n"
     ]
    },
    {
     "name": "stdout",
     "output_type": "stream",
     "text": [
      "316:\tlearn: 0.7387478\ttest: 0.6273334\tbest: 0.6273334 (316)\ttotal: 30.4s\tremaining: 0us\n",
      "\n",
      "bestTest = 0.6273334263\n",
      "bestIteration = 316\n",
      "\n",
      "0:\tlearn: 1.6478696\ttest: 1.4618165\tbest: 1.4618165 (0)\ttotal: 133ms\tremaining: 2m 9s\n",
      "10:\tlearn: 1.4135017\ttest: 1.2378218\tbest: 1.2378218 (10)\ttotal: 1.26s\tremaining: 1m 50s\n",
      "20:\tlearn: 1.2376324\ttest: 1.0693547\tbest: 1.0693547 (20)\ttotal: 2.35s\tremaining: 1m 46s\n",
      "30:\tlearn: 1.1043971\ttest: 0.9428715\tbest: 0.9428715 (30)\ttotal: 3.44s\tremaining: 1m 44s\n",
      "40:\tlearn: 1.0039047\ttest: 0.8497433\tbest: 0.8497433 (40)\ttotal: 4.54s\tremaining: 1m 43s\n",
      "50:\tlearn: 0.9288972\ttest: 0.7821108\tbest: 0.7821108 (50)\ttotal: 5.64s\tremaining: 1m 41s\n",
      "60:\tlearn: 0.8713006\ttest: 0.7290492\tbest: 0.7290492 (60)\ttotal: 6.79s\tremaining: 1m 41s\n",
      "70:\tlearn: 0.8291023\ttest: 0.6926873\tbest: 0.6926873 (70)\ttotal: 7.95s\tremaining: 1m 41s\n",
      "80:\tlearn: 0.7973750\ttest: 0.6665315\tbest: 0.6665315 (80)\ttotal: 9.1s\tremaining: 1m 40s\n",
      "90:\tlearn: 0.7732981\ttest: 0.6451939\tbest: 0.6451939 (90)\ttotal: 10.3s\tremaining: 1m 39s\n",
      "100:\tlearn: 0.7548616\ttest: 0.6318648\tbest: 0.6318648 (100)\ttotal: 11.5s\tremaining: 1m 39s\n",
      "110:\tlearn: 0.7407390\ttest: 0.6212965\tbest: 0.6212965 (110)\ttotal: 12.7s\tremaining: 1m 38s\n",
      "120:\tlearn: 0.7282495\ttest: 0.6140493\tbest: 0.6140493 (120)\ttotal: 14s\tremaining: 1m 38s\n",
      "130:\tlearn: 0.7134439\ttest: 0.6059946\tbest: 0.6059946 (130)\ttotal: 15.2s\tremaining: 1m 37s\n",
      "140:\tlearn: 0.7026815\ttest: 0.5988055\tbest: 0.5988055 (140)\ttotal: 16.4s\tremaining: 1m 36s\n",
      "150:\tlearn: 0.6943449\ttest: 0.5940266\tbest: 0.5940266 (150)\ttotal: 17.7s\tremaining: 1m 36s\n",
      "160:\tlearn: 0.6819912\ttest: 0.5864222\tbest: 0.5864222 (160)\ttotal: 19s\tremaining: 1m 35s\n",
      "170:\tlearn: 0.6729435\ttest: 0.5807602\tbest: 0.5807602 (170)\ttotal: 20.4s\tremaining: 1m 35s\n",
      "180:\tlearn: 0.6673400\ttest: 0.5773446\tbest: 0.5773446 (180)\ttotal: 21.7s\tremaining: 1m 35s\n",
      "190:\tlearn: 0.6593172\ttest: 0.5733606\tbest: 0.5733606 (190)\ttotal: 23s\tremaining: 1m 34s\n",
      "200:\tlearn: 0.6554704\ttest: 0.5708667\tbest: 0.5708667 (200)\ttotal: 24.4s\tremaining: 1m 33s\n",
      "210:\tlearn: 0.6514109\ttest: 0.5688019\tbest: 0.5688019 (210)\ttotal: 25.7s\tremaining: 1m 32s\n",
      "220:\tlearn: 0.6465434\ttest: 0.5653365\tbest: 0.5653365 (220)\ttotal: 27.1s\tremaining: 1m 32s\n",
      "230:\tlearn: 0.6394879\ttest: 0.5619848\tbest: 0.5619848 (230)\ttotal: 28.5s\tremaining: 1m 31s\n",
      "240:\tlearn: 0.6333850\ttest: 0.5590304\tbest: 0.5590304 (240)\ttotal: 29.8s\tremaining: 1m 30s\n",
      "250:\tlearn: 0.6267231\ttest: 0.5556035\tbest: 0.5556035 (250)\ttotal: 31.1s\tremaining: 1m 29s\n",
      "260:\tlearn: 0.6239882\ttest: 0.5535757\tbest: 0.5535757 (260)\ttotal: 32.5s\tremaining: 1m 28s\n",
      "270:\tlearn: 0.6193005\ttest: 0.5500580\tbest: 0.5500580 (270)\ttotal: 33.9s\tremaining: 1m 27s\n",
      "280:\tlearn: 0.6120201\ttest: 0.5468632\tbest: 0.5468632 (280)\ttotal: 35.3s\tremaining: 1m 26s\n",
      "290:\tlearn: 0.6067096\ttest: 0.5437855\tbest: 0.5437855 (290)\ttotal: 36.7s\tremaining: 1m 25s\n",
      "300:\tlearn: 0.6016417\ttest: 0.5404694\tbest: 0.5404694 (300)\ttotal: 38s\tremaining: 1m 24s\n",
      "310:\tlearn: 0.5981719\ttest: 0.5378973\tbest: 0.5378973 (310)\ttotal: 39.5s\tremaining: 1m 23s\n",
      "320:\tlearn: 0.5951689\ttest: 0.5353265\tbest: 0.5353265 (320)\ttotal: 40.9s\tremaining: 1m 23s\n",
      "330:\tlearn: 0.5902127\ttest: 0.5324195\tbest: 0.5324195 (330)\ttotal: 42.2s\tremaining: 1m 21s\n",
      "340:\tlearn: 0.5853752\ttest: 0.5297145\tbest: 0.5297145 (340)\ttotal: 43.5s\tremaining: 1m 20s\n",
      "350:\tlearn: 0.5822609\ttest: 0.5282708\tbest: 0.5282708 (350)\ttotal: 44.8s\tremaining: 1m 19s\n",
      "360:\tlearn: 0.5796678\ttest: 0.5269804\tbest: 0.5269804 (360)\ttotal: 46.2s\tremaining: 1m 18s\n",
      "370:\tlearn: 0.5766208\ttest: 0.5248219\tbest: 0.5248219 (370)\ttotal: 47.6s\tremaining: 1m 17s\n",
      "380:\tlearn: 0.5735742\ttest: 0.5230301\tbest: 0.5230301 (380)\ttotal: 48.9s\tremaining: 1m 15s\n",
      "390:\tlearn: 0.5704672\ttest: 0.5213744\tbest: 0.5213744 (390)\ttotal: 50.3s\tremaining: 1m 14s\n",
      "400:\tlearn: 0.5672531\ttest: 0.5201010\tbest: 0.5201010 (400)\ttotal: 51.6s\tremaining: 1m 13s\n",
      "410:\tlearn: 0.5646066\ttest: 0.5186082\tbest: 0.5186082 (410)\ttotal: 52.8s\tremaining: 1m 12s\n",
      "420:\tlearn: 0.5616855\ttest: 0.5166935\tbest: 0.5166935 (420)\ttotal: 54.2s\tremaining: 1m 11s\n",
      "430:\tlearn: 0.5596372\ttest: 0.5155571\tbest: 0.5155571 (430)\ttotal: 55.7s\tremaining: 1m 9s\n",
      "440:\tlearn: 0.5564852\ttest: 0.5132248\tbest: 0.5132248 (440)\ttotal: 56.9s\tremaining: 1m 8s\n",
      "450:\tlearn: 0.5543356\ttest: 0.5120702\tbest: 0.5120702 (450)\ttotal: 58.2s\tremaining: 1m 7s\n",
      "460:\tlearn: 0.5517137\ttest: 0.5102400\tbest: 0.5102400 (460)\ttotal: 59.6s\tremaining: 1m 6s\n",
      "470:\tlearn: 0.5494148\ttest: 0.5089867\tbest: 0.5089801 (469)\ttotal: 1m\tremaining: 1m 4s\n",
      "480:\tlearn: 0.5470805\ttest: 0.5078203\tbest: 0.5078203 (480)\ttotal: 1m 2s\tremaining: 1m 3s\n",
      "490:\tlearn: 0.5449784\ttest: 0.5065960\tbest: 0.5065960 (490)\ttotal: 1m 3s\tremaining: 1m 2s\n",
      "500:\tlearn: 0.5423185\ttest: 0.5035493\tbest: 0.5035493 (500)\ttotal: 1m 4s\tremaining: 1m 1s\n",
      "510:\tlearn: 0.5401697\ttest: 0.5022951\tbest: 0.5022951 (510)\ttotal: 1m 6s\tremaining: 59.8s\n",
      "520:\tlearn: 0.5381915\ttest: 0.5016650\tbest: 0.5016650 (520)\ttotal: 1m 7s\tremaining: 58.5s\n",
      "530:\tlearn: 0.5357859\ttest: 0.5003933\tbest: 0.5003933 (530)\ttotal: 1m 8s\tremaining: 57.2s\n",
      "540:\tlearn: 0.5338584\ttest: 0.4991983\tbest: 0.4991983 (540)\ttotal: 1m 10s\tremaining: 56s\n",
      "550:\tlearn: 0.5324595\ttest: 0.4982422\tbest: 0.4982422 (550)\ttotal: 1m 11s\tremaining: 54.7s\n",
      "560:\tlearn: 0.5304068\ttest: 0.4969515\tbest: 0.4969515 (560)\ttotal: 1m 12s\tremaining: 53.4s\n",
      "570:\tlearn: 0.5284230\ttest: 0.4962580\tbest: 0.4962580 (570)\ttotal: 1m 13s\tremaining: 52.1s\n",
      "580:\tlearn: 0.5265290\ttest: 0.4954223\tbest: 0.4954223 (580)\ttotal: 1m 15s\tremaining: 50.7s\n",
      "590:\tlearn: 0.5237420\ttest: 0.4939997\tbest: 0.4939997 (590)\ttotal: 1m 16s\tremaining: 49.3s\n",
      "600:\tlearn: 0.5218762\ttest: 0.4926749\tbest: 0.4926749 (600)\ttotal: 1m 17s\tremaining: 47.9s\n",
      "610:\tlearn: 0.5201438\ttest: 0.4910881\tbest: 0.4910769 (609)\ttotal: 1m 18s\tremaining: 46.6s\n",
      "620:\tlearn: 0.5188572\ttest: 0.4903953\tbest: 0.4903953 (620)\ttotal: 1m 20s\tremaining: 45.3s\n",
      "630:\tlearn: 0.5164961\ttest: 0.4884735\tbest: 0.4884735 (630)\ttotal: 1m 21s\tremaining: 44s\n",
      "640:\tlearn: 0.5152357\ttest: 0.4876423\tbest: 0.4875848 (638)\ttotal: 1m 22s\tremaining: 42.7s\n",
      "650:\tlearn: 0.5138068\ttest: 0.4865183\tbest: 0.4865183 (650)\ttotal: 1m 23s\tremaining: 41.4s\n",
      "660:\tlearn: 0.5124319\ttest: 0.4857606\tbest: 0.4857606 (660)\ttotal: 1m 24s\tremaining: 40.1s\n",
      "670:\tlearn: 0.5108379\ttest: 0.4842772\tbest: 0.4842772 (670)\ttotal: 1m 26s\tremaining: 38.8s\n",
      "680:\tlearn: 0.5094517\ttest: 0.4830774\tbest: 0.4830774 (680)\ttotal: 1m 27s\tremaining: 37.5s\n",
      "690:\tlearn: 0.5079236\ttest: 0.4819788\tbest: 0.4819788 (690)\ttotal: 1m 28s\tremaining: 36.2s\n",
      "700:\tlearn: 0.5067233\ttest: 0.4809311\tbest: 0.4809311 (700)\ttotal: 1m 30s\tremaining: 34.9s\n",
      "710:\tlearn: 0.5048785\ttest: 0.4792603\tbest: 0.4792603 (710)\ttotal: 1m 31s\tremaining: 33.6s\n",
      "720:\tlearn: 0.5036256\ttest: 0.4777539\tbest: 0.4777539 (720)\ttotal: 1m 32s\tremaining: 32.4s\n",
      "730:\tlearn: 0.5026828\ttest: 0.4771055\tbest: 0.4770877 (729)\ttotal: 1m 34s\tremaining: 31.1s\n",
      "740:\tlearn: 0.5015972\ttest: 0.4757217\tbest: 0.4757217 (740)\ttotal: 1m 35s\tremaining: 29.9s\n",
      "750:\tlearn: 0.5004362\ttest: 0.4747348\tbest: 0.4747348 (750)\ttotal: 1m 36s\tremaining: 28.6s\n",
      "760:\tlearn: 0.4996254\ttest: 0.4745595\tbest: 0.4745514 (759)\ttotal: 1m 37s\tremaining: 27.3s\n",
      "770:\tlearn: 0.4981600\ttest: 0.4735273\tbest: 0.4735273 (770)\ttotal: 1m 39s\tremaining: 26s\n",
      "780:\tlearn: 0.4971095\ttest: 0.4729670\tbest: 0.4729670 (780)\ttotal: 1m 40s\tremaining: 24.7s\n",
      "790:\tlearn: 0.4960310\ttest: 0.4724330\tbest: 0.4724330 (790)\ttotal: 1m 41s\tremaining: 23.4s\n",
      "800:\tlearn: 0.4953089\ttest: 0.4718523\tbest: 0.4718377 (799)\ttotal: 1m 42s\tremaining: 22.1s\n",
      "810:\tlearn: 0.4944515\ttest: 0.4712538\tbest: 0.4712442 (809)\ttotal: 1m 43s\tremaining: 20.8s\n",
      "820:\tlearn: 0.4937489\ttest: 0.4708350\tbest: 0.4708350 (820)\ttotal: 1m 45s\tremaining: 19.5s\n",
      "830:\tlearn: 0.4928023\ttest: 0.4705140\tbest: 0.4705140 (830)\ttotal: 1m 46s\tremaining: 18.2s\n",
      "840:\tlearn: 0.4914710\ttest: 0.4698391\tbest: 0.4698391 (840)\ttotal: 1m 47s\tremaining: 16.9s\n",
      "850:\tlearn: 0.4901750\ttest: 0.4688244\tbest: 0.4688244 (850)\ttotal: 1m 48s\tremaining: 15.6s\n",
      "860:\tlearn: 0.4892741\ttest: 0.4679576\tbest: 0.4679576 (860)\ttotal: 1m 50s\tremaining: 14.3s\n",
      "870:\tlearn: 0.4883989\ttest: 0.4672930\tbest: 0.4672930 (870)\ttotal: 1m 51s\tremaining: 13s\n",
      "880:\tlearn: 0.4870907\ttest: 0.4667451\tbest: 0.4667451 (880)\ttotal: 1m 52s\tremaining: 11.7s\n",
      "890:\tlearn: 0.4864345\ttest: 0.4656965\tbest: 0.4656965 (890)\ttotal: 1m 53s\tremaining: 10.5s\n",
      "900:\tlearn: 0.4857203\ttest: 0.4649553\tbest: 0.4649553 (900)\ttotal: 1m 54s\tremaining: 9.17s\n",
      "910:\tlearn: 0.4849856\ttest: 0.4647363\tbest: 0.4647252 (909)\ttotal: 1m 56s\tremaining: 7.9s\n",
      "920:\tlearn: 0.4840648\ttest: 0.4640750\tbest: 0.4640750 (920)\ttotal: 1m 57s\tremaining: 6.63s\n",
      "930:\tlearn: 0.4833642\ttest: 0.4632393\tbest: 0.4632328 (929)\ttotal: 1m 58s\tremaining: 5.36s\n",
      "940:\tlearn: 0.4827533\ttest: 0.4628396\tbest: 0.4628396 (940)\ttotal: 1m 59s\tremaining: 4.08s\n",
      "950:\tlearn: 0.4820408\ttest: 0.4624360\tbest: 0.4624233 (949)\ttotal: 2m 1s\tremaining: 2.81s\n",
      "960:\tlearn: 0.4814012\ttest: 0.4619366\tbest: 0.4619366 (960)\ttotal: 2m 2s\tremaining: 1.53s\n",
      "970:\tlearn: 0.4807070\ttest: 0.4615200\tbest: 0.4615200 (970)\ttotal: 2m 3s\tremaining: 255ms\n",
      "972:\tlearn: 0.4806114\ttest: 0.4614182\tbest: 0.4614182 (972)\ttotal: 2m 4s\tremaining: 0us\n",
      "\n",
      "bestTest = 0.4614182284\n",
      "bestIteration = 972\n",
      "\n"
     ]
    },
    {
     "name": "stderr",
     "output_type": "stream",
     "text": [
      "[I 2023-12-10 22:19:07,400] Trial 5 finished with value: 0.46141822907461727 and parameters: {'iterations': 973, 'learning_rate': 0.02215881765218313, 'depth': 8, 'l2_leaf_reg': 35.36028480880766, 'random_strength': 0.756742579100867, 'bagging_temperature': 0.2720957534987236}. Best is trial 3 with value: 0.45711483277100345.\n"
     ]
    },
    {
     "name": "stdout",
     "output_type": "stream",
     "text": [
      "0:\tlearn: 1.5758280\ttest: 1.4010276\tbest: 1.4010276 (0)\ttotal: 113ms\tremaining: 21.3s\n",
      "10:\tlearn: 1.0271551\ttest: 0.9247652\tbest: 0.9247652 (10)\ttotal: 1.21s\tremaining: 19.6s\n",
      "20:\tlearn: 0.7650471\ttest: 0.6532061\tbest: 0.6532061 (20)\ttotal: 2.27s\tremaining: 18.2s\n",
      "30:\tlearn: 0.6945015\ttest: 0.5898790\tbest: 0.5898790 (30)\ttotal: 3.33s\tremaining: 17s\n",
      "40:\tlearn: 0.6686440\ttest: 0.5687596\tbest: 0.5687596 (40)\ttotal: 4.39s\tremaining: 15.9s\n",
      "50:\tlearn: 0.6531157\ttest: 0.5572001\tbest: 0.5572001 (50)\ttotal: 5.44s\tremaining: 14.7s\n",
      "60:\tlearn: 0.6440676\ttest: 0.5476819\tbest: 0.5476819 (60)\ttotal: 6.48s\tremaining: 13.6s\n",
      "70:\tlearn: 0.6368789\ttest: 0.5443325\tbest: 0.5441033 (69)\ttotal: 7.52s\tremaining: 12.5s\n",
      "80:\tlearn: 0.6310251\ttest: 0.5392803\tbest: 0.5392803 (80)\ttotal: 8.57s\tremaining: 11.4s\n",
      "90:\tlearn: 0.6265277\ttest: 0.5322939\tbest: 0.5322939 (90)\ttotal: 9.62s\tremaining: 10.4s\n",
      "100:\tlearn: 0.6228839\ttest: 0.5278745\tbest: 0.5278745 (100)\ttotal: 10.7s\tremaining: 9.3s\n",
      "110:\tlearn: 0.6202859\ttest: 0.5227402\tbest: 0.5227402 (110)\ttotal: 11.7s\tremaining: 8.24s\n",
      "120:\tlearn: 0.6176345\ttest: 0.5215432\tbest: 0.5215282 (119)\ttotal: 12.8s\tremaining: 7.19s\n",
      "130:\tlearn: 0.6149478\ttest: 0.5196075\tbest: 0.5196075 (130)\ttotal: 13.9s\tremaining: 6.14s\n",
      "140:\tlearn: 0.6127272\ttest: 0.5181849\tbest: 0.5181849 (140)\ttotal: 14.9s\tremaining: 5.07s\n",
      "150:\tlearn: 0.6108211\ttest: 0.5160947\tbest: 0.5160947 (150)\ttotal: 16s\tremaining: 4.01s\n",
      "160:\tlearn: 0.6091587\ttest: 0.5146546\tbest: 0.5146546 (160)\ttotal: 17s\tremaining: 2.96s\n",
      "170:\tlearn: 0.6079577\ttest: 0.5136707\tbest: 0.5136707 (170)\ttotal: 18.1s\tremaining: 1.9s\n",
      "180:\tlearn: 0.6064111\ttest: 0.5126640\tbest: 0.5126640 (180)\ttotal: 19.2s\tremaining: 847ms\n"
     ]
    },
    {
     "name": "stderr",
     "output_type": "stream",
     "text": [
      "[I 2023-12-10 22:19:27,788] Trial 6 finished with value: 0.5108173624393574 and parameters: {'iterations': 189, 'learning_rate': 0.09804375251795373, 'depth': 10, 'l2_leaf_reg': 90.63142675095345, 'random_strength': 0.2903490140278303, 'bagging_temperature': 0.5494225858882874}. Best is trial 3 with value: 0.45711483277100345.\n"
     ]
    },
    {
     "name": "stdout",
     "output_type": "stream",
     "text": [
      "188:\tlearn: 0.6054894\ttest: 0.5108310\tbest: 0.5108174 (186)\ttotal: 20s\tremaining: 0us\n",
      "\n",
      "bestTest = 0.5108173623\n",
      "bestIteration = 186\n",
      "\n",
      "Shrink model to first 187 iterations.\n",
      "0:\tlearn: 1.6342366\ttest: 1.4486455\tbest: 1.4486455 (0)\ttotal: 110ms\tremaining: 1m 15s\n",
      "10:\tlearn: 1.3154813\ttest: 1.1411406\tbest: 1.1411406 (10)\ttotal: 718ms\tremaining: 43.9s\n",
      "20:\tlearn: 1.1111603\ttest: 0.9515337\tbest: 0.9515337 (20)\ttotal: 1.39s\tremaining: 44s\n",
      "30:\tlearn: 0.9835342\ttest: 0.8378625\tbest: 0.8378625 (30)\ttotal: 2.05s\tremaining: 43.1s\n",
      "40:\tlearn: 0.9040394\ttest: 0.7681834\tbest: 0.7681834 (40)\ttotal: 2.72s\tremaining: 42.6s\n",
      "50:\tlearn: 0.8537292\ttest: 0.7284558\tbest: 0.7284558 (50)\ttotal: 3.41s\tremaining: 42.3s\n",
      "60:\tlearn: 0.8187132\ttest: 0.7014002\tbest: 0.7014002 (60)\ttotal: 4.15s\tremaining: 42.4s\n",
      "70:\tlearn: 0.7933463\ttest: 0.6814811\tbest: 0.6814811 (70)\ttotal: 4.91s\tremaining: 42.4s\n",
      "80:\tlearn: 0.7738572\ttest: 0.6670663\tbest: 0.6670663 (80)\ttotal: 5.71s\tremaining: 42.5s\n",
      "90:\tlearn: 0.7585540\ttest: 0.6543894\tbest: 0.6543894 (90)\ttotal: 6.48s\tremaining: 42.2s\n",
      "100:\tlearn: 0.7477158\ttest: 0.6450342\tbest: 0.6450342 (100)\ttotal: 7.24s\tremaining: 41.8s\n",
      "110:\tlearn: 0.7362174\ttest: 0.6373409\tbest: 0.6373409 (110)\ttotal: 8.08s\tremaining: 41.7s\n",
      "120:\tlearn: 0.7275664\ttest: 0.6309693\tbest: 0.6309693 (120)\ttotal: 8.84s\tremaining: 41.1s\n",
      "130:\tlearn: 0.7203018\ttest: 0.6259217\tbest: 0.6259217 (130)\ttotal: 9.64s\tremaining: 40.7s\n",
      "140:\tlearn: 0.7138242\ttest: 0.6204614\tbest: 0.6204614 (140)\ttotal: 10.5s\tremaining: 40.3s\n",
      "150:\tlearn: 0.7082386\ttest: 0.6160133\tbest: 0.6160133 (150)\ttotal: 11.3s\tremaining: 39.8s\n",
      "160:\tlearn: 0.7029529\ttest: 0.6108120\tbest: 0.6108120 (160)\ttotal: 12.1s\tremaining: 39.4s\n",
      "170:\tlearn: 0.6983222\ttest: 0.6055729\tbest: 0.6055729 (170)\ttotal: 13s\tremaining: 39s\n",
      "180:\tlearn: 0.6931198\ttest: 0.6023835\tbest: 0.6023835 (180)\ttotal: 13.8s\tremaining: 38.4s\n",
      "190:\tlearn: 0.6886390\ttest: 0.5978772\tbest: 0.5978772 (190)\ttotal: 14.7s\tremaining: 37.8s\n",
      "200:\tlearn: 0.6853627\ttest: 0.5947879\tbest: 0.5947869 (199)\ttotal: 15.5s\tremaining: 37.3s\n",
      "210:\tlearn: 0.6808415\ttest: 0.5921580\tbest: 0.5921580 (210)\ttotal: 16.4s\tremaining: 36.8s\n",
      "220:\tlearn: 0.6773328\ttest: 0.5874391\tbest: 0.5874391 (220)\ttotal: 17.3s\tremaining: 36.2s\n",
      "230:\tlearn: 0.6732291\ttest: 0.5854268\tbest: 0.5854268 (230)\ttotal: 18.1s\tremaining: 35.5s\n",
      "240:\tlearn: 0.6684427\ttest: 0.5807470\tbest: 0.5807470 (240)\ttotal: 18.9s\tremaining: 34.8s\n",
      "250:\tlearn: 0.6651343\ttest: 0.5797798\tbest: 0.5790579 (246)\ttotal: 19.8s\tremaining: 34.1s\n",
      "260:\tlearn: 0.6606690\ttest: 0.5763632\tbest: 0.5763632 (260)\ttotal: 20.6s\tremaining: 33.4s\n",
      "270:\tlearn: 0.6554367\ttest: 0.5734475\tbest: 0.5724611 (268)\ttotal: 21.5s\tremaining: 32.7s\n"
     ]
    },
    {
     "name": "stderr",
     "output_type": "stream",
     "text": [
      "[I 2023-12-10 22:19:50,286] Trial 7 finished with value: 0.5724611081867986 and parameters: {'iterations': 684, 'learning_rate': 0.036069268264529455, 'depth': 5, 'l2_leaf_reg': 48.733621453768336, 'random_strength': 0.9097331954644571, 'bagging_temperature': 0.002866613903413362}. Best is trial 3 with value: 0.45711483277100345.\n"
     ]
    },
    {
     "name": "stdout",
     "output_type": "stream",
     "text": [
      "Stopped by overfitting detector  (10 iterations wait)\n",
      "\n",
      "bestTest = 0.5724611071\n",
      "bestIteration = 268\n",
      "\n",
      "Shrink model to first 269 iterations.\n",
      "0:\tlearn: 1.6443711\ttest: 1.4592820\tbest: 1.4592820 (0)\ttotal: 94ms\tremaining: 1m 19s\n",
      "10:\tlearn: 1.3894776\ttest: 1.2151263\tbest: 1.2151263 (10)\ttotal: 640ms\tremaining: 48.7s\n",
      "20:\tlearn: 1.2120730\ttest: 1.0511761\tbest: 1.0511761 (20)\ttotal: 1.21s\tremaining: 47.6s\n",
      "30:\tlearn: 1.0875305\ttest: 0.9417053\tbest: 0.9417053 (30)\ttotal: 1.73s\tremaining: 45.6s\n",
      "40:\tlearn: 1.0003012\ttest: 0.8661876\tbest: 0.8661876 (40)\ttotal: 2.28s\tremaining: 44.8s\n",
      "50:\tlearn: 0.9396088\ttest: 0.8137262\tbest: 0.8137262 (50)\ttotal: 2.81s\tremaining: 43.9s\n",
      "60:\tlearn: 0.8963686\ttest: 0.7760331\tbest: 0.7760331 (60)\ttotal: 3.33s\tremaining: 42.9s\n",
      "70:\tlearn: 0.8650668\ttest: 0.7489940\tbest: 0.7489940 (70)\ttotal: 3.9s\tremaining: 42.7s\n",
      "80:\tlearn: 0.8396475\ttest: 0.7300530\tbest: 0.7300530 (80)\ttotal: 4.53s\tremaining: 42.9s\n",
      "90:\tlearn: 0.8199233\ttest: 0.7148840\tbest: 0.7148840 (90)\ttotal: 5.1s\tremaining: 42.5s\n",
      "100:\tlearn: 0.8036604\ttest: 0.7017996\tbest: 0.7017996 (100)\ttotal: 5.67s\tremaining: 42s\n",
      "110:\tlearn: 0.7910223\ttest: 0.6924108\tbest: 0.6924108 (110)\ttotal: 6.25s\tremaining: 41.5s\n",
      "120:\tlearn: 0.7813656\ttest: 0.6832181\tbest: 0.6832181 (120)\ttotal: 6.86s\tremaining: 41.2s\n",
      "130:\tlearn: 0.7736697\ttest: 0.6783097\tbest: 0.6781866 (129)\ttotal: 7.45s\tremaining: 40.8s\n",
      "140:\tlearn: 0.7658333\ttest: 0.6697821\tbest: 0.6697821 (140)\ttotal: 8.05s\tremaining: 40.4s\n",
      "150:\tlearn: 0.7586434\ttest: 0.6622286\tbest: 0.6622286 (150)\ttotal: 8.69s\tremaining: 40.1s\n",
      "160:\tlearn: 0.7525538\ttest: 0.6548570\tbest: 0.6548570 (160)\ttotal: 9.32s\tremaining: 39.8s\n",
      "170:\tlearn: 0.7470302\ttest: 0.6490142\tbest: 0.6490142 (170)\ttotal: 9.94s\tremaining: 39.4s\n",
      "180:\tlearn: 0.7423937\ttest: 0.6451557\tbest: 0.6451557 (180)\ttotal: 10.5s\tremaining: 38.8s\n",
      "190:\tlearn: 0.7381716\ttest: 0.6410038\tbest: 0.6410038 (190)\ttotal: 11.1s\tremaining: 38.3s\n",
      "200:\tlearn: 0.7332442\ttest: 0.6358621\tbest: 0.6358621 (200)\ttotal: 11.8s\tremaining: 37.9s\n",
      "210:\tlearn: 0.7291629\ttest: 0.6314965\tbest: 0.6314965 (210)\ttotal: 12.4s\tremaining: 37.5s\n",
      "220:\tlearn: 0.7252658\ttest: 0.6283128\tbest: 0.6283128 (220)\ttotal: 13.1s\tremaining: 37.1s\n",
      "230:\tlearn: 0.7218314\ttest: 0.6244860\tbest: 0.6244860 (230)\ttotal: 13.8s\tremaining: 36.7s\n",
      "240:\tlearn: 0.7179929\ttest: 0.6217611\tbest: 0.6217611 (240)\ttotal: 14.4s\tremaining: 36.2s\n",
      "250:\tlearn: 0.7155146\ttest: 0.6197283\tbest: 0.6197283 (250)\ttotal: 15.1s\tremaining: 35.9s\n",
      "260:\tlearn: 0.7116519\ttest: 0.6162527\tbest: 0.6162527 (260)\ttotal: 15.8s\tremaining: 35.6s\n",
      "270:\tlearn: 0.7091708\ttest: 0.6143099\tbest: 0.6143099 (270)\ttotal: 16.5s\tremaining: 35.1s\n",
      "280:\tlearn: 0.7072634\ttest: 0.6127501\tbest: 0.6127501 (280)\ttotal: 17.1s\tremaining: 34.5s\n",
      "290:\tlearn: 0.7041787\ttest: 0.6112747\tbest: 0.6112747 (290)\ttotal: 17.8s\tremaining: 34s\n",
      "300:\tlearn: 0.7022011\ttest: 0.6097966\tbest: 0.6097966 (300)\ttotal: 18.4s\tremaining: 33.5s\n",
      "310:\tlearn: 0.7000970\ttest: 0.6087209\tbest: 0.6087209 (310)\ttotal: 19.1s\tremaining: 32.9s\n",
      "320:\tlearn: 0.6981276\ttest: 0.6068507\tbest: 0.6068507 (320)\ttotal: 19.8s\tremaining: 32.5s\n",
      "330:\tlearn: 0.6950386\ttest: 0.6047338\tbest: 0.6047338 (330)\ttotal: 20.5s\tremaining: 32s\n",
      "340:\tlearn: 0.6922452\ttest: 0.6029505\tbest: 0.6029275 (339)\ttotal: 21.2s\tremaining: 31.5s\n",
      "350:\tlearn: 0.6898367\ttest: 0.6008003\tbest: 0.6008003 (350)\ttotal: 21.9s\tremaining: 31s\n",
      "360:\tlearn: 0.6872826\ttest: 0.5988720\tbest: 0.5988720 (360)\ttotal: 22.6s\tremaining: 30.5s\n",
      "370:\tlearn: 0.6849636\ttest: 0.5983931\tbest: 0.5983856 (362)\ttotal: 23.3s\tremaining: 29.9s\n",
      "380:\tlearn: 0.6830326\ttest: 0.5963701\tbest: 0.5963701 (380)\ttotal: 23.9s\tremaining: 29.3s\n",
      "390:\tlearn: 0.6809360\ttest: 0.5949939\tbest: 0.5949732 (389)\ttotal: 24.6s\tremaining: 28.8s\n",
      "400:\tlearn: 0.6780834\ttest: 0.5934643\tbest: 0.5934236 (399)\ttotal: 25.3s\tremaining: 28.2s\n",
      "410:\tlearn: 0.6755700\ttest: 0.5925542\tbest: 0.5925542 (410)\ttotal: 25.9s\tremaining: 27.6s\n",
      "420:\tlearn: 0.6734224\ttest: 0.5909572\tbest: 0.5909572 (420)\ttotal: 26.5s\tremaining: 26.9s\n",
      "430:\tlearn: 0.6716912\ttest: 0.5887068\tbest: 0.5886533 (429)\ttotal: 27.3s\tremaining: 26.4s\n",
      "440:\tlearn: 0.6693690\ttest: 0.5869641\tbest: 0.5869641 (440)\ttotal: 27.9s\tremaining: 25.8s\n",
      "450:\tlearn: 0.6655497\ttest: 0.5835894\tbest: 0.5835894 (450)\ttotal: 28.6s\tremaining: 25.2s\n",
      "460:\tlearn: 0.6622164\ttest: 0.5801288\tbest: 0.5801288 (460)\ttotal: 29.3s\tremaining: 24.6s\n",
      "470:\tlearn: 0.6579596\ttest: 0.5760766\tbest: 0.5760431 (469)\ttotal: 30s\tremaining: 24s\n",
      "480:\tlearn: 0.6555397\ttest: 0.5752172\tbest: 0.5749946 (477)\ttotal: 30.7s\tremaining: 23.4s\n",
      "490:\tlearn: 0.6515030\ttest: 0.5722004\tbest: 0.5722004 (490)\ttotal: 31.3s\tremaining: 22.7s\n",
      "500:\tlearn: 0.6496369\ttest: 0.5717674\tbest: 0.5717650 (499)\ttotal: 31.9s\tremaining: 22.1s\n",
      "510:\tlearn: 0.6478507\ttest: 0.5704629\tbest: 0.5704629 (510)\ttotal: 32.6s\tremaining: 21.5s\n",
      "520:\tlearn: 0.6464264\ttest: 0.5693115\tbest: 0.5693115 (520)\ttotal: 33.2s\tremaining: 20.9s\n",
      "530:\tlearn: 0.6447476\ttest: 0.5680968\tbest: 0.5680968 (530)\ttotal: 33.8s\tremaining: 20.2s\n",
      "540:\tlearn: 0.6422262\ttest: 0.5658999\tbest: 0.5658999 (540)\ttotal: 34.5s\tremaining: 19.6s\n",
      "550:\tlearn: 0.6405961\ttest: 0.5647579\tbest: 0.5647579 (550)\ttotal: 35s\tremaining: 18.9s\n",
      "560:\tlearn: 0.6375088\ttest: 0.5631922\tbest: 0.5631922 (560)\ttotal: 35.6s\tremaining: 18.2s\n",
      "570:\tlearn: 0.6347354\ttest: 0.5609460\tbest: 0.5609460 (570)\ttotal: 36.2s\tremaining: 17.6s\n",
      "580:\tlearn: 0.6324051\ttest: 0.5604263\tbest: 0.5604263 (580)\ttotal: 36.8s\tremaining: 16.9s\n",
      "590:\tlearn: 0.6280243\ttest: 0.5574046\tbest: 0.5574046 (590)\ttotal: 37.4s\tremaining: 16.2s\n",
      "600:\tlearn: 0.6257979\ttest: 0.5558802\tbest: 0.5558574 (599)\ttotal: 38s\tremaining: 15.6s\n",
      "610:\tlearn: 0.6232827\ttest: 0.5541808\tbest: 0.5541808 (610)\ttotal: 38.5s\tremaining: 15s\n",
      "620:\tlearn: 0.6221134\ttest: 0.5530180\tbest: 0.5530180 (620)\ttotal: 39.2s\tremaining: 14.3s\n",
      "630:\tlearn: 0.6194162\ttest: 0.5518834\tbest: 0.5518834 (630)\ttotal: 39.7s\tremaining: 13.6s\n",
      "640:\tlearn: 0.6175967\ttest: 0.5512096\tbest: 0.5512096 (640)\ttotal: 40.3s\tremaining: 13s\n",
      "650:\tlearn: 0.6159953\ttest: 0.5504266\tbest: 0.5504266 (650)\ttotal: 40.9s\tremaining: 12.4s\n",
      "660:\tlearn: 0.6146382\ttest: 0.5486152\tbest: 0.5485785 (659)\ttotal: 41.5s\tremaining: 11.7s\n",
      "670:\tlearn: 0.6131530\ttest: 0.5476630\tbest: 0.5476630 (670)\ttotal: 42.1s\tremaining: 11.1s\n",
      "680:\tlearn: 0.6120126\ttest: 0.5464196\tbest: 0.5464196 (680)\ttotal: 42.7s\tremaining: 10.5s\n",
      "690:\tlearn: 0.6107445\ttest: 0.5452749\tbest: 0.5452749 (690)\ttotal: 43.3s\tremaining: 9.84s\n",
      "700:\tlearn: 0.6089611\ttest: 0.5447449\tbest: 0.5447449 (700)\ttotal: 43.9s\tremaining: 9.2s\n",
      "710:\tlearn: 0.6075586\ttest: 0.5433748\tbest: 0.5433502 (709)\ttotal: 44.5s\tremaining: 8.58s\n",
      "720:\tlearn: 0.6062537\ttest: 0.5426839\tbest: 0.5426839 (720)\ttotal: 45.2s\tremaining: 7.96s\n",
      "730:\tlearn: 0.6051290\ttest: 0.5422401\tbest: 0.5422056 (728)\ttotal: 45.8s\tremaining: 7.33s\n",
      "740:\tlearn: 0.6032016\ttest: 0.5403615\tbest: 0.5403615 (740)\ttotal: 46.4s\tremaining: 6.71s\n",
      "750:\tlearn: 0.6017114\ttest: 0.5398003\tbest: 0.5398003 (750)\ttotal: 47s\tremaining: 6.08s\n",
      "760:\tlearn: 0.6005025\ttest: 0.5391466\tbest: 0.5391466 (760)\ttotal: 47.7s\tremaining: 5.45s\n",
      "770:\tlearn: 0.5991362\ttest: 0.5382469\tbest: 0.5382449 (769)\ttotal: 48.2s\tremaining: 4.82s\n",
      "780:\tlearn: 0.5975782\ttest: 0.5367804\tbest: 0.5367780 (779)\ttotal: 48.7s\tremaining: 4.18s\n",
      "790:\tlearn: 0.5962310\ttest: 0.5358816\tbest: 0.5358816 (790)\ttotal: 49.2s\tremaining: 3.55s\n",
      "800:\tlearn: 0.5951022\ttest: 0.5345009\tbest: 0.5345009 (800)\ttotal: 49.8s\tremaining: 2.92s\n",
      "810:\tlearn: 0.5936394\ttest: 0.5342823\tbest: 0.5341667 (803)\ttotal: 50.4s\tremaining: 2.3s\n"
     ]
    },
    {
     "name": "stderr",
     "output_type": "stream",
     "text": [
      "[I 2023-12-10 22:20:41,570] Trial 8 finished with value: 0.5341666741216935 and parameters: {'iterations': 848, 'learning_rate': 0.028541900663317573, 'depth': 4, 'l2_leaf_reg': 57.867517704486694, 'random_strength': 0.7526239722579084, 'bagging_temperature': 0.45483490582198927}. Best is trial 3 with value: 0.45711483277100345.\n"
     ]
    },
    {
     "name": "stdout",
     "output_type": "stream",
     "text": [
      "Stopped by overfitting detector  (10 iterations wait)\n",
      "\n",
      "bestTest = 0.534166673\n",
      "bestIteration = 803\n",
      "\n",
      "Shrink model to first 804 iterations.\n",
      "0:\tlearn: 1.6407478\ttest: 1.4550145\tbest: 1.4550145 (0)\ttotal: 126ms\tremaining: 43.1s\n",
      "10:\tlearn: 1.3563922\ttest: 1.1817785\tbest: 1.1817785 (10)\ttotal: 1.24s\tremaining: 37.6s\n",
      "20:\tlearn: 1.1583489\ttest: 0.9933720\tbest: 0.9933720 (20)\ttotal: 2.38s\tremaining: 36.6s\n",
      "30:\tlearn: 1.0195987\ttest: 0.8638049\tbest: 0.8638049 (30)\ttotal: 3.47s\tremaining: 35s\n",
      "40:\tlearn: 0.9225834\ttest: 0.7761246\tbest: 0.7761246 (40)\ttotal: 4.59s\tremaining: 33.9s\n",
      "50:\tlearn: 0.8554015\ttest: 0.7164853\tbest: 0.7164853 (50)\ttotal: 5.72s\tremaining: 32.9s\n",
      "60:\tlearn: 0.8091263\ttest: 0.6787569\tbest: 0.6787569 (60)\ttotal: 6.93s\tremaining: 32.2s\n",
      "70:\tlearn: 0.7754792\ttest: 0.6512159\tbest: 0.6512159 (70)\ttotal: 8.13s\tremaining: 31.2s\n",
      "80:\tlearn: 0.7519492\ttest: 0.6337715\tbest: 0.6337715 (80)\ttotal: 9.34s\tremaining: 30.3s\n",
      "90:\tlearn: 0.7354304\ttest: 0.6217407\tbest: 0.6217407 (90)\ttotal: 10.5s\tremaining: 29.3s\n",
      "100:\tlearn: 0.7216356\ttest: 0.6102199\tbest: 0.6102199 (100)\ttotal: 11.8s\tremaining: 28.5s\n",
      "110:\tlearn: 0.7041409\ttest: 0.6005770\tbest: 0.6005770 (110)\ttotal: 13.1s\tremaining: 27.6s\n",
      "120:\tlearn: 0.6942735\ttest: 0.5957252\tbest: 0.5957252 (120)\ttotal: 14.5s\tremaining: 26.8s\n",
      "130:\tlearn: 0.6841119\ttest: 0.5899672\tbest: 0.5899672 (130)\ttotal: 15.9s\tremaining: 25.9s\n",
      "140:\tlearn: 0.6745792\ttest: 0.5843988\tbest: 0.5843988 (140)\ttotal: 17.3s\tremaining: 24.9s\n",
      "150:\tlearn: 0.6650656\ttest: 0.5798571\tbest: 0.5798571 (150)\ttotal: 18.6s\tremaining: 23.8s\n",
      "160:\tlearn: 0.6543497\ttest: 0.5734578\tbest: 0.5734578 (160)\ttotal: 20s\tremaining: 22.8s\n",
      "170:\tlearn: 0.6462607\ttest: 0.5697863\tbest: 0.5697863 (170)\ttotal: 21.5s\tremaining: 21.8s\n",
      "180:\tlearn: 0.6373281\ttest: 0.5667725\tbest: 0.5667725 (180)\ttotal: 22.9s\tremaining: 20.6s\n",
      "190:\tlearn: 0.6290477\ttest: 0.5612032\tbest: 0.5612032 (190)\ttotal: 24.3s\tremaining: 19.4s\n",
      "200:\tlearn: 0.6218756\ttest: 0.5573714\tbest: 0.5573714 (200)\ttotal: 25.4s\tremaining: 18.1s\n",
      "210:\tlearn: 0.6166009\ttest: 0.5547093\tbest: 0.5547093 (210)\ttotal: 26.6s\tremaining: 16.8s\n",
      "220:\tlearn: 0.6097362\ttest: 0.5505987\tbest: 0.5505987 (220)\ttotal: 27.8s\tremaining: 15.5s\n",
      "230:\tlearn: 0.6046661\ttest: 0.5471720\tbest: 0.5471720 (230)\ttotal: 28.9s\tremaining: 14.1s\n",
      "240:\tlearn: 0.6000344\ttest: 0.5434931\tbest: 0.5434931 (240)\ttotal: 29.9s\tremaining: 12.8s\n",
      "250:\tlearn: 0.5947397\ttest: 0.5406342\tbest: 0.5406342 (250)\ttotal: 31s\tremaining: 11.5s\n",
      "260:\tlearn: 0.5895908\ttest: 0.5369122\tbest: 0.5369122 (260)\ttotal: 32.1s\tremaining: 10.2s\n",
      "270:\tlearn: 0.5861914\ttest: 0.5341259\tbest: 0.5341259 (270)\ttotal: 33.2s\tremaining: 8.94s\n",
      "280:\tlearn: 0.5828206\ttest: 0.5313438\tbest: 0.5313438 (280)\ttotal: 34.2s\tremaining: 7.66s\n",
      "290:\tlearn: 0.5784962\ttest: 0.5275853\tbest: 0.5275853 (290)\ttotal: 35.2s\tremaining: 6.41s\n",
      "300:\tlearn: 0.5739787\ttest: 0.5249596\tbest: 0.5249596 (300)\ttotal: 36.2s\tremaining: 5.17s\n",
      "310:\tlearn: 0.5706949\ttest: 0.5219416\tbest: 0.5219396 (309)\ttotal: 37.4s\tremaining: 3.97s\n",
      "320:\tlearn: 0.5680218\ttest: 0.5208147\tbest: 0.5208147 (320)\ttotal: 38.8s\tremaining: 2.78s\n",
      "330:\tlearn: 0.5637549\ttest: 0.5184481\tbest: 0.5184481 (330)\ttotal: 40.2s\tremaining: 1.58s\n",
      "340:\tlearn: 0.5604045\ttest: 0.5164108\tbest: 0.5164108 (340)\ttotal: 41.5s\tremaining: 365ms\n"
     ]
    },
    {
     "name": "stderr",
     "output_type": "stream",
     "text": [
      "[I 2023-12-10 22:21:24,060] Trial 9 finished with value: 0.5154128476308684 and parameters: {'iterations': 344, 'learning_rate': 0.027872143031210172, 'depth': 8, 'l2_leaf_reg': 17.961836542483496, 'random_strength': 0.675856762509769, 'bagging_temperature': 0.7298084275195226}. Best is trial 3 with value: 0.45711483277100345.\n"
     ]
    },
    {
     "name": "stdout",
     "output_type": "stream",
     "text": [
      "343:\tlearn: 0.5588292\ttest: 0.5154128\tbest: 0.5154128 (343)\ttotal: 41.9s\tremaining: 0us\n",
      "\n",
      "bestTest = 0.5154128466\n",
      "bestIteration = 343\n",
      "\n"
     ]
    }
   ],
   "source": [
    "study.optimize(objective, n_trials=10)"
   ]
  },
  {
   "cell_type": "code",
   "execution_count": 111,
   "metadata": {},
   "outputs": [],
   "source": [
    "best_params_catboost = study.best_params"
   ]
  },
  {
   "cell_type": "code",
   "execution_count": 117,
   "metadata": {},
   "outputs": [
    {
     "data": {
      "text/plain": [
       "{'iterations': 734,\n",
       " 'learning_rate': 0.0767229703518425,\n",
       " 'depth': 5,\n",
       " 'l2_leaf_reg': 26.643033530485667,\n",
       " 'random_strength': 0.5555767834324928,\n",
       " 'bagging_temperature': 0.6554050755600216}"
      ]
     },
     "execution_count": 117,
     "metadata": {},
     "output_type": "execute_result"
    }
   ],
   "source": [
    "best_params_catboost"
   ]
  },
  {
   "cell_type": "code",
   "execution_count": 112,
   "metadata": {},
   "outputs": [],
   "source": [
    "final_catboost_model = cat.CatBoostRegressor(\n",
    "    **best_params_catboost,\n",
    "    verbose=10,\n",
    ")"
   ]
  },
  {
   "cell_type": "code",
   "execution_count": 114,
   "metadata": {},
   "outputs": [
    {
     "name": "stdout",
     "output_type": "stream",
     "text": [
      "0:\tlearn: 1.5884603\ttest: 1.4047071\tbest: 1.4047071 (0)\ttotal: 74ms\tremaining: 54.2s\n",
      "10:\tlearn: 1.0685853\ttest: 0.9129955\tbest: 0.9129955 (10)\ttotal: 672ms\tremaining: 44.2s\n",
      "20:\tlearn: 0.8802094\ttest: 0.7473271\tbest: 0.7473271 (20)\ttotal: 1.26s\tremaining: 42.7s\n",
      "30:\tlearn: 0.8039388\ttest: 0.6892363\tbest: 0.6892363 (30)\ttotal: 1.81s\tremaining: 41.1s\n",
      "40:\tlearn: 0.7619505\ttest: 0.6556158\tbest: 0.6556158 (40)\ttotal: 2.39s\tremaining: 40.4s\n",
      "50:\tlearn: 0.7395786\ttest: 0.6353257\tbest: 0.6353257 (50)\ttotal: 2.96s\tremaining: 39.6s\n",
      "60:\tlearn: 0.7217911\ttest: 0.6200975\tbest: 0.6200975 (60)\ttotal: 3.59s\tremaining: 39.6s\n",
      "70:\tlearn: 0.7084970\ttest: 0.6113179\tbest: 0.6113179 (70)\ttotal: 4.21s\tremaining: 39.3s\n",
      "80:\tlearn: 0.6999781\ttest: 0.6047690\tbest: 0.6047690 (80)\ttotal: 4.81s\tremaining: 38.8s\n",
      "90:\tlearn: 0.6904431\ttest: 0.5974369\tbest: 0.5974369 (90)\ttotal: 5.43s\tremaining: 38.4s\n",
      "100:\tlearn: 0.6819692\ttest: 0.5910887\tbest: 0.5910887 (100)\ttotal: 6.05s\tremaining: 38s\n",
      "110:\tlearn: 0.6694927\ttest: 0.5792028\tbest: 0.5792028 (110)\ttotal: 6.68s\tremaining: 37.5s\n",
      "120:\tlearn: 0.6577630\ttest: 0.5732581\tbest: 0.5727999 (116)\ttotal: 7.42s\tremaining: 37.6s\n",
      "130:\tlearn: 0.6516943\ttest: 0.5657067\tbest: 0.5657067 (130)\ttotal: 8.15s\tremaining: 37.5s\n",
      "140:\tlearn: 0.6404944\ttest: 0.5646108\tbest: 0.5646108 (140)\ttotal: 8.78s\tremaining: 36.9s\n",
      "150:\tlearn: 0.6306805\ttest: 0.5586376\tbest: 0.5586376 (150)\ttotal: 9.44s\tremaining: 36.4s\n",
      "160:\tlearn: 0.6207806\ttest: 0.5532273\tbest: 0.5532273 (160)\ttotal: 10.1s\tremaining: 36s\n",
      "170:\tlearn: 0.6124024\ttest: 0.5462745\tbest: 0.5462745 (170)\ttotal: 10.7s\tremaining: 35.3s\n",
      "180:\tlearn: 0.6034264\ttest: 0.5401729\tbest: 0.5400375 (179)\ttotal: 11.3s\tremaining: 34.5s\n",
      "190:\tlearn: 0.5987350\ttest: 0.5358918\tbest: 0.5358918 (190)\ttotal: 11.9s\tremaining: 33.8s\n",
      "200:\tlearn: 0.5941849\ttest: 0.5317821\tbest: 0.5317821 (200)\ttotal: 12.6s\tremaining: 33.4s\n",
      "210:\tlearn: 0.5853571\ttest: 0.5268004\tbest: 0.5268004 (210)\ttotal: 13.4s\tremaining: 33.1s\n",
      "220:\tlearn: 0.5776509\ttest: 0.5224857\tbest: 0.5224857 (220)\ttotal: 14.2s\tremaining: 32.9s\n",
      "230:\tlearn: 0.5716999\ttest: 0.5179682\tbest: 0.5179682 (230)\ttotal: 15s\tremaining: 32.7s\n",
      "240:\tlearn: 0.5677757\ttest: 0.5145200\tbest: 0.5144624 (239)\ttotal: 15.9s\tremaining: 32.5s\n",
      "250:\tlearn: 0.5650167\ttest: 0.5132028\tbest: 0.5132028 (250)\ttotal: 16.7s\tremaining: 32.2s\n",
      "260:\tlearn: 0.5609935\ttest: 0.5083010\tbest: 0.5083010 (260)\ttotal: 17.6s\tremaining: 31.9s\n",
      "270:\tlearn: 0.5569681\ttest: 0.5066562\tbest: 0.5066562 (270)\ttotal: 18.5s\tremaining: 31.6s\n",
      "280:\tlearn: 0.5539695\ttest: 0.5037765\tbest: 0.5035463 (277)\ttotal: 19.3s\tremaining: 31.1s\n",
      "290:\tlearn: 0.5504164\ttest: 0.5025636\tbest: 0.5025636 (290)\ttotal: 20.1s\tremaining: 30.5s\n",
      "300:\tlearn: 0.5481336\ttest: 0.5017001\tbest: 0.5016357 (296)\ttotal: 20.8s\tremaining: 30s\n",
      "310:\tlearn: 0.5459166\ttest: 0.4986735\tbest: 0.4986735 (310)\ttotal: 21.7s\tremaining: 29.5s\n",
      "320:\tlearn: 0.5436291\ttest: 0.4977715\tbest: 0.4977371 (319)\ttotal: 22.4s\tremaining: 28.8s\n",
      "330:\tlearn: 0.5414682\ttest: 0.4961554\tbest: 0.4961554 (330)\ttotal: 23s\tremaining: 28s\n",
      "340:\tlearn: 0.5393670\ttest: 0.4926970\tbest: 0.4926970 (340)\ttotal: 23.6s\tremaining: 27.3s\n",
      "350:\tlearn: 0.5375755\ttest: 0.4907304\tbest: 0.4907304 (350)\ttotal: 24.3s\tremaining: 26.5s\n",
      "360:\tlearn: 0.5353498\ttest: 0.4896971\tbest: 0.4894998 (356)\ttotal: 24.9s\tremaining: 25.7s\n",
      "370:\tlearn: 0.5332706\ttest: 0.4869705\tbest: 0.4869705 (370)\ttotal: 25.6s\tremaining: 25s\n",
      "380:\tlearn: 0.5302905\ttest: 0.4862714\tbest: 0.4862714 (380)\ttotal: 26.2s\tremaining: 24.3s\n",
      "390:\tlearn: 0.5279293\ttest: 0.4847998\tbest: 0.4847998 (390)\ttotal: 26.9s\tremaining: 23.6s\n",
      "400:\tlearn: 0.5256690\ttest: 0.4829059\tbest: 0.4828979 (399)\ttotal: 27.5s\tremaining: 22.9s\n",
      "410:\tlearn: 0.5228226\ttest: 0.4813132\tbest: 0.4812719 (409)\ttotal: 28.3s\tremaining: 22.3s\n",
      "420:\tlearn: 0.5204854\ttest: 0.4806495\tbest: 0.4806495 (420)\ttotal: 29.1s\tremaining: 21.7s\n",
      "430:\tlearn: 0.5188088\ttest: 0.4792685\tbest: 0.4792685 (430)\ttotal: 30s\tremaining: 21.1s\n",
      "440:\tlearn: 0.5169847\ttest: 0.4780440\tbest: 0.4780440 (440)\ttotal: 30.8s\tremaining: 20.4s\n",
      "450:\tlearn: 0.5154967\ttest: 0.4772935\tbest: 0.4772935 (450)\ttotal: 31.5s\tremaining: 19.8s\n",
      "460:\tlearn: 0.5135435\ttest: 0.4767165\tbest: 0.4767165 (460)\ttotal: 32.4s\tremaining: 19.2s\n",
      "470:\tlearn: 0.5117310\ttest: 0.4744985\tbest: 0.4744985 (470)\ttotal: 33.2s\tremaining: 18.5s\n",
      "480:\tlearn: 0.5094502\ttest: 0.4723934\tbest: 0.4723934 (480)\ttotal: 33.9s\tremaining: 17.8s\n",
      "490:\tlearn: 0.5080547\ttest: 0.4720027\tbest: 0.4718518 (489)\ttotal: 34.7s\tremaining: 17.2s\n",
      "500:\tlearn: 0.5064938\ttest: 0.4712341\tbest: 0.4712325 (499)\ttotal: 35.6s\tremaining: 16.6s\n",
      "510:\tlearn: 0.5043942\ttest: 0.4696405\tbest: 0.4696405 (510)\ttotal: 36.4s\tremaining: 15.9s\n",
      "520:\tlearn: 0.5036170\ttest: 0.4689707\tbest: 0.4689707 (520)\ttotal: 37.2s\tremaining: 15.2s\n",
      "530:\tlearn: 0.5023856\ttest: 0.4676331\tbest: 0.4675981 (529)\ttotal: 38.1s\tremaining: 14.6s\n",
      "540:\tlearn: 0.5013260\ttest: 0.4675881\tbest: 0.4674594 (535)\ttotal: 38.9s\tremaining: 13.9s\n",
      "550:\tlearn: 0.5002606\ttest: 0.4666107\tbest: 0.4666044 (548)\ttotal: 39.8s\tremaining: 13.2s\n",
      "560:\tlearn: 0.4992107\ttest: 0.4656232\tbest: 0.4656232 (560)\ttotal: 40.5s\tremaining: 12.5s\n",
      "570:\tlearn: 0.4981630\ttest: 0.4651082\tbest: 0.4651082 (570)\ttotal: 41.3s\tremaining: 11.8s\n",
      "580:\tlearn: 0.4972837\ttest: 0.4645784\tbest: 0.4645784 (580)\ttotal: 42.1s\tremaining: 11.1s\n",
      "590:\tlearn: 0.4962899\ttest: 0.4639494\tbest: 0.4639494 (590)\ttotal: 42.9s\tremaining: 10.4s\n",
      "600:\tlearn: 0.4946819\ttest: 0.4632960\tbest: 0.4632960 (600)\ttotal: 43.7s\tremaining: 9.66s\n",
      "610:\tlearn: 0.4937757\ttest: 0.4630427\tbest: 0.4630427 (610)\ttotal: 44.5s\tremaining: 8.96s\n",
      "620:\tlearn: 0.4925433\ttest: 0.4621523\tbest: 0.4621523 (620)\ttotal: 45.3s\tremaining: 8.24s\n",
      "630:\tlearn: 0.4916492\ttest: 0.4620512\tbest: 0.4620205 (628)\ttotal: 46.1s\tremaining: 7.52s\n",
      "640:\tlearn: 0.4908898\ttest: 0.4610403\tbest: 0.4610403 (640)\ttotal: 46.9s\tremaining: 6.8s\n",
      "650:\tlearn: 0.4900320\ttest: 0.4605789\tbest: 0.4605600 (648)\ttotal: 47.7s\tremaining: 6.08s\n",
      "660:\tlearn: 0.4891299\ttest: 0.4605607\tbest: 0.4605216 (655)\ttotal: 48.5s\tremaining: 5.36s\n",
      "670:\tlearn: 0.4882688\ttest: 0.4599200\tbest: 0.4598964 (669)\ttotal: 49.4s\tremaining: 4.63s\n",
      "680:\tlearn: 0.4872488\ttest: 0.4586571\tbest: 0.4586571 (680)\ttotal: 50.2s\tremaining: 3.91s\n",
      "690:\tlearn: 0.4867570\ttest: 0.4583461\tbest: 0.4583461 (690)\ttotal: 51s\tremaining: 3.17s\n",
      "700:\tlearn: 0.4858371\ttest: 0.4579984\tbest: 0.4579932 (697)\ttotal: 51.9s\tremaining: 2.44s\n",
      "710:\tlearn: 0.4851332\ttest: 0.4575639\tbest: 0.4575639 (710)\ttotal: 52.7s\tremaining: 1.71s\n",
      "720:\tlearn: 0.4844179\ttest: 0.4573364\tbest: 0.4572143 (718)\ttotal: 53.6s\tremaining: 966ms\n",
      "730:\tlearn: 0.4838317\ttest: 0.4571415\tbest: 0.4571158 (728)\ttotal: 54.5s\tremaining: 224ms\n",
      "733:\tlearn: 0.4833915\ttest: 0.4571148\tbest: 0.4571148 (733)\ttotal: 54.7s\tremaining: 0us\n",
      "\n",
      "bestTest = 0.457114832\n",
      "bestIteration = 733\n",
      "\n"
     ]
    },
    {
     "data": {
      "text/plain": [
       "<catboost.core.CatBoostRegressor at 0x2a5b5bf7cd0>"
      ]
     },
     "execution_count": 114,
     "metadata": {},
     "output_type": "execute_result"
    }
   ],
   "source": [
    "final_catboost_model.fit(\n",
    "    X_train,\n",
    "    y_train,\n",
    "    eval_set=[(X_test, y_test)],\n",
    "    early_stopping_rounds=10,\n",
    "    cat_features=cat_feature,\n",
    ")"
   ]
  },
  {
   "cell_type": "code",
   "execution_count": 115,
   "metadata": {},
   "outputs": [
    {
     "name": "stdout",
     "output_type": "stream",
     "text": [
      "0.45711483277100345\n"
     ]
    }
   ],
   "source": [
    "y_pred = final_catboost_model.predict(X_test)\n",
    "rmse_cat = mean_squared_error(y_test, y_pred, squared=False)\n",
    "print(rmse_cat)"
   ]
  },
  {
   "cell_type": "code",
   "execution_count": null,
   "metadata": {},
   "outputs": [],
   "source": []
  }
 ],
 "metadata": {
  "kernelspec": {
   "display_name": "bikes-count",
   "language": "python",
   "name": "python3"
  },
  "language_info": {
   "codemirror_mode": {
    "name": "ipython",
    "version": 3
   },
   "file_extension": ".py",
   "mimetype": "text/x-python",
   "name": "python",
   "nbconvert_exporter": "python",
   "pygments_lexer": "ipython3",
   "version": "3.10.13"
  }
 },
 "nbformat": 4,
 "nbformat_minor": 2
}
