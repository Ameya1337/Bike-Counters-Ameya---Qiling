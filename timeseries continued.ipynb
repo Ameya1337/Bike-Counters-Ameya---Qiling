{
 "cells": [
  {
   "cell_type": "code",
   "execution_count": 4,
   "metadata": {},
   "outputs": [],
   "source": [
    "from pathlib import Path\n",
    "import pandas as pd\n",
    "import numpy as np\n",
    "import xgboost as xgb\n",
    "from sklearn.metrics import mean_squared_error\n",
    "import catboost as cat\n",
    "from sklearn.model_selection import TimeSeriesSplit, GridSearchCV\n",
    "from sklearn.preprocessing import OneHotEncoder\n",
    "from sklearn.compose import ColumnTransformer\n",
    "from sklearn.pipeline import Pipeline\n",
    "from pandas.tseries.holiday import Holiday, AbstractHolidayCalendar\n",
    "from dateutil.easter import easter\n",
    "from datetime import timedelta\n",
    "import lightgbm as lgb\n",
    "import optuna\n",
    "import warnings\n",
    "from sklearn.model_selection import TimeSeriesSplit\n",
    "from sklearn.feature_selection import RFECV\n",
    "\n",
    "warnings.filterwarnings(\"ignore\")"
   ]
  },
  {
   "cell_type": "code",
   "execution_count": 7,
   "metadata": {},
   "outputs": [],
   "source": [
    "data = pd.read_parquet(Path(\"data\") / \"train.parquet\")\n",
    "test_data = pd.read_parquet(Path(\"data\") / \"test.parquet\")\n",
    "data[\"date\"] = pd.to_datetime(data[\"date\"])\n",
    "data = data.set_index(\"date\")\n",
    "test_data[\"date\"] = pd.to_datetime(test_data[\"date\"])\n",
    "test_data = test_data.set_index(\"date\")"
   ]
  },
  {
   "cell_type": "code",
   "execution_count": 8,
   "metadata": {},
   "outputs": [],
   "source": [
    "prediction_data = pd.read_parquet(Path(\"data\") / \"final_test.parquet\")"
   ]
  },
  {
   "cell_type": "code",
   "execution_count": 9,
   "metadata": {},
   "outputs": [],
   "source": [
    "prediction_data[\"date\"] = pd.to_datetime(prediction_data[\"date\"])\n",
    "prediction_data = prediction_data.set_index(\"date\")"
   ]
  },
  {
   "cell_type": "code",
   "execution_count": 10,
   "metadata": {},
   "outputs": [],
   "source": [
    "class FrenchHolidayCalendar(AbstractHolidayCalendar):\n",
    "    rules = [\n",
    "        Holiday(\"New Year's Day\", month=1, day=1),\n",
    "        Holiday(\"Labour Day\", month=5, day=1),\n",
    "        Holiday(\"Victory in Europe Day\", month=5, day=8),\n",
    "        Holiday(\"Bastille Day\", month=7, day=14),\n",
    "        Holiday(\"Assumption of Mary\", month=8, day=15),\n",
    "        Holiday(\"All Saints' Day\", month=11, day=1),\n",
    "        Holiday(\"Armistice Day\", month=11, day=11),\n",
    "        Holiday(\"Christmas Day\", month=12, day=25),\n",
    "    ]\n",
    "\n",
    "    @staticmethod\n",
    "    def easter_related_holidays(year):\n",
    "        easter_sunday = easter(year)\n",
    "        return [\n",
    "            (easter_sunday + timedelta(days=1), \"Easter Monday\"),\n",
    "            (easter_sunday + timedelta(days=39), \"Ascension Day\"),\n",
    "        ]"
   ]
  },
  {
   "cell_type": "code",
   "execution_count": 11,
   "metadata": {},
   "outputs": [],
   "source": [
    "def cyclical_encode(df, column, max_value):\n",
    "    df[column + \"_sin\"] = np.sin(2 * np.pi * df[column] / max_value)\n",
    "    df[column + \"_cos\"] = np.cos(2 * np.pi * df[column] / max_value)\n",
    "    return df"
   ]
  },
  {
   "cell_type": "code",
   "execution_count": 12,
   "metadata": {},
   "outputs": [],
   "source": [
    "def create_features(df):\n",
    "    df = df.copy()\n",
    "    df[\"hour\"] = df.index.hour\n",
    "    df[\"dayofweek\"] = df.index.dayofweek\n",
    "    df[\"quarter\"] = df.index.quarter\n",
    "    df[\"month\"] = df.index.month\n",
    "    df[\"dayofyear\"] = df.index.dayofyear\n",
    "\n",
    "    # Boolean for weekends\n",
    "    df[\"is_weekend\"] = df[\"dayofweek\"].isin([5, 6])\n",
    "\n",
    "    # cyclical\n",
    "    df = cyclical_encode(df, \"hour\", 24)\n",
    "    df = cyclical_encode(df, \"dayofweek\", 7)\n",
    "\n",
    "    # Boolean for holidays\n",
    "    cal = FrenchHolidayCalendar()\n",
    "    holidays = cal.holidays(start=df.index.min(), end=df.index.max())\n",
    "    easter_holidays = []\n",
    "    for year in range(df.index.year.min(), df.index.year.max() + 1):\n",
    "        for date, _ in FrenchHolidayCalendar.easter_related_holidays(year):\n",
    "            easter_holidays.append(date)\n",
    "    holidays = holidays.union(pd.to_datetime(easter_holidays))\n",
    "    df[\"is_holiday\"] = df.index.isin(holidays)\n",
    "\n",
    "    # Lockdown periods\n",
    "    lockdowns = {\n",
    "        \"lockdown_1\": (\"2020-03-17\", \"2020-05-10\"),\n",
    "        \"lockdown_2\": (\"2020-10-28\", \"2020-12-01\"),\n",
    "        # with curfew from 7 PM to 6 AM\n",
    "        \"lockdown_3_1\": (\"2021-04-03 19:00:00\", \"2021-05-18 06:00:00\"),\n",
    "        # with curfew from 9 PM to 6 AM\n",
    "        \"lockdown_3_2\": (\"2021-05-19 21:00:00\", \"2021-06-08 06:00:00\"),\n",
    "        # with curfew from 11 PM to 6 AM\n",
    "        \"lockdown_3_3\": (\"2021-06-09 23:00:00\", \"2021-06-29 06:00:00\"),\n",
    "    }\n",
    "    for lockdown, (start_date, end_date) in lockdowns.items():\n",
    "        mask = (df.index >= start_date) & (df.index <= end_date)\n",
    "        df[lockdown] = mask\n",
    "\n",
    "    return df"
   ]
  },
  {
   "cell_type": "code",
   "execution_count": 13,
   "metadata": {},
   "outputs": [
    {
     "name": "stdout",
     "output_type": "stream",
     "text": [
      "<class 'pandas.core.frame.DataFrame'>\n",
      "DatetimeIndex: 455163 entries, 2020-09-01 02:00:00 to 2021-08-09 17:00:00\n",
      "Data columns (total 10 columns):\n",
      " #   Column                     Non-Null Count   Dtype         \n",
      "---  ------                     --------------   -----         \n",
      " 0   counter_id                 455163 non-null  category      \n",
      " 1   counter_name               455163 non-null  category      \n",
      " 2   site_id                    455163 non-null  int64         \n",
      " 3   site_name                  455163 non-null  category      \n",
      " 4   bike_count                 455163 non-null  float64       \n",
      " 5   counter_installation_date  455163 non-null  datetime64[us]\n",
      " 6   counter_technical_id       455163 non-null  category      \n",
      " 7   latitude                   455163 non-null  float64       \n",
      " 8   longitude                  455163 non-null  float64       \n",
      " 9   log_bike_count             455163 non-null  float64       \n",
      "dtypes: category(4), datetime64[us](1), float64(4), int64(1)\n",
      "memory usage: 26.1 MB\n"
     ]
    }
   ],
   "source": [
    "data.info()"
   ]
  },
  {
   "cell_type": "code",
   "execution_count": 14,
   "metadata": {},
   "outputs": [],
   "source": [
    "train = data[[\"counter_name\", \"log_bike_count\"]]\n",
    "test = test_data[[\"counter_name\", \"log_bike_count\"]]\n",
    "prediction = prediction_data[[\"counter_name\"]]"
   ]
  },
  {
   "cell_type": "code",
   "execution_count": 15,
   "metadata": {},
   "outputs": [],
   "source": [
    "train = create_features(train)"
   ]
  },
  {
   "cell_type": "code",
   "execution_count": 16,
   "metadata": {},
   "outputs": [],
   "source": [
    "test = create_features(test)"
   ]
  },
  {
   "cell_type": "code",
   "execution_count": 17,
   "metadata": {},
   "outputs": [],
   "source": [
    "prediction = create_features(prediction)"
   ]
  },
  {
   "cell_type": "code",
   "execution_count": null,
   "metadata": {},
   "outputs": [],
   "source": [
    "train.info()"
   ]
  },
  {
   "cell_type": "code",
   "execution_count": null,
   "metadata": {},
   "outputs": [],
   "source": [
    "train.columns"
   ]
  },
  {
   "cell_type": "code",
   "execution_count": null,
   "metadata": {},
   "outputs": [],
   "source": [
    "features = [\n",
    "    \"counter_name\",\n",
    "    \"hour\",\n",
    "    \"dayofweek\",\n",
    "    \"quarter\",\n",
    "    \"month\",\n",
    "    \"dayofyear\",\n",
    "    \"is_weekend\",\n",
    "    \"hour_sin\",\n",
    "    \"hour_cos\",\n",
    "    \"dayofweek_sin\",\n",
    "    \"dayofweek_cos\",\n",
    "    \"is_holiday\",\n",
    "    \"lockdown_1\",\n",
    "    \"lockdown_2\",\n",
    "    \"lockdown_3_1\",\n",
    "    \"lockdown_3_2\",\n",
    "    \"lockdown_3_3\",\n",
    "]\n",
    "target = [\"log_bike_count\"]\n",
    "cat_feature = [\"counter_name\"]"
   ]
  },
  {
   "cell_type": "code",
   "execution_count": null,
   "metadata": {},
   "outputs": [],
   "source": [
    "X_train = train[features]\n",
    "y_train = train[target]\n",
    "X_test = test[features]\n",
    "y_test = test[target]"
   ]
  },
  {
   "cell_type": "code",
   "execution_count": null,
   "metadata": {},
   "outputs": [],
   "source": [
    "reg = xgb.XGBRegressor(n_estimators=1000)"
   ]
  },
  {
   "cell_type": "code",
   "execution_count": null,
   "metadata": {},
   "outputs": [],
   "source": [
    "preprocessor = ColumnTransformer(\n",
    "    transformers=[(\"cat\", OneHotEncoder(\n",
    "        handle_unknown=\"ignore\"), cat_feature)],\n",
    "    remainder=\"passthrough\",\n",
    ")"
   ]
  },
  {
   "cell_type": "code",
   "execution_count": null,
   "metadata": {},
   "outputs": [],
   "source": [
    "pipeline = Pipeline(steps=[(\"preprocessor\", preprocessor), (\"model\", reg)])"
   ]
  },
  {
   "cell_type": "code",
   "execution_count": null,
   "metadata": {},
   "outputs": [],
   "source": [
    "pipeline.fit(X_train, y_train)"
   ]
  },
  {
   "cell_type": "code",
   "execution_count": null,
   "metadata": {},
   "outputs": [],
   "source": [
    "y_pred_xgb = pipeline.predict(X_test)\n",
    "rmse_xgb_test = mean_squared_error(y_test, y_pred_xgb, squared=False)\n",
    "print(\"XGB Test:\", rmse_xgb_test)"
   ]
  },
  {
   "cell_type": "code",
   "execution_count": null,
   "metadata": {},
   "outputs": [],
   "source": [
    "xgb_model = pipeline.named_steps[\"model\"]\n",
    "\n",
    "xgb_model.feature_importances_"
   ]
  },
  {
   "cell_type": "code",
   "execution_count": null,
   "metadata": {},
   "outputs": [],
   "source": []
  },
  {
   "cell_type": "code",
   "execution_count": null,
   "metadata": {},
   "outputs": [],
   "source": [
    "X_train_encoded = pd.get_dummies(\n",
    "    X_train,\n",
    "    columns=[\"counter_name\", \"counter_technical_id\"],\n",
    "    prefix=[\"encoded_counter\", \"encoded_tech\"],\n",
    ")\n",
    "X_test_encoded = pd.get_dummies(\n",
    "    X_test,\n",
    "    columns=[\"counter_name\", \"counter_technical_id\"],\n",
    "    prefix=[\"encoded_counter\", \"encoded_tech\"],\n",
    ")"
   ]
  },
  {
   "cell_type": "code",
   "execution_count": null,
   "metadata": {},
   "outputs": [],
   "source": [
    "reg = xgb.XGBRegressor(n_estimators=1000)"
   ]
  },
  {
   "cell_type": "code",
   "execution_count": null,
   "metadata": {},
   "outputs": [],
   "source": [
    "reg.fit(\n",
    "    X_train_encoded,\n",
    "    y_train,\n",
    "    eval_set=[(X_train_encoded, y_train), (X_test_encoded, y_test)],\n",
    "    early_stopping_rounds=10,\n",
    "    verbose=10,\n",
    ")"
   ]
  },
  {
   "cell_type": "code",
   "execution_count": null,
   "metadata": {},
   "outputs": [],
   "source": [
    "y_hat_xgb = reg.predict(X_train_encoded)\n",
    "rmse_xgb_train = mean_squared_error(y_train, y_hat_xgb, squared=False)\n",
    "print(\"XGB Train:\", rmse_xgb_train)"
   ]
  },
  {
   "cell_type": "code",
   "execution_count": null,
   "metadata": {},
   "outputs": [],
   "source": [
    "y_pred_xgb = reg.predict(X_test_encoded)\n",
    "rmse_xgb_test = mean_squared_error(y_test, y_pred_xgb, squared=False)\n",
    "print(\"XGB Test:\", rmse_xgb_test)"
   ]
  },
  {
   "cell_type": "code",
   "execution_count": null,
   "metadata": {},
   "outputs": [],
   "source": [
    "fi = pd.DataFrame(\n",
    "    data=reg.feature_importances_,\n",
    "    index=reg.feature_names_in_,\n",
    "    columns=[\"Importance\"],\n",
    ")"
   ]
  },
  {
   "cell_type": "code",
   "execution_count": null,
   "metadata": {},
   "outputs": [],
   "source": [
    "fi.sort_values(by=\"Importance\").plot(\n",
    "    kind=\"barh\", title=\"Feature Importances\", figsize=(16, 25)\n",
    ")"
   ]
  },
  {
   "cell_type": "code",
   "execution_count": null,
   "metadata": {},
   "outputs": [],
   "source": []
  },
  {
   "cell_type": "code",
   "execution_count": null,
   "metadata": {},
   "outputs": [],
   "source": []
  },
  {
   "cell_type": "code",
   "execution_count": null,
   "metadata": {},
   "outputs": [],
   "source": []
  },
  {
   "cell_type": "code",
   "execution_count": null,
   "metadata": {},
   "outputs": [],
   "source": [
    "train.info()"
   ]
  },
  {
   "cell_type": "code",
   "execution_count": null,
   "metadata": {},
   "outputs": [],
   "source": [
    "boolean_columns = [\n",
    "    \"is_weekend\",\n",
    "    \"is_holiday\",\n",
    "    \"lockdown_1\",\n",
    "    \"lockdown_2\",\n",
    "    \"lockdown_3_1\",\n",
    "    \"lockdown_3_2\",\n",
    "    \"lockdown_3_3\",\n",
    "]\n",
    "\n",
    "for column in boolean_columns:\n",
    "    train[column] = train[column].astype(int)\n",
    "\n",
    "\n",
    "for column in boolean_columns:\n",
    "    test[column] = test[column].astype(int)"
   ]
  },
  {
   "cell_type": "code",
   "execution_count": null,
   "metadata": {},
   "outputs": [],
   "source": [
    "train.info()"
   ]
  },
  {
   "cell_type": "code",
   "execution_count": null,
   "metadata": {},
   "outputs": [],
   "source": [
    "X_train = train[features]\n",
    "y_train = train[target]\n",
    "X_test = test[features]\n",
    "y_test = test[target]"
   ]
  },
  {
   "cell_type": "code",
   "execution_count": null,
   "metadata": {},
   "outputs": [],
   "source": [
    "reg = xgb.XGBRegressor(\n",
    "    tree_method=\"hist\", n_estimators=1000, enable_categorical=True)"
   ]
  },
  {
   "cell_type": "code",
   "execution_count": null,
   "metadata": {},
   "outputs": [],
   "source": [
    "reg.fit(\n",
    "    X_train,\n",
    "    y_train,\n",
    "    eval_set=[(X_train, y_train), (X_test, y_test)],\n",
    "    early_stopping_rounds=10,\n",
    "    verbose=10,\n",
    ")"
   ]
  },
  {
   "cell_type": "code",
   "execution_count": null,
   "metadata": {},
   "outputs": [],
   "source": [
    "y_hat_xgb = reg.predict(X_train)\n",
    "rmse_xgb_train = mean_squared_error(y_train, y_hat_xgb, squared=False)\n",
    "print(\"XGB Train:\", rmse_xgb_train)\n",
    "\n",
    "y_pred_xgb = reg.predict(X_test)\n",
    "rmse_xgb_test = mean_squared_error(y_test, y_pred_xgb, squared=False)\n",
    "print(\"XGB Test:\", rmse_xgb_test)"
   ]
  },
  {
   "cell_type": "code",
   "execution_count": null,
   "metadata": {},
   "outputs": [],
   "source": [
    "fi = pd.DataFrame(\n",
    "    data=reg.feature_importances_, index=reg.feature_names_in_, columns=[\n",
    "        \"Importance\"]\n",
    ")\n",
    "\n",
    "fi.sort_values(by=\"Importance\").plot(kind=\"barh\", title=\"Feature Importances\")"
   ]
  },
  {
   "cell_type": "code",
   "execution_count": null,
   "metadata": {},
   "outputs": [],
   "source": [
    "fi.sort_values(by=\"Importance\", ascending=False)"
   ]
  },
  {
   "cell_type": "code",
   "execution_count": null,
   "metadata": {},
   "outputs": [],
   "source": [
    "features = [\n",
    "    \"counter_name\",\n",
    "    \"hour\",\n",
    "    \"dayofweek\",\n",
    "    \"quarter\",\n",
    "    \"month\",\n",
    "    \"dayofyear\",\n",
    "    \"hour_sin\",\n",
    "    \"hour_cos\",\n",
    "    \"is_holiday\",\n",
    "    \"lockdown_2\",\n",
    "    \"lockdown_3_1\",\n",
    "    \"lockdown_3_2\",\n",
    "    \"lockdown_3_3\",\n",
    "]\n",
    "target = [\"log_bike_count\"]\n",
    "cat_feature = [\"counter_name\"]"
   ]
  },
  {
   "cell_type": "code",
   "execution_count": null,
   "metadata": {},
   "outputs": [],
   "source": [
    "X_train = train[features]\n",
    "y_train = train[target]\n",
    "X_test = test[features]\n",
    "y_test = test[target]"
   ]
  },
  {
   "cell_type": "code",
   "execution_count": null,
   "metadata": {},
   "outputs": [],
   "source": [
    "reg = xgb.XGBRegressor(tree_method=\"hist\", n_estimators=1000, enable_categorical=True)\n",
    "\n",
    "\n",
    "reg.fit(\n",
    "    X_train,\n",
    "    y_train,\n",
    "    eval_set=[(X_train, y_train), (X_test, y_test)],\n",
    "    early_stopping_rounds=10,\n",
    "    verbose=10,\n",
    ")"
   ]
  },
  {
   "cell_type": "code",
   "execution_count": null,
   "metadata": {},
   "outputs": [],
   "source": [
    "y_hat_xgb = reg.predict(X_train)\n",
    "rmse_xgb_train = mean_squared_error(y_train, y_hat_xgb, squared=False)\n",
    "print(\"XGB Train:\", rmse_xgb_train)\n",
    "\n",
    "y_pred_xgb = reg.predict(X_test)\n",
    "rmse_xgb_test = mean_squared_error(y_test, y_pred_xgb, squared=False)\n",
    "print(\"XGB Test:\", rmse_xgb_test)"
   ]
  },
  {
   "cell_type": "code",
   "execution_count": null,
   "metadata": {},
   "outputs": [],
   "source": [
    "fi = pd.DataFrame(\n",
    "    data=reg.feature_importances_, index=reg.feature_names_in_, columns=[\n",
    "        \"Importance\"]\n",
    ")\n",
    "\n",
    "fi.sort_values(by=\"Importance\").plot(kind=\"barh\", title=\"Feature Importances\")"
   ]
  },
  {
   "cell_type": "code",
   "execution_count": null,
   "metadata": {},
   "outputs": [],
   "source": [
    "fi.sort_values(by=\"Importance\", ascending=False)"
   ]
  },
  {
   "cell_type": "code",
   "execution_count": null,
   "metadata": {},
   "outputs": [],
   "source": [
    "cat_reg = cat.CatBoostRegressor(n_estimators=1000, cat_features=cat_feature)"
   ]
  },
  {
   "cell_type": "code",
   "execution_count": null,
   "metadata": {},
   "outputs": [],
   "source": [
    "cat_reg.fit(\n",
    "    X_train,\n",
    "    y_train,\n",
    "    eval_set=[(X_train, y_train), (X_test, y_test)],\n",
    "    early_stopping_rounds=10,\n",
    "    verbose=10,\n",
    ")"
   ]
  },
  {
   "cell_type": "code",
   "execution_count": null,
   "metadata": {},
   "outputs": [],
   "source": [
    "y_hat_cat = cat_reg.predict(X_train)\n",
    "rmse_cat_train = mean_squared_error(y_train, y_hat_cat, squared=False)\n",
    "print(\"CAT Train:\", rmse_cat_train)\n",
    "\n",
    "y_test_cat = cat_reg.predict(X_test)\n",
    "rmse_cat_test = mean_squared_error(y_test, y_test_cat, squared=False)\n",
    "print(\"CAT Test:\", rmse_cat_test)"
   ]
  },
  {
   "cell_type": "code",
   "execution_count": null,
   "metadata": {},
   "outputs": [],
   "source": [
    "fi = pd.DataFrame(\n",
    "    data=cat_reg.feature_importances_,\n",
    "    index=features,\n",
    "    columns=[\"Importance\"],\n",
    ")\n",
    "\n",
    "fi.sort_values(by=\"Importance\").plot(kind=\"barh\", title=\"Feature Importances\")"
   ]
  },
  {
   "cell_type": "code",
   "execution_count": null,
   "metadata": {},
   "outputs": [],
   "source": []
  },
  {
   "cell_type": "code",
   "execution_count": null,
   "metadata": {},
   "outputs": [],
   "source": [
    "weather_data = pd.read_csv(\"data/external_data_cleaned.csv\")"
   ]
  },
  {
   "cell_type": "code",
   "execution_count": null,
   "metadata": {},
   "outputs": [],
   "source": [
    "weather_data_hourly.head()"
   ]
  },
  {
   "cell_type": "code",
   "execution_count": null,
   "metadata": {},
   "outputs": [],
   "source": [
    "weather_data[\"date\"] = pd.to_datetime(weather_data[\"date\"])\n",
    "weather_data.set_index(\"date\", inplace=True)"
   ]
  },
  {
   "cell_type": "code",
   "execution_count": null,
   "metadata": {},
   "outputs": [],
   "source": [
    "weather_data_hourly = weather_data.resample(\"H\").ffill()"
   ]
  },
  {
   "cell_type": "code",
   "execution_count": null,
   "metadata": {},
   "outputs": [],
   "source": [
    "weather_data_hourly.info()"
   ]
  },
  {
   "cell_type": "code",
   "execution_count": null,
   "metadata": {},
   "outputs": [],
   "source": [
    "weather_data_hourly = weather_data_hourly.drop(columns=[\"week\", \"day\"])"
   ]
  },
  {
   "cell_type": "code",
   "execution_count": null,
   "metadata": {},
   "outputs": [],
   "source": [
    "combined_train.columns"
   ]
  },
  {
   "cell_type": "code",
   "execution_count": null,
   "metadata": {},
   "outputs": [],
   "source": [
    "# Merge train and weather_data_hourly on their DateTimeIndex\n",
    "combined_train = train.merge(\n",
    "    weather_data_hourly, left_index=True, right_index=True, how=\"left\"\n",
    ")\n",
    "combined_test = test.merge(\n",
    "    weather_data_hourly, left_index=True, right_index=True, how=\"left\"\n",
    ")"
   ]
  },
  {
   "cell_type": "code",
   "execution_count": null,
   "metadata": {},
   "outputs": [],
   "source": [
    "features = [\n",
    "    \"counter_name\",\n",
    "    \"hour\",\n",
    "    \"dayofweek\",\n",
    "    \"quarter\",\n",
    "    \"month\",\n",
    "    \"dayofyear\",\n",
    "    \"hour_sin\",\n",
    "    \"hour_cos\",\n",
    "    \"is_holiday\",\n",
    "    \"lockdown_2\",\n",
    "    \"lockdown_3_1\",\n",
    "    \"lockdown_3_2\",\n",
    "    \"lockdown_3_3\",\n",
    "    \"t\",\n",
    "    \"rr1\",\n",
    "    \"rr3\",\n",
    "    \"rr6\",\n",
    "    \"ff\",\n",
    "    \"raf10\",\n",
    "    \"rafper\",\n",
    "    \"u\",\n",
    "    \"vv\",\n",
    "    \"n\",\n",
    "    \"cl\",\n",
    "    \"cm\",\n",
    "    \"ch\",\n",
    "    \"precipitation\",\n",
    "    \"cloudy_day\",\n",
    "]\n",
    "target = [\"log_bike_count\"]\n",
    "cat_feature = [\"counter_name\"]"
   ]
  },
  {
   "cell_type": "code",
   "execution_count": null,
   "metadata": {},
   "outputs": [],
   "source": [
    "X_train = combined_train[features]\n",
    "y_train = combined_train[target]\n",
    "X_test = combined_test[features]\n",
    "y_test = combined_test[target]"
   ]
  },
  {
   "cell_type": "code",
   "execution_count": null,
   "metadata": {},
   "outputs": [],
   "source": [
    "reg = xgb.XGBRegressor(tree_method=\"hist\", n_estimators=1000, enable_categorical=True)\n",
    "\n",
    "\n",
    "reg.fit(\n",
    "    X_train,\n",
    "    y_train,\n",
    "    eval_set=[(X_train, y_train), (X_test, y_test)],\n",
    "    early_stopping_rounds=10,\n",
    "    verbose=10,\n",
    ")"
   ]
  },
  {
   "cell_type": "code",
   "execution_count": null,
   "metadata": {},
   "outputs": [],
   "source": [
    "y_hat_xgb = reg.predict(X_train)\n",
    "rmse_xgb_train = mean_squared_error(y_train, y_hat_xgb, squared=False)\n",
    "print(\"XGB Train:\", rmse_xgb_train)\n",
    "\n",
    "y_pred_xgb = reg.predict(X_test)\n",
    "rmse_xgb_test = mean_squared_error(y_test, y_pred_xgb, squared=False)\n",
    "print(\"XGB Test:\", rmse_xgb_test)"
   ]
  },
  {
   "cell_type": "code",
   "execution_count": null,
   "metadata": {},
   "outputs": [],
   "source": [
    "fi = pd.DataFrame(\n",
    "    data=reg.feature_importances_, index=reg.feature_names_in_, columns=[\n",
    "        \"Importance\"]\n",
    ")\n",
    "\n",
    "fi.sort_values(by=\"Importance\").plot(kind=\"barh\", title=\"Feature Importances\")"
   ]
  },
  {
   "cell_type": "code",
   "execution_count": null,
   "metadata": {},
   "outputs": [],
   "source": [
    "cat_reg = cat.CatBoostRegressor(n_estimators=1000, cat_features=cat_feature)\n",
    "cat_reg.fit(\n",
    "    X_train,\n",
    "    y_train,\n",
    "    eval_set=[(X_train, y_train), (X_test, y_test)],\n",
    "    early_stopping_rounds=10,\n",
    "    verbose=10,\n",
    ")"
   ]
  },
  {
   "cell_type": "code",
   "execution_count": null,
   "metadata": {},
   "outputs": [],
   "source": [
    "y_hat_cat = cat_reg.predict(X_train)\n",
    "rmse_cat_train = mean_squared_error(y_train, y_hat_cat, squared=False)\n",
    "print(\"CAT Train:\", rmse_cat_train)\n",
    "\n",
    "y_test_cat = cat_reg.predict(X_test)\n",
    "rmse_cat_test = mean_squared_error(y_test, y_test_cat, squared=False)\n",
    "print(\"CAT Test:\", rmse_cat_test)"
   ]
  },
  {
   "cell_type": "code",
   "execution_count": null,
   "metadata": {},
   "outputs": [],
   "source": []
  },
  {
   "cell_type": "code",
   "execution_count": null,
   "metadata": {},
   "outputs": [],
   "source": []
  },
  {
   "cell_type": "code",
   "execution_count": null,
   "metadata": {},
   "outputs": [],
   "source": [
    "features = [\n",
    "    \"counter_name\",\n",
    "    \"hour\",\n",
    "    \"dayofweek\",\n",
    "    \"quarter\",\n",
    "    \"month\",\n",
    "    \"dayofyear\",\n",
    "    \"hour_sin\",\n",
    "    \"hour_cos\",\n",
    "    \"is_holiday\",\n",
    "    \"lockdown_2\",\n",
    "    \"lockdown_3_1\",\n",
    "    \"lockdown_3_2\",\n",
    "    \"lockdown_3_3\",\n",
    "    \"t\",\n",
    "    \"rr1\",\n",
    "    \"rr3\",\n",
    "    \"rr6\",\n",
    "    \"ff\",\n",
    "    \"raf10\",\n",
    "    \"rafper\",\n",
    "    \"u\",\n",
    "    \"vv\",\n",
    "    \"n\",\n",
    "    \"cl\",\n",
    "    \"cm\",\n",
    "    \"ch\",\n",
    "]\n",
    "target = [\"log_bike_count\"]\n",
    "cat_feature = [\"counter_name\"]"
   ]
  },
  {
   "cell_type": "code",
   "execution_count": null,
   "metadata": {},
   "outputs": [],
   "source": [
    "X_train = combined_train[features]\n",
    "y_train = combined_train[target]\n",
    "X_test = combined_test[features]\n",
    "y_test = combined_test[target]"
   ]
  },
  {
   "cell_type": "code",
   "execution_count": null,
   "metadata": {},
   "outputs": [],
   "source": [
    "reg = xgb.XGBRegressor(tree_method=\"hist\", n_estimators=1000, enable_categorical=True)\n",
    "\n",
    "\n",
    "reg.fit(\n",
    "    X_train,\n",
    "    y_train,\n",
    "    eval_set=[(X_train, y_train), (X_test, y_test)],\n",
    "    early_stopping_rounds=10,\n",
    "    verbose=10,\n",
    ")"
   ]
  },
  {
   "cell_type": "code",
   "execution_count": null,
   "metadata": {},
   "outputs": [],
   "source": [
    "y_hat_xgb = reg.predict(X_train)\n",
    "rmse_xgb_train = mean_squared_error(y_train, y_hat_xgb, squared=False)\n",
    "print(\"XGB Train:\", rmse_xgb_train)\n",
    "\n",
    "y_pred_xgb = reg.predict(X_test)\n",
    "rmse_xgb_test = mean_squared_error(y_test, y_pred_xgb, squared=False)\n",
    "print(\"XGB Test:\", rmse_xgb_test)"
   ]
  },
  {
   "cell_type": "code",
   "execution_count": null,
   "metadata": {},
   "outputs": [],
   "source": [
    "fi = pd.DataFrame(\n",
    "    data=reg.feature_importances_, index=reg.feature_names_in_, columns=[\n",
    "        \"Importance\"]\n",
    ")\n",
    "\n",
    "fi.sort_values(by=\"Importance\").plot(kind=\"barh\", title=\"Feature Importances\")"
   ]
  },
  {
   "cell_type": "code",
   "execution_count": null,
   "metadata": {},
   "outputs": [],
   "source": [
    "fi.sort_values(by=\"Importance\", ascending=False)"
   ]
  },
  {
   "cell_type": "code",
   "execution_count": null,
   "metadata": {},
   "outputs": [],
   "source": [
    "cat_reg = cat.CatBoostRegressor(n_estimators=1000, cat_features=cat_feature)\n",
    "cat_reg.fit(\n",
    "    X_train,\n",
    "    y_train,\n",
    "    eval_set=[(X_train, y_train), (X_test, y_test)],\n",
    "    early_stopping_rounds=10,\n",
    "    verbose=10,\n",
    ")"
   ]
  },
  {
   "cell_type": "code",
   "execution_count": null,
   "metadata": {},
   "outputs": [],
   "source": [
    "y_hat_cat = cat_reg.predict(X_train)\n",
    "rmse_cat_train = mean_squared_error(y_train, y_hat_cat, squared=False)\n",
    "print(\"CAT Train:\", rmse_cat_train)\n",
    "\n",
    "y_test_cat = cat_reg.predict(X_test)\n",
    "rmse_cat_test = mean_squared_error(y_test, y_test_cat, squared=False)\n",
    "print(\"CAT Test:\", rmse_cat_test)"
   ]
  },
  {
   "cell_type": "code",
   "execution_count": null,
   "metadata": {},
   "outputs": [],
   "source": []
  },
  {
   "cell_type": "code",
   "execution_count": null,
   "metadata": {},
   "outputs": [],
   "source": []
  },
  {
   "cell_type": "code",
   "execution_count": null,
   "metadata": {},
   "outputs": [],
   "source": [
    "features = [\n",
    "    \"counter_name\",\n",
    "    \"hour\",\n",
    "    \"dayofweek\",\n",
    "    \"month\",\n",
    "    \"dayofyear\",\n",
    "    \"hour_sin\",\n",
    "    \"hour_cos\",\n",
    "    \"is_holiday\",\n",
    "    \"lockdown_2\",\n",
    "    \"lockdown_3_1\",\n",
    "    \"lockdown_3_2\",\n",
    "    \"lockdown_3_3\",\n",
    "    \"t\",\n",
    "    \"rr1\",\n",
    "    \"rr3\",\n",
    "    \"rr6\",\n",
    "    \"ff\",\n",
    "    \"raf10\",\n",
    "    \"u\",\n",
    "    \"n\",\n",
    "    \"cm\",\n",
    "]\n",
    "target = [\"log_bike_count\"]\n",
    "cat_feature = [\"counter_name\"]"
   ]
  },
  {
   "cell_type": "code",
   "execution_count": null,
   "metadata": {},
   "outputs": [],
   "source": [
    "X_train = combined_train[features]\n",
    "y_train = combined_train[target]\n",
    "X_test = combined_test[features]\n",
    "y_test = combined_test[target]"
   ]
  },
  {
   "cell_type": "code",
   "execution_count": null,
   "metadata": {},
   "outputs": [],
   "source": [
    "reg = xgb.XGBRegressor(tree_method=\"hist\", n_estimators=1000, enable_categorical=True)\n",
    "\n",
    "\n",
    "reg.fit(\n",
    "    X_train,\n",
    "    y_train,\n",
    "    eval_set=[(X_train, y_train), (X_test, y_test)],\n",
    "    early_stopping_rounds=10,\n",
    "    verbose=10,\n",
    ")"
   ]
  },
  {
   "cell_type": "code",
   "execution_count": null,
   "metadata": {},
   "outputs": [],
   "source": [
    "y_hat_xgb = reg.predict(X_train)\n",
    "rmse_xgb_train = mean_squared_error(y_train, y_hat_xgb, squared=False)\n",
    "print(\"XGB Train:\", rmse_xgb_train)\n",
    "\n",
    "y_pred_xgb = reg.predict(X_test)\n",
    "rmse_xgb_test = mean_squared_error(y_test, y_pred_xgb, squared=False)\n",
    "print(\"XGB Test:\", rmse_xgb_test)"
   ]
  },
  {
   "cell_type": "code",
   "execution_count": null,
   "metadata": {},
   "outputs": [],
   "source": [
    "fi = pd.DataFrame(\n",
    "    data=reg.feature_importances_, index=reg.feature_names_in_, columns=[\n",
    "        \"Importance\"]\n",
    ")\n",
    "\n",
    "fi.sort_values(by=\"Importance\").plot(\n",
    "    kind=\"barh\", title=\"Feature Importances XGBoost\")"
   ]
  },
  {
   "cell_type": "code",
   "execution_count": null,
   "metadata": {},
   "outputs": [],
   "source": [
    "fi.sort_values(by=\"Importance\", ascending=False)"
   ]
  },
  {
   "cell_type": "code",
   "execution_count": null,
   "metadata": {},
   "outputs": [],
   "source": [
    "cat_reg = cat.CatBoostRegressor(n_estimators=1000, cat_features=cat_feature)\n",
    "cat_reg.fit(\n",
    "    X_train,\n",
    "    y_train,\n",
    "    eval_set=[(X_test, y_test)],\n",
    "    early_stopping_rounds=10,\n",
    "    verbose=10,\n",
    ")"
   ]
  },
  {
   "cell_type": "code",
   "execution_count": null,
   "metadata": {},
   "outputs": [],
   "source": [
    "y_hat_cat = cat_reg.predict(X_train)\n",
    "rmse_cat_train = mean_squared_error(y_train, y_hat_cat, squared=False)\n",
    "print(\"CAT Train:\", rmse_cat_train)\n",
    "\n",
    "y_test_cat = cat_reg.predict(X_test)\n",
    "rmse_cat_test = mean_squared_error(y_test, y_test_cat, squared=False)\n",
    "print(\"CAT Test:\", rmse_cat_test)"
   ]
  },
  {
   "cell_type": "code",
   "execution_count": null,
   "metadata": {},
   "outputs": [],
   "source": [
    "fi = pd.DataFrame(\n",
    "    data=cat_reg.feature_importances_,\n",
    "    index=features,\n",
    "    columns=[\"Importance\"],\n",
    ")\n",
    "\n",
    "fi.sort_values(by=\"Importance\").plot(\n",
    "    kind=\"barh\", title=\"Feature Importances CATBoost\")"
   ]
  },
  {
   "cell_type": "code",
   "execution_count": null,
   "metadata": {},
   "outputs": [],
   "source": [
    "features = [\n",
    "    \"counter_name\",\n",
    "    \"hour\",\n",
    "    \"dayofweek\",\n",
    "    \"month\",\n",
    "    \"dayofyear\",\n",
    "    \"hour_sin\",\n",
    "    \"hour_cos\",\n",
    "    \"lockdown_2\",\n",
    "    \"lockdown_3_1\",\n",
    "    \"lockdown_3_2\",\n",
    "    \"lockdown_3_3\",\n",
    "    \"t\",\n",
    "    \"rr1\",\n",
    "    \"rr3\",\n",
    "    \"rr6\",\n",
    "    \"raf10\",\n",
    "    \"u\",\n",
    "    \"n\",\n",
    "    \"cm\",\n",
    "]\n",
    "target = [\"log_bike_count\"]\n",
    "cat_feature = [\"counter_name\"]"
   ]
  },
  {
   "cell_type": "code",
   "execution_count": null,
   "metadata": {},
   "outputs": [],
   "source": [
    "combined_train[\"t\"].head(20)"
   ]
  },
  {
   "cell_type": "code",
   "execution_count": null,
   "metadata": {},
   "outputs": [],
   "source": [
    "combined_train.head()"
   ]
  },
  {
   "cell_type": "code",
   "execution_count": null,
   "metadata": {},
   "outputs": [],
   "source": []
  },
  {
   "cell_type": "code",
   "execution_count": null,
   "metadata": {},
   "outputs": [],
   "source": []
  },
  {
   "cell_type": "markdown",
   "metadata": {},
   "source": [
    "# Updated Weather"
   ]
  },
  {
   "cell_type": "code",
   "execution_count": 18,
   "metadata": {},
   "outputs": [],
   "source": [
    "weather_data = pd.read_csv(\"data/external_data_cleaned_updated.csv\")"
   ]
  },
  {
   "cell_type": "code",
   "execution_count": 19,
   "metadata": {},
   "outputs": [],
   "source": [
    "weather_data[\"date\"] = pd.to_datetime(weather_data[\"date\"])\n",
    "weather_data.set_index(\"date\", inplace=True)"
   ]
  },
  {
   "cell_type": "code",
   "execution_count": 20,
   "metadata": {},
   "outputs": [
    {
     "data": {
      "text/html": [
       "<div>\n",
       "<style scoped>\n",
       "    .dataframe tbody tr th:only-of-type {\n",
       "        vertical-align: middle;\n",
       "    }\n",
       "\n",
       "    .dataframe tbody tr th {\n",
       "        vertical-align: top;\n",
       "    }\n",
       "\n",
       "    .dataframe thead th {\n",
       "        text-align: right;\n",
       "    }\n",
       "</style>\n",
       "<table border=\"1\" class=\"dataframe\">\n",
       "  <thead>\n",
       "    <tr style=\"text-align: right;\">\n",
       "      <th></th>\n",
       "      <th>pmer</th>\n",
       "      <th>tend</th>\n",
       "      <th>cod_tend</th>\n",
       "      <th>dd</th>\n",
       "      <th>ff</th>\n",
       "      <th>t</th>\n",
       "      <th>td</th>\n",
       "      <th>u</th>\n",
       "      <th>vv</th>\n",
       "      <th>ww</th>\n",
       "      <th>...</th>\n",
       "      <th>etat_sol_lag6h</th>\n",
       "      <th>etat_sol_lag9h</th>\n",
       "      <th>etat_sol_lag12h</th>\n",
       "      <th>etat_sol_lag24h</th>\n",
       "      <th>etat_sol_lag168h</th>\n",
       "      <th>rr12_lag6h</th>\n",
       "      <th>rr12_lag9h</th>\n",
       "      <th>rr12_lag12h</th>\n",
       "      <th>rr12_lag24h</th>\n",
       "      <th>rr12_lag168h</th>\n",
       "    </tr>\n",
       "    <tr>\n",
       "      <th>date</th>\n",
       "      <th></th>\n",
       "      <th></th>\n",
       "      <th></th>\n",
       "      <th></th>\n",
       "      <th></th>\n",
       "      <th></th>\n",
       "      <th></th>\n",
       "      <th></th>\n",
       "      <th></th>\n",
       "      <th></th>\n",
       "      <th></th>\n",
       "      <th></th>\n",
       "      <th></th>\n",
       "      <th></th>\n",
       "      <th></th>\n",
       "      <th></th>\n",
       "      <th></th>\n",
       "      <th></th>\n",
       "      <th></th>\n",
       "      <th></th>\n",
       "      <th></th>\n",
       "    </tr>\n",
       "  </thead>\n",
       "  <tbody>\n",
       "    <tr>\n",
       "      <th>2020-09-01 00:00:00</th>\n",
       "      <td>102050</td>\n",
       "      <td>-10</td>\n",
       "      <td>8</td>\n",
       "      <td>340</td>\n",
       "      <td>1.6</td>\n",
       "      <td>285.75</td>\n",
       "      <td>282.55</td>\n",
       "      <td>81</td>\n",
       "      <td>30000</td>\n",
       "      <td>1</td>\n",
       "      <td>...</td>\n",
       "      <td>0.0</td>\n",
       "      <td>0.0</td>\n",
       "      <td>0.0</td>\n",
       "      <td>0.0</td>\n",
       "      <td>0.0</td>\n",
       "      <td>0.0</td>\n",
       "      <td>0.0</td>\n",
       "      <td>0.0</td>\n",
       "      <td>0.0</td>\n",
       "      <td>0.0</td>\n",
       "    </tr>\n",
       "    <tr>\n",
       "      <th>2020-09-01 01:00:00</th>\n",
       "      <td>102050</td>\n",
       "      <td>-10</td>\n",
       "      <td>8</td>\n",
       "      <td>340</td>\n",
       "      <td>1.6</td>\n",
       "      <td>285.75</td>\n",
       "      <td>282.55</td>\n",
       "      <td>81</td>\n",
       "      <td>30000</td>\n",
       "      <td>1</td>\n",
       "      <td>...</td>\n",
       "      <td>0.0</td>\n",
       "      <td>0.0</td>\n",
       "      <td>0.0</td>\n",
       "      <td>0.0</td>\n",
       "      <td>0.0</td>\n",
       "      <td>0.0</td>\n",
       "      <td>0.0</td>\n",
       "      <td>0.0</td>\n",
       "      <td>0.0</td>\n",
       "      <td>0.0</td>\n",
       "    </tr>\n",
       "    <tr>\n",
       "      <th>2020-09-01 02:00:00</th>\n",
       "      <td>102050</td>\n",
       "      <td>-10</td>\n",
       "      <td>8</td>\n",
       "      <td>340</td>\n",
       "      <td>1.6</td>\n",
       "      <td>285.75</td>\n",
       "      <td>282.55</td>\n",
       "      <td>81</td>\n",
       "      <td>30000</td>\n",
       "      <td>1</td>\n",
       "      <td>...</td>\n",
       "      <td>0.0</td>\n",
       "      <td>0.0</td>\n",
       "      <td>0.0</td>\n",
       "      <td>0.0</td>\n",
       "      <td>0.0</td>\n",
       "      <td>0.0</td>\n",
       "      <td>0.0</td>\n",
       "      <td>0.0</td>\n",
       "      <td>0.0</td>\n",
       "      <td>0.0</td>\n",
       "    </tr>\n",
       "    <tr>\n",
       "      <th>2020-09-01 03:00:00</th>\n",
       "      <td>101990</td>\n",
       "      <td>-60</td>\n",
       "      <td>6</td>\n",
       "      <td>290</td>\n",
       "      <td>1.1</td>\n",
       "      <td>283.95</td>\n",
       "      <td>282.05</td>\n",
       "      <td>88</td>\n",
       "      <td>25000</td>\n",
       "      <td>2</td>\n",
       "      <td>...</td>\n",
       "      <td>0.0</td>\n",
       "      <td>0.0</td>\n",
       "      <td>0.0</td>\n",
       "      <td>0.0</td>\n",
       "      <td>0.0</td>\n",
       "      <td>0.0</td>\n",
       "      <td>0.0</td>\n",
       "      <td>0.0</td>\n",
       "      <td>0.0</td>\n",
       "      <td>0.0</td>\n",
       "    </tr>\n",
       "    <tr>\n",
       "      <th>2020-09-01 04:00:00</th>\n",
       "      <td>101990</td>\n",
       "      <td>-60</td>\n",
       "      <td>6</td>\n",
       "      <td>290</td>\n",
       "      <td>1.1</td>\n",
       "      <td>283.95</td>\n",
       "      <td>282.05</td>\n",
       "      <td>88</td>\n",
       "      <td>25000</td>\n",
       "      <td>2</td>\n",
       "      <td>...</td>\n",
       "      <td>0.0</td>\n",
       "      <td>0.0</td>\n",
       "      <td>0.0</td>\n",
       "      <td>0.0</td>\n",
       "      <td>0.0</td>\n",
       "      <td>0.0</td>\n",
       "      <td>0.0</td>\n",
       "      <td>0.0</td>\n",
       "      <td>0.0</td>\n",
       "      <td>0.0</td>\n",
       "    </tr>\n",
       "  </tbody>\n",
       "</table>\n",
       "<p>5 rows × 74 columns</p>\n",
       "</div>"
      ],
      "text/plain": [
       "                       pmer  tend  cod_tend   dd   ff       t      td   u  \\\n",
       "date                                                                        \n",
       "2020-09-01 00:00:00  102050   -10         8  340  1.6  285.75  282.55  81   \n",
       "2020-09-01 01:00:00  102050   -10         8  340  1.6  285.75  282.55  81   \n",
       "2020-09-01 02:00:00  102050   -10         8  340  1.6  285.75  282.55  81   \n",
       "2020-09-01 03:00:00  101990   -60         6  290  1.1  283.95  282.05  88   \n",
       "2020-09-01 04:00:00  101990   -60         6  290  1.1  283.95  282.05  88   \n",
       "\n",
       "                        vv  ww  ...  etat_sol_lag6h  etat_sol_lag9h  \\\n",
       "date                            ...                                   \n",
       "2020-09-01 00:00:00  30000   1  ...             0.0             0.0   \n",
       "2020-09-01 01:00:00  30000   1  ...             0.0             0.0   \n",
       "2020-09-01 02:00:00  30000   1  ...             0.0             0.0   \n",
       "2020-09-01 03:00:00  25000   2  ...             0.0             0.0   \n",
       "2020-09-01 04:00:00  25000   2  ...             0.0             0.0   \n",
       "\n",
       "                     etat_sol_lag12h  etat_sol_lag24h  etat_sol_lag168h  \\\n",
       "date                                                                      \n",
       "2020-09-01 00:00:00              0.0              0.0               0.0   \n",
       "2020-09-01 01:00:00              0.0              0.0               0.0   \n",
       "2020-09-01 02:00:00              0.0              0.0               0.0   \n",
       "2020-09-01 03:00:00              0.0              0.0               0.0   \n",
       "2020-09-01 04:00:00              0.0              0.0               0.0   \n",
       "\n",
       "                     rr12_lag6h  rr12_lag9h  rr12_lag12h  rr12_lag24h  \\\n",
       "date                                                                    \n",
       "2020-09-01 00:00:00         0.0         0.0          0.0          0.0   \n",
       "2020-09-01 01:00:00         0.0         0.0          0.0          0.0   \n",
       "2020-09-01 02:00:00         0.0         0.0          0.0          0.0   \n",
       "2020-09-01 03:00:00         0.0         0.0          0.0          0.0   \n",
       "2020-09-01 04:00:00         0.0         0.0          0.0          0.0   \n",
       "\n",
       "                     rr12_lag168h  \n",
       "date                               \n",
       "2020-09-01 00:00:00           0.0  \n",
       "2020-09-01 01:00:00           0.0  \n",
       "2020-09-01 02:00:00           0.0  \n",
       "2020-09-01 03:00:00           0.0  \n",
       "2020-09-01 04:00:00           0.0  \n",
       "\n",
       "[5 rows x 74 columns]"
      ]
     },
     "execution_count": 20,
     "metadata": {},
     "output_type": "execute_result"
    }
   ],
   "source": [
    "weather_data.head()"
   ]
  },
  {
   "cell_type": "code",
   "execution_count": 21,
   "metadata": {},
   "outputs": [
    {
     "name": "stdout",
     "output_type": "stream",
     "text": [
      "<class 'pandas.core.frame.DataFrame'>\n",
      "DatetimeIndex: 9973 entries, 2020-09-01 00:00:00 to 2021-10-21 12:00:00\n",
      "Data columns (total 74 columns):\n",
      " #   Column                     Non-Null Count  Dtype  \n",
      "---  ------                     --------------  -----  \n",
      " 0   pmer                       9973 non-null   int64  \n",
      " 1   tend                       9973 non-null   int64  \n",
      " 2   cod_tend                   9973 non-null   int64  \n",
      " 3   dd                         9973 non-null   int64  \n",
      " 4   ff                         9973 non-null   float64\n",
      " 5   t                          9973 non-null   float64\n",
      " 6   td                         9973 non-null   float64\n",
      " 7   u                          9973 non-null   int64  \n",
      " 8   vv                         9973 non-null   int64  \n",
      " 9   ww                         9973 non-null   int64  \n",
      " 10  w1                         9973 non-null   float64\n",
      " 11  w2                         9973 non-null   float64\n",
      " 12  n                          9973 non-null   float64\n",
      " 13  nbas                       9973 non-null   float64\n",
      " 14  hbas                       9973 non-null   float64\n",
      " 15  cl                         9973 non-null   float64\n",
      " 16  cm                         9973 non-null   float64\n",
      " 17  ch                         9973 non-null   float64\n",
      " 18  pres                       9973 non-null   int64  \n",
      " 19  tend24                     9973 non-null   float64\n",
      " 20  raf10                      9973 non-null   float64\n",
      " 21  rafper                     9973 non-null   float64\n",
      " 22  etat_sol                   9973 non-null   float64\n",
      " 23  ht_neige                   9973 non-null   float64\n",
      " 24  ssfrai                     9973 non-null   float64\n",
      " 25  rr1                        9973 non-null   float64\n",
      " 26  rr3                        9973 non-null   float64\n",
      " 27  rr6                        9973 non-null   float64\n",
      " 28  rr12                       9973 non-null   float64\n",
      " 29  rr24                       9973 non-null   float64\n",
      " 30  nnuage1                    9973 non-null   float64\n",
      " 31  ctype1                     9973 non-null   float64\n",
      " 32  hnuage1                    9973 non-null   float64\n",
      " 33  temp_humidity_interaction  9973 non-null   float64\n",
      " 34  t_lag6h                    9973 non-null   float64\n",
      " 35  t_lag9h                    9973 non-null   float64\n",
      " 36  t_lag12h                   9973 non-null   float64\n",
      " 37  t_lag24h                   9973 non-null   float64\n",
      " 38  t_lag168h                  9973 non-null   float64\n",
      " 39  td_lag6h                   9973 non-null   float64\n",
      " 40  td_lag9h                   9973 non-null   float64\n",
      " 41  td_lag12h                  9973 non-null   float64\n",
      " 42  td_lag24h                  9973 non-null   float64\n",
      " 43  td_lag168h                 9973 non-null   float64\n",
      " 44  u_lag6h                    9973 non-null   float64\n",
      " 45  u_lag9h                    9973 non-null   float64\n",
      " 46  u_lag12h                   9973 non-null   float64\n",
      " 47  u_lag24h                   9973 non-null   float64\n",
      " 48  u_lag168h                  9973 non-null   float64\n",
      " 49  ww_lag6h                   9973 non-null   float64\n",
      " 50  ww_lag9h                   9973 non-null   float64\n",
      " 51  ww_lag12h                  9973 non-null   float64\n",
      " 52  ww_lag24h                  9973 non-null   float64\n",
      " 53  ww_lag168h                 9973 non-null   float64\n",
      " 54  n_lag6h                    9973 non-null   float64\n",
      " 55  n_lag9h                    9973 non-null   float64\n",
      " 56  n_lag12h                   9973 non-null   float64\n",
      " 57  n_lag24h                   9973 non-null   float64\n",
      " 58  n_lag168h                  9973 non-null   float64\n",
      " 59  tend24_lag6h               9973 non-null   float64\n",
      " 60  tend24_lag9h               9973 non-null   float64\n",
      " 61  tend24_lag12h              9973 non-null   float64\n",
      " 62  tend24_lag24h              9973 non-null   float64\n",
      " 63  tend24_lag168h             9973 non-null   float64\n",
      " 64  etat_sol_lag6h             9973 non-null   float64\n",
      " 65  etat_sol_lag9h             9973 non-null   float64\n",
      " 66  etat_sol_lag12h            9973 non-null   float64\n",
      " 67  etat_sol_lag24h            9973 non-null   float64\n",
      " 68  etat_sol_lag168h           9973 non-null   float64\n",
      " 69  rr12_lag6h                 9973 non-null   float64\n",
      " 70  rr12_lag9h                 9973 non-null   float64\n",
      " 71  rr12_lag12h                9973 non-null   float64\n",
      " 72  rr12_lag24h                9973 non-null   float64\n",
      " 73  rr12_lag168h               9973 non-null   float64\n",
      "dtypes: float64(66), int64(8)\n",
      "memory usage: 5.7 MB\n"
     ]
    }
   ],
   "source": [
    "weather_data.info()"
   ]
  },
  {
   "cell_type": "code",
   "execution_count": 22,
   "metadata": {},
   "outputs": [],
   "source": [
    "boolean_columns = [\n",
    "    \"is_weekend\",\n",
    "    \"is_holiday\",\n",
    "    \"lockdown_1\",\n",
    "    \"lockdown_2\",\n",
    "    \"lockdown_3_1\",\n",
    "    \"lockdown_3_2\",\n",
    "    \"lockdown_3_3\",\n",
    "]\n",
    "\n",
    "for column in boolean_columns:\n",
    "    train[column] = train[column].astype(int)\n",
    "\n",
    "\n",
    "for column in boolean_columns:\n",
    "    test[column] = test[column].astype(int)\n",
    "\n",
    "for column in boolean_columns:\n",
    "    prediction[column] = prediction[column].astype(int)"
   ]
  },
  {
   "cell_type": "code",
   "execution_count": 23,
   "metadata": {},
   "outputs": [],
   "source": [
    "combined_train = train.merge(\n",
    "    weather_data, left_index=True, right_index=True, how=\"left\"\n",
    ")\n",
    "combined_test = test.merge(\n",
    "    weather_data, left_index=True, right_index=True, how=\"left\")\n",
    "combined_prediction = prediction.merge(\n",
    "    weather_data, left_index=True, right_index=True, how=\"left\"\n",
    ")"
   ]
  },
  {
   "cell_type": "code",
   "execution_count": 24,
   "metadata": {},
   "outputs": [
    {
     "data": {
      "text/html": [
       "<div>\n",
       "<style scoped>\n",
       "    .dataframe tbody tr th:only-of-type {\n",
       "        vertical-align: middle;\n",
       "    }\n",
       "\n",
       "    .dataframe tbody tr th {\n",
       "        vertical-align: top;\n",
       "    }\n",
       "\n",
       "    .dataframe thead th {\n",
       "        text-align: right;\n",
       "    }\n",
       "</style>\n",
       "<table border=\"1\" class=\"dataframe\">\n",
       "  <thead>\n",
       "    <tr style=\"text-align: right;\">\n",
       "      <th></th>\n",
       "      <th>counter_name</th>\n",
       "      <th>hour</th>\n",
       "      <th>dayofweek</th>\n",
       "      <th>quarter</th>\n",
       "      <th>month</th>\n",
       "      <th>dayofyear</th>\n",
       "      <th>is_weekend</th>\n",
       "      <th>hour_sin</th>\n",
       "      <th>hour_cos</th>\n",
       "      <th>dayofweek_sin</th>\n",
       "      <th>...</th>\n",
       "      <th>etat_sol_lag6h</th>\n",
       "      <th>etat_sol_lag9h</th>\n",
       "      <th>etat_sol_lag12h</th>\n",
       "      <th>etat_sol_lag24h</th>\n",
       "      <th>etat_sol_lag168h</th>\n",
       "      <th>rr12_lag6h</th>\n",
       "      <th>rr12_lag9h</th>\n",
       "      <th>rr12_lag12h</th>\n",
       "      <th>rr12_lag24h</th>\n",
       "      <th>rr12_lag168h</th>\n",
       "    </tr>\n",
       "    <tr>\n",
       "      <th>date</th>\n",
       "      <th></th>\n",
       "      <th></th>\n",
       "      <th></th>\n",
       "      <th></th>\n",
       "      <th></th>\n",
       "      <th></th>\n",
       "      <th></th>\n",
       "      <th></th>\n",
       "      <th></th>\n",
       "      <th></th>\n",
       "      <th></th>\n",
       "      <th></th>\n",
       "      <th></th>\n",
       "      <th></th>\n",
       "      <th></th>\n",
       "      <th></th>\n",
       "      <th></th>\n",
       "      <th></th>\n",
       "      <th></th>\n",
       "      <th></th>\n",
       "      <th></th>\n",
       "    </tr>\n",
       "  </thead>\n",
       "  <tbody>\n",
       "    <tr>\n",
       "      <th>2021-09-10 01:00:00</th>\n",
       "      <td>28 boulevard Diderot E-O</td>\n",
       "      <td>1</td>\n",
       "      <td>4</td>\n",
       "      <td>3</td>\n",
       "      <td>9</td>\n",
       "      <td>253</td>\n",
       "      <td>0</td>\n",
       "      <td>0.258819</td>\n",
       "      <td>0.965926</td>\n",
       "      <td>-0.433884</td>\n",
       "      <td>...</td>\n",
       "      <td>1.0</td>\n",
       "      <td>0.0</td>\n",
       "      <td>0.0</td>\n",
       "      <td>1.0</td>\n",
       "      <td>0.0</td>\n",
       "      <td>0.6</td>\n",
       "      <td>0.0</td>\n",
       "      <td>-0.1</td>\n",
       "      <td>1.2</td>\n",
       "      <td>0.0</td>\n",
       "    </tr>\n",
       "    <tr>\n",
       "      <th>2021-09-10 01:00:00</th>\n",
       "      <td>28 boulevard Diderot O-E</td>\n",
       "      <td>1</td>\n",
       "      <td>4</td>\n",
       "      <td>3</td>\n",
       "      <td>9</td>\n",
       "      <td>253</td>\n",
       "      <td>0</td>\n",
       "      <td>0.258819</td>\n",
       "      <td>0.965926</td>\n",
       "      <td>-0.433884</td>\n",
       "      <td>...</td>\n",
       "      <td>1.0</td>\n",
       "      <td>0.0</td>\n",
       "      <td>0.0</td>\n",
       "      <td>1.0</td>\n",
       "      <td>0.0</td>\n",
       "      <td>0.6</td>\n",
       "      <td>0.0</td>\n",
       "      <td>-0.1</td>\n",
       "      <td>1.2</td>\n",
       "      <td>0.0</td>\n",
       "    </tr>\n",
       "    <tr>\n",
       "      <th>2021-09-10 01:00:00</th>\n",
       "      <td>39 quai François Mauriac NO-SE</td>\n",
       "      <td>1</td>\n",
       "      <td>4</td>\n",
       "      <td>3</td>\n",
       "      <td>9</td>\n",
       "      <td>253</td>\n",
       "      <td>0</td>\n",
       "      <td>0.258819</td>\n",
       "      <td>0.965926</td>\n",
       "      <td>-0.433884</td>\n",
       "      <td>...</td>\n",
       "      <td>1.0</td>\n",
       "      <td>0.0</td>\n",
       "      <td>0.0</td>\n",
       "      <td>1.0</td>\n",
       "      <td>0.0</td>\n",
       "      <td>0.6</td>\n",
       "      <td>0.0</td>\n",
       "      <td>-0.1</td>\n",
       "      <td>1.2</td>\n",
       "      <td>0.0</td>\n",
       "    </tr>\n",
       "    <tr>\n",
       "      <th>2021-09-10 01:00:00</th>\n",
       "      <td>39 quai François Mauriac SE-NO</td>\n",
       "      <td>1</td>\n",
       "      <td>4</td>\n",
       "      <td>3</td>\n",
       "      <td>9</td>\n",
       "      <td>253</td>\n",
       "      <td>0</td>\n",
       "      <td>0.258819</td>\n",
       "      <td>0.965926</td>\n",
       "      <td>-0.433884</td>\n",
       "      <td>...</td>\n",
       "      <td>1.0</td>\n",
       "      <td>0.0</td>\n",
       "      <td>0.0</td>\n",
       "      <td>1.0</td>\n",
       "      <td>0.0</td>\n",
       "      <td>0.6</td>\n",
       "      <td>0.0</td>\n",
       "      <td>-0.1</td>\n",
       "      <td>1.2</td>\n",
       "      <td>0.0</td>\n",
       "    </tr>\n",
       "    <tr>\n",
       "      <th>2021-09-10 01:00:00</th>\n",
       "      <td>18 quai de l'Hôtel de Ville NO-SE</td>\n",
       "      <td>1</td>\n",
       "      <td>4</td>\n",
       "      <td>3</td>\n",
       "      <td>9</td>\n",
       "      <td>253</td>\n",
       "      <td>0</td>\n",
       "      <td>0.258819</td>\n",
       "      <td>0.965926</td>\n",
       "      <td>-0.433884</td>\n",
       "      <td>...</td>\n",
       "      <td>1.0</td>\n",
       "      <td>0.0</td>\n",
       "      <td>0.0</td>\n",
       "      <td>1.0</td>\n",
       "      <td>0.0</td>\n",
       "      <td>0.6</td>\n",
       "      <td>0.0</td>\n",
       "      <td>-0.1</td>\n",
       "      <td>1.2</td>\n",
       "      <td>0.0</td>\n",
       "    </tr>\n",
       "  </tbody>\n",
       "</table>\n",
       "<p>5 rows × 91 columns</p>\n",
       "</div>"
      ],
      "text/plain": [
       "                                          counter_name  hour  dayofweek  \\\n",
       "date                                                                      \n",
       "2021-09-10 01:00:00           28 boulevard Diderot E-O     1          4   \n",
       "2021-09-10 01:00:00           28 boulevard Diderot O-E     1          4   \n",
       "2021-09-10 01:00:00     39 quai François Mauriac NO-SE     1          4   \n",
       "2021-09-10 01:00:00     39 quai François Mauriac SE-NO     1          4   \n",
       "2021-09-10 01:00:00  18 quai de l'Hôtel de Ville NO-SE     1          4   \n",
       "\n",
       "                     quarter  month  dayofyear  is_weekend  hour_sin  \\\n",
       "date                                                                   \n",
       "2021-09-10 01:00:00        3      9        253           0  0.258819   \n",
       "2021-09-10 01:00:00        3      9        253           0  0.258819   \n",
       "2021-09-10 01:00:00        3      9        253           0  0.258819   \n",
       "2021-09-10 01:00:00        3      9        253           0  0.258819   \n",
       "2021-09-10 01:00:00        3      9        253           0  0.258819   \n",
       "\n",
       "                     hour_cos  dayofweek_sin  ...  etat_sol_lag6h  \\\n",
       "date                                          ...                   \n",
       "2021-09-10 01:00:00  0.965926      -0.433884  ...             1.0   \n",
       "2021-09-10 01:00:00  0.965926      -0.433884  ...             1.0   \n",
       "2021-09-10 01:00:00  0.965926      -0.433884  ...             1.0   \n",
       "2021-09-10 01:00:00  0.965926      -0.433884  ...             1.0   \n",
       "2021-09-10 01:00:00  0.965926      -0.433884  ...             1.0   \n",
       "\n",
       "                     etat_sol_lag9h  etat_sol_lag12h  etat_sol_lag24h  \\\n",
       "date                                                                    \n",
       "2021-09-10 01:00:00             0.0              0.0              1.0   \n",
       "2021-09-10 01:00:00             0.0              0.0              1.0   \n",
       "2021-09-10 01:00:00             0.0              0.0              1.0   \n",
       "2021-09-10 01:00:00             0.0              0.0              1.0   \n",
       "2021-09-10 01:00:00             0.0              0.0              1.0   \n",
       "\n",
       "                     etat_sol_lag168h  rr12_lag6h  rr12_lag9h  rr12_lag12h  \\\n",
       "date                                                                         \n",
       "2021-09-10 01:00:00               0.0         0.6         0.0         -0.1   \n",
       "2021-09-10 01:00:00               0.0         0.6         0.0         -0.1   \n",
       "2021-09-10 01:00:00               0.0         0.6         0.0         -0.1   \n",
       "2021-09-10 01:00:00               0.0         0.6         0.0         -0.1   \n",
       "2021-09-10 01:00:00               0.0         0.6         0.0         -0.1   \n",
       "\n",
       "                     rr12_lag24h  rr12_lag168h  \n",
       "date                                            \n",
       "2021-09-10 01:00:00          1.2           0.0  \n",
       "2021-09-10 01:00:00          1.2           0.0  \n",
       "2021-09-10 01:00:00          1.2           0.0  \n",
       "2021-09-10 01:00:00          1.2           0.0  \n",
       "2021-09-10 01:00:00          1.2           0.0  \n",
       "\n",
       "[5 rows x 91 columns]"
      ]
     },
     "execution_count": 24,
     "metadata": {},
     "output_type": "execute_result"
    }
   ],
   "source": [
    "combined_prediction.head()"
   ]
  },
  {
   "cell_type": "code",
   "execution_count": 25,
   "metadata": {},
   "outputs": [
    {
     "name": "stdout",
     "output_type": "stream",
     "text": [
      "<class 'pandas.core.frame.DataFrame'>\n",
      "DatetimeIndex: 51440 entries, 2021-09-10 01:00:00 to 2021-10-18 21:00:00\n",
      "Data columns (total 91 columns):\n",
      " #   Column                     Non-Null Count  Dtype   \n",
      "---  ------                     --------------  -----   \n",
      " 0   counter_name               51440 non-null  category\n",
      " 1   hour                       51440 non-null  int32   \n",
      " 2   dayofweek                  51440 non-null  int32   \n",
      " 3   quarter                    51440 non-null  int32   \n",
      " 4   month                      51440 non-null  int32   \n",
      " 5   dayofyear                  51440 non-null  int32   \n",
      " 6   is_weekend                 51440 non-null  int32   \n",
      " 7   hour_sin                   51440 non-null  float64 \n",
      " 8   hour_cos                   51440 non-null  float64 \n",
      " 9   dayofweek_sin              51440 non-null  float64 \n",
      " 10  dayofweek_cos              51440 non-null  float64 \n",
      " 11  is_holiday                 51440 non-null  int32   \n",
      " 12  lockdown_1                 51440 non-null  int32   \n",
      " 13  lockdown_2                 51440 non-null  int32   \n",
      " 14  lockdown_3_1               51440 non-null  int32   \n",
      " 15  lockdown_3_2               51440 non-null  int32   \n",
      " 16  lockdown_3_3               51440 non-null  int32   \n",
      " 17  pmer                       51440 non-null  int64   \n",
      " 18  tend                       51440 non-null  int64   \n",
      " 19  cod_tend                   51440 non-null  int64   \n",
      " 20  dd                         51440 non-null  int64   \n",
      " 21  ff                         51440 non-null  float64 \n",
      " 22  t                          51440 non-null  float64 \n",
      " 23  td                         51440 non-null  float64 \n",
      " 24  u                          51440 non-null  int64   \n",
      " 25  vv                         51440 non-null  int64   \n",
      " 26  ww                         51440 non-null  int64   \n",
      " 27  w1                         51440 non-null  float64 \n",
      " 28  w2                         51440 non-null  float64 \n",
      " 29  n                          51440 non-null  float64 \n",
      " 30  nbas                       51440 non-null  float64 \n",
      " 31  hbas                       51440 non-null  float64 \n",
      " 32  cl                         51440 non-null  float64 \n",
      " 33  cm                         51440 non-null  float64 \n",
      " 34  ch                         51440 non-null  float64 \n",
      " 35  pres                       51440 non-null  int64   \n",
      " 36  tend24                     51440 non-null  float64 \n",
      " 37  raf10                      51440 non-null  float64 \n",
      " 38  rafper                     51440 non-null  float64 \n",
      " 39  etat_sol                   51440 non-null  float64 \n",
      " 40  ht_neige                   51440 non-null  float64 \n",
      " 41  ssfrai                     51440 non-null  float64 \n",
      " 42  rr1                        51440 non-null  float64 \n",
      " 43  rr3                        51440 non-null  float64 \n",
      " 44  rr6                        51440 non-null  float64 \n",
      " 45  rr12                       51440 non-null  float64 \n",
      " 46  rr24                       51440 non-null  float64 \n",
      " 47  nnuage1                    51440 non-null  float64 \n",
      " 48  ctype1                     51440 non-null  float64 \n",
      " 49  hnuage1                    51440 non-null  float64 \n",
      " 50  temp_humidity_interaction  51440 non-null  float64 \n",
      " 51  t_lag6h                    51440 non-null  float64 \n",
      " 52  t_lag9h                    51440 non-null  float64 \n",
      " 53  t_lag12h                   51440 non-null  float64 \n",
      " 54  t_lag24h                   51440 non-null  float64 \n",
      " 55  t_lag168h                  51440 non-null  float64 \n",
      " 56  td_lag6h                   51440 non-null  float64 \n",
      " 57  td_lag9h                   51440 non-null  float64 \n",
      " 58  td_lag12h                  51440 non-null  float64 \n",
      " 59  td_lag24h                  51440 non-null  float64 \n",
      " 60  td_lag168h                 51440 non-null  float64 \n",
      " 61  u_lag6h                    51440 non-null  float64 \n",
      " 62  u_lag9h                    51440 non-null  float64 \n",
      " 63  u_lag12h                   51440 non-null  float64 \n",
      " 64  u_lag24h                   51440 non-null  float64 \n",
      " 65  u_lag168h                  51440 non-null  float64 \n",
      " 66  ww_lag6h                   51440 non-null  float64 \n",
      " 67  ww_lag9h                   51440 non-null  float64 \n",
      " 68  ww_lag12h                  51440 non-null  float64 \n",
      " 69  ww_lag24h                  51440 non-null  float64 \n",
      " 70  ww_lag168h                 51440 non-null  float64 \n",
      " 71  n_lag6h                    51440 non-null  float64 \n",
      " 72  n_lag9h                    51440 non-null  float64 \n",
      " 73  n_lag12h                   51440 non-null  float64 \n",
      " 74  n_lag24h                   51440 non-null  float64 \n",
      " 75  n_lag168h                  51440 non-null  float64 \n",
      " 76  tend24_lag6h               51440 non-null  float64 \n",
      " 77  tend24_lag9h               51440 non-null  float64 \n",
      " 78  tend24_lag12h              51440 non-null  float64 \n",
      " 79  tend24_lag24h              51440 non-null  float64 \n",
      " 80  tend24_lag168h             51440 non-null  float64 \n",
      " 81  etat_sol_lag6h             51440 non-null  float64 \n",
      " 82  etat_sol_lag9h             51440 non-null  float64 \n",
      " 83  etat_sol_lag12h            51440 non-null  float64 \n",
      " 84  etat_sol_lag24h            51440 non-null  float64 \n",
      " 85  etat_sol_lag168h           51440 non-null  float64 \n",
      " 86  rr12_lag6h                 51440 non-null  float64 \n",
      " 87  rr12_lag9h                 51440 non-null  float64 \n",
      " 88  rr12_lag12h                51440 non-null  float64 \n",
      " 89  rr12_lag24h                51440 non-null  float64 \n",
      " 90  rr12_lag168h               51440 non-null  float64 \n",
      "dtypes: category(1), float64(70), int32(12), int64(8)\n",
      "memory usage: 33.4 MB\n"
     ]
    }
   ],
   "source": [
    "combined_prediction.info()"
   ]
  },
  {
   "cell_type": "code",
   "execution_count": 26,
   "metadata": {},
   "outputs": [
    {
     "data": {
      "text/plain": [
       "Index(['counter_name', 'log_bike_count', 'hour', 'dayofweek', 'quarter',\n",
       "       'month', 'dayofyear', 'is_weekend', 'hour_sin', 'hour_cos',\n",
       "       'dayofweek_sin', 'dayofweek_cos', 'is_holiday', 'lockdown_1',\n",
       "       'lockdown_2', 'lockdown_3_1', 'lockdown_3_2', 'lockdown_3_3', 'pmer',\n",
       "       'tend', 'cod_tend', 'dd', 'ff', 't', 'td', 'u', 'vv', 'ww', 'w1', 'w2',\n",
       "       'n', 'nbas', 'hbas', 'cl', 'cm', 'ch', 'pres', 'tend24', 'raf10',\n",
       "       'rafper', 'etat_sol', 'ht_neige', 'ssfrai', 'rr1', 'rr3', 'rr6', 'rr12',\n",
       "       'rr24', 'nnuage1', 'ctype1', 'hnuage1', 'temp_humidity_interaction',\n",
       "       't_lag6h', 't_lag9h', 't_lag12h', 't_lag24h', 't_lag168h', 'td_lag6h',\n",
       "       'td_lag9h', 'td_lag12h', 'td_lag24h', 'td_lag168h', 'u_lag6h',\n",
       "       'u_lag9h', 'u_lag12h', 'u_lag24h', 'u_lag168h', 'ww_lag6h', 'ww_lag9h',\n",
       "       'ww_lag12h', 'ww_lag24h', 'ww_lag168h', 'n_lag6h', 'n_lag9h',\n",
       "       'n_lag12h', 'n_lag24h', 'n_lag168h', 'tend24_lag6h', 'tend24_lag9h',\n",
       "       'tend24_lag12h', 'tend24_lag24h', 'tend24_lag168h', 'etat_sol_lag6h',\n",
       "       'etat_sol_lag9h', 'etat_sol_lag12h', 'etat_sol_lag24h',\n",
       "       'etat_sol_lag168h', 'rr12_lag6h', 'rr12_lag9h', 'rr12_lag12h',\n",
       "       'rr12_lag24h', 'rr12_lag168h'],\n",
       "      dtype='object')"
      ]
     },
     "execution_count": 26,
     "metadata": {},
     "output_type": "execute_result"
    }
   ],
   "source": [
    "combined_train.columns"
   ]
  },
  {
   "cell_type": "code",
   "execution_count": null,
   "metadata": {},
   "outputs": [],
   "source": [
    "features = [\n",
    "    \"counter_name\",\n",
    "    \"hour\",\n",
    "    \"dayofweek\",\n",
    "    \"quarter\",\n",
    "    \"month\",\n",
    "    \"dayofyear\",\n",
    "    \"is_weekend\",\n",
    "    \"hour_sin\",\n",
    "    \"hour_cos\",\n",
    "    \"dayofweek_sin\",\n",
    "    \"dayofweek_cos\",\n",
    "    \"is_holiday\",\n",
    "    \"lockdown_1\",\n",
    "    \"lockdown_2\",\n",
    "    \"lockdown_3_1\",\n",
    "    \"lockdown_3_2\",\n",
    "    \"lockdown_3_3\",\n",
    "    \"pmer\",\n",
    "    \"tend\",\n",
    "    \"cod_tend\",\n",
    "    \"dd\",\n",
    "    \"ff\",\n",
    "    \"t\",\n",
    "    \"td\",\n",
    "    \"u\",\n",
    "    \"vv\",\n",
    "    \"ww\",\n",
    "    \"w1\",\n",
    "    \"w2\",\n",
    "    \"n\",\n",
    "    \"nbas\",\n",
    "    \"hbas\",\n",
    "    \"cl\",\n",
    "    \"cm\",\n",
    "    \"ch\",\n",
    "    \"pres\",\n",
    "    \"tend24\",\n",
    "    \"raf10\",\n",
    "    \"rafper\",\n",
    "    \"etat_sol\",\n",
    "    \"ht_neige\",\n",
    "    \"ssfrai\",\n",
    "    \"rr1\",\n",
    "    \"rr3\",\n",
    "    \"rr6\",\n",
    "    \"rr12\",\n",
    "    \"rr24\",\n",
    "    \"nnuage1\",\n",
    "    \"ctype1\",\n",
    "    \"hnuage1\",\n",
    "]\n",
    "target = [\"log_bike_count\"]\n",
    "cat_feature = [\"counter_name\"]"
   ]
  },
  {
   "cell_type": "code",
   "execution_count": null,
   "metadata": {},
   "outputs": [],
   "source": [
    "X_train = combined_train[features]\n",
    "y_train = combined_train[target]\n",
    "X_test = combined_test[features]\n",
    "y_test = combined_test[target]"
   ]
  },
  {
   "cell_type": "code",
   "execution_count": null,
   "metadata": {},
   "outputs": [],
   "source": [
    "reg = xgb.XGBRegressor(tree_method=\"hist\", n_estimators=1000, enable_categorical=True)"
   ]
  },
  {
   "cell_type": "code",
   "execution_count": null,
   "metadata": {},
   "outputs": [],
   "source": [
    "reg.fit(\n",
    "    X_train,\n",
    "    y_train,\n",
    "    eval_set=[(X_train, y_train), (X_test, y_test)],\n",
    "    early_stopping_rounds=10,\n",
    "    verbose=10,\n",
    ")"
   ]
  },
  {
   "cell_type": "code",
   "execution_count": null,
   "metadata": {},
   "outputs": [],
   "source": [
    "y_hat_xgb = reg.predict(X_train)\n",
    "rmse_xgb_train = mean_squared_error(y_train, y_hat_xgb, squared=False)\n",
    "print(\"XGB Train:\", rmse_xgb_train)\n",
    "\n",
    "y_pred_xgb = reg.predict(X_test)\n",
    "rmse_xgb_test = mean_squared_error(y_test, y_pred_xgb, squared=False)\n",
    "print(\"XGB Test:\", rmse_xgb_test)"
   ]
  },
  {
   "cell_type": "code",
   "execution_count": null,
   "metadata": {},
   "outputs": [],
   "source": [
    "fi = pd.DataFrame(\n",
    "    data=reg.feature_importances_, index=reg.feature_names_in_, columns=[\n",
    "        \"Importance\"]\n",
    ")\n",
    "\n",
    "fi.sort_values(by=\"Importance\").plot(\n",
    "    kind=\"barh\", title=\"Feature Importances XGBoost\", figsize=(10, 16)\n",
    ")"
   ]
  },
  {
   "cell_type": "code",
   "execution_count": null,
   "metadata": {},
   "outputs": [],
   "source": [
    "fi.sort_values(by=\"Importance\", ascending=False)"
   ]
  },
  {
   "cell_type": "code",
   "execution_count": null,
   "metadata": {},
   "outputs": [],
   "source": [
    "cat_reg = cat.CatBoostRegressor(n_estimators=1000, cat_features=cat_feature)\n",
    "cat_reg.fit(\n",
    "    X_train,\n",
    "    y_train,\n",
    "    eval_set=[(X_train, y_train), (X_test, y_test)],\n",
    "    early_stopping_rounds=10,\n",
    "    verbose=10,\n",
    ")"
   ]
  },
  {
   "cell_type": "code",
   "execution_count": null,
   "metadata": {},
   "outputs": [],
   "source": [
    "y_hat_cat = cat_reg.predict(X_train)\n",
    "rmse_cat_train = mean_squared_error(y_train, y_hat_cat, squared=False)\n",
    "print(\"CAT Train:\", rmse_cat_train)\n",
    "\n",
    "y_test_cat = cat_reg.predict(X_test)\n",
    "rmse_cat_test = mean_squared_error(y_test, y_test_cat, squared=False)\n",
    "print(\"CAT Test:\", rmse_cat_test)"
   ]
  },
  {
   "cell_type": "code",
   "execution_count": null,
   "metadata": {},
   "outputs": [],
   "source": [
    "features = [\n",
    "    \"counter_name\",\n",
    "    \"hour\",\n",
    "    \"dayofweek\",\n",
    "    \"quarter\",\n",
    "    \"month\",\n",
    "    \"dayofyear\",\n",
    "    \"hour_sin\",\n",
    "    \"hour_cos\",\n",
    "    \"dayofweek_sin\",\n",
    "    \"dayofweek_cos\",\n",
    "    \"lockdown_2\",\n",
    "    \"lockdown_3_1\",\n",
    "    \"lockdown_3_2\",\n",
    "    \"lockdown_3_3\",\n",
    "    \"pmer\",\n",
    "    \"tend\",\n",
    "    \"cod_tend\",\n",
    "    \"dd\",\n",
    "    \"ff\",\n",
    "    \"t\",\n",
    "    \"td\",\n",
    "    \"u\",\n",
    "    \"vv\",\n",
    "    \"ww\",\n",
    "    \"w1\",\n",
    "    \"n\",\n",
    "    \"nbas\",\n",
    "    \"hbas\",\n",
    "    \"cl\",\n",
    "    \"cm\",\n",
    "    \"ch\",\n",
    "    \"pres\",\n",
    "    \"tend24\",\n",
    "    \"raf10\",\n",
    "    \"rafper\",\n",
    "    \"etat_sol\",\n",
    "    \"ht_neige\",\n",
    "    \"rr1\",\n",
    "    \"rr3\",\n",
    "    \"rr6\",\n",
    "    \"rr12\",\n",
    "    \"rr24\",\n",
    "    \"nnuage1\",\n",
    "    \"ctype1\",\n",
    "    \"hnuage1\",\n",
    "]\n",
    "target = [\"log_bike_count\"]\n",
    "cat_feature = [\"counter_name\"]"
   ]
  },
  {
   "cell_type": "code",
   "execution_count": null,
   "metadata": {},
   "outputs": [],
   "source": [
    "X_train = combined_train[features]\n",
    "y_train = combined_train[target]\n",
    "X_test = combined_test[features]\n",
    "y_test = combined_test[target]"
   ]
  },
  {
   "cell_type": "code",
   "execution_count": null,
   "metadata": {},
   "outputs": [],
   "source": [
    "combined_train.info()"
   ]
  },
  {
   "cell_type": "code",
   "execution_count": null,
   "metadata": {},
   "outputs": [],
   "source": [
    "reg = xgb.XGBRegressor(tree_method=\"hist\", n_estimators=1000, enable_categorical=True)\n",
    "\n",
    "\n",
    "reg.fit(\n",
    "    X_train,\n",
    "    y_train,\n",
    "    eval_set=[(X_train, y_train), (X_test, y_test)],\n",
    "    early_stopping_rounds=10,\n",
    "    verbose=10,\n",
    ")"
   ]
  },
  {
   "cell_type": "code",
   "execution_count": null,
   "metadata": {},
   "outputs": [],
   "source": [
    "y_hat_xgb = reg.predict(X_train)\n",
    "rmse_xgb_train = mean_squared_error(y_train, y_hat_xgb, squared=False)\n",
    "print(\"XGB Train:\", rmse_xgb_train)\n",
    "\n",
    "y_pred_xgb = reg.predict(X_test)\n",
    "rmse_xgb_test = mean_squared_error(y_test, y_pred_xgb, squared=False)\n",
    "print(\"XGB Test:\", rmse_xgb_test)"
   ]
  },
  {
   "cell_type": "code",
   "execution_count": null,
   "metadata": {},
   "outputs": [],
   "source": [
    "fi = pd.DataFrame(\n",
    "    data=reg.feature_importances_, index=reg.feature_names_in_, columns=[\n",
    "        \"Importance\"]\n",
    ")\n",
    "\n",
    "fi.sort_values(by=\"Importance\").plot(\n",
    "    kind=\"barh\", title=\"Feature Importances XGBoost\", figsize=(10, 16)\n",
    ")"
   ]
  },
  {
   "cell_type": "code",
   "execution_count": null,
   "metadata": {},
   "outputs": [],
   "source": [
    "fi.sort_values(by=\"Importance\", ascending=False)"
   ]
  },
  {
   "cell_type": "code",
   "execution_count": null,
   "metadata": {},
   "outputs": [],
   "source": [
    "cat_reg = cat.CatBoostRegressor(n_estimators=1000, cat_features=cat_feature)\n",
    "cat_reg.fit(\n",
    "    X_train,\n",
    "    y_train,\n",
    "    eval_set=[(X_train, y_train), (X_test, y_test)],\n",
    "    early_stopping_rounds=10,\n",
    "    verbose=10,\n",
    ")"
   ]
  },
  {
   "cell_type": "code",
   "execution_count": null,
   "metadata": {},
   "outputs": [],
   "source": [
    "y_hat_cat = cat_reg.predict(X_train)\n",
    "rmse_cat_train = mean_squared_error(y_train, y_hat_cat, squared=False)\n",
    "print(\"CAT Train:\", rmse_cat_train)\n",
    "\n",
    "y_test_cat = cat_reg.predict(X_test)\n",
    "rmse_cat_test = mean_squared_error(y_test, y_test_cat, squared=False)\n",
    "print(\"CAT Test:\", rmse_cat_test)"
   ]
  },
  {
   "cell_type": "code",
   "execution_count": null,
   "metadata": {},
   "outputs": [],
   "source": [
    "X_train.shape"
   ]
  },
  {
   "cell_type": "code",
   "execution_count": null,
   "metadata": {},
   "outputs": [],
   "source": [
    "d_train = lgb.Dataset(X_train, label=y_train, categorical_feature=cat_feature)"
   ]
  },
  {
   "cell_type": "code",
   "execution_count": null,
   "metadata": {},
   "outputs": [],
   "source": [
    "params = {\n",
    "    \"boosting_type\": \"gbdt\",  # Gradient boosting\n",
    "    \"objective\": \"regression\",  # Task is regression\n",
    "    \"metric\": {\"l2\", \"l1\"},  # Evaluation metrics\n",
    "    \"num_leaves\": 31,  # Number of leaves in full tree\n",
    "    \"learning_rate\": 0.05,  # Learning rate\n",
    "    \"feature_fraction\": 0.9,  # Fraction of features to be used in each iteration\n",
    "    \"bagging_fraction\": 0.8,  # Fraction of data to be used in each iteration\n",
    "    \"bagging_freq\": 5,  # Frequency for bagging\n",
    "    \"verbose\": 10,  # Verbosity of output\n",
    "}"
   ]
  },
  {
   "cell_type": "code",
   "execution_count": null,
   "metadata": {},
   "outputs": [],
   "source": [
    "lgbm = lgb.train(params, d_train, num_boost_round=100)"
   ]
  },
  {
   "cell_type": "code",
   "execution_count": null,
   "metadata": {},
   "outputs": [],
   "source": [
    "y_pred_lgbm = lgbm.predict(X_test)\n",
    "\n",
    "\n",
    "rmse_lgbm = mean_squared_error(y_test, y_pred_lgbm, squared=False)\n",
    "print(\"LightGBM Test:\", rmse_lgbm)"
   ]
  },
  {
   "cell_type": "code",
   "execution_count": null,
   "metadata": {},
   "outputs": [],
   "source": [
    "def objective_xgb(trial):\n",
    "    # Hyperparameter search space\n",
    "    params = {\n",
    "        \"tree_method\": \"hist\",\n",
    "        \"lambda\": trial.suggest_loguniform(\"lambda\", 1e-8, 10.0),\n",
    "        \"alpha\": trial.suggest_loguniform(\"alpha\", 1e-8, 10.0),\n",
    "        \"colsample_bytree\": trial.suggest_uniform(\"colsample_bytree\", 0.3, 1.0),\n",
    "        \"subsample\": trial.suggest_uniform(\"subsample\", 0.6, 1.0),\n",
    "        \"learning_rate\": trial.suggest_loguniform(\"learning_rate\", 1e-4, 0.1),\n",
    "        \"max_depth\": trial.suggest_int(\"max_depth\", 3, 10),\n",
    "        \"min_child_weight\": trial.suggest_int(\"min_child_weight\", 1, 300),\n",
    "    }\n",
    "\n",
    "    # Time Series Cross-Validation\n",
    "    tscv = TimeSeriesSplit(n_splits=5)\n",
    "\n",
    "    rmse_scores = []  # Store RMSE scores for each fold\n",
    "\n",
    "    for train_index, val_index in tscv.split(X_train):\n",
    "        X_train_cv, X_val = X_train.iloc[train_index], X_train.iloc[val_index]\n",
    "        y_train_cv, y_val = y_train.iloc[train_index], y_train.iloc[val_index]\n",
    "\n",
    "        model = xgb.XGBRegressor(**params, enable_categorical=True)\n",
    "        model.fit(\n",
    "            X_train_cv,\n",
    "            y_train_cv,\n",
    "            eval_set=[(X_val, y_val)],\n",
    "            early_stopping_rounds=10,\n",
    "            verbose=False,\n",
    "        )\n",
    "\n",
    "        y_pred = model.predict(X_val)\n",
    "        rmse = mean_squared_error(y_val, y_pred, squared=False)\n",
    "        rmse_scores.append(rmse)\n",
    "\n",
    "    # Calculate the average RMSE over all folds\n",
    "    avg_rmse = np.mean(rmse_scores)\n",
    "\n",
    "    return avg_rmse"
   ]
  },
  {
   "cell_type": "code",
   "execution_count": null,
   "metadata": {},
   "outputs": [],
   "source": [
    "study_xgb = optuna.create_study(direction=\"minimize\")\n",
    "study_xgb.optimize(objective_xgb, n_trials=100)"
   ]
  },
  {
   "cell_type": "code",
   "execution_count": null,
   "metadata": {},
   "outputs": [],
   "source": [
    "best_params = study_xgb.best_params\n",
    "print(\"Best Hyperparameters:\", best_params)"
   ]
  },
  {
   "cell_type": "code",
   "execution_count": null,
   "metadata": {},
   "outputs": [],
   "source": [
    "best_params = {\n",
    "    \"lambda\": 5.5163638658795495,\n",
    "    \"alpha\": 5.722067076221477e-06,\n",
    "    \"colsample_bytree\": 0.5588623654042607,\n",
    "    \"subsample\": 0.7939924932498187,\n",
    "    \"learning_rate\": 0.08132063380230384,\n",
    "    \"max_depth\": 10,\n",
    "    \"min_child_weight\": 132,\n",
    "}"
   ]
  },
  {
   "cell_type": "code",
   "execution_count": null,
   "metadata": {},
   "outputs": [],
   "source": [
    "final_model = xgb.XGBRegressor(\n",
    "    tree_method=\"hist\", **best_params, enable_categorical=True\n",
    ")\n",
    "final_model.fit(\n",
    "    X_train,\n",
    "    y_train,\n",
    "    eval_set=[(X_test, y_test)],\n",
    "    early_stopping_rounds=10,\n",
    "    verbose=10,\n",
    ")"
   ]
  },
  {
   "cell_type": "code",
   "execution_count": null,
   "metadata": {},
   "outputs": [],
   "source": [
    "y_pred_test = final_model.predict(X_test)\n",
    "rmse_test = mean_squared_error(y_test, y_pred_test, squared=False)\n",
    "print(\"Final Model Test RMSE:\", rmse_test)"
   ]
  },
  {
   "cell_type": "code",
   "execution_count": null,
   "metadata": {},
   "outputs": [],
   "source": [
    "y_pred_train = final_model.predict(X_train)\n",
    "rmse_train = mean_squared_error(y_train, y_pred_train, squared=False)\n",
    "print(\"Final Model  Train RMSE:\", rmse_train)"
   ]
  },
  {
   "cell_type": "code",
   "execution_count": null,
   "metadata": {},
   "outputs": [],
   "source": [
    "correlation = combined_train[features + target].corr()\n",
    "plt.figure(figsize=(50, 50))\n",
    "sns.heatmap(correlation, annot=True)"
   ]
  },
  {
   "cell_type": "code",
   "execution_count": null,
   "metadata": {},
   "outputs": [],
   "source": [
    "rfecv = RFECV(estimator=final_model, step=1, cv=5, scoring=\"neg_mean_squared_error\")"
   ]
  },
  {
   "cell_type": "code",
   "execution_count": null,
   "metadata": {},
   "outputs": [],
   "source": [
    "rfecv.fit(X_train, y_train)"
   ]
  },
  {
   "cell_type": "code",
   "execution_count": null,
   "metadata": {},
   "outputs": [],
   "source": [
    "X_train_encoded = pd.get_dummies(X_train, columns=cat_feature)\n",
    "X_test_encoded = pd.get_dummies(X_test, columns=cat_feature)"
   ]
  },
  {
   "cell_type": "code",
   "execution_count": null,
   "metadata": {},
   "outputs": [],
   "source": [
    "final_model = xgb.XGBRegressor(\n",
    "    tree_method=\"hist\", **best_params, enable_categorical=True\n",
    ")"
   ]
  },
  {
   "cell_type": "code",
   "execution_count": null,
   "metadata": {},
   "outputs": [],
   "source": [
    "rfecv = RFECV(estimator=final_model, step=1, cv=5, scoring=\"neg_mean_squared_error\")"
   ]
  },
  {
   "cell_type": "code",
   "execution_count": null,
   "metadata": {},
   "outputs": [],
   "source": [
    "rfecv.fit(X_train_encoded, y_train)"
   ]
  },
  {
   "cell_type": "code",
   "execution_count": null,
   "metadata": {},
   "outputs": [],
   "source": [
    "optimal_features = X_train_encoded.columns[rfecv.support_]"
   ]
  },
  {
   "cell_type": "code",
   "execution_count": null,
   "metadata": {},
   "outputs": [],
   "source": [
    "optimal_features"
   ]
  },
  {
   "cell_type": "code",
   "execution_count": null,
   "metadata": {},
   "outputs": [],
   "source": [
    "features = [\n",
    "    \"counter_name\",\n",
    "    \"hour\",\n",
    "    \"dayofweek\",\n",
    "    \"quarter\",\n",
    "    \"month\",\n",
    "    \"dayofyear\",\n",
    "    \"hour_sin\",\n",
    "    \"hour_cos\",\n",
    "    \"dayofweek_sin\",\n",
    "    \"dayofweek_cos\",\n",
    "    \"lockdown_2\",\n",
    "    \"lockdown_3_1\",\n",
    "    \"lockdown_3_2\",\n",
    "    \"lockdown_3_3\",\n",
    "    \"tend\",\n",
    "    \"t\",\n",
    "    \"td\",\n",
    "    \"u\",\n",
    "    \"ww\",\n",
    "    \"n\",\n",
    "    \"tend24\",\n",
    "    \"etat_sol\",\n",
    "    \"rr12\",\n",
    "    \"ctype1\",\n",
    "    \"hnuage1\",\n",
    "]\n",
    "target = [\"log_bike_count\"]\n",
    "cat_feature = [\"counter_name\"]"
   ]
  },
  {
   "cell_type": "code",
   "execution_count": null,
   "metadata": {},
   "outputs": [],
   "source": [
    "X_train = combined_train[features]\n",
    "y_train = combined_train[target]\n",
    "X_test = combined_test[features]\n",
    "y_test = combined_test[target]"
   ]
  },
  {
   "cell_type": "code",
   "execution_count": null,
   "metadata": {},
   "outputs": [],
   "source": [
    "final_model = xgb.XGBRegressor(\n",
    "    tree_method=\"hist\", **best_params, enable_categorical=True\n",
    ")\n",
    "final_model.fit(\n",
    "    X_train,\n",
    "    y_train,\n",
    "    eval_set=[(X_test, y_test)],\n",
    "    early_stopping_rounds=10,\n",
    "    verbose=10,\n",
    ")"
   ]
  },
  {
   "cell_type": "code",
   "execution_count": null,
   "metadata": {},
   "outputs": [],
   "source": [
    "y_pred_train = final_model.predict(X_train)\n",
    "rmse_train = mean_squared_error(y_train, y_pred_train, squared=False)\n",
    "print(\"Final Model  Train RMSE:\", rmse_train)\n",
    "\n",
    "y_pred_test = final_model.predict(X_test)\n",
    "rmse_test = mean_squared_error(y_test, y_pred_test, squared=False)\n",
    "print(\"Final Model Test RMSE:\", rmse_test)"
   ]
  },
  {
   "cell_type": "markdown",
   "metadata": {},
   "source": [
    "# Interactions"
   ]
  },
  {
   "cell_type": "code",
   "execution_count": 27,
   "metadata": {},
   "outputs": [],
   "source": [
    "combined_train[\"temp_hour_interaction\"] = combined_train[\"t\"] * combined_train[\"hour\"]\n",
    "\n",
    "\n",
    "combined_train[\"humidity_day_interaction\"] = (\n",
    "    combined_train[\"u\"] * combined_train[\"dayofweek\"]\n",
    ")"
   ]
  },
  {
   "cell_type": "code",
   "execution_count": 28,
   "metadata": {},
   "outputs": [],
   "source": [
    "combined_test[\"temp_hour_interaction\"] = combined_test[\"t\"] * combined_test[\"hour\"]\n",
    "\n",
    "\n",
    "combined_test[\"humidity_day_interaction\"] = (\n",
    "    combined_test[\"u\"] * combined_test[\"dayofweek\"]\n",
    ")"
   ]
  },
  {
   "cell_type": "code",
   "execution_count": 29,
   "metadata": {},
   "outputs": [],
   "source": [
    "combined_prediction[\"temp_hour_interaction\"] = (\n",
    "    combined_prediction[\"t\"] * combined_prediction[\"hour\"]\n",
    ")\n",
    "\n",
    "\n",
    "combined_prediction[\"humidity_day_interaction\"] = (\n",
    "    combined_prediction[\"u\"] * combined_prediction[\"dayofweek\"]\n",
    ")"
   ]
  },
  {
   "cell_type": "code",
   "execution_count": 30,
   "metadata": {},
   "outputs": [
    {
     "name": "stdout",
     "output_type": "stream",
     "text": [
      "<class 'pandas.core.frame.DataFrame'>\n",
      "DatetimeIndex: 455163 entries, 2020-09-01 01:00:00 to 2021-08-09 23:00:00\n",
      "Data columns (total 94 columns):\n",
      " #   Column                     Non-Null Count   Dtype   \n",
      "---  ------                     --------------   -----   \n",
      " 0   counter_name               455163 non-null  category\n",
      " 1   log_bike_count             455163 non-null  float64 \n",
      " 2   hour                       455163 non-null  int32   \n",
      " 3   dayofweek                  455163 non-null  int32   \n",
      " 4   quarter                    455163 non-null  int32   \n",
      " 5   month                      455163 non-null  int32   \n",
      " 6   dayofyear                  455163 non-null  int32   \n",
      " 7   is_weekend                 455163 non-null  int32   \n",
      " 8   hour_sin                   455163 non-null  float64 \n",
      " 9   hour_cos                   455163 non-null  float64 \n",
      " 10  dayofweek_sin              455163 non-null  float64 \n",
      " 11  dayofweek_cos              455163 non-null  float64 \n",
      " 12  is_holiday                 455163 non-null  int32   \n",
      " 13  lockdown_1                 455163 non-null  int32   \n",
      " 14  lockdown_2                 455163 non-null  int32   \n",
      " 15  lockdown_3_1               455163 non-null  int32   \n",
      " 16  lockdown_3_2               455163 non-null  int32   \n",
      " 17  lockdown_3_3               455163 non-null  int32   \n",
      " 18  pmer                       455163 non-null  int64   \n",
      " 19  tend                       455163 non-null  int64   \n",
      " 20  cod_tend                   455163 non-null  int64   \n",
      " 21  dd                         455163 non-null  int64   \n",
      " 22  ff                         455163 non-null  float64 \n",
      " 23  t                          455163 non-null  float64 \n",
      " 24  td                         455163 non-null  float64 \n",
      " 25  u                          455163 non-null  int64   \n",
      " 26  vv                         455163 non-null  int64   \n",
      " 27  ww                         455163 non-null  int64   \n",
      " 28  w1                         455163 non-null  float64 \n",
      " 29  w2                         455163 non-null  float64 \n",
      " 30  n                          455163 non-null  float64 \n",
      " 31  nbas                       455163 non-null  float64 \n",
      " 32  hbas                       455163 non-null  float64 \n",
      " 33  cl                         455163 non-null  float64 \n",
      " 34  cm                         455163 non-null  float64 \n",
      " 35  ch                         455163 non-null  float64 \n",
      " 36  pres                       455163 non-null  int64   \n",
      " 37  tend24                     455163 non-null  float64 \n",
      " 38  raf10                      455163 non-null  float64 \n",
      " 39  rafper                     455163 non-null  float64 \n",
      " 40  etat_sol                   455163 non-null  float64 \n",
      " 41  ht_neige                   455163 non-null  float64 \n",
      " 42  ssfrai                     455163 non-null  float64 \n",
      " 43  rr1                        455163 non-null  float64 \n",
      " 44  rr3                        455163 non-null  float64 \n",
      " 45  rr6                        455163 non-null  float64 \n",
      " 46  rr12                       455163 non-null  float64 \n",
      " 47  rr24                       455163 non-null  float64 \n",
      " 48  nnuage1                    455163 non-null  float64 \n",
      " 49  ctype1                     455163 non-null  float64 \n",
      " 50  hnuage1                    455163 non-null  float64 \n",
      " 51  temp_humidity_interaction  455163 non-null  float64 \n",
      " 52  t_lag6h                    455163 non-null  float64 \n",
      " 53  t_lag9h                    455163 non-null  float64 \n",
      " 54  t_lag12h                   455163 non-null  float64 \n",
      " 55  t_lag24h                   455163 non-null  float64 \n",
      " 56  t_lag168h                  455163 non-null  float64 \n",
      " 57  td_lag6h                   455163 non-null  float64 \n",
      " 58  td_lag9h                   455163 non-null  float64 \n",
      " 59  td_lag12h                  455163 non-null  float64 \n",
      " 60  td_lag24h                  455163 non-null  float64 \n",
      " 61  td_lag168h                 455163 non-null  float64 \n",
      " 62  u_lag6h                    455163 non-null  float64 \n",
      " 63  u_lag9h                    455163 non-null  float64 \n",
      " 64  u_lag12h                   455163 non-null  float64 \n",
      " 65  u_lag24h                   455163 non-null  float64 \n",
      " 66  u_lag168h                  455163 non-null  float64 \n",
      " 67  ww_lag6h                   455163 non-null  float64 \n",
      " 68  ww_lag9h                   455163 non-null  float64 \n",
      " 69  ww_lag12h                  455163 non-null  float64 \n",
      " 70  ww_lag24h                  455163 non-null  float64 \n",
      " 71  ww_lag168h                 455163 non-null  float64 \n",
      " 72  n_lag6h                    455163 non-null  float64 \n",
      " 73  n_lag9h                    455163 non-null  float64 \n",
      " 74  n_lag12h                   455163 non-null  float64 \n",
      " 75  n_lag24h                   455163 non-null  float64 \n",
      " 76  n_lag168h                  455163 non-null  float64 \n",
      " 77  tend24_lag6h               455163 non-null  float64 \n",
      " 78  tend24_lag9h               455163 non-null  float64 \n",
      " 79  tend24_lag12h              455163 non-null  float64 \n",
      " 80  tend24_lag24h              455163 non-null  float64 \n",
      " 81  tend24_lag168h             455163 non-null  float64 \n",
      " 82  etat_sol_lag6h             455163 non-null  float64 \n",
      " 83  etat_sol_lag9h             455163 non-null  float64 \n",
      " 84  etat_sol_lag12h            455163 non-null  float64 \n",
      " 85  etat_sol_lag24h            455163 non-null  float64 \n",
      " 86  etat_sol_lag168h           455163 non-null  float64 \n",
      " 87  rr12_lag6h                 455163 non-null  float64 \n",
      " 88  rr12_lag9h                 455163 non-null  float64 \n",
      " 89  rr12_lag12h                455163 non-null  float64 \n",
      " 90  rr12_lag24h                455163 non-null  float64 \n",
      " 91  rr12_lag168h               455163 non-null  float64 \n",
      " 92  temp_hour_interaction      455163 non-null  float64 \n",
      " 93  humidity_day_interaction   455163 non-null  int64   \n",
      "dtypes: category(1), float64(72), int32(12), int64(9)\n",
      "memory usage: 306.0 MB\n"
     ]
    }
   ],
   "source": [
    "combined_train.info()"
   ]
  },
  {
   "cell_type": "code",
   "execution_count": 31,
   "metadata": {},
   "outputs": [
    {
     "data": {
      "text/html": [
       "<div>\n",
       "<style scoped>\n",
       "    .dataframe tbody tr th:only-of-type {\n",
       "        vertical-align: middle;\n",
       "    }\n",
       "\n",
       "    .dataframe tbody tr th {\n",
       "        vertical-align: top;\n",
       "    }\n",
       "\n",
       "    .dataframe thead th {\n",
       "        text-align: right;\n",
       "    }\n",
       "</style>\n",
       "<table border=\"1\" class=\"dataframe\">\n",
       "  <thead>\n",
       "    <tr style=\"text-align: right;\">\n",
       "      <th></th>\n",
       "      <th>counter_name</th>\n",
       "      <th>log_bike_count</th>\n",
       "      <th>hour</th>\n",
       "      <th>dayofweek</th>\n",
       "      <th>quarter</th>\n",
       "      <th>month</th>\n",
       "      <th>dayofyear</th>\n",
       "      <th>is_weekend</th>\n",
       "      <th>hour_sin</th>\n",
       "      <th>hour_cos</th>\n",
       "      <th>...</th>\n",
       "      <th>etat_sol_lag12h</th>\n",
       "      <th>etat_sol_lag24h</th>\n",
       "      <th>etat_sol_lag168h</th>\n",
       "      <th>rr12_lag6h</th>\n",
       "      <th>rr12_lag9h</th>\n",
       "      <th>rr12_lag12h</th>\n",
       "      <th>rr12_lag24h</th>\n",
       "      <th>rr12_lag168h</th>\n",
       "      <th>temp_hour_interaction</th>\n",
       "      <th>humidity_day_interaction</th>\n",
       "    </tr>\n",
       "    <tr>\n",
       "      <th>date</th>\n",
       "      <th></th>\n",
       "      <th></th>\n",
       "      <th></th>\n",
       "      <th></th>\n",
       "      <th></th>\n",
       "      <th></th>\n",
       "      <th></th>\n",
       "      <th></th>\n",
       "      <th></th>\n",
       "      <th></th>\n",
       "      <th></th>\n",
       "      <th></th>\n",
       "      <th></th>\n",
       "      <th></th>\n",
       "      <th></th>\n",
       "      <th></th>\n",
       "      <th></th>\n",
       "      <th></th>\n",
       "      <th></th>\n",
       "      <th></th>\n",
       "      <th></th>\n",
       "    </tr>\n",
       "  </thead>\n",
       "  <tbody>\n",
       "    <tr>\n",
       "      <th>2020-09-01 01:00:00</th>\n",
       "      <td>28 boulevard Diderot E-O</td>\n",
       "      <td>0.000000</td>\n",
       "      <td>1</td>\n",
       "      <td>1</td>\n",
       "      <td>3</td>\n",
       "      <td>9</td>\n",
       "      <td>245</td>\n",
       "      <td>0</td>\n",
       "      <td>0.258819</td>\n",
       "      <td>0.965926</td>\n",
       "      <td>...</td>\n",
       "      <td>0.0</td>\n",
       "      <td>0.0</td>\n",
       "      <td>0.0</td>\n",
       "      <td>0.0</td>\n",
       "      <td>0.0</td>\n",
       "      <td>0.0</td>\n",
       "      <td>0.0</td>\n",
       "      <td>0.0</td>\n",
       "      <td>285.75</td>\n",
       "      <td>81</td>\n",
       "    </tr>\n",
       "    <tr>\n",
       "      <th>2020-09-01 01:00:00</th>\n",
       "      <td>28 boulevard Diderot O-E</td>\n",
       "      <td>0.693147</td>\n",
       "      <td>1</td>\n",
       "      <td>1</td>\n",
       "      <td>3</td>\n",
       "      <td>9</td>\n",
       "      <td>245</td>\n",
       "      <td>0</td>\n",
       "      <td>0.258819</td>\n",
       "      <td>0.965926</td>\n",
       "      <td>...</td>\n",
       "      <td>0.0</td>\n",
       "      <td>0.0</td>\n",
       "      <td>0.0</td>\n",
       "      <td>0.0</td>\n",
       "      <td>0.0</td>\n",
       "      <td>0.0</td>\n",
       "      <td>0.0</td>\n",
       "      <td>0.0</td>\n",
       "      <td>285.75</td>\n",
       "      <td>81</td>\n",
       "    </tr>\n",
       "    <tr>\n",
       "      <th>2020-09-01 01:00:00</th>\n",
       "      <td>39 quai François Mauriac NO-SE</td>\n",
       "      <td>1.098612</td>\n",
       "      <td>1</td>\n",
       "      <td>1</td>\n",
       "      <td>3</td>\n",
       "      <td>9</td>\n",
       "      <td>245</td>\n",
       "      <td>0</td>\n",
       "      <td>0.258819</td>\n",
       "      <td>0.965926</td>\n",
       "      <td>...</td>\n",
       "      <td>0.0</td>\n",
       "      <td>0.0</td>\n",
       "      <td>0.0</td>\n",
       "      <td>0.0</td>\n",
       "      <td>0.0</td>\n",
       "      <td>0.0</td>\n",
       "      <td>0.0</td>\n",
       "      <td>0.0</td>\n",
       "      <td>285.75</td>\n",
       "      <td>81</td>\n",
       "    </tr>\n",
       "    <tr>\n",
       "      <th>2020-09-01 01:00:00</th>\n",
       "      <td>39 quai François Mauriac SE-NO</td>\n",
       "      <td>0.693147</td>\n",
       "      <td>1</td>\n",
       "      <td>1</td>\n",
       "      <td>3</td>\n",
       "      <td>9</td>\n",
       "      <td>245</td>\n",
       "      <td>0</td>\n",
       "      <td>0.258819</td>\n",
       "      <td>0.965926</td>\n",
       "      <td>...</td>\n",
       "      <td>0.0</td>\n",
       "      <td>0.0</td>\n",
       "      <td>0.0</td>\n",
       "      <td>0.0</td>\n",
       "      <td>0.0</td>\n",
       "      <td>0.0</td>\n",
       "      <td>0.0</td>\n",
       "      <td>0.0</td>\n",
       "      <td>285.75</td>\n",
       "      <td>81</td>\n",
       "    </tr>\n",
       "    <tr>\n",
       "      <th>2020-09-01 01:00:00</th>\n",
       "      <td>18 quai de l'Hôtel de Ville NO-SE</td>\n",
       "      <td>0.000000</td>\n",
       "      <td>1</td>\n",
       "      <td>1</td>\n",
       "      <td>3</td>\n",
       "      <td>9</td>\n",
       "      <td>245</td>\n",
       "      <td>0</td>\n",
       "      <td>0.258819</td>\n",
       "      <td>0.965926</td>\n",
       "      <td>...</td>\n",
       "      <td>0.0</td>\n",
       "      <td>0.0</td>\n",
       "      <td>0.0</td>\n",
       "      <td>0.0</td>\n",
       "      <td>0.0</td>\n",
       "      <td>0.0</td>\n",
       "      <td>0.0</td>\n",
       "      <td>0.0</td>\n",
       "      <td>285.75</td>\n",
       "      <td>81</td>\n",
       "    </tr>\n",
       "  </tbody>\n",
       "</table>\n",
       "<p>5 rows × 94 columns</p>\n",
       "</div>"
      ],
      "text/plain": [
       "                                          counter_name  log_bike_count  hour  \\\n",
       "date                                                                           \n",
       "2020-09-01 01:00:00           28 boulevard Diderot E-O        0.000000     1   \n",
       "2020-09-01 01:00:00           28 boulevard Diderot O-E        0.693147     1   \n",
       "2020-09-01 01:00:00     39 quai François Mauriac NO-SE        1.098612     1   \n",
       "2020-09-01 01:00:00     39 quai François Mauriac SE-NO        0.693147     1   \n",
       "2020-09-01 01:00:00  18 quai de l'Hôtel de Ville NO-SE        0.000000     1   \n",
       "\n",
       "                     dayofweek  quarter  month  dayofyear  is_weekend  \\\n",
       "date                                                                    \n",
       "2020-09-01 01:00:00          1        3      9        245           0   \n",
       "2020-09-01 01:00:00          1        3      9        245           0   \n",
       "2020-09-01 01:00:00          1        3      9        245           0   \n",
       "2020-09-01 01:00:00          1        3      9        245           0   \n",
       "2020-09-01 01:00:00          1        3      9        245           0   \n",
       "\n",
       "                     hour_sin  hour_cos  ...  etat_sol_lag12h  \\\n",
       "date                                     ...                    \n",
       "2020-09-01 01:00:00  0.258819  0.965926  ...              0.0   \n",
       "2020-09-01 01:00:00  0.258819  0.965926  ...              0.0   \n",
       "2020-09-01 01:00:00  0.258819  0.965926  ...              0.0   \n",
       "2020-09-01 01:00:00  0.258819  0.965926  ...              0.0   \n",
       "2020-09-01 01:00:00  0.258819  0.965926  ...              0.0   \n",
       "\n",
       "                     etat_sol_lag24h  etat_sol_lag168h  rr12_lag6h  \\\n",
       "date                                                                 \n",
       "2020-09-01 01:00:00              0.0               0.0         0.0   \n",
       "2020-09-01 01:00:00              0.0               0.0         0.0   \n",
       "2020-09-01 01:00:00              0.0               0.0         0.0   \n",
       "2020-09-01 01:00:00              0.0               0.0         0.0   \n",
       "2020-09-01 01:00:00              0.0               0.0         0.0   \n",
       "\n",
       "                     rr12_lag9h  rr12_lag12h  rr12_lag24h  rr12_lag168h  \\\n",
       "date                                                                      \n",
       "2020-09-01 01:00:00         0.0          0.0          0.0           0.0   \n",
       "2020-09-01 01:00:00         0.0          0.0          0.0           0.0   \n",
       "2020-09-01 01:00:00         0.0          0.0          0.0           0.0   \n",
       "2020-09-01 01:00:00         0.0          0.0          0.0           0.0   \n",
       "2020-09-01 01:00:00         0.0          0.0          0.0           0.0   \n",
       "\n",
       "                     temp_hour_interaction  humidity_day_interaction  \n",
       "date                                                                  \n",
       "2020-09-01 01:00:00                 285.75                        81  \n",
       "2020-09-01 01:00:00                 285.75                        81  \n",
       "2020-09-01 01:00:00                 285.75                        81  \n",
       "2020-09-01 01:00:00                 285.75                        81  \n",
       "2020-09-01 01:00:00                 285.75                        81  \n",
       "\n",
       "[5 rows x 94 columns]"
      ]
     },
     "execution_count": 31,
     "metadata": {},
     "output_type": "execute_result"
    }
   ],
   "source": [
    "combined_train.head()"
   ]
  },
  {
   "cell_type": "code",
   "execution_count": null,
   "metadata": {},
   "outputs": [],
   "source": []
  },
  {
   "cell_type": "code",
   "execution_count": null,
   "metadata": {},
   "outputs": [],
   "source": []
  },
  {
   "cell_type": "code",
   "execution_count": null,
   "metadata": {},
   "outputs": [],
   "source": []
  },
  {
   "cell_type": "code",
   "execution_count": null,
   "metadata": {},
   "outputs": [],
   "source": []
  },
  {
   "cell_type": "code",
   "execution_count": null,
   "metadata": {},
   "outputs": [],
   "source": []
  },
  {
   "cell_type": "code",
   "execution_count": null,
   "metadata": {},
   "outputs": [],
   "source": []
  },
  {
   "cell_type": "code",
   "execution_count": null,
   "metadata": {},
   "outputs": [],
   "source": []
  },
  {
   "cell_type": "code",
   "execution_count": null,
   "metadata": {},
   "outputs": [],
   "source": []
  },
  {
   "cell_type": "code",
   "execution_count": null,
   "metadata": {},
   "outputs": [],
   "source": [
    "features = [\n",
    "    \"counter_name\",\n",
    "    \"hour\",\n",
    "    \"dayofweek\",\n",
    "    \"quarter\",\n",
    "    \"month\",\n",
    "    \"dayofyear\",\n",
    "    \"hour_sin\",\n",
    "    \"hour_cos\",\n",
    "    \"dayofweek_sin\",\n",
    "    \"dayofweek_cos\",\n",
    "    \"lockdown_2\",\n",
    "    \"lockdown_3_1\",\n",
    "    \"lockdown_3_2\",\n",
    "    \"lockdown_3_3\",\n",
    "    \"tend\",\n",
    "    \"t\",\n",
    "    \"td\",\n",
    "    \"u\",\n",
    "    \"ww\",\n",
    "    \"n\",\n",
    "    \"tend24\",\n",
    "    \"etat_sol\",\n",
    "    \"rr12\",\n",
    "    \"ctype1\",\n",
    "    \"hnuage1\",\n",
    "    \"temp_hour_interaction\",\n",
    "    \"humidity_day_interaction\",\n",
    "    \"temp_humidity_interaction\",\n",
    "    \"t_lag6h\",\n",
    "    \"t_lag9h\",\n",
    "    \"t_lag24h\",\n",
    "    \"td_lag6h\",\n",
    "    \"td_lag9h\",\n",
    "    \"td_lag24h\",\n",
    "    \"u_lag6h\",\n",
    "    \"u_lag9h\",\n",
    "    \"u_lag24h\",\n",
    "    \"ww_lag6h\",\n",
    "    \"ww_lag9h\",\n",
    "    \"ww_lag24h\",\n",
    "    \"n_lag6h\",\n",
    "    \"n_lag9h\",\n",
    "    \"n_lag24h\",\n",
    "    \"tend24_lag6h\",\n",
    "    \"tend24_lag9h\",\n",
    "    \"tend24_lag24h\",\n",
    "    \"etat_sol_lag6h\",\n",
    "    \"etat_sol_lag9h\",\n",
    "    \"etat_sol_lag24h\",\n",
    "    \"rr12_lag6h\",\n",
    "    \"rr12_lag9h\",\n",
    "    \"rr12_lag24h\",\n",
    "    \"t_lag12h\",\n",
    "    \"td_lag12h\",\n",
    "    \"u_lag12h\",\n",
    "    \"ww_lag12h\",\n",
    "    \"n_lag12h\",\n",
    "    \"tend24_lag12h\",\n",
    "    \"etat_sol_lag12h\",\n",
    "    \"rr12_lag12h\",\n",
    "]\n",
    "target = [\"log_bike_count\"]\n",
    "cat_feature = [\"counter_name\"]"
   ]
  },
  {
   "cell_type": "code",
   "execution_count": null,
   "metadata": {},
   "outputs": [],
   "source": [
    "X_train = combined_train[features]\n",
    "y_train = combined_train[target]\n",
    "X_test = combined_test[features]\n",
    "y_test = combined_test[target]"
   ]
  },
  {
   "cell_type": "code",
   "execution_count": null,
   "metadata": {},
   "outputs": [],
   "source": [
    "final_model = xgb.XGBRegressor(\n",
    "    tree_method=\"hist\", **best_params, enable_categorical=True\n",
    ")\n",
    "final_model.fit(\n",
    "    X_train,\n",
    "    y_train,\n",
    "    eval_set=[(X_test, y_test)],\n",
    "    early_stopping_rounds=10,\n",
    "    verbose=10,\n",
    ")"
   ]
  },
  {
   "cell_type": "code",
   "execution_count": null,
   "metadata": {},
   "outputs": [],
   "source": [
    "y_pred_train = final_model.predict(X_train)\n",
    "rmse_train = mean_squared_error(y_train, y_pred_train, squared=False)\n",
    "print(\"Final Model  Train RMSE:\", rmse_train)\n",
    "\n",
    "y_pred_test = final_model.predict(X_test)\n",
    "rmse_test = mean_squared_error(y_test, y_pred_test, squared=False)\n",
    "print(\"Final Model Test RMSE:\", rmse_test)"
   ]
  },
  {
   "cell_type": "code",
   "execution_count": null,
   "metadata": {},
   "outputs": [],
   "source": [
    "fi = pd.DataFrame(\n",
    "    data=final_model.feature_importances_,\n",
    "    index=final_model.feature_names_in_,\n",
    "    columns=[\"Importance\"],\n",
    ")\n",
    "\n",
    "fi.sort_values(by=\"Importance\").plot(\n",
    "    kind=\"barh\", title=\"Feature Importances XGBoost\", figsize=(10, 16)\n",
    ")"
   ]
  },
  {
   "cell_type": "code",
   "execution_count": null,
   "metadata": {},
   "outputs": [],
   "source": [
    "fi.sort_values(by=\"Importance\", ascending=False)"
   ]
  },
  {
   "cell_type": "code",
   "execution_count": null,
   "metadata": {},
   "outputs": [],
   "source": [
    "from sklearn.utils import resample"
   ]
  },
  {
   "cell_type": "code",
   "execution_count": null,
   "metadata": {},
   "outputs": [],
   "source": [
    "num_bootstraps = 100\n",
    "feature_importances = np.zeros((num_bootstraps, len(X_train.columns)))"
   ]
  },
  {
   "cell_type": "code",
   "execution_count": null,
   "metadata": {},
   "outputs": [],
   "source": [
    "for i in range(num_bootstraps):\n",
    "    # Create a bootstrap sample\n",
    "    X_sample, y_sample = resample(X_train, y_train)\n",
    "\n",
    "    # Fit the model\n",
    "    model = xgb.XGBRegressor(tree_method=\"hist\", enable_categorical=True)\n",
    "    model.fit(X_sample, y_sample)\n",
    "\n",
    "    # Store the feature importances\n",
    "    feature_importances[i, :] = model.feature_importances_"
   ]
  },
  {
   "cell_type": "code",
   "execution_count": null,
   "metadata": {},
   "outputs": [],
   "source": [
    "mean_importances = np.mean(feature_importances, axis=0)\n",
    "std_importances = np.std(feature_importances, axis=0)"
   ]
  },
  {
   "cell_type": "code",
   "execution_count": null,
   "metadata": {},
   "outputs": [],
   "source": [
    "mean_importances"
   ]
  },
  {
   "cell_type": "code",
   "execution_count": null,
   "metadata": {},
   "outputs": [],
   "source": [
    "std_importances"
   ]
  },
  {
   "cell_type": "code",
   "execution_count": null,
   "metadata": {},
   "outputs": [],
   "source": [
    "model.feature_names_in_"
   ]
  },
  {
   "cell_type": "code",
   "execution_count": null,
   "metadata": {},
   "outputs": [],
   "source": [
    "features = [\n",
    "    \"counter_name\",\n",
    "    \"hour\",\n",
    "    \"dayofweek\",\n",
    "    \"month\",\n",
    "    \"quarter\",\n",
    "    \"dayofyear\",\n",
    "    \"hour_sin\",\n",
    "    \"hour_cos\",\n",
    "    \"dayofweek_sin\",\n",
    "    \"dayofweek_cos\",\n",
    "    \"lockdown_2\",\n",
    "    \"lockdown_3_1\",\n",
    "    \"lockdown_3_2\",\n",
    "    \"lockdown_3_3\",\n",
    "    \"t\",\n",
    "    \"u\",\n",
    "    \"ww\",\n",
    "    \"n\",\n",
    "    \"etat_sol\",\n",
    "    \"rr12\",\n",
    "    \"temp_hour_interaction\",\n",
    "    \"humidity_day_interaction\",\n",
    "    \"t_lag6h\",\n",
    "    \"t_lag9h\",\n",
    "    \"t_lag24h\",\n",
    "    \"td_lag24h\",\n",
    "    \"u_lag24h\",\n",
    "    \"ww_lag24h\",\n",
    "    \"n_lag24h\",\n",
    "    \"etat_sol_lag24h\",\n",
    "    \"rr12_lag24h\",\n",
    "]\n",
    "target = [\"log_bike_count\"]\n",
    "cat_feature = [\"counter_name\"]"
   ]
  },
  {
   "cell_type": "code",
   "execution_count": null,
   "metadata": {},
   "outputs": [],
   "source": [
    "X_train = combined_train[features]\n",
    "y_train = combined_train[target]\n",
    "X_test = combined_test[features]\n",
    "y_test = combined_test[target]"
   ]
  },
  {
   "cell_type": "code",
   "execution_count": null,
   "metadata": {},
   "outputs": [],
   "source": [
    "def objective(trial):\n",
    "    param = {\n",
    "        \"n_estimators\": trial.suggest_int(\"n_estimators\", 50, 1000),\n",
    "        \"max_depth\": trial.suggest_int(\"max_depth\", 3, 20),\n",
    "        \"min_child_weight\": trial.suggest_int(\"min_child_weight\", 1, 10),\n",
    "        \"gamma\": trial.suggest_float(\"gamma\", 0.1, 1, step=0.1),\n",
    "        \"learning_rate\": trial.suggest_float(\"learning_rate\", 0.01, 0.3),\n",
    "        \"subsample\": trial.suggest_float(\"subsample\", 0.5, 1),\n",
    "        \"colsample_bytree\": trial.suggest_float(\"colsample_bytree\", 0.5, 1),\n",
    "        \"reg_alpha\": trial.suggest_float(\"reg_alpha\", 0.0, 1.0),\n",
    "        \"reg_lambda\": trial.suggest_float(\"reg_lambda\", 0.0, 1.0),\n",
    "    }\n",
    "\n",
    "    model = xgb.XGBRegressor(tree_method=\"hist\", **\n",
    "                             param, enable_categorical=True)\n",
    "\n",
    "    tscv = TimeSeriesSplit(n_splits=5)\n",
    "    scores = []\n",
    "\n",
    "    for train_index, test_index in tscv.split(X_train):\n",
    "        X_train_fold, X_test_fold = X_train.iloc[train_index], X_train.iloc[test_index]\n",
    "        y_train_fold, y_test_fold = y_train.iloc[train_index], y_train.iloc[test_index]\n",
    "\n",
    "        model.fit(\n",
    "            X_train_fold,\n",
    "            y_train_fold,\n",
    "            eval_set=[(X_test_fold, y_test_fold)],\n",
    "            early_stopping_rounds=50,\n",
    "            verbose=False,\n",
    "        )\n",
    "        predictions = model.predict(X_test_fold)\n",
    "        score = mean_squared_error(\n",
    "            y_test_fold, predictions, squared=False)  # RMSE\n",
    "        scores.append(score)\n",
    "\n",
    "    return np.mean(scores)"
   ]
  },
  {
   "cell_type": "code",
   "execution_count": null,
   "metadata": {},
   "outputs": [],
   "source": [
    "study = optuna.create_study(direction=\"minimize\")\n",
    "study.optimize(objective, n_trials=100)"
   ]
  },
  {
   "cell_type": "code",
   "execution_count": null,
   "metadata": {},
   "outputs": [],
   "source": [
    "print(\"Number of finished trials:\", len(study.trials))\n",
    "print(\"Best trial:\", study.best_trial.params)"
   ]
  },
  {
   "cell_type": "code",
   "execution_count": null,
   "metadata": {},
   "outputs": [],
   "source": [
    "best_params = {\n",
    "    \"n_estimators\": 633,\n",
    "    \"max_depth\": 11,\n",
    "    \"min_child_weight\": 2,\n",
    "    \"gamma\": 0.5,\n",
    "    \"learning_rate\": 0.01745767642563374,\n",
    "    \"subsample\": 0.6852898171340072,\n",
    "    \"colsample_bytree\": 0.5752583768824626,\n",
    "    \"reg_alpha\": 0.6174748033948815,\n",
    "    \"reg_lambda\": 0.37071451261939165,\n",
    "}"
   ]
  },
  {
   "cell_type": "code",
   "execution_count": null,
   "metadata": {},
   "outputs": [],
   "source": [
    "final_model = xgb.XGBRegressor(\n",
    "    tree_method=\"hist\", **best_params, enable_categorical=True\n",
    ")\n",
    "final_model.fit(\n",
    "    X_train,\n",
    "    y_train,\n",
    "    eval_set=[(X_test, y_test)],\n",
    "    early_stopping_rounds=10,\n",
    "    verbose=10,\n",
    ")"
   ]
  },
  {
   "cell_type": "code",
   "execution_count": null,
   "metadata": {},
   "outputs": [],
   "source": [
    "y_pred_train = final_model.predict(X_train)\n",
    "rmse_train = mean_squared_error(y_train, y_pred_train, squared=False)\n",
    "print(\"Final Model  Train RMSE:\", rmse_train)\n",
    "\n",
    "y_pred_test = final_model.predict(X_test)\n",
    "rmse_test = mean_squared_error(y_test, y_pred_test, squared=False)\n",
    "print(\"Final Model Test RMSE:\", rmse_test)"
   ]
  },
  {
   "cell_type": "code",
   "execution_count": null,
   "metadata": {},
   "outputs": [],
   "source": [
    "prediction_data = pd.read_parquet(\"data\\final_test.parquet\")"
   ]
  },
  {
   "cell_type": "code",
   "execution_count": null,
   "metadata": {},
   "outputs": [],
   "source": []
  },
  {
   "cell_type": "code",
   "execution_count": null,
   "metadata": {},
   "outputs": [],
   "source": []
  },
  {
   "cell_type": "code",
   "execution_count": null,
   "metadata": {},
   "outputs": [],
   "source": [
    "combined_train.columns"
   ]
  },
  {
   "cell_type": "code",
   "execution_count": null,
   "metadata": {},
   "outputs": [],
   "source": [
    "features = [\n",
    "    \"counter_name\",\n",
    "    \"hour\",\n",
    "    \"dayofweek\",\n",
    "    \"quarter\",\n",
    "    \"month\",\n",
    "    \"dayofyear\",\n",
    "    \"is_weekend\",\n",
    "    \"hour_sin\",\n",
    "    \"hour_cos\",\n",
    "    \"dayofweek_sin\",\n",
    "    \"dayofweek_cos\",\n",
    "    \"is_holiday\",\n",
    "    \"lockdown_1\",\n",
    "    \"lockdown_2\",\n",
    "    \"lockdown_3_1\",\n",
    "    \"lockdown_3_2\",\n",
    "    \"lockdown_3_3\",\n",
    "    \"pmer\",\n",
    "    \"tend\",\n",
    "    \"cod_tend\",\n",
    "    \"dd\",\n",
    "    \"ff\",\n",
    "    \"t\",\n",
    "    \"td\",\n",
    "    \"u\",\n",
    "    \"vv\",\n",
    "    \"ww\",\n",
    "    \"w1\",\n",
    "    \"w2\",\n",
    "    \"n\",\n",
    "    \"nbas\",\n",
    "    \"hbas\",\n",
    "    \"cl\",\n",
    "    \"cm\",\n",
    "    \"ch\",\n",
    "    \"pres\",\n",
    "    \"tend24\",\n",
    "    \"raf10\",\n",
    "    \"rafper\",\n",
    "    \"etat_sol\",\n",
    "    \"ht_neige\",\n",
    "    \"ssfrai\",\n",
    "    \"rr1\",\n",
    "    \"rr3\",\n",
    "    \"rr6\",\n",
    "    \"rr12\",\n",
    "    \"rr24\",\n",
    "    \"nnuage1\",\n",
    "    \"ctype1\",\n",
    "    \"hnuage1\",\n",
    "    \"temp_humidity_interaction\",\n",
    "    \"t_lag6h\",\n",
    "    \"t_lag9h\",\n",
    "    \"t_lag12h\",\n",
    "    \"t_lag24h\",\n",
    "    \"t_lag168h\",\n",
    "    \"td_lag6h\",\n",
    "    \"td_lag9h\",\n",
    "    \"td_lag12h\",\n",
    "    \"td_lag24h\",\n",
    "    \"td_lag168h\",\n",
    "    \"u_lag6h\",\n",
    "    \"u_lag9h\",\n",
    "    \"u_lag12h\",\n",
    "    \"u_lag24h\",\n",
    "    \"u_lag168h\",\n",
    "    \"ww_lag6h\",\n",
    "    \"ww_lag9h\",\n",
    "    \"ww_lag12h\",\n",
    "    \"ww_lag24h\",\n",
    "    \"ww_lag168h\",\n",
    "    \"n_lag6h\",\n",
    "    \"n_lag9h\",\n",
    "    \"n_lag12h\",\n",
    "    \"n_lag24h\",\n",
    "    \"n_lag168h\",\n",
    "    \"tend24_lag6h\",\n",
    "    \"tend24_lag9h\",\n",
    "    \"tend24_lag12h\",\n",
    "    \"tend24_lag24h\",\n",
    "    \"tend24_lag168h\",\n",
    "    \"etat_sol_lag6h\",\n",
    "    \"etat_sol_lag9h\",\n",
    "    \"etat_sol_lag12h\",\n",
    "    \"etat_sol_lag24h\",\n",
    "    \"etat_sol_lag168h\",\n",
    "    \"rr12_lag6h\",\n",
    "    \"rr12_lag9h\",\n",
    "    \"rr12_lag12h\",\n",
    "    \"rr12_lag24h\",\n",
    "    \"rr12_lag168h\",\n",
    "    \"temp_hour_interaction\",\n",
    "    \"humidity_day_interaction\",\n",
    "]\n",
    "target = [\"log_bike_count\"]\n",
    "cat_feature = [\"counter_name\"]"
   ]
  },
  {
   "cell_type": "code",
   "execution_count": null,
   "metadata": {},
   "outputs": [],
   "source": [
    "X_train = combined_train[features]\n",
    "y_train = combined_train[target]\n",
    "X_test = combined_test[features]\n",
    "y_test = combined_test[target]\n",
    "X_pred = combined_prediction[features]"
   ]
  },
  {
   "cell_type": "code",
   "execution_count": null,
   "metadata": {},
   "outputs": [],
   "source": [
    "best_params = {\n",
    "    \"n_estimators\": 633,\n",
    "    \"max_depth\": 11,\n",
    "    \"min_child_weight\": 2,\n",
    "    \"gamma\": 0.5,\n",
    "    \"learning_rate\": 0.01745767642563374,\n",
    "    \"subsample\": 0.6852898171340072,\n",
    "    \"colsample_bytree\": 0.5752583768824626,\n",
    "    \"reg_alpha\": 0.6174748033948815,\n",
    "    \"reg_lambda\": 0.37071451261939165,\n",
    "}\n",
    "\n",
    "final_model = xgb.XGBRegressor(\n",
    "    tree_method=\"hist\", **best_params, enable_categorical=True\n",
    ")\n",
    "final_model.fit(\n",
    "    X_train,\n",
    "    y_train,\n",
    "    eval_set=[(X_test, y_test)],\n",
    "    early_stopping_rounds=10,\n",
    "    verbose=10,\n",
    ")"
   ]
  },
  {
   "cell_type": "code",
   "execution_count": null,
   "metadata": {},
   "outputs": [],
   "source": [
    "y_pred_train = final_model.predict(X_train)\n",
    "rmse_train = mean_squared_error(y_train, y_pred_train, squared=False)\n",
    "print(\"Final Model  Train RMSE:\", rmse_train)\n",
    "\n",
    "y_pred_test = final_model.predict(X_test)\n",
    "rmse_test = mean_squared_error(y_test, y_pred_test, squared=False)\n",
    "print(\"Final Model Test RMSE:\", rmse_test)"
   ]
  },
  {
   "cell_type": "code",
   "execution_count": null,
   "metadata": {},
   "outputs": [],
   "source": [
    "fi = pd.DataFrame(\n",
    "    data=final_model.feature_importances_,\n",
    "    index=final_model.feature_names_in_,\n",
    "    columns=[\"Importance\"],\n",
    ")\n",
    "\n",
    "fi.sort_values(by=\"Importance\").plot(\n",
    "    kind=\"barh\", title=\"Feature Importances XGBoost\", figsize=(10, 16)\n",
    ")"
   ]
  },
  {
   "cell_type": "code",
   "execution_count": null,
   "metadata": {},
   "outputs": [],
   "source": [
    "fi.sort_values(by=\"Importance\", ascending=False)"
   ]
  },
  {
   "cell_type": "code",
   "execution_count": null,
   "metadata": {},
   "outputs": [],
   "source": [
    "predictions = final_model.predict(X_pred)"
   ]
  },
  {
   "cell_type": "code",
   "execution_count": null,
   "metadata": {},
   "outputs": [],
   "source": [
    "predictions"
   ]
  },
  {
   "cell_type": "code",
   "execution_count": null,
   "metadata": {},
   "outputs": [],
   "source": [
    "fi.to_csv(\"feature_importances_xgb_weather.csv\")"
   ]
  },
  {
   "cell_type": "code",
   "execution_count": null,
   "metadata": {},
   "outputs": [],
   "source": [
    "predictions"
   ]
  },
  {
   "cell_type": "code",
   "execution_count": null,
   "metadata": {},
   "outputs": [],
   "source": [
    "prediction_data.head()"
   ]
  },
  {
   "cell_type": "code",
   "execution_count": null,
   "metadata": {},
   "outputs": [],
   "source": [
    "X_train_encoded = pd.get_dummies(X_train, columns=cat_feature)\n",
    "X_test_encoded = pd.get_dummies(X_test, columns=cat_feature)"
   ]
  },
  {
   "cell_type": "code",
   "execution_count": null,
   "metadata": {},
   "outputs": [],
   "source": [
    "model = xgb.XGBRegressor()"
   ]
  },
  {
   "cell_type": "code",
   "execution_count": null,
   "metadata": {},
   "outputs": [],
   "source": [
    "tscv = TimeSeriesSplit(n_splits=5)"
   ]
  },
  {
   "cell_type": "code",
   "execution_count": null,
   "metadata": {},
   "outputs": [],
   "source": [
    "rfecv = RFECV(\n",
    "    estimator=model,\n",
    "    step=1,\n",
    "    cv=tscv,\n",
    "    scoring=\"neg_mean_squared_error\",\n",
    "    verbose=10,\n",
    "    n_jobs=-1,\n",
    ")"
   ]
  },
  {
   "cell_type": "code",
   "execution_count": null,
   "metadata": {},
   "outputs": [],
   "source": [
    "rfecv.fit(X_train_encoded, y_train)"
   ]
  },
  {
   "cell_type": "code",
   "execution_count": null,
   "metadata": {},
   "outputs": [],
   "source": [
    "optimal_features = X_train_encoded.columns[rfecv.support_]"
   ]
  },
  {
   "cell_type": "code",
   "execution_count": null,
   "metadata": {},
   "outputs": [],
   "source": [
    "features = [\n",
    "    \"counter_name\",\n",
    "    \"hour\",\n",
    "    \"dayofweek\",\n",
    "    \"quarter\",\n",
    "    \"month\",\n",
    "    \"dayofyear\",\n",
    "    \"is_weekend\",\n",
    "    \"hour_sin\",\n",
    "    \"hour_cos\",\n",
    "    \"dayofweek_sin\",\n",
    "    \"dayofweek_cos\",\n",
    "    \"is_holiday\",\n",
    "    \"lockdown_1\",\n",
    "    \"lockdown_2\",\n",
    "    \"lockdown_3_1\",\n",
    "    \"lockdown_3_2\",\n",
    "    \"lockdown_3_3\",\n",
    "    \"pmer\",\n",
    "    \"tend\",\n",
    "    \"cod_tend\",\n",
    "    \"dd\",\n",
    "    \"ff\",\n",
    "    \"t\",\n",
    "    \"td\",\n",
    "    \"u\",\n",
    "    \"vv\",\n",
    "    \"ww\",\n",
    "    \"w1\",\n",
    "    \"w2\",\n",
    "    \"n\",\n",
    "    \"nbas\",\n",
    "    \"hbas\",\n",
    "    \"cl\",\n",
    "    \"cm\",\n",
    "    \"ch\",\n",
    "    \"pres\",\n",
    "    \"tend24\",\n",
    "    \"raf10\",\n",
    "    \"rafper\",\n",
    "    \"etat_sol\",\n",
    "    \"ht_neige\",\n",
    "    \"ssfrai\",\n",
    "    \"rr1\",\n",
    "    \"rr3\",\n",
    "    \"rr6\",\n",
    "    \"rr12\",\n",
    "    \"rr24\",\n",
    "    \"nnuage1\",\n",
    "    \"ctype1\",\n",
    "    \"hnuage1\",\n",
    "    \"temp_humidity_interaction\",\n",
    "    \"t_lag6h\",\n",
    "    \"t_lag9h\",\n",
    "    \"t_lag12h\",\n",
    "    \"t_lag24h\",\n",
    "    \"t_lag168h\",\n",
    "    \"td_lag6h\",\n",
    "    \"td_lag9h\",\n",
    "    \"td_lag12h\",\n",
    "    \"td_lag24h\",\n",
    "    \"td_lag168h\",\n",
    "    \"u_lag6h\",\n",
    "    \"u_lag9h\",\n",
    "    \"u_lag12h\",\n",
    "    \"u_lag24h\",\n",
    "    \"u_lag168h\",\n",
    "    \"ww_lag6h\",\n",
    "    \"ww_lag9h\",\n",
    "    \"ww_lag12h\",\n",
    "    \"ww_lag24h\",\n",
    "    \"ww_lag168h\",\n",
    "    \"n_lag6h\",\n",
    "    \"n_lag9h\",\n",
    "    \"n_lag12h\",\n",
    "    \"n_lag24h\",\n",
    "    \"n_lag168h\",\n",
    "    \"tend24_lag6h\",\n",
    "    \"tend24_lag9h\",\n",
    "    \"tend24_lag12h\",\n",
    "    \"tend24_lag24h\",\n",
    "    \"tend24_lag168h\",\n",
    "    \"etat_sol_lag6h\",\n",
    "    \"etat_sol_lag9h\",\n",
    "    \"etat_sol_lag12h\",\n",
    "    \"etat_sol_lag24h\",\n",
    "    \"etat_sol_lag168h\",\n",
    "    \"rr12_lag6h\",\n",
    "    \"rr12_lag9h\",\n",
    "    \"rr12_lag12h\",\n",
    "    \"rr12_lag24h\",\n",
    "    \"rr12_lag168h\",\n",
    "    \"temp_hour_interaction\",\n",
    "    \"humidity_day_interaction\",\n",
    "]\n",
    "target = [\"log_bike_count\"]\n",
    "cat_feature = [\"counter_name\"]"
   ]
  },
  {
   "cell_type": "code",
   "execution_count": null,
   "metadata": {},
   "outputs": [],
   "source": [
    "X_train = combined_train[features]\n",
    "y_train = combined_train[target]\n",
    "X_test = combined_test[features]\n",
    "y_test = combined_test[target]"
   ]
  },
  {
   "cell_type": "code",
   "execution_count": null,
   "metadata": {},
   "outputs": [],
   "source": [
    "reg = xgb.XGBRegressor(tree_method=\"hist\", n_estimators=1000, enable_categorical=True)\n",
    "\n",
    "reg.fit(\n",
    "    X_train,\n",
    "    y_train,\n",
    "    eval_set=[(X_train, y_train), (X_test, y_test)],\n",
    "    early_stopping_rounds=10,\n",
    "    verbose=10,\n",
    ")"
   ]
  },
  {
   "cell_type": "code",
   "execution_count": null,
   "metadata": {},
   "outputs": [],
   "source": [
    "y_hat_xgb = reg.predict(X_train)\n",
    "rmse_xgb_train = mean_squared_error(y_train, y_hat_xgb, squared=False)\n",
    "print(\"XGB Train:\", rmse_xgb_train)\n",
    "\n",
    "y_pred_xgb = reg.predict(X_test)\n",
    "rmse_xgb_test = mean_squared_error(y_test, y_pred_xgb, squared=False)\n",
    "print(\"XGB Test:\", rmse_xgb_test)"
   ]
  },
  {
   "cell_type": "code",
   "execution_count": null,
   "metadata": {},
   "outputs": [],
   "source": [
    "feature_importances = reg.feature_importances_\n",
    "feature_names = X_train.columns\n",
    "features_ranked = sorted(zip(feature_names, feature_importances), key=lambda x: x[1])"
   ]
  },
  {
   "cell_type": "code",
   "execution_count": null,
   "metadata": {},
   "outputs": [],
   "source": [
    "features_ranked"
   ]
  },
  {
   "cell_type": "code",
   "execution_count": null,
   "metadata": {},
   "outputs": [],
   "source": [
    "performance_history = []"
   ]
  },
  {
   "cell_type": "code",
   "execution_count": null,
   "metadata": {},
   "outputs": [],
   "source": [
    "for i in range(len(features_ranked)):\n",
    "    # Remove the least important feature\n",
    "    features_to_use = [f[0] for f in features_ranked[i:]]\n",
    "    X_train_reduced = X_train[features_to_use]\n",
    "    X_test_reduced = X_test[features_to_use]\n",
    "\n",
    "    # Retrain the model\n",
    "    reg.fit(\n",
    "        X_train_reduced,\n",
    "        y_train,\n",
    "        eval_set=[(X_test_reduced, y_test)],\n",
    "        early_stopping_rounds=10,\n",
    "    )\n",
    "\n",
    "    # Evaluate performance\n",
    "    predictions = reg.predict(X_test_reduced)\n",
    "    current_performance = mean_squared_error(y_test, predictions, squared=False)\n",
    "\n",
    "    # Store the performance\n",
    "    performance_history.append((len(features_to_use), current_performance))"
   ]
  },
  {
   "cell_type": "code",
   "execution_count": null,
   "metadata": {},
   "outputs": [],
   "source": [
    "performance_df = pd.DataFrame(\n",
    "    performance_history, columns=[\"Num_Features\", \"Performance\"]\n",
    ")"
   ]
  },
  {
   "cell_type": "code",
   "execution_count": null,
   "metadata": {},
   "outputs": [],
   "source": [
    "plt.plot(performance_df[\"Num_Features\"], performance_df[\"Performance\"])\n",
    "plt.xlabel(\"Number of Features\")\n",
    "plt.ylabel(\"Model Performance (RMSE)\")\n",
    "plt.title(\"Performance vs. Number of Features\")\n",
    "plt.show()"
   ]
  },
  {
   "cell_type": "code",
   "execution_count": null,
   "metadata": {},
   "outputs": [],
   "source": [
    "performance_df.to_csv(\"feature performance.csv\")"
   ]
  },
  {
   "cell_type": "code",
   "execution_count": null,
   "metadata": {},
   "outputs": [],
   "source": [
    "features = [\n",
    "    \"counter_name\",\n",
    "    \"hour\",\n",
    "    \"dayofweek\",\n",
    "    \"quarter\",\n",
    "    \"month\",\n",
    "    \"dayofyear\",\n",
    "    \"hour_sin\",\n",
    "    \"hour_cos\",\n",
    "    \"dayofweek_sin\",\n",
    "    \"dayofweek_cos\",\n",
    "    \"is_holiday\",\n",
    "    \"lockdown_2\",\n",
    "    \"lockdown_3_1\",\n",
    "    \"lockdown_3_2\",\n",
    "    \"lockdown_3_3\",\n",
    "    \"pmer\",\n",
    "    \"tend\",\n",
    "    \"cod_tend\",\n",
    "    \"dd\",\n",
    "    \"ff\",\n",
    "    \"t\",\n",
    "    \"td\",\n",
    "    \"u\",\n",
    "    \"vv\",\n",
    "    \"ww\",\n",
    "    \"w1\",\n",
    "    \"w2\",\n",
    "    \"n\",\n",
    "    \"nbas\",\n",
    "    \"hbas\",\n",
    "    \"cl\",\n",
    "    \"cm\",\n",
    "    \"ch\",\n",
    "    \"pres\",\n",
    "    \"tend24\",\n",
    "    \"raf10\",\n",
    "    \"rafper\",\n",
    "    \"etat_sol\",\n",
    "    \"ht_neige\",\n",
    "    \"ssfrai\",\n",
    "    \"rr1\",\n",
    "    \"rr3\",\n",
    "    \"rr6\",\n",
    "    \"rr12\",\n",
    "    \"rr24\",\n",
    "    \"nnuage1\",\n",
    "    \"ctype1\",\n",
    "    \"hnuage1\",\n",
    "    \"temp_humidity_interaction\",\n",
    "    \"t_lag6h\",\n",
    "    \"t_lag9h\",\n",
    "    \"t_lag12h\",\n",
    "    \"t_lag24h\",\n",
    "    \"t_lag168h\",\n",
    "    \"td_lag6h\",\n",
    "    \"td_lag9h\",\n",
    "    \"td_lag12h\",\n",
    "    \"td_lag24h\",\n",
    "    \"td_lag168h\",\n",
    "    \"u_lag6h\",\n",
    "    \"u_lag9h\",\n",
    "    \"u_lag12h\",\n",
    "    \"u_lag24h\",\n",
    "    \"u_lag168h\",\n",
    "    \"ww_lag6h\",\n",
    "    \"ww_lag9h\",\n",
    "    \"ww_lag12h\",\n",
    "    \"ww_lag24h\",\n",
    "    \"ww_lag168h\",\n",
    "    \"n_lag6h\",\n",
    "    \"n_lag9h\",\n",
    "    \"n_lag12h\",\n",
    "    \"n_lag24h\",\n",
    "    \"n_lag168h\",\n",
    "    \"tend24_lag6h\",\n",
    "    \"tend24_lag9h\",\n",
    "    \"tend24_lag12h\",\n",
    "    \"tend24_lag24h\",\n",
    "    \"tend24_lag168h\",\n",
    "    \"etat_sol_lag6h\",\n",
    "    \"etat_sol_lag9h\",\n",
    "    \"etat_sol_lag12h\",\n",
    "    \"etat_sol_lag24h\",\n",
    "    \"etat_sol_lag168h\",\n",
    "    \"rr12_lag6h\",\n",
    "    \"rr12_lag9h\",\n",
    "    \"rr12_lag12h\",\n",
    "    \"rr12_lag24h\",\n",
    "    \"rr12_lag168h\",\n",
    "    \"temp_hour_interaction\",\n",
    "    \"humidity_day_interaction\",\n",
    "]\n",
    "\n",
    "target = [\"log_bike_count\"]\n",
    "cat_feature = [\"counter_name\"]"
   ]
  },
  {
   "cell_type": "code",
   "execution_count": null,
   "metadata": {},
   "outputs": [],
   "source": [
    "X_train = combined_train[features]\n",
    "y_train = combined_train[target]\n",
    "X_test = combined_test[features]\n",
    "y_test = combined_test[target]"
   ]
  },
  {
   "cell_type": "code",
   "execution_count": null,
   "metadata": {},
   "outputs": [],
   "source": [
    "reg = xgb.XGBRegressor(\n",
    "    tree_method=\"hist\", n_estimators=1500, enable_categorical=True)\n",
    "\n",
    "reg.fit(\n",
    "    X_train,\n",
    "    y_train,\n",
    "    eval_set=[(X_train, y_train), (X_test, y_test)],\n",
    "    early_stopping_rounds=10,\n",
    "    verbose=10,\n",
    ")"
   ]
  },
  {
   "cell_type": "code",
   "execution_count": null,
   "metadata": {},
   "outputs": [],
   "source": [
    "y_hat_xgb = reg.predict(X_train)\n",
    "rmse_xgb_train = mean_squared_error(y_train, y_hat_xgb, squared=False)\n",
    "print(\"XGB Train:\", rmse_xgb_train)\n",
    "\n",
    "y_pred_xgb = reg.predict(X_test)\n",
    "rmse_xgb_test = mean_squared_error(y_test, y_pred_xgb, squared=False)\n",
    "print(\"XGB Test:\", rmse_xgb_test)"
   ]
  },
  {
   "cell_type": "code",
   "execution_count": null,
   "metadata": {},
   "outputs": [],
   "source": [
    "fi = pd.DataFrame(\n",
    "    data=reg.feature_importances_, index=reg.feature_names_in_, columns=[\"Importance\"]\n",
    ")\n",
    "fi.sort_values(by=\"Importance\", ascending=False)"
   ]
  },
  {
   "cell_type": "code",
   "execution_count": null,
   "metadata": {},
   "outputs": [],
   "source": []
  },
  {
   "cell_type": "code",
   "execution_count": null,
   "metadata": {},
   "outputs": [],
   "source": [
    "features = [\n",
    "    \"hour_cos\",\n",
    "    \"temp_hour_interaction\",\n",
    "    \"humidity_day_interaction\",\n",
    "    \"etat_sol\",\n",
    "    \"counter_name\",\n",
    "    \"dayofyear\",\n",
    "    \"hour_sin\",\n",
    "    \"t_lag168h\",\n",
    "    \"etat_sol_lag6h\",\n",
    "    \"t\",\n",
    "    \"t_lag12h\",\n",
    "    \"t_lag9h\",\n",
    "    \"w1\",\n",
    "    \"dayofweek\",\n",
    "    \"n\",\n",
    "    \"month\",\n",
    "    \"t_lag24h\",\n",
    "    \"lockdown_2\",\n",
    "    \"ww\",\n",
    "    \"u\",\n",
    "    \"lockdown_3_3\",\n",
    "    \"ht_neige\",\n",
    "    \"t_lag6h\",\n",
    "    \"dayofweek_cos\",\n",
    "    \"lockdown_3_1\",\n",
    "    \"lockdown_3_2\",\n",
    "    \"td_lag12h\",\n",
    "    \"hour\",\n",
    "    \"rr3\",\n",
    "    \"rr24\",\n",
    "    \"raf10\",\n",
    "    \"dayofweek_sin\",\n",
    "    \"n_lag6h\",\n",
    "    \"td_lag24h\",\n",
    "    \"td_lag168h\",\n",
    "    \"etat_sol_lag12h\",\n",
    "    \"tend24_lag6h\",\n",
    "    \"u_lag9h\",\n",
    "    \"etat_sol_lag168h\",\n",
    "    \"ww_lag6h\",\n",
    "    \"u_lag24h\",\n",
    "    \"tend24_lag9h\",\n",
    "    \"rr12_lag12h\",\n",
    "    \"dd\",\n",
    "    \"cl\",\n",
    "    \"pres\",\n",
    "    \"u_lag12h\",\n",
    "    \"u_lag6h\",\n",
    "    \"etat_sol_lag9h\",\n",
    "    \"rr12_lag168h\",\n",
    "    \"tend24\",\n",
    "    \"temp_humidity_interaction\",\n",
    "    \"rr12_lag24h\",\n",
    "    \"td\",\n",
    "    \"cm\",\n",
    "]\n",
    "target = [\"log_bike_count\"]\n",
    "cat_feature = [\"counter_name\"]"
   ]
  },
  {
   "cell_type": "code",
   "execution_count": null,
   "metadata": {},
   "outputs": [],
   "source": [
    "X_train = combined_train[features]\n",
    "y_train = combined_train[target]\n",
    "X_test = combined_test[features]\n",
    "y_test = combined_test[target]\n",
    "X_pred = combined_prediction[features]"
   ]
  },
  {
   "cell_type": "code",
   "execution_count": null,
   "metadata": {},
   "outputs": [],
   "source": [
    "best_params = {\n",
    "    \"n_estimators\": 633,\n",
    "    \"max_depth\": 11,\n",
    "    \"min_child_weight\": 2,\n",
    "    \"gamma\": 0.5,\n",
    "    \"learning_rate\": 0.01745767642563374,\n",
    "    \"subsample\": 0.6852898171340072,\n",
    "    \"colsample_bytree\": 0.5752583768824626,\n",
    "    \"reg_alpha\": 0.6174748033948815,\n",
    "    \"reg_lambda\": 0.37071451261939165,\n",
    "}\n",
    "\n",
    "final_model = xgb.XGBRegressor(\n",
    "    tree_method=\"hist\", **best_params, enable_categorical=True\n",
    ")\n",
    "final_model.fit(\n",
    "    X_train,\n",
    "    y_train,\n",
    "    eval_set=[(X_test, y_test)],\n",
    "    early_stopping_rounds=10,\n",
    "    verbose=10,\n",
    ")"
   ]
  },
  {
   "cell_type": "code",
   "execution_count": null,
   "metadata": {},
   "outputs": [],
   "source": [
    "y_pred_train = final_model.predict(X_train)\n",
    "rmse_train = mean_squared_error(y_train, y_pred_train, squared=False)\n",
    "print(\"Final Model  Train RMSE:\", rmse_train)\n",
    "\n",
    "y_pred_test = final_model.predict(X_test)\n",
    "rmse_test = mean_squared_error(y_test, y_pred_test, squared=False)\n",
    "print(\"Final Model Test RMSE:\", rmse_test)"
   ]
  },
  {
   "cell_type": "code",
   "execution_count": null,
   "metadata": {},
   "outputs": [],
   "source": [
    "fi = pd.DataFrame(\n",
    "    data=final_model.feature_importances_,\n",
    "    index=final_model.feature_names_in_,\n",
    "    columns=[\"Importance\"],\n",
    ")"
   ]
  },
  {
   "cell_type": "code",
   "execution_count": null,
   "metadata": {},
   "outputs": [],
   "source": [
    "fi.sort_values(by=\"Importance\", ascending=False)"
   ]
  },
  {
   "cell_type": "code",
   "execution_count": null,
   "metadata": {},
   "outputs": [],
   "source": []
  },
  {
   "cell_type": "code",
   "execution_count": null,
   "metadata": {},
   "outputs": [],
   "source": [
    "features = [\n",
    "    \"hour_cos\",\n",
    "    \"hour\",\n",
    "    \"temp_hour_interaction\",\n",
    "    \"counter_name\",\n",
    "    \"hour_sin\",\n",
    "    \"lockdown_3_3\",\n",
    "    \"t\",\n",
    "    \"u_lag9h\",\n",
    "    \"t_lag24h\",\n",
    "    \"u\",\n",
    "    \"lockdown_3_2\",\n",
    "    \"month\",\n",
    "    \"etat_sol\",\n",
    "    \"dayofyear\",\n",
    "    \"humidity_day_interaction\",\n",
    "    \"dayofweek_sin\",\n",
    "    \"t_lag9h\",\n",
    "    \"temp_humidity_interaction\",\n",
    "    \"dayofweek\",\n",
    "    \"lockdown_3_1\",\n",
    "    \"t_lag12h\",\n",
    "    \"t_lag6h\",\n",
    "]"
   ]
  },
  {
   "cell_type": "code",
   "execution_count": null,
   "metadata": {},
   "outputs": [],
   "source": [
    "X_train = combined_train[features]\n",
    "y_train = combined_train[target]\n",
    "X_test = combined_test[features]\n",
    "y_test = combined_test[target]"
   ]
  },
  {
   "cell_type": "code",
   "execution_count": null,
   "metadata": {},
   "outputs": [],
   "source": [
    "final_model = xgb.XGBRegressor(\n",
    "    tree_method=\"hist\", **best_params, enable_categorical=True\n",
    ")\n",
    "final_model.fit(\n",
    "    X_train,\n",
    "    y_train,\n",
    "    eval_set=[(X_test, y_test)],\n",
    "    early_stopping_rounds=10,\n",
    "    verbose=10,\n",
    ")"
   ]
  },
  {
   "cell_type": "code",
   "execution_count": null,
   "metadata": {},
   "outputs": [],
   "source": [
    "y_pred_train = final_model.predict(X_train)\n",
    "rmse_train = mean_squared_error(y_train, y_pred_train, squared=False)\n",
    "print(\"Final Model  Train RMSE:\", rmse_train)\n",
    "\n",
    "y_pred_test = final_model.predict(X_test)\n",
    "rmse_test = mean_squared_error(y_test, y_pred_test, squared=False)\n",
    "print(\"Final Model Test RMSE:\", rmse_test)"
   ]
  },
  {
   "cell_type": "code",
   "execution_count": null,
   "metadata": {},
   "outputs": [],
   "source": [
    "fi = pd.DataFrame(\n",
    "    data=final_model.feature_importances_,\n",
    "    index=final_model.feature_names_in_,\n",
    "    columns=[\"Importance\"],\n",
    ")\n",
    "fi.sort_values(by=\"Importance\", ascending=False)"
   ]
  },
  {
   "cell_type": "code",
   "execution_count": null,
   "metadata": {},
   "outputs": [],
   "source": []
  },
  {
   "cell_type": "code",
   "execution_count": null,
   "metadata": {},
   "outputs": [],
   "source": [
    "features = [\n",
    "    \"hour_cos\",\n",
    "    \"hour\",\n",
    "    \"temp_hour_interaction\",\n",
    "    \"counter_name\",\n",
    "    \"hour_sin\",\n",
    "    \"t\",\n",
    "    \"u_lag9h\",\n",
    "    \"t_lag24h\",\n",
    "    \"u\",\n",
    "    \"month\",\n",
    "    \"etat_sol\",\n",
    "    \"dayofyear\",\n",
    "    \"humidity_day_interaction\",\n",
    "    \"dayofweek_sin\",\n",
    "    \"t_lag9h\",\n",
    "    \"dayofweek\",\n",
    "    \"lockdown_3_1\",\n",
    "    \"t_lag12h\",\n",
    "    \"t_lag6h\",\n",
    "]"
   ]
  },
  {
   "cell_type": "code",
   "execution_count": null,
   "metadata": {},
   "outputs": [],
   "source": [
    "X_train = combined_train[features]\n",
    "y_train = combined_train[target]\n",
    "X_test = combined_test[features]\n",
    "y_test = combined_test[target]\n",
    "X_pred = combined_prediction[features]"
   ]
  },
  {
   "cell_type": "code",
   "execution_count": null,
   "metadata": {},
   "outputs": [],
   "source": [
    "final_model = xgb.XGBRegressor(\n",
    "    tree_method=\"hist\", **best_params, enable_categorical=True\n",
    ")\n",
    "final_model.fit(\n",
    "    X_train,\n",
    "    y_train,\n",
    "    eval_set=[(X_test, y_test)],\n",
    "    early_stopping_rounds=10,\n",
    "    verbose=10,\n",
    ")"
   ]
  },
  {
   "cell_type": "code",
   "execution_count": null,
   "metadata": {},
   "outputs": [],
   "source": [
    "y_pred_train = final_model.predict(X_train)\n",
    "rmse_train = mean_squared_error(y_train, y_pred_train, squared=False)\n",
    "print(\"Final Model  Train RMSE:\", rmse_train)\n",
    "\n",
    "y_pred_test = final_model.predict(X_test)\n",
    "rmse_test = mean_squared_error(y_test, y_pred_test, squared=False)\n",
    "print(\"Final Model Test RMSE:\", rmse_test)"
   ]
  },
  {
   "cell_type": "code",
   "execution_count": null,
   "metadata": {},
   "outputs": [],
   "source": [
    "fi = pd.DataFrame(\n",
    "    data=final_model.feature_importances_,\n",
    "    index=final_model.feature_names_in_,\n",
    "    columns=[\"Importance\"],\n",
    ")\n",
    "fi.sort_values(by=\"Importance\", ascending=False)"
   ]
  },
  {
   "cell_type": "code",
   "execution_count": null,
   "metadata": {},
   "outputs": [],
   "source": [
    "features = [\n",
    "    \"hour_cos\",\n",
    "    \"hour\",\n",
    "    \"temp_hour_interaction\",\n",
    "    \"counter_name\",\n",
    "    \"hour_sin\",\n",
    "    \"t\",\n",
    "    \"t_lag24h\",\n",
    "    \"u\",\n",
    "    \"month\",\n",
    "    \"etat_sol\",\n",
    "    \"dayofyear\",\n",
    "    \"humidity_day_interaction\",\n",
    "    \"dayofweek_sin\",\n",
    "    \"t_lag9h\",\n",
    "    \"dayofweek\",\n",
    "    \"lockdown_3_1\",\n",
    "    \"t_lag12h\",\n",
    "    \"t_lag6h\",\n",
    "]"
   ]
  },
  {
   "cell_type": "code",
   "execution_count": null,
   "metadata": {},
   "outputs": [],
   "source": [
    "X_train = combined_train[features]\n",
    "y_train = combined_train[target]\n",
    "X_test = combined_test[features]\n",
    "y_test = combined_test[target]\n",
    "X_pred = combined_prediction[features]"
   ]
  },
  {
   "cell_type": "code",
   "execution_count": null,
   "metadata": {},
   "outputs": [],
   "source": [
    "final_model = xgb.XGBRegressor(\n",
    "    tree_method=\"hist\", **best_params, enable_categorical=True\n",
    ")\n",
    "final_model.fit(\n",
    "    X_train,\n",
    "    y_train,\n",
    "    eval_set=[(X_test, y_test)],\n",
    "    early_stopping_rounds=10,\n",
    "    verbose=10,\n",
    ")"
   ]
  },
  {
   "cell_type": "code",
   "execution_count": null,
   "metadata": {},
   "outputs": [],
   "source": [
    "y_pred_train = final_model.predict(X_train)\n",
    "rmse_train = mean_squared_error(y_train, y_pred_train, squared=False)\n",
    "print(\"Final Model  Train RMSE:\", rmse_train)\n",
    "\n",
    "y_pred_test = final_model.predict(X_test)\n",
    "rmse_test = mean_squared_error(y_test, y_pred_test, squared=False)\n",
    "print(\"Final Model Test RMSE:\", rmse_test)"
   ]
  },
  {
   "cell_type": "code",
   "execution_count": null,
   "metadata": {},
   "outputs": [],
   "source": [
    "fi = pd.DataFrame(\n",
    "    data=final_model.feature_importances_,\n",
    "    index=final_model.feature_names_in_,\n",
    "    columns=[\"Importance\"],\n",
    ")\n",
    "\n",
    "\n",
    "fi.sort_values(by=\"Importance\", ascending=False)"
   ]
  },
  {
   "cell_type": "code",
   "execution_count": 48,
   "metadata": {},
   "outputs": [],
   "source": [
    "features = [\n",
    "    \"hour_cos\",\n",
    "    \"hour\",\n",
    "    \"temp_hour_interaction\",\n",
    "    \"counter_name\",\n",
    "    \"hour_sin\",\n",
    "    \"t\",\n",
    "    \"t_lag24h\",\n",
    "    \"month\",\n",
    "    \"etat_sol\",\n",
    "    \"dayofyear\",\n",
    "    \"humidity_day_interaction\",\n",
    "    \"dayofweek_sin\",\n",
    "    \"dayofweek\",\n",
    "    \"lockdown_3_1\",\n",
    "    \"t_lag6h\",\n",
    "]\n",
    "target = ['log_bike_count']"
   ]
  },
  {
   "cell_type": "code",
   "execution_count": 49,
   "metadata": {},
   "outputs": [],
   "source": [
    "X_train = combined_train[features]\n",
    "y_train = combined_train[target]\n",
    "X_test = combined_test[features]\n",
    "y_test = combined_test[target]\n",
    "X_pred = combined_prediction[features]"
   ]
  },
  {
   "cell_type": "code",
   "execution_count": 51,
   "metadata": {},
   "outputs": [],
   "source": [
    "best_params = {\n",
    "    \"n_estimators\": 633,\n",
    "    \"max_depth\": 11,\n",
    "    \"min_child_weight\": 2,\n",
    "    \"gamma\": 0.5,\n",
    "    \"learning_rate\": 0.01745767642563374,\n",
    "    \"subsample\": 0.6852898171340072,\n",
    "    \"colsample_bytree\": 0.5752583768824626,\n",
    "    \"reg_alpha\": 0.6174748033948815,\n",
    "    \"reg_lambda\": 0.37071451261939165,\n",
    "}"
   ]
  },
  {
   "cell_type": "code",
   "execution_count": 52,
   "metadata": {},
   "outputs": [
    {
     "name": "stdout",
     "output_type": "stream",
     "text": [
      "[0]\tvalidation_0-rmse:3.20441\n",
      "[10]\tvalidation_0-rmse:2.71263\n",
      "[20]\tvalidation_0-rmse:2.29165\n",
      "[30]\tvalidation_0-rmse:1.93980\n",
      "[40]\tvalidation_0-rmse:1.64524\n",
      "[50]\tvalidation_0-rmse:1.39728\n",
      "[60]\tvalidation_0-rmse:1.19562\n",
      "[70]\tvalidation_0-rmse:1.03813\n",
      "[80]\tvalidation_0-rmse:0.90902\n",
      "[90]\tvalidation_0-rmse:0.80907\n",
      "[100]\tvalidation_0-rmse:0.71949\n",
      "[110]\tvalidation_0-rmse:0.65609\n",
      "[120]\tvalidation_0-rmse:0.60286\n",
      "[130]\tvalidation_0-rmse:0.56435\n",
      "[140]\tvalidation_0-rmse:0.53450\n",
      "[150]\tvalidation_0-rmse:0.51235\n",
      "[160]\tvalidation_0-rmse:0.48996\n",
      "[170]\tvalidation_0-rmse:0.47367\n",
      "[180]\tvalidation_0-rmse:0.45781\n",
      "[190]\tvalidation_0-rmse:0.44724\n",
      "[200]\tvalidation_0-rmse:0.43873\n",
      "[210]\tvalidation_0-rmse:0.43271\n",
      "[220]\tvalidation_0-rmse:0.42571\n",
      "[230]\tvalidation_0-rmse:0.42082\n",
      "[240]\tvalidation_0-rmse:0.41867\n",
      "[250]\tvalidation_0-rmse:0.41703\n",
      "[260]\tvalidation_0-rmse:0.41482\n",
      "[270]\tvalidation_0-rmse:0.41324\n",
      "[280]\tvalidation_0-rmse:0.41232\n",
      "[290]\tvalidation_0-rmse:0.41033\n",
      "[300]\tvalidation_0-rmse:0.40845\n",
      "[310]\tvalidation_0-rmse:0.40771\n",
      "[320]\tvalidation_0-rmse:0.40631\n",
      "[330]\tvalidation_0-rmse:0.40528\n",
      "[340]\tvalidation_0-rmse:0.40448\n",
      "[350]\tvalidation_0-rmse:0.40395\n",
      "[360]\tvalidation_0-rmse:0.40287\n",
      "[370]\tvalidation_0-rmse:0.40223\n",
      "[380]\tvalidation_0-rmse:0.40156\n",
      "[390]\tvalidation_0-rmse:0.40109\n",
      "[400]\tvalidation_0-rmse:0.40062\n",
      "[410]\tvalidation_0-rmse:0.40047\n",
      "[420]\tvalidation_0-rmse:0.40032\n",
      "[430]\tvalidation_0-rmse:0.40009\n",
      "[440]\tvalidation_0-rmse:0.39999\n",
      "[450]\tvalidation_0-rmse:0.39985\n",
      "[460]\tvalidation_0-rmse:0.39975\n",
      "[470]\tvalidation_0-rmse:0.39978\n",
      "[480]\tvalidation_0-rmse:0.39969\n",
      "[490]\tvalidation_0-rmse:0.39958\n",
      "[500]\tvalidation_0-rmse:0.39980\n"
     ]
    },
    {
     "data": {
      "text/html": [
       "<style>#sk-container-id-1 {color: black;}#sk-container-id-1 pre{padding: 0;}#sk-container-id-1 div.sk-toggleable {background-color: white;}#sk-container-id-1 label.sk-toggleable__label {cursor: pointer;display: block;width: 100%;margin-bottom: 0;padding: 0.3em;box-sizing: border-box;text-align: center;}#sk-container-id-1 label.sk-toggleable__label-arrow:before {content: \"▸\";float: left;margin-right: 0.25em;color: #696969;}#sk-container-id-1 label.sk-toggleable__label-arrow:hover:before {color: black;}#sk-container-id-1 div.sk-estimator:hover label.sk-toggleable__label-arrow:before {color: black;}#sk-container-id-1 div.sk-toggleable__content {max-height: 0;max-width: 0;overflow: hidden;text-align: left;background-color: #f0f8ff;}#sk-container-id-1 div.sk-toggleable__content pre {margin: 0.2em;color: black;border-radius: 0.25em;background-color: #f0f8ff;}#sk-container-id-1 input.sk-toggleable__control:checked~div.sk-toggleable__content {max-height: 200px;max-width: 100%;overflow: auto;}#sk-container-id-1 input.sk-toggleable__control:checked~label.sk-toggleable__label-arrow:before {content: \"▾\";}#sk-container-id-1 div.sk-estimator input.sk-toggleable__control:checked~label.sk-toggleable__label {background-color: #d4ebff;}#sk-container-id-1 div.sk-label input.sk-toggleable__control:checked~label.sk-toggleable__label {background-color: #d4ebff;}#sk-container-id-1 input.sk-hidden--visually {border: 0;clip: rect(1px 1px 1px 1px);clip: rect(1px, 1px, 1px, 1px);height: 1px;margin: -1px;overflow: hidden;padding: 0;position: absolute;width: 1px;}#sk-container-id-1 div.sk-estimator {font-family: monospace;background-color: #f0f8ff;border: 1px dotted black;border-radius: 0.25em;box-sizing: border-box;margin-bottom: 0.5em;}#sk-container-id-1 div.sk-estimator:hover {background-color: #d4ebff;}#sk-container-id-1 div.sk-parallel-item::after {content: \"\";width: 100%;border-bottom: 1px solid gray;flex-grow: 1;}#sk-container-id-1 div.sk-label:hover label.sk-toggleable__label {background-color: #d4ebff;}#sk-container-id-1 div.sk-serial::before {content: \"\";position: absolute;border-left: 1px solid gray;box-sizing: border-box;top: 0;bottom: 0;left: 50%;z-index: 0;}#sk-container-id-1 div.sk-serial {display: flex;flex-direction: column;align-items: center;background-color: white;padding-right: 0.2em;padding-left: 0.2em;position: relative;}#sk-container-id-1 div.sk-item {position: relative;z-index: 1;}#sk-container-id-1 div.sk-parallel {display: flex;align-items: stretch;justify-content: center;background-color: white;position: relative;}#sk-container-id-1 div.sk-item::before, #sk-container-id-1 div.sk-parallel-item::before {content: \"\";position: absolute;border-left: 1px solid gray;box-sizing: border-box;top: 0;bottom: 0;left: 50%;z-index: -1;}#sk-container-id-1 div.sk-parallel-item {display: flex;flex-direction: column;z-index: 1;position: relative;background-color: white;}#sk-container-id-1 div.sk-parallel-item:first-child::after {align-self: flex-end;width: 50%;}#sk-container-id-1 div.sk-parallel-item:last-child::after {align-self: flex-start;width: 50%;}#sk-container-id-1 div.sk-parallel-item:only-child::after {width: 0;}#sk-container-id-1 div.sk-dashed-wrapped {border: 1px dashed gray;margin: 0 0.4em 0.5em 0.4em;box-sizing: border-box;padding-bottom: 0.4em;background-color: white;}#sk-container-id-1 div.sk-label label {font-family: monospace;font-weight: bold;display: inline-block;line-height: 1.2em;}#sk-container-id-1 div.sk-label-container {text-align: center;}#sk-container-id-1 div.sk-container {/* jupyter's `normalize.less` sets `[hidden] { display: none; }` but bootstrap.min.css set `[hidden] { display: none !important; }` so we also need the `!important` here to be able to override the default hidden behavior on the sphinx rendered scikit-learn.org. See: https://github.com/scikit-learn/scikit-learn/issues/21755 */display: inline-block !important;position: relative;}#sk-container-id-1 div.sk-text-repr-fallback {display: none;}</style><div id=\"sk-container-id-1\" class=\"sk-top-container\"><div class=\"sk-text-repr-fallback\"><pre>XGBRegressor(base_score=None, booster=None, callbacks=None,\n",
       "             colsample_bylevel=None, colsample_bynode=None,\n",
       "             colsample_bytree=0.5752583768824626, early_stopping_rounds=None,\n",
       "             enable_categorical=True, eval_metric=None, feature_types=None,\n",
       "             gamma=0.5, gpu_id=None, grow_policy=None, importance_type=None,\n",
       "             interaction_constraints=None, learning_rate=0.01745767642563374,\n",
       "             max_bin=None, max_cat_threshold=None, max_cat_to_onehot=None,\n",
       "             max_delta_step=None, max_depth=11, max_leaves=None,\n",
       "             min_child_weight=2, missing=nan, monotone_constraints=None,\n",
       "             n_estimators=633, n_jobs=None, num_parallel_tree=None,\n",
       "             predictor=None, random_state=None, ...)</pre><b>In a Jupyter environment, please rerun this cell to show the HTML representation or trust the notebook. <br />On GitHub, the HTML representation is unable to render, please try loading this page with nbviewer.org.</b></div><div class=\"sk-container\" hidden><div class=\"sk-item\"><div class=\"sk-estimator sk-toggleable\"><input class=\"sk-toggleable__control sk-hidden--visually\" id=\"sk-estimator-id-1\" type=\"checkbox\" checked><label for=\"sk-estimator-id-1\" class=\"sk-toggleable__label sk-toggleable__label-arrow\">XGBRegressor</label><div class=\"sk-toggleable__content\"><pre>XGBRegressor(base_score=None, booster=None, callbacks=None,\n",
       "             colsample_bylevel=None, colsample_bynode=None,\n",
       "             colsample_bytree=0.5752583768824626, early_stopping_rounds=None,\n",
       "             enable_categorical=True, eval_metric=None, feature_types=None,\n",
       "             gamma=0.5, gpu_id=None, grow_policy=None, importance_type=None,\n",
       "             interaction_constraints=None, learning_rate=0.01745767642563374,\n",
       "             max_bin=None, max_cat_threshold=None, max_cat_to_onehot=None,\n",
       "             max_delta_step=None, max_depth=11, max_leaves=None,\n",
       "             min_child_weight=2, missing=nan, monotone_constraints=None,\n",
       "             n_estimators=633, n_jobs=None, num_parallel_tree=None,\n",
       "             predictor=None, random_state=None, ...)</pre></div></div></div></div></div>"
      ],
      "text/plain": [
       "XGBRegressor(base_score=None, booster=None, callbacks=None,\n",
       "             colsample_bylevel=None, colsample_bynode=None,\n",
       "             colsample_bytree=0.5752583768824626, early_stopping_rounds=None,\n",
       "             enable_categorical=True, eval_metric=None, feature_types=None,\n",
       "             gamma=0.5, gpu_id=None, grow_policy=None, importance_type=None,\n",
       "             interaction_constraints=None, learning_rate=0.01745767642563374,\n",
       "             max_bin=None, max_cat_threshold=None, max_cat_to_onehot=None,\n",
       "             max_delta_step=None, max_depth=11, max_leaves=None,\n",
       "             min_child_weight=2, missing=nan, monotone_constraints=None,\n",
       "             n_estimators=633, n_jobs=None, num_parallel_tree=None,\n",
       "             predictor=None, random_state=None, ...)"
      ]
     },
     "execution_count": 52,
     "metadata": {},
     "output_type": "execute_result"
    }
   ],
   "source": [
    "final_model = xgb.XGBRegressor(\n",
    "    tree_method=\"hist\", **best_params, enable_categorical=True\n",
    ")\n",
    "final_model.fit(\n",
    "    X_train,\n",
    "    y_train,\n",
    "    eval_set=[(X_test, y_test)],\n",
    "    early_stopping_rounds=10,\n",
    "    verbose=10,\n",
    ")"
   ]
  },
  {
   "cell_type": "code",
   "execution_count": 53,
   "metadata": {},
   "outputs": [
    {
     "name": "stdout",
     "output_type": "stream",
     "text": [
      "Final Model  Train RMSE: 0.3272936890684361\n",
      "Final Model Test RMSE: 0.3995836693921537\n"
     ]
    }
   ],
   "source": [
    "y_pred_train = final_model.predict(X_train)\n",
    "rmse_train = mean_squared_error(y_train, y_pred_train, squared=False)\n",
    "print(\"Final Model  Train RMSE:\", rmse_train)\n",
    "\n",
    "y_pred_test = final_model.predict(X_test)\n",
    "rmse_test = mean_squared_error(y_test, y_pred_test, squared=False)\n",
    "print(\"Final Model Test RMSE:\", rmse_test)"
   ]
  },
  {
   "cell_type": "code",
   "execution_count": null,
   "metadata": {},
   "outputs": [],
   "source": []
  },
  {
   "cell_type": "code",
   "execution_count": 34,
   "metadata": {},
   "outputs": [
    {
     "name": "stdout",
     "output_type": "stream",
     "text": [
      "<class 'pandas.core.frame.DataFrame'>\n",
      "DatetimeIndex: 455163 entries, 2020-09-01 01:00:00 to 2021-08-09 23:00:00\n",
      "Data columns (total 94 columns):\n",
      " #   Column                     Non-Null Count   Dtype   \n",
      "---  ------                     --------------   -----   \n",
      " 0   counter_name               455163 non-null  category\n",
      " 1   log_bike_count             455163 non-null  float64 \n",
      " 2   hour                       455163 non-null  int32   \n",
      " 3   dayofweek                  455163 non-null  int32   \n",
      " 4   quarter                    455163 non-null  int32   \n",
      " 5   month                      455163 non-null  int32   \n",
      " 6   dayofyear                  455163 non-null  int32   \n",
      " 7   is_weekend                 455163 non-null  int32   \n",
      " 8   hour_sin                   455163 non-null  float64 \n",
      " 9   hour_cos                   455163 non-null  float64 \n",
      " 10  dayofweek_sin              455163 non-null  float64 \n",
      " 11  dayofweek_cos              455163 non-null  float64 \n",
      " 12  is_holiday                 455163 non-null  int32   \n",
      " 13  lockdown_1                 455163 non-null  int32   \n",
      " 14  lockdown_2                 455163 non-null  int32   \n",
      " 15  lockdown_3_1               455163 non-null  int32   \n",
      " 16  lockdown_3_2               455163 non-null  int32   \n",
      " 17  lockdown_3_3               455163 non-null  int32   \n",
      " 18  pmer                       455163 non-null  int64   \n",
      " 19  tend                       455163 non-null  int64   \n",
      " 20  cod_tend                   455163 non-null  int64   \n",
      " 21  dd                         455163 non-null  int64   \n",
      " 22  ff                         455163 non-null  float64 \n",
      " 23  t                          455163 non-null  float64 \n",
      " 24  td                         455163 non-null  float64 \n",
      " 25  u                          455163 non-null  int64   \n",
      " 26  vv                         455163 non-null  int64   \n",
      " 27  ww                         455163 non-null  int64   \n",
      " 28  w1                         455163 non-null  float64 \n",
      " 29  w2                         455163 non-null  float64 \n",
      " 30  n                          455163 non-null  float64 \n",
      " 31  nbas                       455163 non-null  float64 \n",
      " 32  hbas                       455163 non-null  float64 \n",
      " 33  cl                         455163 non-null  float64 \n",
      " 34  cm                         455163 non-null  float64 \n",
      " 35  ch                         455163 non-null  float64 \n",
      " 36  pres                       455163 non-null  int64   \n",
      " 37  tend24                     455163 non-null  float64 \n",
      " 38  raf10                      455163 non-null  float64 \n",
      " 39  rafper                     455163 non-null  float64 \n",
      " 40  etat_sol                   455163 non-null  float64 \n",
      " 41  ht_neige                   455163 non-null  float64 \n",
      " 42  ssfrai                     455163 non-null  float64 \n",
      " 43  rr1                        455163 non-null  float64 \n",
      " 44  rr3                        455163 non-null  float64 \n",
      " 45  rr6                        455163 non-null  float64 \n",
      " 46  rr12                       455163 non-null  float64 \n",
      " 47  rr24                       455163 non-null  float64 \n",
      " 48  nnuage1                    455163 non-null  float64 \n",
      " 49  ctype1                     455163 non-null  float64 \n",
      " 50  hnuage1                    455163 non-null  float64 \n",
      " 51  temp_humidity_interaction  455163 non-null  float64 \n",
      " 52  t_lag6h                    455163 non-null  float64 \n",
      " 53  t_lag9h                    455163 non-null  float64 \n",
      " 54  t_lag12h                   455163 non-null  float64 \n",
      " 55  t_lag24h                   455163 non-null  float64 \n",
      " 56  t_lag168h                  455163 non-null  float64 \n",
      " 57  td_lag6h                   455163 non-null  float64 \n",
      " 58  td_lag9h                   455163 non-null  float64 \n",
      " 59  td_lag12h                  455163 non-null  float64 \n",
      " 60  td_lag24h                  455163 non-null  float64 \n",
      " 61  td_lag168h                 455163 non-null  float64 \n",
      " 62  u_lag6h                    455163 non-null  float64 \n",
      " 63  u_lag9h                    455163 non-null  float64 \n",
      " 64  u_lag12h                   455163 non-null  float64 \n",
      " 65  u_lag24h                   455163 non-null  float64 \n",
      " 66  u_lag168h                  455163 non-null  float64 \n",
      " 67  ww_lag6h                   455163 non-null  float64 \n",
      " 68  ww_lag9h                   455163 non-null  float64 \n",
      " 69  ww_lag12h                  455163 non-null  float64 \n",
      " 70  ww_lag24h                  455163 non-null  float64 \n",
      " 71  ww_lag168h                 455163 non-null  float64 \n",
      " 72  n_lag6h                    455163 non-null  float64 \n",
      " 73  n_lag9h                    455163 non-null  float64 \n",
      " 74  n_lag12h                   455163 non-null  float64 \n",
      " 75  n_lag24h                   455163 non-null  float64 \n",
      " 76  n_lag168h                  455163 non-null  float64 \n",
      " 77  tend24_lag6h               455163 non-null  float64 \n",
      " 78  tend24_lag9h               455163 non-null  float64 \n",
      " 79  tend24_lag12h              455163 non-null  float64 \n",
      " 80  tend24_lag24h              455163 non-null  float64 \n",
      " 81  tend24_lag168h             455163 non-null  float64 \n",
      " 82  etat_sol_lag6h             455163 non-null  float64 \n",
      " 83  etat_sol_lag9h             455163 non-null  float64 \n",
      " 84  etat_sol_lag12h            455163 non-null  float64 \n",
      " 85  etat_sol_lag24h            455163 non-null  float64 \n",
      " 86  etat_sol_lag168h           455163 non-null  float64 \n",
      " 87  rr12_lag6h                 455163 non-null  float64 \n",
      " 88  rr12_lag9h                 455163 non-null  float64 \n",
      " 89  rr12_lag12h                455163 non-null  float64 \n",
      " 90  rr12_lag24h                455163 non-null  float64 \n",
      " 91  rr12_lag168h               455163 non-null  float64 \n",
      " 92  temp_hour_interaction      455163 non-null  float64 \n",
      " 93  humidity_day_interaction   455163 non-null  int64   \n",
      "dtypes: category(1), float64(72), int32(12), int64(9)\n",
      "memory usage: 306.0 MB\n"
     ]
    }
   ],
   "source": [
    "combined_train.info()"
   ]
  }
 ],
 "metadata": {
  "kernelspec": {
   "display_name": "bikes-count",
   "language": "python",
   "name": "python3"
  },
  "language_info": {
   "codemirror_mode": {
    "name": "ipython",
    "version": 3
   },
   "file_extension": ".py",
   "mimetype": "text/x-python",
   "name": "python",
   "nbconvert_exporter": "python",
   "pygments_lexer": "ipython3",
   "version": "3.10.13"
  }
 },
 "nbformat": 4,
 "nbformat_minor": 2
}
