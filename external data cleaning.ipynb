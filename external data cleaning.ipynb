{
 "cells": [
  {
   "cell_type": "code",
   "execution_count": 1,
   "metadata": {},
   "outputs": [],
   "source": [
    "import numpy as np\n",
    "import pandas as pd\n",
    "import matplotlib.pyplot as plt\n",
    "import seaborn as sns\n",
    "from scipy import stats\n",
    "from sklearn.linear_model import LinearRegression"
   ]
  },
  {
   "cell_type": "code",
   "execution_count": 2,
   "metadata": {},
   "outputs": [],
   "source": [
    "df = pd.read_csv(\"data/external_data.csv\")"
   ]
  },
  {
   "cell_type": "code",
   "execution_count": 3,
   "metadata": {},
   "outputs": [
    {
     "name": "stdout",
     "output_type": "stream",
     "text": [
      "<class 'pandas.core.frame.DataFrame'>\n",
      "RangeIndex: 3322 entries, 0 to 3321\n",
      "Data columns (total 59 columns):\n",
      " #   Column     Non-Null Count  Dtype  \n",
      "---  ------     --------------  -----  \n",
      " 0   numer_sta  3322 non-null   int64  \n",
      " 1   date       3322 non-null   object \n",
      " 2   pmer       3322 non-null   int64  \n",
      " 3   tend       3322 non-null   int64  \n",
      " 4   cod_tend   3322 non-null   int64  \n",
      " 5   dd         3322 non-null   int64  \n",
      " 6   ff         3322 non-null   float64\n",
      " 7   t          3322 non-null   float64\n",
      " 8   td         3322 non-null   float64\n",
      " 9   u          3322 non-null   int64  \n",
      " 10  vv         3322 non-null   int64  \n",
      " 11  ww         3322 non-null   int64  \n",
      " 12  w1         3315 non-null   float64\n",
      " 13  w2         3312 non-null   float64\n",
      " 14  n          3166 non-null   float64\n",
      " 15  nbas       3317 non-null   float64\n",
      " 16  hbas       2869 non-null   float64\n",
      " 17  cl         2909 non-null   float64\n",
      " 18  cm         1941 non-null   float64\n",
      " 19  ch         1678 non-null   float64\n",
      " 20  pres       3322 non-null   int64  \n",
      " 21  niv_bar    0 non-null      float64\n",
      " 22  geop       0 non-null      float64\n",
      " 23  tend24     3312 non-null   float64\n",
      " 24  tn12       830 non-null    float64\n",
      " 25  tn24       0 non-null      float64\n",
      " 26  tx12       830 non-null    float64\n",
      " 27  tx24       0 non-null      float64\n",
      " 28  tminsol    1 non-null      float64\n",
      " 29  sw         0 non-null      float64\n",
      " 30  tw         0 non-null      float64\n",
      " 31  raf10      3312 non-null   float64\n",
      " 32  rafper     3322 non-null   float64\n",
      " 33  per        3322 non-null   int64  \n",
      " 34  etat_sol   3270 non-null   float64\n",
      " 35  ht_neige   3273 non-null   float64\n",
      " 36  ssfrai     2877 non-null   float64\n",
      " 37  perssfrai  2877 non-null   float64\n",
      " 38  rr1        3313 non-null   float64\n",
      " 39  rr3        3316 non-null   float64\n",
      " 40  rr6        3306 non-null   float64\n",
      " 41  rr12       3300 non-null   float64\n",
      " 42  rr24       3298 non-null   float64\n",
      " 43  phenspe1   0 non-null      float64\n",
      " 44  phenspe2   0 non-null      float64\n",
      " 45  phenspe3   0 non-null      float64\n",
      " 46  phenspe4   0 non-null      float64\n",
      " 47  nnuage1    2873 non-null   float64\n",
      " 48  ctype1     2524 non-null   float64\n",
      " 49  hnuage1    2867 non-null   float64\n",
      " 50  nnuage2    1695 non-null   float64\n",
      " 51  ctype2     1443 non-null   float64\n",
      " 52  hnuage2    1695 non-null   float64\n",
      " 53  nnuage3    618 non-null    float64\n",
      " 54  ctype3     470 non-null    float64\n",
      " 55  hnuage3    618 non-null    float64\n",
      " 56  nnuage4    42 non-null     float64\n",
      " 57  ctype4     87 non-null     float64\n",
      " 58  hnuage4    42 non-null     float64\n",
      "dtypes: float64(48), int64(10), object(1)\n",
      "memory usage: 1.5+ MB\n"
     ]
    }
   ],
   "source": [
    "df.info()"
   ]
  },
  {
   "cell_type": "markdown",
   "metadata": {},
   "source": [
    "Possible Relevant Features for Bike Count Prediction:\n",
    "\n",
    "1. Temperature (t): People are more likely to bike in comfortable temperatures.\n",
    "2. Precipitation (rr1, rr3, rr6 etc.): Rain or snow can deter biking.\n",
    "3. Wind Speed (ff, raf10, rafper): Strong winds might affect biking.\n",
    "4. Humidity (u): High humidity can make conditions uncomfortable for biking.\n",
    "5. Visibility (vv): Poor visibility could reduce biking for safety reasons.\n",
    "6. Cloud Cover (n, cl, cm, ch): May indirectly affect biking decisions.\n",
    "7. Date and Time: To align with hourly bike count data."
   ]
  },
  {
   "cell_type": "code",
   "execution_count": 4,
   "metadata": {},
   "outputs": [],
   "source": [
    "df[\"date\"] = pd.to_datetime(df[\"date\"])"
   ]
  },
  {
   "cell_type": "code",
   "execution_count": 5,
   "metadata": {},
   "outputs": [
    {
     "data": {
      "text/plain": [
       "Index(['numer_sta', 'date', 'pmer', 'tend', 'cod_tend', 'dd', 'ff', 't', 'td',\n",
       "       'u', 'vv', 'ww', 'w1', 'w2', 'n', 'nbas', 'hbas', 'cl', 'cm', 'ch',\n",
       "       'pres', 'niv_bar', 'geop', 'tend24', 'tn12', 'tn24', 'tx12', 'tx24',\n",
       "       'tminsol', 'sw', 'tw', 'raf10', 'rafper', 'per', 'etat_sol', 'ht_neige',\n",
       "       'ssfrai', 'perssfrai', 'rr1', 'rr3', 'rr6', 'rr12', 'rr24', 'phenspe1',\n",
       "       'phenspe2', 'phenspe3', 'phenspe4', 'nnuage1', 'ctype1', 'hnuage1',\n",
       "       'nnuage2', 'ctype2', 'hnuage2', 'nnuage3', 'ctype3', 'hnuage3',\n",
       "       'nnuage4', 'ctype4', 'hnuage4'],\n",
       "      dtype='object')"
      ]
     },
     "execution_count": 5,
     "metadata": {},
     "output_type": "execute_result"
    }
   ],
   "source": [
    "df.columns"
   ]
  },
  {
   "cell_type": "code",
   "execution_count": 6,
   "metadata": {},
   "outputs": [],
   "source": [
    "df = df.drop(\n",
    "    [\n",
    "        \"numer_sta\",\n",
    "        \"niv_bar\",\n",
    "        \"geop\",\n",
    "        \"tn12\",\n",
    "        \"tn24\",\n",
    "        \"tx12\",\n",
    "        \"tx24\",\n",
    "        \"tminsol\",\n",
    "        \"sw\",\n",
    "        \"tw\",\n",
    "        \"phenspe1\",\n",
    "        \"phenspe2\",\n",
    "        \"phenspe3\",\n",
    "        \"phenspe4\",\n",
    "        \"per\",\n",
    "    ],\n",
    "    axis=1,\n",
    ")"
   ]
  },
  {
   "cell_type": "code",
   "execution_count": 7,
   "metadata": {},
   "outputs": [],
   "source": [
    "df[\"date\"] = pd.to_datetime(df[\"date\"])\n",
    "df.set_index(\"date\", inplace=True)"
   ]
  },
  {
   "cell_type": "code",
   "execution_count": 8,
   "metadata": {},
   "outputs": [],
   "source": [
    "df.drop(\n",
    "    columns=[\n",
    "        \"hnuage2\",\n",
    "        \"nnuage2\",\n",
    "        \"ctype2\",\n",
    "        \"hnuage3\",\n",
    "        \"hnuage4\",\n",
    "        \"ctype3\",\n",
    "        \"ctype4\",\n",
    "        \"nnuage3\",\n",
    "        \"nnuage4\",\n",
    "    ],\n",
    "    inplace=True,\n",
    ")"
   ]
  },
  {
   "cell_type": "code",
   "execution_count": 9,
   "metadata": {},
   "outputs": [
    {
     "name": "stdout",
     "output_type": "stream",
     "text": [
      "<class 'pandas.core.frame.DataFrame'>\n",
      "DatetimeIndex: 3322 entries, 2021-01-01 00:00:00 to 2020-09-30 21:00:00\n",
      "Data columns (total 34 columns):\n",
      " #   Column     Non-Null Count  Dtype  \n",
      "---  ------     --------------  -----  \n",
      " 0   pmer       3322 non-null   int64  \n",
      " 1   tend       3322 non-null   int64  \n",
      " 2   cod_tend   3322 non-null   int64  \n",
      " 3   dd         3322 non-null   int64  \n",
      " 4   ff         3322 non-null   float64\n",
      " 5   t          3322 non-null   float64\n",
      " 6   td         3322 non-null   float64\n",
      " 7   u          3322 non-null   int64  \n",
      " 8   vv         3322 non-null   int64  \n",
      " 9   ww         3322 non-null   int64  \n",
      " 10  w1         3315 non-null   float64\n",
      " 11  w2         3312 non-null   float64\n",
      " 12  n          3166 non-null   float64\n",
      " 13  nbas       3317 non-null   float64\n",
      " 14  hbas       2869 non-null   float64\n",
      " 15  cl         2909 non-null   float64\n",
      " 16  cm         1941 non-null   float64\n",
      " 17  ch         1678 non-null   float64\n",
      " 18  pres       3322 non-null   int64  \n",
      " 19  tend24     3312 non-null   float64\n",
      " 20  raf10      3312 non-null   float64\n",
      " 21  rafper     3322 non-null   float64\n",
      " 22  etat_sol   3270 non-null   float64\n",
      " 23  ht_neige   3273 non-null   float64\n",
      " 24  ssfrai     2877 non-null   float64\n",
      " 25  perssfrai  2877 non-null   float64\n",
      " 26  rr1        3313 non-null   float64\n",
      " 27  rr3        3316 non-null   float64\n",
      " 28  rr6        3306 non-null   float64\n",
      " 29  rr12       3300 non-null   float64\n",
      " 30  rr24       3298 non-null   float64\n",
      " 31  nnuage1    2873 non-null   float64\n",
      " 32  ctype1     2524 non-null   float64\n",
      " 33  hnuage1    2867 non-null   float64\n",
      "dtypes: float64(26), int64(8)\n",
      "memory usage: 908.4 KB\n"
     ]
    }
   ],
   "source": [
    "df.info()"
   ]
  },
  {
   "cell_type": "markdown",
   "metadata": {},
   "source": [
    "w1, w2: replace nan with 3\n",
    "\n",
    "n: NaN replace with 0\n",
    "\n",
    "n: replace the 101. with 100.\n",
    "\n",
    "nbas: replace nan with the mode of the day\n",
    "\n",
    "hbas: replace with mode of the day\n",
    "\n",
    "cl, cm, ch: replace with mode of the day\n",
    "\n",
    "tend24: replace nan with mean of the day\n",
    "\n",
    "raf10: replace with mean of the day\n",
    "\n",
    "etat_sol: replace with mode of the day\n",
    "\n",
    "ht_neige: replace negative with 0 and nan with mode of the day\n",
    "\n",
    "ssfrai: replace nan with mode of the day \n",
    "\n",
    "persfrai: drop column\n",
    "\n",
    "rr1 to rr24: replace nan with mean of the day\n",
    "\n",
    "hnuage1: replace nan with mean of the day\n",
    "\n",
    "nnuage1: replace nan with mode of the day"
   ]
  },
  {
   "cell_type": "code",
   "execution_count": 10,
   "metadata": {},
   "outputs": [],
   "source": [
    "df[\"w1\"].fillna(3, inplace=True)\n",
    "df[\"w2\"].fillna(3, inplace=True)\n",
    "df[\"n\"].fillna(0, inplace=True)"
   ]
  },
  {
   "cell_type": "code",
   "execution_count": 11,
   "metadata": {},
   "outputs": [],
   "source": [
    "df[\"n\"].replace(101.0, 100.0, inplace=True)"
   ]
  },
  {
   "cell_type": "code",
   "execution_count": 12,
   "metadata": {},
   "outputs": [],
   "source": [
    "def replace_with_mode(df, column):\n",
    "    # Calculate the mode of the day\n",
    "    mode_of_day = df.groupby(df.index.date)[column].transform(\n",
    "        lambda x: x.mode()[0] if not x.mode().empty else x\n",
    "    )\n",
    "\n",
    "    # Replace NaNs with the mode of the day\n",
    "    df[column].fillna(mode_of_day, inplace=True)\n",
    "\n",
    "    # Calculate the mode of the week\n",
    "    mode_of_week = df.groupby(df.index.isocalendar().week)[column].transform(\n",
    "        lambda x: x.mode()[0] if not x.mode().empty else x\n",
    "    )\n",
    "\n",
    "    # Replace remaining NaNs with the mode of the week\n",
    "    df[column].fillna(mode_of_week, inplace=True)"
   ]
  },
  {
   "cell_type": "code",
   "execution_count": 13,
   "metadata": {},
   "outputs": [],
   "source": [
    "for column in [\n",
    "    \"nbas\",\n",
    "    \"hbas\",\n",
    "    \"cl\",\n",
    "    \"cm\",\n",
    "    \"ch\",\n",
    "    \"etat_sol\",\n",
    "    \"ssfrai\",\n",
    "    \"nnuage1\",\n",
    "    \"ctype1\",\n",
    "]:\n",
    "    replace_with_mode(df, column)"
   ]
  },
  {
   "cell_type": "code",
   "execution_count": 14,
   "metadata": {},
   "outputs": [],
   "source": [
    "df[\"ht_neige\"] = df[\"ht_neige\"].apply(lambda x: max(x, 0))"
   ]
  },
  {
   "cell_type": "code",
   "execution_count": 15,
   "metadata": {},
   "outputs": [],
   "source": [
    "replace_with_mode(df, \"ht_neige\")"
   ]
  },
  {
   "cell_type": "code",
   "execution_count": 16,
   "metadata": {},
   "outputs": [],
   "source": [
    "def replace_with_mean(df, column):\n",
    "    # Calculate the mean of the day\n",
    "    mean_of_day = df.groupby(df.index.date)[column].transform(\"mean\")\n",
    "\n",
    "    # Replace NaNs with the mean of the day\n",
    "    df[column].fillna(mean_of_day, inplace=True)\n",
    "\n",
    "    # Calculate the mean of the week\n",
    "    mean_of_week = df.groupby(df.index.isocalendar().week)[\n",
    "        column].transform(\"mean\")\n",
    "\n",
    "    # Replace remaining NaNs with the mean of the week\n",
    "    df[column].fillna(mean_of_week, inplace=True)"
   ]
  },
  {
   "cell_type": "code",
   "execution_count": 17,
   "metadata": {},
   "outputs": [],
   "source": [
    "for column in [\"tend24\", \"raf10\", \"rr1\", \"rr3\", \"rr6\", \"rr12\", \"rr24\", \"hnuage1\"]:\n",
    "    replace_with_mean(df, column)"
   ]
  },
  {
   "cell_type": "code",
   "execution_count": 18,
   "metadata": {},
   "outputs": [],
   "source": [
    "df.drop(columns=[\"perssfrai\"], inplace=True)"
   ]
  },
  {
   "cell_type": "code",
   "execution_count": 19,
   "metadata": {},
   "outputs": [
    {
     "data": {
      "text/html": [
       "<div>\n",
       "<style scoped>\n",
       "    .dataframe tbody tr th:only-of-type {\n",
       "        vertical-align: middle;\n",
       "    }\n",
       "\n",
       "    .dataframe tbody tr th {\n",
       "        vertical-align: top;\n",
       "    }\n",
       "\n",
       "    .dataframe thead th {\n",
       "        text-align: right;\n",
       "    }\n",
       "</style>\n",
       "<table border=\"1\" class=\"dataframe\">\n",
       "  <thead>\n",
       "    <tr style=\"text-align: right;\">\n",
       "      <th></th>\n",
       "      <th>pmer</th>\n",
       "      <th>tend</th>\n",
       "      <th>cod_tend</th>\n",
       "      <th>dd</th>\n",
       "      <th>ff</th>\n",
       "      <th>t</th>\n",
       "      <th>td</th>\n",
       "      <th>u</th>\n",
       "      <th>vv</th>\n",
       "      <th>ww</th>\n",
       "      <th>...</th>\n",
       "      <th>ht_neige</th>\n",
       "      <th>ssfrai</th>\n",
       "      <th>rr1</th>\n",
       "      <th>rr3</th>\n",
       "      <th>rr6</th>\n",
       "      <th>rr12</th>\n",
       "      <th>rr24</th>\n",
       "      <th>nnuage1</th>\n",
       "      <th>ctype1</th>\n",
       "      <th>hnuage1</th>\n",
       "    </tr>\n",
       "    <tr>\n",
       "      <th>date</th>\n",
       "      <th></th>\n",
       "      <th></th>\n",
       "      <th></th>\n",
       "      <th></th>\n",
       "      <th></th>\n",
       "      <th></th>\n",
       "      <th></th>\n",
       "      <th></th>\n",
       "      <th></th>\n",
       "      <th></th>\n",
       "      <th></th>\n",
       "      <th></th>\n",
       "      <th></th>\n",
       "      <th></th>\n",
       "      <th></th>\n",
       "      <th></th>\n",
       "      <th></th>\n",
       "      <th></th>\n",
       "      <th></th>\n",
       "      <th></th>\n",
       "      <th></th>\n",
       "    </tr>\n",
       "  </thead>\n",
       "  <tbody>\n",
       "    <tr>\n",
       "      <th>2021-01-01 00:00:00</th>\n",
       "      <td>100810</td>\n",
       "      <td>80</td>\n",
       "      <td>1</td>\n",
       "      <td>270</td>\n",
       "      <td>1.8</td>\n",
       "      <td>272.75</td>\n",
       "      <td>272.15</td>\n",
       "      <td>96</td>\n",
       "      <td>990</td>\n",
       "      <td>2</td>\n",
       "      <td>...</td>\n",
       "      <td>0.00</td>\n",
       "      <td>0.00</td>\n",
       "      <td>0.0</td>\n",
       "      <td>0.0</td>\n",
       "      <td>0.0</td>\n",
       "      <td>0.0</td>\n",
       "      <td>2.0</td>\n",
       "      <td>1.0</td>\n",
       "      <td>6.0</td>\n",
       "      <td>600.0</td>\n",
       "    </tr>\n",
       "    <tr>\n",
       "      <th>2021-01-01 03:00:00</th>\n",
       "      <td>100920</td>\n",
       "      <td>110</td>\n",
       "      <td>3</td>\n",
       "      <td>300</td>\n",
       "      <td>1.7</td>\n",
       "      <td>271.25</td>\n",
       "      <td>270.95</td>\n",
       "      <td>98</td>\n",
       "      <td>210</td>\n",
       "      <td>40</td>\n",
       "      <td>...</td>\n",
       "      <td>0.00</td>\n",
       "      <td>0.00</td>\n",
       "      <td>0.0</td>\n",
       "      <td>0.0</td>\n",
       "      <td>0.0</td>\n",
       "      <td>0.0</td>\n",
       "      <td>1.2</td>\n",
       "      <td>1.0</td>\n",
       "      <td>6.0</td>\n",
       "      <td>1500.0</td>\n",
       "    </tr>\n",
       "    <tr>\n",
       "      <th>2021-01-01 06:00:00</th>\n",
       "      <td>100950</td>\n",
       "      <td>30</td>\n",
       "      <td>3</td>\n",
       "      <td>290</td>\n",
       "      <td>2.6</td>\n",
       "      <td>271.95</td>\n",
       "      <td>271.65</td>\n",
       "      <td>98</td>\n",
       "      <td>3660</td>\n",
       "      <td>3</td>\n",
       "      <td>...</td>\n",
       "      <td>0.00</td>\n",
       "      <td>0.00</td>\n",
       "      <td>0.0</td>\n",
       "      <td>0.0</td>\n",
       "      <td>0.0</td>\n",
       "      <td>0.0</td>\n",
       "      <td>1.0</td>\n",
       "      <td>3.0</td>\n",
       "      <td>6.0</td>\n",
       "      <td>480.0</td>\n",
       "    </tr>\n",
       "    <tr>\n",
       "      <th>2021-01-01 09:00:00</th>\n",
       "      <td>101100</td>\n",
       "      <td>150</td>\n",
       "      <td>2</td>\n",
       "      <td>280</td>\n",
       "      <td>1.7</td>\n",
       "      <td>272.45</td>\n",
       "      <td>272.05</td>\n",
       "      <td>97</td>\n",
       "      <td>3500</td>\n",
       "      <td>10</td>\n",
       "      <td>...</td>\n",
       "      <td>0.01</td>\n",
       "      <td>0.01</td>\n",
       "      <td>0.0</td>\n",
       "      <td>0.2</td>\n",
       "      <td>0.2</td>\n",
       "      <td>0.2</td>\n",
       "      <td>0.2</td>\n",
       "      <td>1.0</td>\n",
       "      <td>6.0</td>\n",
       "      <td>1740.0</td>\n",
       "    </tr>\n",
       "    <tr>\n",
       "      <th>2021-01-01 12:00:00</th>\n",
       "      <td>101110</td>\n",
       "      <td>30</td>\n",
       "      <td>0</td>\n",
       "      <td>50</td>\n",
       "      <td>1.0</td>\n",
       "      <td>276.95</td>\n",
       "      <td>274.15</td>\n",
       "      <td>82</td>\n",
       "      <td>8000</td>\n",
       "      <td>2</td>\n",
       "      <td>...</td>\n",
       "      <td>0.00</td>\n",
       "      <td>0.00</td>\n",
       "      <td>0.0</td>\n",
       "      <td>0.0</td>\n",
       "      <td>0.2</td>\n",
       "      <td>0.2</td>\n",
       "      <td>0.2</td>\n",
       "      <td>1.0</td>\n",
       "      <td>8.0</td>\n",
       "      <td>330.0</td>\n",
       "    </tr>\n",
       "  </tbody>\n",
       "</table>\n",
       "<p>5 rows × 33 columns</p>\n",
       "</div>"
      ],
      "text/plain": [
       "                       pmer  tend  cod_tend   dd   ff       t      td   u  \\\n",
       "date                                                                        \n",
       "2021-01-01 00:00:00  100810    80         1  270  1.8  272.75  272.15  96   \n",
       "2021-01-01 03:00:00  100920   110         3  300  1.7  271.25  270.95  98   \n",
       "2021-01-01 06:00:00  100950    30         3  290  2.6  271.95  271.65  98   \n",
       "2021-01-01 09:00:00  101100   150         2  280  1.7  272.45  272.05  97   \n",
       "2021-01-01 12:00:00  101110    30         0   50  1.0  276.95  274.15  82   \n",
       "\n",
       "                       vv  ww  ...  ht_neige  ssfrai  rr1  rr3  rr6  rr12  \\\n",
       "date                           ...                                          \n",
       "2021-01-01 00:00:00   990   2  ...      0.00    0.00  0.0  0.0  0.0   0.0   \n",
       "2021-01-01 03:00:00   210  40  ...      0.00    0.00  0.0  0.0  0.0   0.0   \n",
       "2021-01-01 06:00:00  3660   3  ...      0.00    0.00  0.0  0.0  0.0   0.0   \n",
       "2021-01-01 09:00:00  3500  10  ...      0.01    0.01  0.0  0.2  0.2   0.2   \n",
       "2021-01-01 12:00:00  8000   2  ...      0.00    0.00  0.0  0.0  0.2   0.2   \n",
       "\n",
       "                     rr24  nnuage1  ctype1  hnuage1  \n",
       "date                                                 \n",
       "2021-01-01 00:00:00   2.0      1.0     6.0    600.0  \n",
       "2021-01-01 03:00:00   1.2      1.0     6.0   1500.0  \n",
       "2021-01-01 06:00:00   1.0      3.0     6.0    480.0  \n",
       "2021-01-01 09:00:00   0.2      1.0     6.0   1740.0  \n",
       "2021-01-01 12:00:00   0.2      1.0     8.0    330.0  \n",
       "\n",
       "[5 rows x 33 columns]"
      ]
     },
     "execution_count": 19,
     "metadata": {},
     "output_type": "execute_result"
    }
   ],
   "source": [
    "df.head()"
   ]
  },
  {
   "cell_type": "code",
   "execution_count": 22,
   "metadata": {},
   "outputs": [
    {
     "name": "stdout",
     "output_type": "stream",
     "text": [
      "<class 'pandas.core.frame.DataFrame'>\n",
      "DatetimeIndex: 3321 entries, 2021-01-01 00:00:00 to 2020-09-30 21:00:00\n",
      "Data columns (total 33 columns):\n",
      " #   Column    Non-Null Count  Dtype  \n",
      "---  ------    --------------  -----  \n",
      " 0   pmer      3321 non-null   int64  \n",
      " 1   tend      3321 non-null   int64  \n",
      " 2   cod_tend  3321 non-null   int64  \n",
      " 3   dd        3321 non-null   int64  \n",
      " 4   ff        3321 non-null   float64\n",
      " 5   t         3321 non-null   float64\n",
      " 6   td        3321 non-null   float64\n",
      " 7   u         3321 non-null   int64  \n",
      " 8   vv        3321 non-null   int64  \n",
      " 9   ww        3321 non-null   int64  \n",
      " 10  w1        3321 non-null   float64\n",
      " 11  w2        3321 non-null   float64\n",
      " 12  n         3321 non-null   float64\n",
      " 13  nbas      3321 non-null   float64\n",
      " 14  hbas      3321 non-null   float64\n",
      " 15  cl        3321 non-null   float64\n",
      " 16  cm        3321 non-null   float64\n",
      " 17  ch        3321 non-null   float64\n",
      " 18  pres      3321 non-null   int64  \n",
      " 19  tend24    3321 non-null   float64\n",
      " 20  raf10     3321 non-null   float64\n",
      " 21  rafper    3321 non-null   float64\n",
      " 22  etat_sol  3321 non-null   float64\n",
      " 23  ht_neige  3321 non-null   float64\n",
      " 24  ssfrai    3321 non-null   float64\n",
      " 25  rr1       3321 non-null   float64\n",
      " 26  rr3       3321 non-null   float64\n",
      " 27  rr6       3321 non-null   float64\n",
      " 28  rr12      3321 non-null   float64\n",
      " 29  rr24      3321 non-null   float64\n",
      " 30  nnuage1   3321 non-null   float64\n",
      " 31  ctype1    3321 non-null   float64\n",
      " 32  hnuage1   3321 non-null   float64\n",
      "dtypes: float64(25), int64(8)\n",
      "memory usage: 882.1 KB\n"
     ]
    }
   ],
   "source": [
    "df.info()"
   ]
  },
  {
   "cell_type": "code",
   "execution_count": 21,
   "metadata": {},
   "outputs": [],
   "source": [
    "df = df.drop_duplicates()"
   ]
  },
  {
   "cell_type": "code",
   "execution_count": 23,
   "metadata": {},
   "outputs": [],
   "source": [
    "df.to_csv(\"data/external_data_cleaned_updated.csv\")"
   ]
  },
  {
   "cell_type": "code",
   "execution_count": null,
   "metadata": {},
   "outputs": [],
   "source": []
  },
  {
   "cell_type": "code",
   "execution_count": null,
   "metadata": {},
   "outputs": [],
   "source": []
  },
  {
   "cell_type": "code",
   "execution_count": null,
   "metadata": {},
   "outputs": [],
   "source": []
  },
  {
   "cell_type": "code",
   "execution_count": null,
   "metadata": {},
   "outputs": [],
   "source": []
  },
  {
   "cell_type": "code",
   "execution_count": null,
   "metadata": {},
   "outputs": [],
   "source": []
  },
  {
   "cell_type": "markdown",
   "metadata": {},
   "source": [
    "# Everything below is old"
   ]
  },
  {
   "cell_type": "markdown",
   "metadata": {},
   "source": [
    "Filling NaN values in continuous columns by mean of the day"
   ]
  },
  {
   "cell_type": "code",
   "execution_count": null,
   "metadata": {},
   "outputs": [],
   "source": [
    "df_relevant[\"day\"] = df_relevant[\"date\"].dt.date"
   ]
  },
  {
   "cell_type": "code",
   "execution_count": null,
   "metadata": {},
   "outputs": [],
   "source": [
    "for col in relevant_columns:\n",
    "    daily_avg = df_relevant.groupby(\"day\")[col].transform(\"mean\")\n",
    "    df_relevant[col].fillna(daily_avg, inplace=True)"
   ]
  },
  {
   "cell_type": "code",
   "execution_count": null,
   "metadata": {},
   "outputs": [],
   "source": [
    "df_relevant.head()"
   ]
  },
  {
   "cell_type": "code",
   "execution_count": null,
   "metadata": {},
   "outputs": [],
   "source": [
    "df_relevant.info()"
   ]
  },
  {
   "cell_type": "code",
   "execution_count": null,
   "metadata": {},
   "outputs": [],
   "source": [
    "df_relevant[\"week\"] = df_relevant[\"date\"].dt.isocalendar().week"
   ]
  },
  {
   "cell_type": "code",
   "execution_count": null,
   "metadata": {},
   "outputs": [],
   "source": [
    "# Handling the remaining NaN values with mean and mode\n",
    "\n",
    "for col in relevant_columns:\n",
    "    weekly_avg = df_relevant.groupby(\"week\")[col].transform(\"mean\")\n",
    "    df_relevant[col].fillna(weekly_avg, inplace=True)"
   ]
  },
  {
   "cell_type": "code",
   "execution_count": null,
   "metadata": {},
   "outputs": [],
   "source": [
    "df_relevant[\"precipitation\"] = (df_relevant[\"rr1\"] > 0).astype(int)\n",
    "df_relevant[\"cloudy_day\"] = (df_relevant[\"cl\"] > 50).astype(int)"
   ]
  },
  {
   "cell_type": "code",
   "execution_count": null,
   "metadata": {},
   "outputs": [],
   "source": [
    "for column in [\"rr1\", \"rr3\", \"rr6\"]:\n",
    "    df_relevant.loc[df_relevant[column] < 0, column] = 0"
   ]
  },
  {
   "cell_type": "code",
   "execution_count": null,
   "metadata": {},
   "outputs": [],
   "source": [
    "df_relevant = df_relevant.drop_duplicates()"
   ]
  },
  {
   "cell_type": "code",
   "execution_count": null,
   "metadata": {},
   "outputs": [],
   "source": [
    "# Saving the cleaned DataFrame to a CSV file\n",
    "df_relevant.to_csv(\"data/external_data_cleaned.csv\", index=False)"
   ]
  },
  {
   "cell_type": "code",
   "execution_count": null,
   "metadata": {},
   "outputs": [],
   "source": []
  },
  {
   "cell_type": "code",
   "execution_count": null,
   "metadata": {},
   "outputs": [],
   "source": []
  }
 ],
 "metadata": {
  "kernelspec": {
   "display_name": "bikes-count",
   "language": "python",
   "name": "python3"
  },
  "language_info": {
   "codemirror_mode": {
    "name": "ipython",
    "version": 3
   },
   "file_extension": ".py",
   "mimetype": "text/x-python",
   "name": "python",
   "nbconvert_exporter": "python",
   "pygments_lexer": "ipython3",
   "version": "3.10.13"
  }
 },
 "nbformat": 4,
 "nbformat_minor": 2
}
