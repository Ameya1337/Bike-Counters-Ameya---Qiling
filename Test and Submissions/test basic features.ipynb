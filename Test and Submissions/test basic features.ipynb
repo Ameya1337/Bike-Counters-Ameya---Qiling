{
 "cells": [
  {
   "cell_type": "code",
   "execution_count": 1,
   "metadata": {},
   "outputs": [],
   "source": [
    "import joblib\n",
    "import pandas as pd"
   ]
  },
  {
   "cell_type": "code",
   "execution_count": 2,
   "metadata": {},
   "outputs": [],
   "source": [
    "loaded_model = joblib.load(\"CatBoost_model_basic.joblib\")"
   ]
  },
  {
   "cell_type": "code",
   "execution_count": 15,
   "metadata": {},
   "outputs": [],
   "source": [
    "data = pd.read_parquet(\"data/final_test.parquet\")"
   ]
  },
  {
   "cell_type": "code",
   "execution_count": 16,
   "metadata": {},
   "outputs": [
    {
     "name": "stdout",
     "output_type": "stream",
     "text": [
      "<class 'pandas.core.frame.DataFrame'>\n",
      "RangeIndex: 51440 entries, 0 to 51439\n",
      "Data columns (total 10 columns):\n",
      " #   Column                     Non-Null Count  Dtype         \n",
      "---  ------                     --------------  -----         \n",
      " 0   counter_id                 51440 non-null  category      \n",
      " 1   counter_name               51440 non-null  category      \n",
      " 2   site_id                    51440 non-null  int64         \n",
      " 3   site_name                  51440 non-null  category      \n",
      " 4   date                       51440 non-null  datetime64[ns]\n",
      " 5   counter_installation_date  51440 non-null  datetime64[ns]\n",
      " 6   coordinates                51440 non-null  category      \n",
      " 7   counter_technical_id       51440 non-null  category      \n",
      " 8   latitude                   51440 non-null  float64       \n",
      " 9   longitude                  51440 non-null  float64       \n",
      "dtypes: category(5), datetime64[ns](2), float64(2), int64(1)\n",
      "memory usage: 2.2 MB\n"
     ]
    }
   ],
   "source": [
    "data.info()"
   ]
  },
  {
   "cell_type": "code",
   "execution_count": 17,
   "metadata": {},
   "outputs": [],
   "source": [
    "data[\"date\"] = pd.to_datetime(data[\"date\"])\n",
    "data[\"day_of_week\"] = data[\"date\"].dt.dayofweek\n",
    "data[\"month\"] = data[\"date\"].dt.month\n",
    "data[\"hour\"] = data[\"date\"].dt.hour"
   ]
  },
  {
   "cell_type": "code",
   "execution_count": 18,
   "metadata": {},
   "outputs": [],
   "source": [
    "categorical_cols = [\n",
    "    \"counter_name\",\n",
    "    \"site_name\",\n",
    "    \"counter_technical_id\",\n",
    "    \"day_of_week\",\n",
    "    \"month\",\n",
    "    \"hour\",\n",
    "]\n",
    "numerical_cols = [\"latitude\", \"longitude\"]"
   ]
  },
  {
   "cell_type": "code",
   "execution_count": 19,
   "metadata": {},
   "outputs": [],
   "source": [
    "for feature in categorical_cols:\n",
    "    data[feature] = data[feature].astype(str)"
   ]
  },
  {
   "cell_type": "code",
   "execution_count": 20,
   "metadata": {},
   "outputs": [],
   "source": [
    "cols_to_drop = [\n",
    "    \"counter_id\",\n",
    "    \"site_id\",\n",
    "    \"date\",\n",
    "    \"counter_installation_date\",\n",
    "    \"coordinates\",\n",
    "]"
   ]
  },
  {
   "cell_type": "code",
   "execution_count": 21,
   "metadata": {},
   "outputs": [],
   "source": [
    "data = data.drop(cols_to_drop, axis=1)"
   ]
  },
  {
   "cell_type": "code",
   "execution_count": 22,
   "metadata": {},
   "outputs": [
    {
     "name": "stdout",
     "output_type": "stream",
     "text": [
      "<class 'pandas.core.frame.DataFrame'>\n",
      "RangeIndex: 51440 entries, 0 to 51439\n",
      "Data columns (total 8 columns):\n",
      " #   Column                Non-Null Count  Dtype  \n",
      "---  ------                --------------  -----  \n",
      " 0   counter_name          51440 non-null  object \n",
      " 1   site_name             51440 non-null  object \n",
      " 2   counter_technical_id  51440 non-null  object \n",
      " 3   latitude              51440 non-null  float64\n",
      " 4   longitude             51440 non-null  float64\n",
      " 5   day_of_week           51440 non-null  object \n",
      " 6   month                 51440 non-null  object \n",
      " 7   hour                  51440 non-null  object \n",
      "dtypes: float64(2), object(6)\n",
      "memory usage: 3.1+ MB\n"
     ]
    }
   ],
   "source": [
    "data.info()"
   ]
  },
  {
   "cell_type": "code",
   "execution_count": 23,
   "metadata": {},
   "outputs": [],
   "source": [
    "predictions = loaded_model.predict(data)"
   ]
  },
  {
   "cell_type": "code",
   "execution_count": 24,
   "metadata": {},
   "outputs": [],
   "source": [
    "predictions_df = pd.DataFrame({\"log_bike_count\": predictions})"
   ]
  },
  {
   "cell_type": "code",
   "execution_count": 25,
   "metadata": {},
   "outputs": [],
   "source": [
    "predictions_df.to_csv(\"predictions7.csv\", index=True, index_label=\"Id\")"
   ]
  },
  {
   "cell_type": "code",
   "execution_count": null,
   "metadata": {},
   "outputs": [],
   "source": []
  }
 ],
 "metadata": {
  "kernelspec": {
   "display_name": "bikes-count",
   "language": "python",
   "name": "python3"
  },
  "language_info": {
   "codemirror_mode": {
    "name": "ipython",
    "version": 3
   },
   "file_extension": ".py",
   "mimetype": "text/x-python",
   "name": "python",
   "nbconvert_exporter": "python",
   "pygments_lexer": "ipython3",
   "version": "3.10.13"
  }
 },
 "nbformat": 4,
 "nbformat_minor": 2
}
