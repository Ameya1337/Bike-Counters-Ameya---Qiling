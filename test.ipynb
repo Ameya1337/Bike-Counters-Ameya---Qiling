{
 "cells": [
  {
   "cell_type": "code",
   "execution_count": 29,
   "metadata": {},
   "outputs": [],
   "source": [
    "import joblib\n",
    "import pandas as pd\n",
    "import numpy as np\n",
    "from scipy.spatial import cKDTree"
   ]
  },
  {
   "cell_type": "code",
   "execution_count": 3,
   "metadata": {},
   "outputs": [],
   "source": [
    "loaded_model = joblib.load(\"XGBoost_model.joblib\")"
   ]
  },
  {
   "cell_type": "code",
   "execution_count": 10,
   "metadata": {},
   "outputs": [],
   "source": [
    "data = pd.read_parquet(\"data/final_test.parquet\")"
   ]
  },
  {
   "cell_type": "code",
   "execution_count": 5,
   "metadata": {},
   "outputs": [],
   "source": [
    "external_data = pd.read_csv(\"data/external_data.csv\")"
   ]
  },
  {
   "cell_type": "code",
   "execution_count": 11,
   "metadata": {},
   "outputs": [],
   "source": [
    "data[\"Id\"] = range(len(data))"
   ]
  },
  {
   "cell_type": "code",
   "execution_count": 9,
   "metadata": {},
   "outputs": [
    {
     "name": "stderr",
     "output_type": "stream",
     "text": [
      "C:\\Users\\ameya\\AppData\\Local\\Temp\\ipykernel_12884\\4014912119.py:6: FutureWarning: DataFrame.mean and DataFrame.median with numeric_only=None will include datetime64 and datetime64tz columns in a future version.\n",
      "  external_data = external_data.fillna(external_data.mean())\n"
     ]
    }
   ],
   "source": [
    "external_data[\"date\"] = pd.to_datetime(external_data[\"date\"])\n",
    "external_data = external_data.dropna(axis=1, how=\"all\")\n",
    "threshold = 0.8  # drop columns with 80% missing values\n",
    "external_data = external_data.dropna(thresh=threshold * len(external_data), axis=1)\n",
    "external_data = external_data.fillna(external_data.mean())\n",
    "external_data = external_data.drop(\"numer_sta\", axis=1)"
   ]
  },
  {
   "cell_type": "code",
   "execution_count": 13,
   "metadata": {},
   "outputs": [],
   "source": [
    "data_sorted = data.sort_values(by=\"date\")\n",
    "external_data_sorted = external_data.sort_values(by=\"date\")\n",
    "\n",
    "# Merge based on a 6-hour time difference\n",
    "merged_data = pd.merge_asof(\n",
    "    data_sorted,\n",
    "    external_data_sorted,\n",
    "    on=\"date\",\n",
    "    direction=\"backward\",\n",
    "    tolerance=pd.Timedelta(\"6H\"),\n",
    ")"
   ]
  },
  {
   "cell_type": "code",
   "execution_count": 18,
   "metadata": {},
   "outputs": [],
   "source": [
    "feature_set = merged_data"
   ]
  },
  {
   "cell_type": "code",
   "execution_count": 19,
   "metadata": {},
   "outputs": [],
   "source": [
    "# Convert the 'date' column to datetime objects\n",
    "feature_set[\"date\"] = pd.to_datetime(feature_set[\"date\"])\n",
    "\n",
    "# Extract datetime features\n",
    "feature_set[\"day_of_week\"] = feature_set[\"date\"].dt.dayofweek\n",
    "feature_set[\"month\"] = feature_set[\"date\"].dt.month\n",
    "feature_set[\"hour\"] = feature_set[\"date\"].dt.hour"
   ]
  },
  {
   "cell_type": "code",
   "execution_count": 20,
   "metadata": {},
   "outputs": [],
   "source": [
    "lag_variables = [\"pmer\", \"t\", \"ff\", \"u\", \"pres\", \"raf10\", \"rr1\"]"
   ]
  },
  {
   "cell_type": "code",
   "execution_count": 21,
   "metadata": {},
   "outputs": [],
   "source": [
    "for variable in lag_variables:\n",
    "    for i in range(1, 4):  # Create lag features for the past 3 hours\n",
    "        feature_set[f\"{variable}_lag_{i}\"] = feature_set[variable].shift(i)"
   ]
  },
  {
   "cell_type": "code",
   "execution_count": 24,
   "metadata": {},
   "outputs": [],
   "source": [
    "feature_set[\"wind_x\"] = feature_set[\"ff\"] * np.cos(np.radians(feature_set[\"dd\"]))\n",
    "feature_set[\"wind_y\"] = feature_set[\"ff\"] * np.sin(np.radians(feature_set[\"dd\"]))\n",
    "feature_set[\"temp_humidity_interaction\"] = feature_set[\"t\"] * feature_set[\"u\"]\n",
    "feature_set[\"temp_lag_1\"] = feature_set[\"t\"].shift(1)\n",
    "feature_set[\"cloud_wind_interaction\"] = feature_set[\"cl\"] * feature_set[\"ff\"]\n",
    "# Create lag features for precipitation using precipitation over 1 hour\n",
    "feature_set[\"precipitation_lag_1\"] = feature_set[\"rr1\"].shift(1)\n",
    "feature_set[\"precipitation_lag_2\"] = feature_set[\"rr1\"].shift(2)\n",
    "\n",
    "# Explore interactions with other weather variables\n",
    "feature_set[\"interaction_precipitation_temperature\"] = (\n",
    "    feature_set[\"rr1\"] * feature_set[\"t\"]\n",
    ")\n",
    "# Calculate the age of the bike counter since installation\n",
    "feature_set[\"counter_age\"] = (\n",
    "    feature_set[\"date\"] - feature_set[\"counter_installation_date\"]\n",
    ").dt.days"
   ]
  },
  {
   "cell_type": "code",
   "execution_count": 30,
   "metadata": {},
   "outputs": [
    {
     "name": "stderr",
     "output_type": "stream",
     "text": [
      "C:\\Users\\ameya\\AppData\\Local\\Temp\\ipykernel_12884\\2633265217.py:2: FutureWarning: DataFrame.mean and DataFrame.median with numeric_only=None will include datetime64 and datetime64tz columns in a future version.\n",
      "  feature_set_cleaned = feature_set.fillna(feature_set.mean())\n",
      "C:\\Users\\ameya\\AppData\\Local\\Temp\\ipykernel_12884\\2633265217.py:2: FutureWarning: The default value of numeric_only in DataFrame.mean is deprecated. In a future version, it will default to False. In addition, specifying 'numeric_only=None' is deprecated. Select only valid columns or specify the value of numeric_only to silence this warning.\n",
      "  feature_set_cleaned = feature_set.fillna(feature_set.mean())\n"
     ]
    }
   ],
   "source": [
    "# Imput NaN with mean\n",
    "feature_set_cleaned = feature_set.fillna(feature_set.mean())"
   ]
  },
  {
   "cell_type": "code",
   "execution_count": 31,
   "metadata": {},
   "outputs": [],
   "source": [
    "velib = pd.read_csv(\"data/velib_cleaned.csv\")\n",
    "velib_stations = list(zip(velib[\"latitude\"], velib[\"longitude\"]))\n",
    "feature_set_coords = feature_set_cleaned[[\"latitude\", \"longitude\"]]\n",
    "velib[\"latitude\"] = pd.to_numeric(velib[\"latitude\"])\n",
    "velib[\"longitude\"] = pd.to_numeric(velib[\"longitude\"])\n",
    "velib_tree = cKDTree(velib[[\"latitude\", \"longitude\"]].values)\n",
    "distances, indices = velib_tree.query(feature_set_coords, k=1)\n",
    "feature_set_cleaned[\"distance_to_nearest_velib\"] = distances"
   ]
  },
  {
   "cell_type": "code",
   "execution_count": 34,
   "metadata": {},
   "outputs": [],
   "source": [
    "feature_set_cleaned[\"year\"] = feature_set_cleaned[\"date\"].dt.year"
   ]
  },
  {
   "cell_type": "code",
   "execution_count": 41,
   "metadata": {},
   "outputs": [],
   "source": [
    "# sorting by Id to return to original order"
   ]
  },
  {
   "cell_type": "code",
   "execution_count": 37,
   "metadata": {},
   "outputs": [],
   "source": [
    "feature_set_cleaned = feature_set_cleaned.sort_values(by=\"Id\")"
   ]
  },
  {
   "cell_type": "code",
   "execution_count": 43,
   "metadata": {},
   "outputs": [],
   "source": [
    "numerical_features_xgb = [\n",
    "    \"counter_age\",\n",
    "    \"t\",\n",
    "    \"t_lag_1\",\n",
    "    \"t_lag_2\",\n",
    "    \"t_lag_3\",\n",
    "    \"tend24\",\n",
    "    \"distance_to_nearest_velib\",\n",
    "    \"td\",\n",
    "    \"temp_humidity_interaction\",\n",
    "    \"wind_x\",\n",
    "    \"wind_y\",\n",
    "    \"tend\",\n",
    "    \"u_lag_1\",\n",
    "    \"u_lag_2\",\n",
    "    \"u_lag_3\",\n",
    "    \"hbas\",\n",
    "    \"u\",\n",
    "    \"rr24\",\n",
    "    \"rafper\",\n",
    "    \"n\",\n",
    "    \"cloud_wind_interaction\",\n",
    "    \"nbas\",\n",
    "    \"rr12\",\n",
    "    \"rr6\",\n",
    "    \"pres\",\n",
    "    \"pres_lag_1\",\n",
    "    \"pres_lag_2\",\n",
    "    \"pres_lag_3\",\n",
    "    \"raf10_lag_1\",\n",
    "    \"raf10_lag_2\",\n",
    "    \"raf10_lag_3\",\n",
    "    \"ff_lag_1\",\n",
    "    \"ff_lag_2\",\n",
    "    \"ff_lag_3\",\n",
    "    \"pmer\",\n",
    "    \"pmer_lag_1\",\n",
    "    \"pmer_lag_2\",\n",
    "    \"pmer_lag_3\",\n",
    "    \"rr3\",\n",
    "    \"raf10\",\n",
    "]\n",
    "\n",
    "categorical_features_xgb = [\n",
    "    \"hour\",\n",
    "    \"counter_name\",\n",
    "    \"counter_technical_id\",\n",
    "    \"site_name\",\n",
    "    \"day_of_week\",\n",
    "    \"etat_sol\",\n",
    "]\n",
    "\n",
    "selected_features_xgb = numerical_features_xgb + categorical_features_xgb"
   ]
  },
  {
   "cell_type": "code",
   "execution_count": 44,
   "metadata": {},
   "outputs": [],
   "source": [
    "df_xgb = feature_set_cleaned[selected_features_xgb].copy()"
   ]
  },
  {
   "cell_type": "code",
   "execution_count": 50,
   "metadata": {},
   "outputs": [],
   "source": [
    "df_xgb[\"hour\"] = df_xgb[\"hour\"].astype(\"category\")\n",
    "df_xgb[\"day_of_week\"] = df_xgb[\"day_of_week\"].astype(\"category\")\n",
    "df_xgb[\"etat_sol\"] = df_xgb[\"etat_sol\"].astype(\"category\")"
   ]
  },
  {
   "cell_type": "code",
   "execution_count": 51,
   "metadata": {},
   "outputs": [
    {
     "name": "stdout",
     "output_type": "stream",
     "text": [
      "<class 'pandas.core.frame.DataFrame'>\n",
      "Int64Index: 51440 entries, 0 to 51285\n",
      "Data columns (total 46 columns):\n",
      " #   Column                     Non-Null Count  Dtype   \n",
      "---  ------                     --------------  -----   \n",
      " 0   counter_age                51440 non-null  int64   \n",
      " 1   t                          51440 non-null  float64 \n",
      " 2   t_lag_1                    51440 non-null  float64 \n",
      " 3   t_lag_2                    51440 non-null  float64 \n",
      " 4   t_lag_3                    51440 non-null  float64 \n",
      " 5   tend24                     51440 non-null  float64 \n",
      " 6   distance_to_nearest_velib  51440 non-null  float64 \n",
      " 7   td                         51440 non-null  float64 \n",
      " 8   temp_humidity_interaction  51440 non-null  float64 \n",
      " 9   wind_x                     51440 non-null  float64 \n",
      " 10  wind_y                     51440 non-null  float64 \n",
      " 11  tend                       51440 non-null  int64   \n",
      " 12  u_lag_1                    51440 non-null  float64 \n",
      " 13  u_lag_2                    51440 non-null  float64 \n",
      " 14  u_lag_3                    51440 non-null  float64 \n",
      " 15  hbas                       51440 non-null  float64 \n",
      " 16  u                          51440 non-null  int64   \n",
      " 17  rr24                       51440 non-null  float64 \n",
      " 18  rafper                     51440 non-null  float64 \n",
      " 19  n                          51440 non-null  float64 \n",
      " 20  cloud_wind_interaction     51440 non-null  float64 \n",
      " 21  nbas                       51440 non-null  float64 \n",
      " 22  rr12                       51440 non-null  float64 \n",
      " 23  rr6                        51440 non-null  float64 \n",
      " 24  pres                       51440 non-null  int64   \n",
      " 25  pres_lag_1                 51440 non-null  float64 \n",
      " 26  pres_lag_2                 51440 non-null  float64 \n",
      " 27  pres_lag_3                 51440 non-null  float64 \n",
      " 28  raf10_lag_1                51440 non-null  float64 \n",
      " 29  raf10_lag_2                51440 non-null  float64 \n",
      " 30  raf10_lag_3                51440 non-null  float64 \n",
      " 31  ff_lag_1                   51440 non-null  float64 \n",
      " 32  ff_lag_2                   51440 non-null  float64 \n",
      " 33  ff_lag_3                   51440 non-null  float64 \n",
      " 34  pmer                       51440 non-null  int64   \n",
      " 35  pmer_lag_1                 51440 non-null  float64 \n",
      " 36  pmer_lag_2                 51440 non-null  float64 \n",
      " 37  pmer_lag_3                 51440 non-null  float64 \n",
      " 38  rr3                        51440 non-null  float64 \n",
      " 39  raf10                      51440 non-null  float64 \n",
      " 40  hour                       51440 non-null  category\n",
      " 41  counter_name               51440 non-null  category\n",
      " 42  counter_technical_id       51440 non-null  category\n",
      " 43  site_name                  51440 non-null  category\n",
      " 44  day_of_week                51440 non-null  category\n",
      " 45  etat_sol                   51440 non-null  category\n",
      "dtypes: category(6), float64(35), int64(5)\n",
      "memory usage: 16.4 MB\n"
     ]
    }
   ],
   "source": [
    "df_xgb.info()"
   ]
  },
  {
   "cell_type": "code",
   "execution_count": 52,
   "metadata": {},
   "outputs": [],
   "source": [
    "predictions = loaded_model.predict(df_xgb)"
   ]
  },
  {
   "cell_type": "code",
   "execution_count": 55,
   "metadata": {},
   "outputs": [],
   "source": [
    "predictions_df = pd.DataFrame({\"log_bike_count\": predictions})"
   ]
  },
  {
   "cell_type": "code",
   "execution_count": 56,
   "metadata": {},
   "outputs": [],
   "source": [
    "predictions_df.to_csv(\"predictions1.csv\", index=True, index_label=\"Id\")"
   ]
  },
  {
   "cell_type": "code",
   "execution_count": null,
   "metadata": {},
   "outputs": [],
   "source": []
  }
 ],
 "metadata": {
  "kernelspec": {
   "display_name": "bikes-count",
   "language": "python",
   "name": "python3"
  },
  "language_info": {
   "codemirror_mode": {
    "name": "ipython",
    "version": 3
   },
   "file_extension": ".py",
   "mimetype": "text/x-python",
   "name": "python",
   "nbconvert_exporter": "python",
   "pygments_lexer": "ipython3",
   "version": "3.10.13"
  }
 },
 "nbformat": 4,
 "nbformat_minor": 2
}
